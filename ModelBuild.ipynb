{
 "cells": [
  {
   "cell_type": "markdown",
   "metadata": {},
   "source": [
    "# Preprocessing"
   ]
  },
  {
   "cell_type": "markdown",
   "metadata": {},
   "source": [
    "## Reading CSV"
   ]
  },
  {
   "cell_type": "code",
   "execution_count": 1,
   "metadata": {
    "ExecuteTime": {
     "end_time": "2024-10-24T01:12:21.899250Z",
     "start_time": "2024-10-24T01:12:21.894720Z"
    }
   },
   "outputs": [],
   "source": [
    "import pandas as pd\n",
    "import matplotlib.pyplot as plt\n",
    "import numpy as np\n",
    "import sklearn"
   ]
  },
  {
   "cell_type": "code",
   "execution_count": 2,
   "metadata": {
    "ExecuteTime": {
     "end_time": "2024-10-24T01:12:22.431471Z",
     "start_time": "2024-10-24T01:12:22.269193Z"
    }
   },
   "outputs": [],
   "source": [
    "data = pd.read_csv('sample_output.csv')"
   ]
  },
  {
   "cell_type": "markdown",
   "metadata": {},
   "source": [
    "## Understanding Dataset"
   ]
  },
  {
   "cell_type": "code",
   "execution_count": 3,
   "metadata": {
    "ExecuteTime": {
     "end_time": "2024-10-24T01:12:22.439594Z",
     "start_time": "2024-10-24T01:12:22.433482Z"
    }
   },
   "outputs": [
    {
     "data": {
      "text/plain": [
       "(10000, 18)"
      ]
     },
     "execution_count": 3,
     "metadata": {},
     "output_type": "execute_result"
    }
   ],
   "source": [
    "data.shape"
   ]
  },
  {
   "cell_type": "code",
   "execution_count": 4,
   "metadata": {
    "ExecuteTime": {
     "end_time": "2024-10-24T01:12:22.466044Z",
     "start_time": "2024-10-24T01:12:22.440606Z"
    }
   },
   "outputs": [
    {
     "data": {
      "text/html": [
       "<div>\n",
       "<style scoped>\n",
       "    .dataframe tbody tr th:only-of-type {\n",
       "        vertical-align: middle;\n",
       "    }\n",
       "\n",
       "    .dataframe tbody tr th {\n",
       "        vertical-align: top;\n",
       "    }\n",
       "\n",
       "    .dataframe thead th {\n",
       "        text-align: right;\n",
       "    }\n",
       "</style>\n",
       "<table border=\"1\" class=\"dataframe\">\n",
       "  <thead>\n",
       "    <tr style=\"text-align: right;\">\n",
       "      <th></th>\n",
       "      <th>url</th>\n",
       "      <th>source</th>\n",
       "      <th>label</th>\n",
       "      <th>url_length</th>\n",
       "      <th>starts_with_ip</th>\n",
       "      <th>url_entropy</th>\n",
       "      <th>has_punycode</th>\n",
       "      <th>digit_letter_ratio</th>\n",
       "      <th>dot_count</th>\n",
       "      <th>at_count</th>\n",
       "      <th>dash_count</th>\n",
       "      <th>tld_count</th>\n",
       "      <th>domain_has_digits</th>\n",
       "      <th>subdomain_count</th>\n",
       "      <th>nan_char_entropy</th>\n",
       "      <th>has_internal_links</th>\n",
       "      <th>whois_data</th>\n",
       "      <th>domain_age_days</th>\n",
       "    </tr>\n",
       "  </thead>\n",
       "  <tbody>\n",
       "    <tr>\n",
       "      <th>0</th>\n",
       "      <td>http://sub22b.jelastic.regruhosting.ru/acesso/...</td>\n",
       "      <td>Phishing.Database</td>\n",
       "      <td>phishing</td>\n",
       "      <td>62</td>\n",
       "      <td>False</td>\n",
       "      <td>4.203093</td>\n",
       "      <td>False</td>\n",
       "      <td>0.039216</td>\n",
       "      <td>4</td>\n",
       "      <td>0</td>\n",
       "      <td>0</td>\n",
       "      <td>0</td>\n",
       "      <td>False</td>\n",
       "      <td>2</td>\n",
       "      <td>0.606254</td>\n",
       "      <td>False</td>\n",
       "      <td>NaN</td>\n",
       "      <td>NaN</td>\n",
       "    </tr>\n",
       "    <tr>\n",
       "      <th>1</th>\n",
       "      <td>https://cherry-609d.hakeem1115.workers.dev/63f...</td>\n",
       "      <td>Phishing.Database</td>\n",
       "      <td>phishing</td>\n",
       "      <td>79</td>\n",
       "      <td>False</td>\n",
       "      <td>4.747960</td>\n",
       "      <td>False</td>\n",
       "      <td>0.634146</td>\n",
       "      <td>3</td>\n",
       "      <td>0</td>\n",
       "      <td>5</td>\n",
       "      <td>0</td>\n",
       "      <td>False</td>\n",
       "      <td>2</td>\n",
       "      <td>0.438186</td>\n",
       "      <td>False</td>\n",
       "      <td>{'domain_name': None, 'registrar': None, 'whoi...</td>\n",
       "      <td>NaN</td>\n",
       "    </tr>\n",
       "    <tr>\n",
       "      <th>2</th>\n",
       "      <td>http://secureid-auth5b.serveirc.com/navyfedera...</td>\n",
       "      <td>Phishing.Database</td>\n",
       "      <td>phishing</td>\n",
       "      <td>62</td>\n",
       "      <td>False</td>\n",
       "      <td>4.453623</td>\n",
       "      <td>False</td>\n",
       "      <td>0.040000</td>\n",
       "      <td>4</td>\n",
       "      <td>0</td>\n",
       "      <td>1</td>\n",
       "      <td>1</td>\n",
       "      <td>False</td>\n",
       "      <td>1</td>\n",
       "      <td>0.606254</td>\n",
       "      <td>True</td>\n",
       "      <td>{'domain_name': 'SERVEIRC.COM', 'registrar': '...</td>\n",
       "      <td>8804.0</td>\n",
       "    </tr>\n",
       "  </tbody>\n",
       "</table>\n",
       "</div>"
      ],
      "text/plain": [
       "                                                 url             source  \\\n",
       "0  http://sub22b.jelastic.regruhosting.ru/acesso/...  Phishing.Database   \n",
       "1  https://cherry-609d.hakeem1115.workers.dev/63f...  Phishing.Database   \n",
       "2  http://secureid-auth5b.serveirc.com/navyfedera...  Phishing.Database   \n",
       "\n",
       "      label  url_length  starts_with_ip  url_entropy  has_punycode  \\\n",
       "0  phishing          62           False     4.203093         False   \n",
       "1  phishing          79           False     4.747960         False   \n",
       "2  phishing          62           False     4.453623         False   \n",
       "\n",
       "   digit_letter_ratio  dot_count  at_count  dash_count  tld_count  \\\n",
       "0            0.039216          4         0           0          0   \n",
       "1            0.634146          3         0           5          0   \n",
       "2            0.040000          4         0           1          1   \n",
       "\n",
       "   domain_has_digits  subdomain_count  nan_char_entropy  has_internal_links  \\\n",
       "0              False                2          0.606254               False   \n",
       "1              False                2          0.438186               False   \n",
       "2              False                1          0.606254                True   \n",
       "\n",
       "                                          whois_data  domain_age_days  \n",
       "0                                                NaN              NaN  \n",
       "1  {'domain_name': None, 'registrar': None, 'whoi...              NaN  \n",
       "2  {'domain_name': 'SERVEIRC.COM', 'registrar': '...           8804.0  "
      ]
     },
     "execution_count": 4,
     "metadata": {},
     "output_type": "execute_result"
    }
   ],
   "source": [
    "data.head(3)"
   ]
  },
  {
   "cell_type": "code",
   "execution_count": 5,
   "metadata": {
    "ExecuteTime": {
     "end_time": "2024-10-24T01:12:22.484216Z",
     "start_time": "2024-10-24T01:12:22.468060Z"
    }
   },
   "outputs": [
    {
     "data": {
      "text/html": [
       "<div>\n",
       "<style scoped>\n",
       "    .dataframe tbody tr th:only-of-type {\n",
       "        vertical-align: middle;\n",
       "    }\n",
       "\n",
       "    .dataframe tbody tr th {\n",
       "        vertical-align: top;\n",
       "    }\n",
       "\n",
       "    .dataframe thead th {\n",
       "        text-align: right;\n",
       "    }\n",
       "</style>\n",
       "<table border=\"1\" class=\"dataframe\">\n",
       "  <thead>\n",
       "    <tr style=\"text-align: right;\">\n",
       "      <th></th>\n",
       "      <th>url</th>\n",
       "      <th>source</th>\n",
       "      <th>label</th>\n",
       "      <th>url_length</th>\n",
       "      <th>starts_with_ip</th>\n",
       "      <th>url_entropy</th>\n",
       "      <th>has_punycode</th>\n",
       "      <th>digit_letter_ratio</th>\n",
       "      <th>dot_count</th>\n",
       "      <th>at_count</th>\n",
       "      <th>dash_count</th>\n",
       "      <th>tld_count</th>\n",
       "      <th>domain_has_digits</th>\n",
       "      <th>subdomain_count</th>\n",
       "      <th>nan_char_entropy</th>\n",
       "      <th>has_internal_links</th>\n",
       "      <th>whois_data</th>\n",
       "      <th>domain_age_days</th>\n",
       "    </tr>\n",
       "  </thead>\n",
       "  <tbody>\n",
       "    <tr>\n",
       "      <th>9997</th>\n",
       "      <td>mst.org.br</td>\n",
       "      <td>Majestic</td>\n",
       "      <td>legitimate</td>\n",
       "      <td>10</td>\n",
       "      <td>False</td>\n",
       "      <td>2.921928</td>\n",
       "      <td>False</td>\n",
       "      <td>0.000000</td>\n",
       "      <td>2</td>\n",
       "      <td>0</td>\n",
       "      <td>0</td>\n",
       "      <td>0</td>\n",
       "      <td>False</td>\n",
       "      <td>0</td>\n",
       "      <td>0.464386</td>\n",
       "      <td>False</td>\n",
       "      <td>{'domain_name': 'mst.org.br', 'registrant_name...</td>\n",
       "      <td>9872.0</td>\n",
       "    </tr>\n",
       "    <tr>\n",
       "      <th>9998</th>\n",
       "      <td>cs532-2037.meraki.com</td>\n",
       "      <td>Cisco-Umbrella</td>\n",
       "      <td>legitimate</td>\n",
       "      <td>21</td>\n",
       "      <td>False</td>\n",
       "      <td>3.916127</td>\n",
       "      <td>False</td>\n",
       "      <td>0.636364</td>\n",
       "      <td>2</td>\n",
       "      <td>0</td>\n",
       "      <td>1</td>\n",
       "      <td>0</td>\n",
       "      <td>False</td>\n",
       "      <td>1</td>\n",
       "      <td>0.323078</td>\n",
       "      <td>False</td>\n",
       "      <td>{'domain_name': 'MERAKI.COM', 'registrar': 'Ma...</td>\n",
       "      <td>7916.0</td>\n",
       "    </tr>\n",
       "    <tr>\n",
       "      <th>9999</th>\n",
       "      <td>mainediner.com</td>\n",
       "      <td>Majestic</td>\n",
       "      <td>legitimate</td>\n",
       "      <td>14</td>\n",
       "      <td>False</td>\n",
       "      <td>3.235926</td>\n",
       "      <td>False</td>\n",
       "      <td>0.000000</td>\n",
       "      <td>1</td>\n",
       "      <td>0</td>\n",
       "      <td>0</td>\n",
       "      <td>0</td>\n",
       "      <td>False</td>\n",
       "      <td>0</td>\n",
       "      <td>0.271954</td>\n",
       "      <td>False</td>\n",
       "      <td>{'domain_name': 'MAINEDINER.COM', 'registrar':...</td>\n",
       "      <td>10497.0</td>\n",
       "    </tr>\n",
       "  </tbody>\n",
       "</table>\n",
       "</div>"
      ],
      "text/plain": [
       "                        url          source       label  url_length  \\\n",
       "9997             mst.org.br        Majestic  legitimate          10   \n",
       "9998  cs532-2037.meraki.com  Cisco-Umbrella  legitimate          21   \n",
       "9999         mainediner.com        Majestic  legitimate          14   \n",
       "\n",
       "      starts_with_ip  url_entropy  has_punycode  digit_letter_ratio  \\\n",
       "9997           False     2.921928         False            0.000000   \n",
       "9998           False     3.916127         False            0.636364   \n",
       "9999           False     3.235926         False            0.000000   \n",
       "\n",
       "      dot_count  at_count  dash_count  tld_count  domain_has_digits  \\\n",
       "9997          2         0           0          0              False   \n",
       "9998          2         0           1          0              False   \n",
       "9999          1         0           0          0              False   \n",
       "\n",
       "      subdomain_count  nan_char_entropy  has_internal_links  \\\n",
       "9997                0          0.464386               False   \n",
       "9998                1          0.323078               False   \n",
       "9999                0          0.271954               False   \n",
       "\n",
       "                                             whois_data  domain_age_days  \n",
       "9997  {'domain_name': 'mst.org.br', 'registrant_name...           9872.0  \n",
       "9998  {'domain_name': 'MERAKI.COM', 'registrar': 'Ma...           7916.0  \n",
       "9999  {'domain_name': 'MAINEDINER.COM', 'registrar':...          10497.0  "
      ]
     },
     "execution_count": 5,
     "metadata": {},
     "output_type": "execute_result"
    }
   ],
   "source": [
    "data.tail(3)"
   ]
  },
  {
   "cell_type": "code",
   "execution_count": 6,
   "metadata": {
    "ExecuteTime": {
     "end_time": "2024-10-24T01:12:22.494816Z",
     "start_time": "2024-10-24T01:12:22.485233Z"
    }
   },
   "outputs": [
    {
     "data": {
      "text/plain": [
       "url                    object\n",
       "source                 object\n",
       "label                  object\n",
       "url_length              int64\n",
       "starts_with_ip           bool\n",
       "url_entropy           float64\n",
       "has_punycode             bool\n",
       "digit_letter_ratio    float64\n",
       "dot_count               int64\n",
       "at_count                int64\n",
       "dash_count              int64\n",
       "tld_count               int64\n",
       "domain_has_digits        bool\n",
       "subdomain_count         int64\n",
       "nan_char_entropy      float64\n",
       "has_internal_links       bool\n",
       "whois_data             object\n",
       "domain_age_days       float64\n",
       "dtype: object"
      ]
     },
     "execution_count": 6,
     "metadata": {},
     "output_type": "execute_result"
    }
   ],
   "source": [
    "data.dtypes"
   ]
  },
  {
   "cell_type": "markdown",
   "metadata": {},
   "source": [
    "## Dropping variables"
   ]
  },
  {
   "cell_type": "markdown",
   "metadata": {},
   "source": [
    "Dropping variables that are not IV"
   ]
  },
  {
   "cell_type": "code",
   "execution_count": 7,
   "metadata": {
    "ExecuteTime": {
     "end_time": "2024-10-24T01:12:22.504058Z",
     "start_time": "2024-10-24T01:12:22.495829Z"
    }
   },
   "outputs": [],
   "source": [
    "# The url is unnecessary as all the informations about the url are in the followings variables\n",
    "# whois_data is unnecessary as its content is summarized in the other IV variables\n",
    "# domain_age_data is unnecessary has it won't help the model to determine the TV\n",
    "\n",
    "data = data.drop(['url', 'whois_data', 'domain_age_days'], axis=1) # axis=1 necessary ?\n"
   ]
  },
  {
   "cell_type": "markdown",
   "metadata": {},
   "source": [
    "Dropping datas totally definning the model"
   ]
  },
  {
   "cell_type": "code",
   "execution_count": 8,
   "metadata": {
    "ExecuteTime": {
     "end_time": "2024-10-24T01:12:22.513023Z",
     "start_time": "2024-10-24T01:12:22.506071Z"
    }
   },
   "outputs": [],
   "source": [
    "# The source colums determines whether the url is legitimate or not\n",
    "data = data.drop('source', axis=1)\n"
   ]
  },
  {
   "cell_type": "code",
   "execution_count": 9,
   "metadata": {
    "ExecuteTime": {
     "end_time": "2024-10-24T01:12:22.547905Z",
     "start_time": "2024-10-24T01:12:22.542038Z"
    }
   },
   "outputs": [
    {
     "data": {
      "text/plain": [
       "(10000, 14)"
      ]
     },
     "execution_count": 9,
     "metadata": {},
     "output_type": "execute_result"
    }
   ],
   "source": [
    "data.shape\n",
    "# loss of 4 col"
   ]
  },
  {
   "cell_type": "markdown",
   "metadata": {},
   "source": [
    "## Understanding clean dataset"
   ]
  },
  {
   "cell_type": "code",
   "execution_count": 10,
   "metadata": {
    "ExecuteTime": {
     "end_time": "2024-10-24T01:12:22.661730Z",
     "start_time": "2024-10-24T01:12:22.652989Z"
    }
   },
   "outputs": [
    {
     "data": {
      "text/plain": [
       "label                 0\n",
       "url_length            0\n",
       "starts_with_ip        0\n",
       "url_entropy           0\n",
       "has_punycode          0\n",
       "digit_letter_ratio    0\n",
       "dot_count             0\n",
       "at_count              0\n",
       "dash_count            0\n",
       "tld_count             0\n",
       "domain_has_digits     0\n",
       "subdomain_count       0\n",
       "nan_char_entropy      0\n",
       "has_internal_links    0\n",
       "dtype: int64"
      ]
     },
     "execution_count": 10,
     "metadata": {},
     "output_type": "execute_result"
    }
   ],
   "source": [
    "data.isnull().sum()"
   ]
  },
  {
   "cell_type": "code",
   "execution_count": 11,
   "metadata": {
    "ExecuteTime": {
     "end_time": "2024-10-24T01:12:22.776217Z",
     "start_time": "2024-10-24T01:12:22.770321Z"
    }
   },
   "outputs": [
    {
     "data": {
      "text/plain": [
       "label                  object\n",
       "url_length              int64\n",
       "starts_with_ip           bool\n",
       "url_entropy           float64\n",
       "has_punycode             bool\n",
       "digit_letter_ratio    float64\n",
       "dot_count               int64\n",
       "at_count                int64\n",
       "dash_count              int64\n",
       "tld_count               int64\n",
       "domain_has_digits        bool\n",
       "subdomain_count         int64\n",
       "nan_char_entropy      float64\n",
       "has_internal_links       bool\n",
       "dtype: object"
      ]
     },
     "execution_count": 11,
     "metadata": {},
     "output_type": "execute_result"
    }
   ],
   "source": [
    "data.dtypes"
   ]
  },
  {
   "cell_type": "code",
   "execution_count": 12,
   "metadata": {
    "ExecuteTime": {
     "end_time": "2024-10-24T01:12:22.968559Z",
     "start_time": "2024-10-24T01:12:22.937653Z"
    }
   },
   "outputs": [
    {
     "data": {
      "text/html": [
       "<div>\n",
       "<style scoped>\n",
       "    .dataframe tbody tr th:only-of-type {\n",
       "        vertical-align: middle;\n",
       "    }\n",
       "\n",
       "    .dataframe tbody tr th {\n",
       "        vertical-align: top;\n",
       "    }\n",
       "\n",
       "    .dataframe thead th {\n",
       "        text-align: right;\n",
       "    }\n",
       "</style>\n",
       "<table border=\"1\" class=\"dataframe\">\n",
       "  <thead>\n",
       "    <tr style=\"text-align: right;\">\n",
       "      <th></th>\n",
       "      <th>url_length</th>\n",
       "      <th>url_entropy</th>\n",
       "      <th>digit_letter_ratio</th>\n",
       "      <th>dot_count</th>\n",
       "      <th>at_count</th>\n",
       "      <th>dash_count</th>\n",
       "      <th>tld_count</th>\n",
       "      <th>subdomain_count</th>\n",
       "      <th>nan_char_entropy</th>\n",
       "    </tr>\n",
       "  </thead>\n",
       "  <tbody>\n",
       "    <tr>\n",
       "      <th>count</th>\n",
       "      <td>10000.000000</td>\n",
       "      <td>10000.000000</td>\n",
       "      <td>10000.000000</td>\n",
       "      <td>10000.00000</td>\n",
       "      <td>10000.00000</td>\n",
       "      <td>10000.000000</td>\n",
       "      <td>10000.000000</td>\n",
       "      <td>10000.000000</td>\n",
       "      <td>10000.000000</td>\n",
       "    </tr>\n",
       "    <tr>\n",
       "      <th>mean</th>\n",
       "      <td>45.788100</td>\n",
       "      <td>3.911319</td>\n",
       "      <td>0.115826</td>\n",
       "      <td>2.21580</td>\n",
       "      <td>0.01090</td>\n",
       "      <td>0.745000</td>\n",
       "      <td>0.038500</td>\n",
       "      <td>0.786900</td>\n",
       "      <td>0.464863</td>\n",
       "    </tr>\n",
       "    <tr>\n",
       "      <th>std</th>\n",
       "      <td>68.050433</td>\n",
       "      <td>0.640732</td>\n",
       "      <td>0.239825</td>\n",
       "      <td>2.39416</td>\n",
       "      <td>0.11306</td>\n",
       "      <td>1.878225</td>\n",
       "      <td>0.348755</td>\n",
       "      <td>1.040767</td>\n",
       "      <td>0.187817</td>\n",
       "    </tr>\n",
       "    <tr>\n",
       "      <th>min</th>\n",
       "      <td>5.000000</td>\n",
       "      <td>1.918296</td>\n",
       "      <td>0.000000</td>\n",
       "      <td>1.00000</td>\n",
       "      <td>0.00000</td>\n",
       "      <td>0.000000</td>\n",
       "      <td>0.000000</td>\n",
       "      <td>0.000000</td>\n",
       "      <td>0.071456</td>\n",
       "    </tr>\n",
       "    <tr>\n",
       "      <th>25%</th>\n",
       "      <td>17.000000</td>\n",
       "      <td>3.448513</td>\n",
       "      <td>0.000000</td>\n",
       "      <td>1.00000</td>\n",
       "      <td>0.00000</td>\n",
       "      <td>0.000000</td>\n",
       "      <td>0.000000</td>\n",
       "      <td>0.000000</td>\n",
       "      <td>0.306397</td>\n",
       "    </tr>\n",
       "    <tr>\n",
       "      <th>50%</th>\n",
       "      <td>30.000000</td>\n",
       "      <td>3.920869</td>\n",
       "      <td>0.000000</td>\n",
       "      <td>2.00000</td>\n",
       "      <td>0.00000</td>\n",
       "      <td>0.000000</td>\n",
       "      <td>0.000000</td>\n",
       "      <td>1.000000</td>\n",
       "      <td>0.415452</td>\n",
       "    </tr>\n",
       "    <tr>\n",
       "      <th>75%</th>\n",
       "      <td>53.000000</td>\n",
       "      <td>4.334118</td>\n",
       "      <td>0.133333</td>\n",
       "      <td>3.00000</td>\n",
       "      <td>0.00000</td>\n",
       "      <td>1.000000</td>\n",
       "      <td>0.000000</td>\n",
       "      <td>1.000000</td>\n",
       "      <td>0.616195</td>\n",
       "    </tr>\n",
       "    <tr>\n",
       "      <th>max</th>\n",
       "      <td>2631.000000</td>\n",
       "      <td>5.963848</td>\n",
       "      <td>5.000000</td>\n",
       "      <td>148.00000</td>\n",
       "      <td>4.00000</td>\n",
       "      <td>113.000000</td>\n",
       "      <td>12.000000</td>\n",
       "      <td>13.000000</td>\n",
       "      <td>1.429613</td>\n",
       "    </tr>\n",
       "  </tbody>\n",
       "</table>\n",
       "</div>"
      ],
      "text/plain": [
       "         url_length   url_entropy  digit_letter_ratio    dot_count  \\\n",
       "count  10000.000000  10000.000000        10000.000000  10000.00000   \n",
       "mean      45.788100      3.911319            0.115826      2.21580   \n",
       "std       68.050433      0.640732            0.239825      2.39416   \n",
       "min        5.000000      1.918296            0.000000      1.00000   \n",
       "25%       17.000000      3.448513            0.000000      1.00000   \n",
       "50%       30.000000      3.920869            0.000000      2.00000   \n",
       "75%       53.000000      4.334118            0.133333      3.00000   \n",
       "max     2631.000000      5.963848            5.000000    148.00000   \n",
       "\n",
       "          at_count    dash_count     tld_count  subdomain_count  \\\n",
       "count  10000.00000  10000.000000  10000.000000     10000.000000   \n",
       "mean       0.01090      0.745000      0.038500         0.786900   \n",
       "std        0.11306      1.878225      0.348755         1.040767   \n",
       "min        0.00000      0.000000      0.000000         0.000000   \n",
       "25%        0.00000      0.000000      0.000000         0.000000   \n",
       "50%        0.00000      0.000000      0.000000         1.000000   \n",
       "75%        0.00000      1.000000      0.000000         1.000000   \n",
       "max        4.00000    113.000000     12.000000        13.000000   \n",
       "\n",
       "       nan_char_entropy  \n",
       "count      10000.000000  \n",
       "mean           0.464863  \n",
       "std            0.187817  \n",
       "min            0.071456  \n",
       "25%            0.306397  \n",
       "50%            0.415452  \n",
       "75%            0.616195  \n",
       "max            1.429613  "
      ]
     },
     "execution_count": 12,
     "metadata": {},
     "output_type": "execute_result"
    }
   ],
   "source": [
    "data.describe()"
   ]
  },
  {
   "cell_type": "markdown",
   "metadata": {},
   "source": [
    "We see that the variable 'url_length' is probably neither standardized nor normalized. Below is therefore the distribution of the values."
   ]
  },
  {
   "cell_type": "code",
   "execution_count": 13,
   "metadata": {
    "ExecuteTime": {
     "end_time": "2024-10-24T01:12:23.785610Z",
     "start_time": "2024-10-24T01:12:23.006694Z"
    }
   },
   "outputs": [
    {
     "data": {
      "text/plain": [
       "[]"
      ]
     },
     "execution_count": 13,
     "metadata": {},
     "output_type": "execute_result"
    },
    {
     "data": {
      "image/png": "[encoded data removed]",
      "text/plain": [
       "<Figure size 640x480 with 1 Axes>"
      ]
     },
     "metadata": {},
     "output_type": "display_data"
    }
   ],
   "source": [
    "# See distribution of 'url length'\n",
    "\n",
    "plt.hist(data['url_length'], bins=500)\n",
    "plt.xlim(0, 500) #optional\n",
    "plt.plot()"
   ]
  },
  {
   "cell_type": "markdown",
   "metadata": {},
   "source": [
    "Indeed, the distribution of the variable 'url_lenght' does folow a Gaussian. A standardization can be performed."
   ]
  },
  {
   "cell_type": "markdown",
   "metadata": {},
   "source": [
    "## Standardization & Normalization"
   ]
  },
  {
   "cell_type": "code",
   "execution_count": 14,
   "metadata": {},
   "outputs": [
    {
     "data": {
      "text/html": [
       "<div>\n",
       "<style scoped>\n",
       "    .dataframe tbody tr th:only-of-type {\n",
       "        vertical-align: middle;\n",
       "    }\n",
       "\n",
       "    .dataframe tbody tr th {\n",
       "        vertical-align: top;\n",
       "    }\n",
       "\n",
       "    .dataframe thead th {\n",
       "        text-align: right;\n",
       "    }\n",
       "</style>\n",
       "<table border=\"1\" class=\"dataframe\">\n",
       "  <thead>\n",
       "    <tr style=\"text-align: right;\">\n",
       "      <th></th>\n",
       "      <th>url_length</th>\n",
       "      <th>url_entropy</th>\n",
       "      <th>digit_letter_ratio</th>\n",
       "      <th>dot_count</th>\n",
       "      <th>at_count</th>\n",
       "      <th>dash_count</th>\n",
       "      <th>tld_count</th>\n",
       "      <th>subdomain_count</th>\n",
       "      <th>nan_char_entropy</th>\n",
       "    </tr>\n",
       "  </thead>\n",
       "  <tbody>\n",
       "    <tr>\n",
       "      <th>count</th>\n",
       "      <td>10000.000000</td>\n",
       "      <td>10000.000000</td>\n",
       "      <td>10000.000000</td>\n",
       "      <td>1.000000e+04</td>\n",
       "      <td>10000.00000</td>\n",
       "      <td>1.000000e+04</td>\n",
       "      <td>10000.000000</td>\n",
       "      <td>10000.000000</td>\n",
       "      <td>10000.000000</td>\n",
       "    </tr>\n",
       "    <tr>\n",
       "      <th>mean</th>\n",
       "      <td>0.000000</td>\n",
       "      <td>3.911319</td>\n",
       "      <td>0.115826</td>\n",
       "      <td>-6.821210e-17</td>\n",
       "      <td>0.01090</td>\n",
       "      <td>4.547474e-17</td>\n",
       "      <td>0.038500</td>\n",
       "      <td>0.786900</td>\n",
       "      <td>0.464863</td>\n",
       "    </tr>\n",
       "    <tr>\n",
       "      <th>std</th>\n",
       "      <td>1.000050</td>\n",
       "      <td>0.640732</td>\n",
       "      <td>0.239825</td>\n",
       "      <td>1.000050e+00</td>\n",
       "      <td>0.11306</td>\n",
       "      <td>1.000050e+00</td>\n",
       "      <td>0.348755</td>\n",
       "      <td>1.040767</td>\n",
       "      <td>0.187817</td>\n",
       "    </tr>\n",
       "    <tr>\n",
       "      <th>min</th>\n",
       "      <td>-0.599410</td>\n",
       "      <td>1.918296</td>\n",
       "      <td>0.000000</td>\n",
       "      <td>-5.078444e-01</td>\n",
       "      <td>0.00000</td>\n",
       "      <td>-3.966710e-01</td>\n",
       "      <td>0.000000</td>\n",
       "      <td>0.000000</td>\n",
       "      <td>0.071456</td>\n",
       "    </tr>\n",
       "    <tr>\n",
       "      <th>25%</th>\n",
       "      <td>-0.423062</td>\n",
       "      <td>3.448513</td>\n",
       "      <td>0.000000</td>\n",
       "      <td>-5.078444e-01</td>\n",
       "      <td>0.00000</td>\n",
       "      <td>-3.966710e-01</td>\n",
       "      <td>0.000000</td>\n",
       "      <td>0.000000</td>\n",
       "      <td>0.306397</td>\n",
       "    </tr>\n",
       "    <tr>\n",
       "      <th>50%</th>\n",
       "      <td>-0.232017</td>\n",
       "      <td>3.920869</td>\n",
       "      <td>0.000000</td>\n",
       "      <td>-9.014049e-02</td>\n",
       "      <td>0.00000</td>\n",
       "      <td>-3.966710e-01</td>\n",
       "      <td>0.000000</td>\n",
       "      <td>1.000000</td>\n",
       "      <td>0.415452</td>\n",
       "    </tr>\n",
       "    <tr>\n",
       "      <th>75%</th>\n",
       "      <td>0.105984</td>\n",
       "      <td>4.334118</td>\n",
       "      <td>0.133333</td>\n",
       "      <td>3.275634e-01</td>\n",
       "      <td>0.00000</td>\n",
       "      <td>1.357733e-01</td>\n",
       "      <td>0.000000</td>\n",
       "      <td>1.000000</td>\n",
       "      <td>0.616195</td>\n",
       "    </tr>\n",
       "    <tr>\n",
       "      <th>max</th>\n",
       "      <td>37.991546</td>\n",
       "      <td>5.963848</td>\n",
       "      <td>5.000000</td>\n",
       "      <td>6.089462e+01</td>\n",
       "      <td>4.00000</td>\n",
       "      <td>5.976954e+01</td>\n",
       "      <td>12.000000</td>\n",
       "      <td>13.000000</td>\n",
       "      <td>1.429613</td>\n",
       "    </tr>\n",
       "  </tbody>\n",
       "</table>\n",
       "</div>"
      ],
      "text/plain": [
       "         url_length   url_entropy  digit_letter_ratio     dot_count  \\\n",
       "count  10000.000000  10000.000000        10000.000000  1.000000e+04   \n",
       "mean       0.000000      3.911319            0.115826 -6.821210e-17   \n",
       "std        1.000050      0.640732            0.239825  1.000050e+00   \n",
       "min       -0.599410      1.918296            0.000000 -5.078444e-01   \n",
       "25%       -0.423062      3.448513            0.000000 -5.078444e-01   \n",
       "50%       -0.232017      3.920869            0.000000 -9.014049e-02   \n",
       "75%        0.105984      4.334118            0.133333  3.275634e-01   \n",
       "max       37.991546      5.963848            5.000000  6.089462e+01   \n",
       "\n",
       "          at_count    dash_count     tld_count  subdomain_count  \\\n",
       "count  10000.00000  1.000000e+04  10000.000000     10000.000000   \n",
       "mean       0.01090  4.547474e-17      0.038500         0.786900   \n",
       "std        0.11306  1.000050e+00      0.348755         1.040767   \n",
       "min        0.00000 -3.966710e-01      0.000000         0.000000   \n",
       "25%        0.00000 -3.966710e-01      0.000000         0.000000   \n",
       "50%        0.00000 -3.966710e-01      0.000000         1.000000   \n",
       "75%        0.00000  1.357733e-01      0.000000         1.000000   \n",
       "max        4.00000  5.976954e+01     12.000000        13.000000   \n",
       "\n",
       "       nan_char_entropy  \n",
       "count      10000.000000  \n",
       "mean           0.464863  \n",
       "std            0.187817  \n",
       "min            0.071456  \n",
       "25%            0.306397  \n",
       "50%            0.415452  \n",
       "75%            0.616195  \n",
       "max            1.429613  "
      ]
     },
     "execution_count": 14,
     "metadata": {},
     "output_type": "execute_result"
    }
   ],
   "source": [
    "# Standardization of the url_lenght\n",
    "from sklearn.preprocessing import StandardScaler\n",
    "\n",
    "#temp = preprocessing.normalize([data['url_length']])\n",
    "data['url_length'] = StandardScaler().fit_transform(data[['url_length']])\n",
    "data['dot_count'] = StandardScaler().fit_transform(data[['dot_count']])\n",
    "data['dash_count'] = StandardScaler().fit_transform(data[['dash_count']])\n",
    "\n",
    "\n",
    "data.describe()"
   ]
  },
  {
   "cell_type": "markdown",
   "metadata": {},
   "source": [
    "## Class Balancing\n",
    "Our TV is labal. This data set is already balanced. It is a binary dataset."
   ]
  },
  {
   "cell_type": "code",
   "execution_count": 15,
   "metadata": {
    "ExecuteTime": {
     "end_time": "2024-10-24T01:12:23.797121Z",
     "start_time": "2024-10-24T01:12:23.787621Z"
    }
   },
   "outputs": [
    {
     "data": {
      "text/plain": [
       "np.int64(0)"
      ]
     },
     "execution_count": 15,
     "metadata": {},
     "output_type": "execute_result"
    }
   ],
   "source": [
    "data['label'].isnull().sum()"
   ]
  },
  {
   "cell_type": "code",
   "execution_count": 16,
   "metadata": {
    "ExecuteTime": {
     "end_time": "2024-10-24T01:12:23.972441Z",
     "start_time": "2024-10-24T01:12:23.798670Z"
    }
   },
   "outputs": [
    {
     "data": {
      "text/plain": [
       "label\n",
       "phishing      5000\n",
       "legitimate    5000\n",
       "Name: count, dtype: int64"
      ]
     },
     "execution_count": 16,
     "metadata": {},
     "output_type": "execute_result"
    },
    {
     "data": {
      "image/png": "[encoded data removed]",
      "text/plain": [
       "<Figure size 640x480 with 1 Axes>"
      ]
     },
     "metadata": {},
     "output_type": "display_data"
    }
   ],
   "source": [
    "plt.hist(data['label'], density=False, bins= 3 )\n",
    "data['label'].value_counts()\n",
    "\n",
    "# add colors ???"
   ]
  },
  {
   "cell_type": "markdown",
   "metadata": {},
   "source": [
    "## Label Encoding / Factorizing"
   ]
  },
  {
   "cell_type": "code",
   "execution_count": 17,
   "metadata": {
    "ExecuteTime": {
     "end_time": "2024-10-24T01:12:23.979734Z",
     "start_time": "2024-10-24T01:12:23.974606Z"
    }
   },
   "outputs": [],
   "source": [
    "# WHY DONT WE USE GETDUMMIES ???\n",
    "# OR OneHotEncoder from SKLEARN"
   ]
  },
  {
   "cell_type": "code",
   "execution_count": 18,
   "metadata": {
    "ExecuteTime": {
     "end_time": "2024-10-24T01:12:24.014961Z",
     "start_time": "2024-10-24T01:12:23.981373Z"
    }
   },
   "outputs": [
    {
     "data": {
      "text/html": [
       "<div>\n",
       "<style scoped>\n",
       "    .dataframe tbody tr th:only-of-type {\n",
       "        vertical-align: middle;\n",
       "    }\n",
       "\n",
       "    .dataframe tbody tr th {\n",
       "        vertical-align: top;\n",
       "    }\n",
       "\n",
       "    .dataframe thead th {\n",
       "        text-align: right;\n",
       "    }\n",
       "</style>\n",
       "<table border=\"1\" class=\"dataframe\">\n",
       "  <thead>\n",
       "    <tr style=\"text-align: right;\">\n",
       "      <th></th>\n",
       "      <th>label</th>\n",
       "      <th>url_length</th>\n",
       "      <th>starts_with_ip</th>\n",
       "      <th>url_entropy</th>\n",
       "      <th>has_punycode</th>\n",
       "      <th>digit_letter_ratio</th>\n",
       "      <th>dot_count</th>\n",
       "      <th>at_count</th>\n",
       "      <th>dash_count</th>\n",
       "      <th>tld_count</th>\n",
       "      <th>domain_has_digits</th>\n",
       "      <th>subdomain_count</th>\n",
       "      <th>nan_char_entropy</th>\n",
       "      <th>has_internal_links</th>\n",
       "    </tr>\n",
       "  </thead>\n",
       "  <tbody>\n",
       "    <tr>\n",
       "      <th>0</th>\n",
       "      <td>0</td>\n",
       "      <td>0.238246</td>\n",
       "      <td>False</td>\n",
       "      <td>4.203093</td>\n",
       "      <td>False</td>\n",
       "      <td>0.039216</td>\n",
       "      <td>0.745267</td>\n",
       "      <td>0</td>\n",
       "      <td>-0.396671</td>\n",
       "      <td>0</td>\n",
       "      <td>False</td>\n",
       "      <td>2</td>\n",
       "      <td>0.606254</td>\n",
       "      <td>False</td>\n",
       "    </tr>\n",
       "    <tr>\n",
       "      <th>1</th>\n",
       "      <td>0</td>\n",
       "      <td>0.488073</td>\n",
       "      <td>False</td>\n",
       "      <td>4.747960</td>\n",
       "      <td>False</td>\n",
       "      <td>0.634146</td>\n",
       "      <td>0.327563</td>\n",
       "      <td>0</td>\n",
       "      <td>2.265551</td>\n",
       "      <td>0</td>\n",
       "      <td>False</td>\n",
       "      <td>2</td>\n",
       "      <td>0.438186</td>\n",
       "      <td>False</td>\n",
       "    </tr>\n",
       "    <tr>\n",
       "      <th>2</th>\n",
       "      <td>0</td>\n",
       "      <td>0.238246</td>\n",
       "      <td>False</td>\n",
       "      <td>4.453623</td>\n",
       "      <td>False</td>\n",
       "      <td>0.040000</td>\n",
       "      <td>0.745267</td>\n",
       "      <td>0</td>\n",
       "      <td>0.135773</td>\n",
       "      <td>1</td>\n",
       "      <td>False</td>\n",
       "      <td>1</td>\n",
       "      <td>0.606254</td>\n",
       "      <td>True</td>\n",
       "    </tr>\n",
       "    <tr>\n",
       "      <th>3</th>\n",
       "      <td>0</td>\n",
       "      <td>-0.320192</td>\n",
       "      <td>False</td>\n",
       "      <td>3.970176</td>\n",
       "      <td>False</td>\n",
       "      <td>0.000000</td>\n",
       "      <td>-0.507844</td>\n",
       "      <td>0</td>\n",
       "      <td>-0.396671</td>\n",
       "      <td>0</td>\n",
       "      <td>False</td>\n",
       "      <td>0</td>\n",
       "      <td>0.680827</td>\n",
       "      <td>False</td>\n",
       "    </tr>\n",
       "    <tr>\n",
       "      <th>4</th>\n",
       "      <td>0</td>\n",
       "      <td>0.341116</td>\n",
       "      <td>False</td>\n",
       "      <td>4.548398</td>\n",
       "      <td>False</td>\n",
       "      <td>0.441860</td>\n",
       "      <td>-0.090140</td>\n",
       "      <td>0</td>\n",
       "      <td>-0.396671</td>\n",
       "      <td>0</td>\n",
       "      <td>True</td>\n",
       "      <td>1</td>\n",
       "      <td>0.474778</td>\n",
       "      <td>False</td>\n",
       "    </tr>\n",
       "    <tr>\n",
       "      <th>...</th>\n",
       "      <td>...</td>\n",
       "      <td>...</td>\n",
       "      <td>...</td>\n",
       "      <td>...</td>\n",
       "      <td>...</td>\n",
       "      <td>...</td>\n",
       "      <td>...</td>\n",
       "      <td>...</td>\n",
       "      <td>...</td>\n",
       "      <td>...</td>\n",
       "      <td>...</td>\n",
       "      <td>...</td>\n",
       "      <td>...</td>\n",
       "      <td>...</td>\n",
       "    </tr>\n",
       "    <tr>\n",
       "      <th>9995</th>\n",
       "      <td>1</td>\n",
       "      <td>-0.305496</td>\n",
       "      <td>False</td>\n",
       "      <td>3.943465</td>\n",
       "      <td>False</td>\n",
       "      <td>0.100000</td>\n",
       "      <td>-0.090140</td>\n",
       "      <td>0</td>\n",
       "      <td>0.135773</td>\n",
       "      <td>0</td>\n",
       "      <td>False</td>\n",
       "      <td>1</td>\n",
       "      <td>0.291508</td>\n",
       "      <td>False</td>\n",
       "    </tr>\n",
       "    <tr>\n",
       "      <th>9996</th>\n",
       "      <td>1</td>\n",
       "      <td>-0.511236</td>\n",
       "      <td>False</td>\n",
       "      <td>2.663533</td>\n",
       "      <td>False</td>\n",
       "      <td>0.000000</td>\n",
       "      <td>-0.090140</td>\n",
       "      <td>0</td>\n",
       "      <td>-0.396671</td>\n",
       "      <td>0</td>\n",
       "      <td>False</td>\n",
       "      <td>0</td>\n",
       "      <td>0.447169</td>\n",
       "      <td>False</td>\n",
       "    </tr>\n",
       "    <tr>\n",
       "      <th>9997</th>\n",
       "      <td>1</td>\n",
       "      <td>-0.525932</td>\n",
       "      <td>False</td>\n",
       "      <td>2.921928</td>\n",
       "      <td>False</td>\n",
       "      <td>0.000000</td>\n",
       "      <td>-0.090140</td>\n",
       "      <td>0</td>\n",
       "      <td>-0.396671</td>\n",
       "      <td>0</td>\n",
       "      <td>False</td>\n",
       "      <td>0</td>\n",
       "      <td>0.464386</td>\n",
       "      <td>False</td>\n",
       "    </tr>\n",
       "    <tr>\n",
       "      <th>9998</th>\n",
       "      <td>1</td>\n",
       "      <td>-0.364279</td>\n",
       "      <td>False</td>\n",
       "      <td>3.916127</td>\n",
       "      <td>False</td>\n",
       "      <td>0.636364</td>\n",
       "      <td>-0.090140</td>\n",
       "      <td>0</td>\n",
       "      <td>0.135773</td>\n",
       "      <td>0</td>\n",
       "      <td>False</td>\n",
       "      <td>1</td>\n",
       "      <td>0.323078</td>\n",
       "      <td>False</td>\n",
       "    </tr>\n",
       "    <tr>\n",
       "      <th>9999</th>\n",
       "      <td>1</td>\n",
       "      <td>-0.467149</td>\n",
       "      <td>False</td>\n",
       "      <td>3.235926</td>\n",
       "      <td>False</td>\n",
       "      <td>0.000000</td>\n",
       "      <td>-0.507844</td>\n",
       "      <td>0</td>\n",
       "      <td>-0.396671</td>\n",
       "      <td>0</td>\n",
       "      <td>False</td>\n",
       "      <td>0</td>\n",
       "      <td>0.271954</td>\n",
       "      <td>False</td>\n",
       "    </tr>\n",
       "  </tbody>\n",
       "</table>\n",
       "<p>10000 rows × 14 columns</p>\n",
       "</div>"
      ],
      "text/plain": [
       "      label  url_length  starts_with_ip  url_entropy  has_punycode  \\\n",
       "0         0    0.238246           False     4.203093         False   \n",
       "1         0    0.488073           False     4.747960         False   \n",
       "2         0    0.238246           False     4.453623         False   \n",
       "3         0   -0.320192           False     3.970176         False   \n",
       "4         0    0.341116           False     4.548398         False   \n",
       "...     ...         ...             ...          ...           ...   \n",
       "9995      1   -0.305496           False     3.943465         False   \n",
       "9996      1   -0.511236           False     2.663533         False   \n",
       "9997      1   -0.525932           False     2.921928         False   \n",
       "9998      1   -0.364279           False     3.916127         False   \n",
       "9999      1   -0.467149           False     3.235926         False   \n",
       "\n",
       "      digit_letter_ratio  dot_count  at_count  dash_count  tld_count  \\\n",
       "0               0.039216   0.745267         0   -0.396671          0   \n",
       "1               0.634146   0.327563         0    2.265551          0   \n",
       "2               0.040000   0.745267         0    0.135773          1   \n",
       "3               0.000000  -0.507844         0   -0.396671          0   \n",
       "4               0.441860  -0.090140         0   -0.396671          0   \n",
       "...                  ...        ...       ...         ...        ...   \n",
       "9995            0.100000  -0.090140         0    0.135773          0   \n",
       "9996            0.000000  -0.090140         0   -0.396671          0   \n",
       "9997            0.000000  -0.090140         0   -0.396671          0   \n",
       "9998            0.636364  -0.090140         0    0.135773          0   \n",
       "9999            0.000000  -0.507844         0   -0.396671          0   \n",
       "\n",
       "      domain_has_digits  subdomain_count  nan_char_entropy  has_internal_links  \n",
       "0                 False                2          0.606254               False  \n",
       "1                 False                2          0.438186               False  \n",
       "2                 False                1          0.606254                True  \n",
       "3                 False                0          0.680827               False  \n",
       "4                  True                1          0.474778               False  \n",
       "...                 ...              ...               ...                 ...  \n",
       "9995              False                1          0.291508               False  \n",
       "9996              False                0          0.447169               False  \n",
       "9997              False                0          0.464386               False  \n",
       "9998              False                1          0.323078               False  \n",
       "9999              False                0          0.271954               False  \n",
       "\n",
       "[10000 rows x 14 columns]"
      ]
     },
     "execution_count": 18,
     "metadata": {},
     "output_type": "execute_result"
    }
   ],
   "source": [
    "# 0 is for legitimate url, 1 for phishing websites\n",
    "data['label'] = pd.factorize(data['label'])[0] #what is the use of [0]??\n",
    "\n",
    "data"
   ]
  },
  {
   "cell_type": "markdown",
   "metadata": {},
   "source": [
    "## Assign IV and TV"
   ]
  },
  {
   "cell_type": "code",
   "execution_count": 19,
   "metadata": {
    "ExecuteTime": {
     "end_time": "2024-10-24T01:12:24.022452Z",
     "start_time": "2024-10-24T01:12:24.016486Z"
    }
   },
   "outputs": [],
   "source": [
    "X = data.drop('label', axis = 1) #IV\n",
    "Y = data['label'] #TV"
   ]
  },
  {
   "cell_type": "markdown",
   "metadata": {},
   "source": [
    "## Data Split / Model Building"
   ]
  },
  {
   "cell_type": "code",
   "execution_count": 20,
   "metadata": {
    "ExecuteTime": {
     "end_time": "2024-10-24T01:12:24.034379Z",
     "start_time": "2024-10-24T01:12:24.024366Z"
    }
   },
   "outputs": [],
   "source": [
    "from sklearn.model_selection import train_test_split\n",
    "X_train, X_test, Y_train, Y_test = train_test_split(X, Y, test_size = 0.20, random_state = 1)"
   ]
  },
  {
   "cell_type": "code",
   "execution_count": 21,
   "metadata": {
    "ExecuteTime": {
     "end_time": "2024-10-24T01:12:24.051916Z",
     "start_time": "2024-10-24T01:12:24.035393Z"
    }
   },
   "outputs": [
    {
     "data": {
      "text/html": [
       "<div>\n",
       "<style scoped>\n",
       "    .dataframe tbody tr th:only-of-type {\n",
       "        vertical-align: middle;\n",
       "    }\n",
       "\n",
       "    .dataframe tbody tr th {\n",
       "        vertical-align: top;\n",
       "    }\n",
       "\n",
       "    .dataframe thead th {\n",
       "        text-align: right;\n",
       "    }\n",
       "</style>\n",
       "<table border=\"1\" class=\"dataframe\">\n",
       "  <thead>\n",
       "    <tr style=\"text-align: right;\">\n",
       "      <th></th>\n",
       "      <th>url_length</th>\n",
       "      <th>starts_with_ip</th>\n",
       "      <th>url_entropy</th>\n",
       "      <th>has_punycode</th>\n",
       "      <th>digit_letter_ratio</th>\n",
       "      <th>dot_count</th>\n",
       "      <th>at_count</th>\n",
       "      <th>dash_count</th>\n",
       "      <th>tld_count</th>\n",
       "      <th>domain_has_digits</th>\n",
       "      <th>subdomain_count</th>\n",
       "      <th>nan_char_entropy</th>\n",
       "      <th>has_internal_links</th>\n",
       "    </tr>\n",
       "  </thead>\n",
       "  <tbody>\n",
       "    <tr>\n",
       "      <th>9953</th>\n",
       "      <td>-0.525932</td>\n",
       "      <td>False</td>\n",
       "      <td>3.121928</td>\n",
       "      <td>False</td>\n",
       "      <td>0.000000</td>\n",
       "      <td>-0.507844</td>\n",
       "      <td>0</td>\n",
       "      <td>0.135773</td>\n",
       "      <td>0</td>\n",
       "      <td>False</td>\n",
       "      <td>0</td>\n",
       "      <td>0.332193</td>\n",
       "      <td>False</td>\n",
       "    </tr>\n",
       "    <tr>\n",
       "      <th>3850</th>\n",
       "      <td>-0.099756</td>\n",
       "      <td>False</td>\n",
       "      <td>4.015921</td>\n",
       "      <td>False</td>\n",
       "      <td>0.100000</td>\n",
       "      <td>-0.507844</td>\n",
       "      <td>0</td>\n",
       "      <td>-0.396671</td>\n",
       "      <td>0</td>\n",
       "      <td>True</td>\n",
       "      <td>0</td>\n",
       "      <td>0.608011</td>\n",
       "      <td>False</td>\n",
       "    </tr>\n",
       "    <tr>\n",
       "      <th>4962</th>\n",
       "      <td>0.752596</td>\n",
       "      <td>False</td>\n",
       "      <td>4.778498</td>\n",
       "      <td>False</td>\n",
       "      <td>0.641509</td>\n",
       "      <td>0.327563</td>\n",
       "      <td>0</td>\n",
       "      <td>0.135773</td>\n",
       "      <td>0</td>\n",
       "      <td>False</td>\n",
       "      <td>1</td>\n",
       "      <td>0.514324</td>\n",
       "      <td>False</td>\n",
       "    </tr>\n",
       "    <tr>\n",
       "      <th>3886</th>\n",
       "      <td>-0.276105</td>\n",
       "      <td>False</td>\n",
       "      <td>4.060262</td>\n",
       "      <td>False</td>\n",
       "      <td>0.150000</td>\n",
       "      <td>-0.507844</td>\n",
       "      <td>0</td>\n",
       "      <td>-0.396671</td>\n",
       "      <td>0</td>\n",
       "      <td>True</td>\n",
       "      <td>0</td>\n",
       "      <td>0.630354</td>\n",
       "      <td>False</td>\n",
       "    </tr>\n",
       "    <tr>\n",
       "      <th>5437</th>\n",
       "      <td>-0.525932</td>\n",
       "      <td>False</td>\n",
       "      <td>2.646439</td>\n",
       "      <td>False</td>\n",
       "      <td>0.000000</td>\n",
       "      <td>-0.090140</td>\n",
       "      <td>0</td>\n",
       "      <td>-0.396671</td>\n",
       "      <td>0</td>\n",
       "      <td>False</td>\n",
       "      <td>0</td>\n",
       "      <td>0.464386</td>\n",
       "      <td>False</td>\n",
       "    </tr>\n",
       "  </tbody>\n",
       "</table>\n",
       "</div>"
      ],
      "text/plain": [
       "      url_length  starts_with_ip  url_entropy  has_punycode  \\\n",
       "9953   -0.525932           False     3.121928         False   \n",
       "3850   -0.099756           False     4.015921         False   \n",
       "4962    0.752596           False     4.778498         False   \n",
       "3886   -0.276105           False     4.060262         False   \n",
       "5437   -0.525932           False     2.646439         False   \n",
       "\n",
       "      digit_letter_ratio  dot_count  at_count  dash_count  tld_count  \\\n",
       "9953            0.000000  -0.507844         0    0.135773          0   \n",
       "3850            0.100000  -0.507844         0   -0.396671          0   \n",
       "4962            0.641509   0.327563         0    0.135773          0   \n",
       "3886            0.150000  -0.507844         0   -0.396671          0   \n",
       "5437            0.000000  -0.090140         0   -0.396671          0   \n",
       "\n",
       "      domain_has_digits  subdomain_count  nan_char_entropy  has_internal_links  \n",
       "9953              False                0          0.332193               False  \n",
       "3850               True                0          0.608011               False  \n",
       "4962              False                1          0.514324               False  \n",
       "3886               True                0          0.630354               False  \n",
       "5437              False                0          0.464386               False  "
      ]
     },
     "execution_count": 21,
     "metadata": {},
     "output_type": "execute_result"
    }
   ],
   "source": [
    "X_test.head(5)\n",
    "# or X_train[0:5]"
   ]
  },
  {
   "cell_type": "code",
   "execution_count": 22,
   "metadata": {
    "ExecuteTime": {
     "end_time": "2024-10-24T01:12:24.063642Z",
     "start_time": "2024-10-24T01:12:24.053002Z"
    }
   },
   "outputs": [
    {
     "data": {
      "text/plain": [
       "label\n",
       "1    4021\n",
       "0    3979\n",
       "Name: count, dtype: int64"
      ]
     },
     "execution_count": 22,
     "metadata": {},
     "output_type": "execute_result"
    }
   ],
   "source": [
    "#Y_test.head()\n",
    "Y_train.value_counts()"
   ]
  },
  {
   "cell_type": "code",
   "execution_count": 23,
   "metadata": {
    "ExecuteTime": {
     "end_time": "2024-10-24T01:12:24.074011Z",
     "start_time": "2024-10-24T01:12:24.066868Z"
    }
   },
   "outputs": [
    {
     "data": {
      "text/plain": [
       "(2000,)"
      ]
     },
     "execution_count": 23,
     "metadata": {},
     "output_type": "execute_result"
    }
   ],
   "source": [
    "Y_test.shape # 0.2 of the data set"
   ]
  },
  {
   "cell_type": "markdown",
   "metadata": {},
   "source": [
    "## KNN"
   ]
  },
  {
   "cell_type": "code",
   "execution_count": 24,
   "metadata": {
    "ExecuteTime": {
     "end_time": "2024-10-24T01:12:24.082483Z",
     "start_time": "2024-10-24T01:12:24.075637Z"
    }
   },
   "outputs": [],
   "source": [
    "import seaborn as sns\n",
    "from sklearn.neighbors import KNeighborsClassifier\n",
    "from sklearn.metrics import classification_report, confusion_matrix, accuracy_score, precision_score, recall_score, f1_score"
   ]
  },
  {
   "cell_type": "code",
   "execution_count": 25,
   "metadata": {
    "ExecuteTime": {
     "end_time": "2024-10-24T01:12:24.261824Z",
     "start_time": "2024-10-24T01:12:24.083497Z"
    }
   },
   "outputs": [
    {
     "name": "stdout",
     "output_type": "stream",
     "text": [
      "KNN - Accuracy: 99.000.\n",
      "\n",
      "Classification Report\n",
      "              precision    recall  f1-score   support\n",
      "\n",
      "           0       0.99      0.99      0.99      1021\n",
      "           1       0.99      0.99      0.99       979\n",
      "\n",
      "    accuracy                           0.99      2000\n",
      "   macro avg       0.99      0.99      0.99      2000\n",
      "weighted avg       0.99      0.99      0.99      2000\n",
      "\n"
     ]
    }
   ],
   "source": [
    "# ATTANTION CECI EST UN ENORME COPIER COLLER IL SAGIRAI DE COMPRENDRE POUR JUGER CE SCRIPT\n",
    "\n",
    "knn = KNeighborsClassifier()\n",
    "knn.fit(X_train, Y_train)\n",
    "y_pred = knn.predict(X_test)\n",
    "acc = accuracy_score(Y_test, y_pred)*100\n",
    "print(\"KNN - Accuracy: {:.3f}.\".format(acc))\n",
    "print(\"\\nClassification Report\")\n",
    "print(classification_report(Y_test, y_pred))"
   ]
  },
  {
   "cell_type": "markdown",
   "metadata": {},
   "source": [
    "### ANALYSE THE RESULTS : \n",
    "PLEASE DO SO"
   ]
  },
  {
   "cell_type": "markdown",
   "metadata": {},
   "source": [
    "## Confusion Matrix"
   ]
  },
  {
   "cell_type": "code",
   "execution_count": 26,
   "metadata": {
    "ExecuteTime": {
     "end_time": "2024-10-24T01:12:24.271056Z",
     "start_time": "2024-10-24T01:12:24.262838Z"
    }
   },
   "outputs": [
    {
     "name": "stdout",
     "output_type": "stream",
     "text": [
      "[[1010   11]\n",
      " [   9  970]]\n"
     ]
    }
   ],
   "source": [
    "cm = confusion_matrix(Y_test, y_pred)\n",
    "print(cm)"
   ]
  },
  {
   "cell_type": "code",
   "execution_count": 27,
   "metadata": {
    "ExecuteTime": {
     "end_time": "2024-10-24T01:12:24.494556Z",
     "start_time": "2024-10-24T01:12:24.272604Z"
    }
   },
   "outputs": [
    {
     "data": {
      "text/plain": [
       "Text(0.5, 1.0, 'Confusion Matrix')"
      ]
     },
     "execution_count": 27,
     "metadata": {},
     "output_type": "execute_result"
    },
    {
     "data": {
      "image/png": "[encoded data removed]",
      "text/plain": [
       "<Figure size 300x300 with 2 Axes>"
      ]
     },
     "metadata": {},
     "output_type": "display_data"
    }
   ],
   "source": [
    "plt.figure(figsize=(3,3))\n",
    "sns.heatmap(cm, annot=True, linewidths=.5, square = True, cmap = 'Blues')\n",
    "\n",
    "plt.xticks([0, 1], ['legitimate', 'phishing'])\n",
    "plt.yticks([0, 1], ['legitimate', 'phishing'])\n",
    "\n",
    "plt.xlabel('Predicted label')\n",
    "plt.ylabel('Actual label')\n",
    "\n",
    "\n",
    "\n",
    "plt.title(\"Confusion Matrix\", size = 12)"
   ]
  },
  {
   "cell_type": "markdown",
   "metadata": {
    "collapsed": false
   },
   "source": [
    "### Model building with Tensorflow"
   ]
  },
  {
   "cell_type": "code",
   "execution_count": 28,
   "metadata": {
    "ExecuteTime": {
     "end_time": "2024-10-24T01:12:24.500083Z",
     "start_time": "2024-10-24T01:12:24.495569Z"
    },
    "collapsed": false
   },
   "outputs": [],
   "source": [
    "import tensorflow as tf\n",
    "from tensorflow import keras\n",
    "from keras import Sequential\n",
    "from keras.layers import Dense,Input"
   ]
  },
  {
   "cell_type": "markdown",
   "metadata": {
    "collapsed": false
   },
   "source": [
    "Create model with 1 input layer, 2 hidden layer and 1 output layer"
   ]
  },
  {
   "cell_type": "code",
   "execution_count": 29,
   "metadata": {
    "ExecuteTime": {
     "end_time": "2024-10-24T01:12:24.548531Z",
     "start_time": "2024-10-24T01:12:24.501623Z"
    },
    "collapsed": false
   },
   "outputs": [],
   "source": [
    "model = Sequential()\n",
    "\n",
    "model.add(Input(shape=(X_train.shape[1],))) # input layer\n",
    "model.add(Dense(40,activation='relu')) # hidden layer\n",
    "model.add(Dense(20,activation='relu')) # hidden layer\n",
    "model.add(Dense(1,activation='sigmoid')) # output layer"
   ]
  },
  {
   "cell_type": "code",
   "execution_count": 30,
   "metadata": {
    "ExecuteTime": {
     "end_time": "2024-10-24T01:12:24.566297Z",
     "start_time": "2024-10-24T01:12:24.549543Z"
    },
    "collapsed": false
   },
   "outputs": [
    {
     "data": {
      "text/html": [
       "<pre style=\"white-space:pre;overflow-x:auto;line-height:normal;font-family:Menlo,'DejaVu Sans Mono',consolas,'Courier New',monospace\"><span style=\"font-weight: bold\">Model: \"sequential\"</span>\n",
       "</pre>\n"
      ],
      "text/plain": [
       "\u001b[1mModel: \"sequential\"\u001b[0m\n"
      ]
     },
     "metadata": {},
     "output_type": "display_data"
    },
    {
     "data": {
      "text/html": [
       "<pre style=\"white-space:pre;overflow-x:auto;line-height:normal;font-family:Menlo,'DejaVu Sans Mono',consolas,'Courier New',monospace\">┏━━━━━━━━━━━━━━━━━━━━━━━━━━━━━━━━━┳━━━━━━━━━━━━━━━━━━━━━━━━┳━━━━━━━━━━━━━━━┓\n",
       "┃<span style=\"font-weight: bold\"> Layer (type)                    </span>┃<span style=\"font-weight: bold\"> Output Shape           </span>┃<span style=\"font-weight: bold\">       Param # </span>┃\n",
       "┡━━━━━━━━━━━━━━━━━━━━━━━━━━━━━━━━━╇━━━━━━━━━━━━━━━━━━━━━━━━╇━━━━━━━━━━━━━━━┩\n",
       "│ dense (<span style=\"color: #0087ff; text-decoration-color: #0087ff\">Dense</span>)                   │ (<span style=\"color: #00d7ff; text-decoration-color: #00d7ff\">None</span>, <span style=\"color: #00af00; text-decoration-color: #00af00\">40</span>)             │           <span style=\"color: #00af00; text-decoration-color: #00af00\">560</span> │\n",
       "├─────────────────────────────────┼────────────────────────┼───────────────┤\n",
       "│ dense_1 (<span style=\"color: #0087ff; text-decoration-color: #0087ff\">Dense</span>)                 │ (<span style=\"color: #00d7ff; text-decoration-color: #00d7ff\">None</span>, <span style=\"color: #00af00; text-decoration-color: #00af00\">20</span>)             │           <span style=\"color: #00af00; text-decoration-color: #00af00\">820</span> │\n",
       "├─────────────────────────────────┼────────────────────────┼───────────────┤\n",
       "│ dense_2 (<span style=\"color: #0087ff; text-decoration-color: #0087ff\">Dense</span>)                 │ (<span style=\"color: #00d7ff; text-decoration-color: #00d7ff\">None</span>, <span style=\"color: #00af00; text-decoration-color: #00af00\">1</span>)              │            <span style=\"color: #00af00; text-decoration-color: #00af00\">21</span> │\n",
       "└─────────────────────────────────┴────────────────────────┴───────────────┘\n",
       "</pre>\n"
      ],
      "text/plain": [
       "┏━━━━━━━━━━━━━━━━━━━━━━━━━━━━━━━━━┳━━━━━━━━━━━━━━━━━━━━━━━━┳━━━━━━━━━━━━━━━┓\n",
       "┃\u001b[1m \u001b[0m\u001b[1mLayer (type)                   \u001b[0m\u001b[1m \u001b[0m┃\u001b[1m \u001b[0m\u001b[1mOutput Shape          \u001b[0m\u001b[1m \u001b[0m┃\u001b[1m \u001b[0m\u001b[1m      Param #\u001b[0m\u001b[1m \u001b[0m┃\n",
       "┡━━━━━━━━━━━━━━━━━━━━━━━━━━━━━━━━━╇━━━━━━━━━━━━━━━━━━━━━━━━╇━━━━━━━━━━━━━━━┩\n",
       "│ dense (\u001b[38;5;33mDense\u001b[0m)                   │ (\u001b[38;5;45mNone\u001b[0m, \u001b[38;5;34m40\u001b[0m)             │           \u001b[38;5;34m560\u001b[0m │\n",
       "├─────────────────────────────────┼────────────────────────┼───────────────┤\n",
       "│ dense_1 (\u001b[38;5;33mDense\u001b[0m)                 │ (\u001b[38;5;45mNone\u001b[0m, \u001b[38;5;34m20\u001b[0m)             │           \u001b[38;5;34m820\u001b[0m │\n",
       "├─────────────────────────────────┼────────────────────────┼───────────────┤\n",
       "│ dense_2 (\u001b[38;5;33mDense\u001b[0m)                 │ (\u001b[38;5;45mNone\u001b[0m, \u001b[38;5;34m1\u001b[0m)              │            \u001b[38;5;34m21\u001b[0m │\n",
       "└─────────────────────────────────┴────────────────────────┴───────────────┘\n"
      ]
     },
     "metadata": {},
     "output_type": "display_data"
    },
    {
     "data": {
      "text/html": [
       "<pre style=\"white-space:pre;overflow-x:auto;line-height:normal;font-family:Menlo,'DejaVu Sans Mono',consolas,'Courier New',monospace\"><span style=\"font-weight: bold\"> Total params: </span><span style=\"color: #00af00; text-decoration-color: #00af00\">1,401</span> (5.47 KB)\n",
       "</pre>\n"
      ],
      "text/plain": [
       "\u001b[1m Total params: \u001b[0m\u001b[38;5;34m1,401\u001b[0m (5.47 KB)\n"
      ]
     },
     "metadata": {},
     "output_type": "display_data"
    },
    {
     "data": {
      "text/html": [
       "<pre style=\"white-space:pre;overflow-x:auto;line-height:normal;font-family:Menlo,'DejaVu Sans Mono',consolas,'Courier New',monospace\"><span style=\"font-weight: bold\"> Trainable params: </span><span style=\"color: #00af00; text-decoration-color: #00af00\">1,401</span> (5.47 KB)\n",
       "</pre>\n"
      ],
      "text/plain": [
       "\u001b[1m Trainable params: \u001b[0m\u001b[38;5;34m1,401\u001b[0m (5.47 KB)\n"
      ]
     },
     "metadata": {},
     "output_type": "display_data"
    },
    {
     "data": {
      "text/html": [
       "<pre style=\"white-space:pre;overflow-x:auto;line-height:normal;font-family:Menlo,'DejaVu Sans Mono',consolas,'Courier New',monospace\"><span style=\"font-weight: bold\"> Non-trainable params: </span><span style=\"color: #00af00; text-decoration-color: #00af00\">0</span> (0.00 B)\n",
       "</pre>\n"
      ],
      "text/plain": [
       "\u001b[1m Non-trainable params: \u001b[0m\u001b[38;5;34m0\u001b[0m (0.00 B)\n"
      ]
     },
     "metadata": {},
     "output_type": "display_data"
    }
   ],
   "source": [
    "model.summary()"
   ]
  },
  {
   "cell_type": "code",
   "execution_count": 31,
   "metadata": {
    "ExecuteTime": {
     "end_time": "2024-10-24T01:12:24.576638Z",
     "start_time": "2024-10-24T01:12:24.568311Z"
    },
    "collapsed": false
   },
   "outputs": [],
   "source": [
    "model.compile(loss='binary_crossentropy',optimizer='Adam',metrics=['accuracy'])"
   ]
  },
  {
   "cell_type": "code",
   "execution_count": 32,
   "metadata": {
    "ExecuteTime": {
     "end_time": "2024-10-24T01:12:24.587036Z",
     "start_time": "2024-10-24T01:12:24.579362Z"
    },
    "collapsed": false
   },
   "outputs": [
    {
     "name": "stdout",
     "output_type": "stream",
     "text": [
      "<class 'numpy.ndarray'> <class 'numpy.ndarray'>\n"
     ]
    }
   ],
   "source": [
    "X_train_arr = X_train.to_numpy()\n",
    "Y_train_arr = Y_train.to_numpy()\n",
    "print(type(X_train_arr), type(Y_train_arr))"
   ]
  },
  {
   "cell_type": "code",
   "execution_count": 33,
   "metadata": {
    "ExecuteTime": {
     "end_time": "2024-10-24T01:12:24.594764Z",
     "start_time": "2024-10-24T01:12:24.588756Z"
    },
    "collapsed": false
   },
   "outputs": [
    {
     "name": "stdout",
     "output_type": "stream",
     "text": [
      "X_train shape: (8000, 13)\n",
      "Y_train shape: (8000,)\n"
     ]
    }
   ],
   "source": [
    "print(\"X_train shape:\", X_train_arr.shape)\n",
    "print(\"Y_train shape:\", Y_train_arr.shape)"
   ]
  },
  {
   "cell_type": "code",
   "execution_count": 34,
   "metadata": {
    "ExecuteTime": {
     "end_time": "2024-10-24T01:12:24.803758Z",
     "start_time": "2024-10-24T01:12:24.794928Z"
    },
    "collapsed": false
   },
   "outputs": [
    {
     "name": "stdout",
     "output_type": "stream",
     "text": [
      "X_test shape: (2000, 13)\n",
      "Y_test shape: (2000,)\n"
     ]
    }
   ],
   "source": [
    "X_test_arr = X_test.to_numpy()\n",
    "Y_test_arr = Y_test.to_numpy()\n",
    "print(\"X_test shape:\", X_test_arr.shape)\n",
    "print(\"Y_test shape:\", Y_test_arr.shape)\n"
   ]
  },
  {
   "cell_type": "code",
   "execution_count": 35,
   "metadata": {
    "ExecuteTime": {
     "end_time": "2024-10-24T01:12:24.897446Z",
     "start_time": "2024-10-24T01:12:24.885273Z"
    },
    "collapsed": false
   },
   "outputs": [],
   "source": [
    "# Convert to tensor\n",
    "X_train_tsr = tf.convert_to_tensor(X_train_arr, dtype=tf.float32)\n",
    "Y_train_tsr = tf.convert_to_tensor(Y_train_arr, dtype=tf.float32)\n",
    "X_test_tsr = tf.convert_to_tensor(X_test_arr, dtype=tf.float32)\n",
    "Y_test_tsr = tf.convert_to_tensor(Y_test_arr, dtype=tf.float32)"
   ]
  },
  {
   "cell_type": "markdown",
   "metadata": {
    "collapsed": false
   },
   "source": [
    "#### Model Training"
   ]
  },
  {
   "cell_type": "code",
   "execution_count": 36,
   "metadata": {
    "ExecuteTime": {
     "end_time": "2024-10-24T01:13:00.408569Z",
     "start_time": "2024-10-24T01:12:25.040428Z"
    },
    "collapsed": false
   },
   "outputs": [
    {
     "name": "stdout",
     "output_type": "stream",
     "text": [
      "Epoch 1/120\n"
     ]
    },
    {
     "name": "stdout",
     "output_type": "stream",
     "text": [
      "\u001b[1m160/160\u001b[0m \u001b[32m━━━━━━━━━━━━━━━━━━━━\u001b[0m\u001b[37m\u001b[0m \u001b[1m1s\u001b[0m 1ms/step - accuracy: 0.6882 - loss: 0.6167 - val_accuracy: 0.9362 - val_loss: 0.2771\n",
      "Epoch 2/120\n",
      "\u001b[1m160/160\u001b[0m \u001b[32m━━━━━━━━━━━━━━━━━━━━\u001b[0m\u001b[37m\u001b[0m \u001b[1m0s\u001b[0m 536us/step - accuracy: 0.9624 - loss: 0.1926 - val_accuracy: 0.9906 - val_loss: 0.0822\n",
      "Epoch 3/120\n",
      "\u001b[1m160/160\u001b[0m \u001b[32m━━━━━━━━━━━━━━━━━━━━\u001b[0m\u001b[37m\u001b[0m \u001b[1m0s\u001b[0m 553us/step - accuracy: 0.9949 - loss: 0.0537 - val_accuracy: 0.9950 - val_loss: 0.0392\n",
      "Epoch 4/120\n",
      "\u001b[1m160/160\u001b[0m \u001b[32m━━━━━━━━━━━━━━━━━━━━\u001b[0m\u001b[37m\u001b[0m \u001b[1m0s\u001b[0m 640us/step - accuracy: 0.9968 - loss: 0.0273 - val_accuracy: 0.9962 - val_loss: 0.0264\n",
      "Epoch 5/120\n",
      "\u001b[1m160/160\u001b[0m \u001b[32m━━━━━━━━━━━━━━━━━━━━\u001b[0m\u001b[37m\u001b[0m \u001b[1m0s\u001b[0m 617us/step - accuracy: 0.9983 - loss: 0.0167 - val_accuracy: 0.9969 - val_loss: 0.0215\n",
      "Epoch 6/120\n",
      "\u001b[1m160/160\u001b[0m \u001b[32m━━━━━━━━━━━━━━━━━━━━\u001b[0m\u001b[37m\u001b[0m \u001b[1m0s\u001b[0m 570us/step - accuracy: 0.9993 - loss: 0.0085 - val_accuracy: 0.9975 - val_loss: 0.0154\n",
      "Epoch 7/120\n",
      "\u001b[1m160/160\u001b[0m \u001b[32m━━━━━━━━━━━━━━━━━━━━\u001b[0m\u001b[37m\u001b[0m \u001b[1m0s\u001b[0m 552us/step - accuracy: 0.9992 - loss: 0.0068 - val_accuracy: 0.9969 - val_loss: 0.0169\n",
      "Epoch 8/120\n",
      "\u001b[1m160/160\u001b[0m \u001b[32m━━━━━━━━━━━━━━━━━━━━\u001b[0m\u001b[37m\u001b[0m \u001b[1m0s\u001b[0m 531us/step - accuracy: 0.9997 - loss: 0.0043 - val_accuracy: 0.9969 - val_loss: 0.0158\n",
      "Epoch 9/120\n",
      "\u001b[1m160/160\u001b[0m \u001b[32m━━━━━━━━━━━━━━━━━━━━\u001b[0m\u001b[37m\u001b[0m \u001b[1m0s\u001b[0m 538us/step - accuracy: 0.9991 - loss: 0.0045 - val_accuracy: 0.9969 - val_loss: 0.0126\n",
      "Epoch 10/120\n",
      "\u001b[1m160/160\u001b[0m \u001b[32m━━━━━━━━━━━━━━━━━━━━\u001b[0m\u001b[37m\u001b[0m \u001b[1m0s\u001b[0m 586us/step - accuracy: 0.9998 - loss: 0.0029 - val_accuracy: 0.9975 - val_loss: 0.0123\n",
      "Epoch 11/120\n",
      "\u001b[1m160/160\u001b[0m \u001b[32m━━━━━━━━━━━━━━━━━━━━\u001b[0m\u001b[37m\u001b[0m \u001b[1m0s\u001b[0m 556us/step - accuracy: 0.9999 - loss: 0.0019 - val_accuracy: 0.9975 - val_loss: 0.0096\n",
      "Epoch 12/120\n",
      "\u001b[1m160/160\u001b[0m \u001b[32m━━━━━━━━━━━━━━━━━━━━\u001b[0m\u001b[37m\u001b[0m \u001b[1m0s\u001b[0m 655us/step - accuracy: 0.9997 - loss: 0.0021 - val_accuracy: 0.9969 - val_loss: 0.0103\n",
      "Epoch 13/120\n",
      "\u001b[1m160/160\u001b[0m \u001b[32m━━━━━━━━━━━━━━━━━━━━\u001b[0m\u001b[37m\u001b[0m \u001b[1m0s\u001b[0m 584us/step - accuracy: 0.9999 - loss: 0.0014 - val_accuracy: 0.9969 - val_loss: 0.0084\n",
      "Epoch 14/120\n",
      "\u001b[1m160/160\u001b[0m \u001b[32m━━━━━━━━━━━━━━━━━━━━\u001b[0m\u001b[37m\u001b[0m \u001b[1m0s\u001b[0m 604us/step - accuracy: 1.0000 - loss: 9.1926e-04 - val_accuracy: 0.9969 - val_loss: 0.0068\n",
      "Epoch 15/120\n",
      "\u001b[1m160/160\u001b[0m \u001b[32m━━━━━━━━━━━━━━━━━━━━\u001b[0m\u001b[37m\u001b[0m \u001b[1m0s\u001b[0m 584us/step - accuracy: 0.9999 - loss: 0.0016 - val_accuracy: 0.9969 - val_loss: 0.0067\n",
      "Epoch 16/120\n",
      "\u001b[1m160/160\u001b[0m \u001b[32m━━━━━━━━━━━━━━━━━━━━\u001b[0m\u001b[37m\u001b[0m \u001b[1m0s\u001b[0m 630us/step - accuracy: 0.9998 - loss: 0.0010 - val_accuracy: 0.9969 - val_loss: 0.0061\n",
      "Epoch 17/120\n",
      "\u001b[1m160/160\u001b[0m \u001b[32m━━━━━━━━━━━━━━━━━━━━\u001b[0m\u001b[37m\u001b[0m \u001b[1m0s\u001b[0m 692us/step - accuracy: 0.9999 - loss: 7.8974e-04 - val_accuracy: 0.9975 - val_loss: 0.0036\n",
      "Epoch 18/120\n",
      "\u001b[1m160/160\u001b[0m \u001b[32m━━━━━━━━━━━━━━━━━━━━\u001b[0m\u001b[37m\u001b[0m \u001b[1m0s\u001b[0m 718us/step - accuracy: 1.0000 - loss: 6.9906e-04 - val_accuracy: 0.9969 - val_loss: 0.0048\n",
      "Epoch 19/120\n",
      "\u001b[1m160/160\u001b[0m \u001b[32m━━━━━━━━━━━━━━━━━━━━\u001b[0m\u001b[37m\u001b[0m \u001b[1m0s\u001b[0m 812us/step - accuracy: 0.9998 - loss: 7.1795e-04 - val_accuracy: 0.9975 - val_loss: 0.0034\n",
      "Epoch 20/120\n",
      "\u001b[1m160/160\u001b[0m \u001b[32m━━━━━━━━━━━━━━━━━━━━\u001b[0m\u001b[37m\u001b[0m \u001b[1m0s\u001b[0m 964us/step - accuracy: 0.9999 - loss: 4.1767e-04 - val_accuracy: 0.9975 - val_loss: 0.0031\n",
      "Epoch 21/120\n",
      "\u001b[1m160/160\u001b[0m \u001b[32m━━━━━━━━━━━━━━━━━━━━\u001b[0m\u001b[37m\u001b[0m \u001b[1m0s\u001b[0m 611us/step - accuracy: 0.9999 - loss: 3.2358e-04 - val_accuracy: 0.9981 - val_loss: 0.0026\n",
      "Epoch 22/120\n",
      "\u001b[1m160/160\u001b[0m \u001b[32m━━━━━━━━━━━━━━━━━━━━\u001b[0m\u001b[37m\u001b[0m \u001b[1m0s\u001b[0m 595us/step - accuracy: 1.0000 - loss: 2.5797e-04 - val_accuracy: 0.9987 - val_loss: 0.0032\n",
      "Epoch 23/120\n",
      "\u001b[1m160/160\u001b[0m \u001b[32m━━━━━━━━━━━━━━━━━━━━\u001b[0m\u001b[37m\u001b[0m \u001b[1m0s\u001b[0m 734us/step - accuracy: 1.0000 - loss: 3.4084e-04 - val_accuracy: 0.9987 - val_loss: 0.0023\n",
      "Epoch 24/120\n",
      "\u001b[1m160/160\u001b[0m \u001b[32m━━━━━━━━━━━━━━━━━━━━\u001b[0m\u001b[37m\u001b[0m \u001b[1m0s\u001b[0m 618us/step - accuracy: 1.0000 - loss: 2.2622e-04 - val_accuracy: 1.0000 - val_loss: 0.0019\n",
      "Epoch 25/120\n",
      "\u001b[1m160/160\u001b[0m \u001b[32m━━━━━━━━━━━━━━━━━━━━\u001b[0m\u001b[37m\u001b[0m \u001b[1m0s\u001b[0m 687us/step - accuracy: 1.0000 - loss: 1.9290e-04 - val_accuracy: 1.0000 - val_loss: 0.0016\n",
      "Epoch 26/120\n",
      "\u001b[1m160/160\u001b[0m \u001b[32m━━━━━━━━━━━━━━━━━━━━\u001b[0m\u001b[37m\u001b[0m \u001b[1m0s\u001b[0m 600us/step - accuracy: 1.0000 - loss: 2.5508e-04 - val_accuracy: 0.9994 - val_loss: 0.0019\n",
      "Epoch 27/120\n",
      "\u001b[1m160/160\u001b[0m \u001b[32m━━━━━━━━━━━━━━━━━━━━\u001b[0m\u001b[37m\u001b[0m \u001b[1m0s\u001b[0m 639us/step - accuracy: 1.0000 - loss: 1.2543e-04 - val_accuracy: 0.9987 - val_loss: 0.0018\n",
      "Epoch 28/120\n",
      "\u001b[1m160/160\u001b[0m \u001b[32m━━━━━━━━━━━━━━━━━━━━\u001b[0m\u001b[37m\u001b[0m \u001b[1m0s\u001b[0m 596us/step - accuracy: 1.0000 - loss: 1.5477e-04 - val_accuracy: 0.9994 - val_loss: 0.0013\n",
      "Epoch 29/120\n",
      "\u001b[1m160/160\u001b[0m \u001b[32m━━━━━━━━━━━━━━━━━━━━\u001b[0m\u001b[37m\u001b[0m \u001b[1m0s\u001b[0m 559us/step - accuracy: 1.0000 - loss: 9.9076e-05 - val_accuracy: 1.0000 - val_loss: 0.0010\n",
      "Epoch 30/120\n",
      "\u001b[1m160/160\u001b[0m \u001b[32m━━━━━━━━━━━━━━━━━━━━\u001b[0m\u001b[37m\u001b[0m \u001b[1m0s\u001b[0m 605us/step - accuracy: 1.0000 - loss: 9.9198e-05 - val_accuracy: 1.0000 - val_loss: 0.0012\n",
      "Epoch 31/120\n",
      "\u001b[1m160/160\u001b[0m \u001b[32m━━━━━━━━━━━━━━━━━━━━\u001b[0m\u001b[37m\u001b[0m \u001b[1m0s\u001b[0m 1ms/step - accuracy: 1.0000 - loss: 1.9977e-04 - val_accuracy: 0.9994 - val_loss: 0.0012\n",
      "Epoch 32/120\n",
      "\u001b[1m160/160\u001b[0m \u001b[32m━━━━━━━━━━━━━━━━━━━━\u001b[0m\u001b[37m\u001b[0m \u001b[1m0s\u001b[0m 585us/step - accuracy: 1.0000 - loss: 6.8451e-05 - val_accuracy: 0.9987 - val_loss: 0.0016\n",
      "Epoch 33/120\n",
      "\u001b[1m160/160\u001b[0m \u001b[32m━━━━━━━━━━━━━━━━━━━━\u001b[0m\u001b[37m\u001b[0m \u001b[1m0s\u001b[0m 591us/step - accuracy: 1.0000 - loss: 6.2484e-05 - val_accuracy: 1.0000 - val_loss: 8.7049e-04\n",
      "Epoch 34/120\n",
      "\u001b[1m160/160\u001b[0m \u001b[32m━━━━━━━━━━━━━━━━━━━━\u001b[0m\u001b[37m\u001b[0m \u001b[1m0s\u001b[0m 603us/step - accuracy: 1.0000 - loss: 5.3739e-05 - val_accuracy: 0.9987 - val_loss: 0.0021\n",
      "Epoch 35/120\n",
      "\u001b[1m160/160\u001b[0m \u001b[32m━━━━━━━━━━━━━━━━━━━━\u001b[0m\u001b[37m\u001b[0m \u001b[1m0s\u001b[0m 619us/step - accuracy: 1.0000 - loss: 7.6897e-05 - val_accuracy: 0.9987 - val_loss: 0.0016\n",
      "Epoch 36/120\n",
      "\u001b[1m160/160\u001b[0m \u001b[32m━━━━━━━━━━━━━━━━━━━━\u001b[0m\u001b[37m\u001b[0m \u001b[1m0s\u001b[0m 580us/step - accuracy: 1.0000 - loss: 6.7450e-05 - val_accuracy: 0.9987 - val_loss: 0.0019\n",
      "Epoch 37/120\n",
      "\u001b[1m160/160\u001b[0m \u001b[32m━━━━━━━━━━━━━━━━━━━━\u001b[0m\u001b[37m\u001b[0m \u001b[1m0s\u001b[0m 597us/step - accuracy: 1.0000 - loss: 6.2724e-05 - val_accuracy: 0.9994 - val_loss: 8.9694e-04\n",
      "Epoch 38/120\n",
      "\u001b[1m160/160\u001b[0m \u001b[32m━━━━━━━━━━━━━━━━━━━━\u001b[0m\u001b[37m\u001b[0m \u001b[1m0s\u001b[0m 576us/step - accuracy: 1.0000 - loss: 5.3879e-05 - val_accuracy: 1.0000 - val_loss: 3.1162e-04\n",
      "Epoch 39/120\n",
      "\u001b[1m160/160\u001b[0m \u001b[32m━━━━━━━━━━━━━━━━━━━━\u001b[0m\u001b[37m\u001b[0m \u001b[1m0s\u001b[0m 542us/step - accuracy: 1.0000 - loss: 3.3847e-05 - val_accuracy: 0.9994 - val_loss: 0.0012\n",
      "Epoch 40/120\n",
      "\u001b[1m160/160\u001b[0m \u001b[32m━━━━━━━━━━━━━━━━━━━━\u001b[0m\u001b[37m\u001b[0m \u001b[1m0s\u001b[0m 552us/step - accuracy: 1.0000 - loss: 3.4512e-05 - val_accuracy: 1.0000 - val_loss: 4.4303e-04\n",
      "Epoch 41/120\n",
      "\u001b[1m160/160\u001b[0m \u001b[32m━━━━━━━━━━━━━━━━━━━━\u001b[0m\u001b[37m\u001b[0m \u001b[1m0s\u001b[0m 593us/step - accuracy: 1.0000 - loss: 2.5321e-05 - val_accuracy: 0.9994 - val_loss: 7.5751e-04\n",
      "Epoch 42/120\n",
      "\u001b[1m160/160\u001b[0m \u001b[32m━━━━━━━━━━━━━━━━━━━━\u001b[0m\u001b[37m\u001b[0m \u001b[1m0s\u001b[0m 568us/step - accuracy: 1.0000 - loss: 4.0496e-05 - val_accuracy: 1.0000 - val_loss: 4.5235e-04\n",
      "Epoch 43/120\n",
      "\u001b[1m160/160\u001b[0m \u001b[32m━━━━━━━━━━━━━━━━━━━━\u001b[0m\u001b[37m\u001b[0m \u001b[1m0s\u001b[0m 573us/step - accuracy: 1.0000 - loss: 2.8271e-05 - val_accuracy: 1.0000 - val_loss: 3.4177e-04\n",
      "Epoch 44/120\n",
      "\u001b[1m160/160\u001b[0m \u001b[32m━━━━━━━━━━━━━━━━━━━━\u001b[0m\u001b[37m\u001b[0m \u001b[1m0s\u001b[0m 585us/step - accuracy: 1.0000 - loss: 2.6328e-05 - val_accuracy: 1.0000 - val_loss: 3.2522e-04\n",
      "Epoch 45/120\n",
      "\u001b[1m160/160\u001b[0m \u001b[32m━━━━━━━━━━━━━━━━━━━━\u001b[0m\u001b[37m\u001b[0m \u001b[1m0s\u001b[0m 601us/step - accuracy: 1.0000 - loss: 2.2308e-05 - val_accuracy: 1.0000 - val_loss: 3.1598e-04\n",
      "Epoch 46/120\n",
      "\u001b[1m160/160\u001b[0m \u001b[32m━━━━━━━━━━━━━━━━━━━━\u001b[0m\u001b[37m\u001b[0m \u001b[1m0s\u001b[0m 591us/step - accuracy: 1.0000 - loss: 1.7912e-05 - val_accuracy: 1.0000 - val_loss: 3.8029e-04\n",
      "Epoch 47/120\n",
      "\u001b[1m160/160\u001b[0m \u001b[32m━━━━━━━━━━━━━━━━━━━━\u001b[0m\u001b[37m\u001b[0m \u001b[1m0s\u001b[0m 585us/step - accuracy: 1.0000 - loss: 2.4930e-05 - val_accuracy: 1.0000 - val_loss: 3.2119e-04\n",
      "Epoch 48/120\n",
      "\u001b[1m160/160\u001b[0m \u001b[32m━━━━━━━━━━━━━━━━━━━━\u001b[0m\u001b[37m\u001b[0m \u001b[1m0s\u001b[0m 575us/step - accuracy: 1.0000 - loss: 1.3977e-05 - val_accuracy: 1.0000 - val_loss: 3.7296e-04\n",
      "Epoch 49/120\n",
      "\u001b[1m160/160\u001b[0m \u001b[32m━━━━━━━━━━━━━━━━━━━━\u001b[0m\u001b[37m\u001b[0m \u001b[1m0s\u001b[0m 567us/step - accuracy: 1.0000 - loss: 1.2923e-05 - val_accuracy: 0.9994 - val_loss: 0.0016\n",
      "Epoch 50/120\n",
      "\u001b[1m160/160\u001b[0m \u001b[32m━━━━━━━━━━━━━━━━━━━━\u001b[0m\u001b[37m\u001b[0m \u001b[1m0s\u001b[0m 561us/step - accuracy: 1.0000 - loss: 1.7022e-05 - val_accuracy: 1.0000 - val_loss: 2.8881e-04\n",
      "Epoch 51/120\n",
      "\u001b[1m160/160\u001b[0m \u001b[32m━━━━━━━━━━━━━━━━━━━━\u001b[0m\u001b[37m\u001b[0m \u001b[1m0s\u001b[0m 573us/step - accuracy: 1.0000 - loss: 1.0035e-05 - val_accuracy: 1.0000 - val_loss: 2.0566e-04\n",
      "Epoch 52/120\n",
      "\u001b[1m160/160\u001b[0m \u001b[32m━━━━━━━━━━━━━━━━━━━━\u001b[0m\u001b[37m\u001b[0m \u001b[1m0s\u001b[0m 607us/step - accuracy: 1.0000 - loss: 1.7350e-05 - val_accuracy: 1.0000 - val_loss: 2.3097e-04\n",
      "Epoch 53/120\n",
      "\u001b[1m160/160\u001b[0m \u001b[32m━━━━━━━━━━━━━━━━━━━━\u001b[0m\u001b[37m\u001b[0m \u001b[1m0s\u001b[0m 572us/step - accuracy: 1.0000 - loss: 9.1278e-06 - val_accuracy: 1.0000 - val_loss: 1.7797e-04\n",
      "Epoch 54/120\n",
      "\u001b[1m160/160\u001b[0m \u001b[32m━━━━━━━━━━━━━━━━━━━━\u001b[0m\u001b[37m\u001b[0m \u001b[1m0s\u001b[0m 641us/step - accuracy: 1.0000 - loss: 7.0228e-06 - val_accuracy: 0.9994 - val_loss: 9.6160e-04\n",
      "Epoch 55/120\n",
      "\u001b[1m160/160\u001b[0m \u001b[32m━━━━━━━━━━━━━━━━━━━━\u001b[0m\u001b[37m\u001b[0m \u001b[1m0s\u001b[0m 552us/step - accuracy: 1.0000 - loss: 1.1469e-05 - val_accuracy: 1.0000 - val_loss: 1.5024e-04\n",
      "Epoch 56/120\n",
      "\u001b[1m160/160\u001b[0m \u001b[32m━━━━━━━━━━━━━━━━━━━━\u001b[0m\u001b[37m\u001b[0m \u001b[1m0s\u001b[0m 535us/step - accuracy: 1.0000 - loss: 8.0158e-06 - val_accuracy: 1.0000 - val_loss: 2.1759e-04\n",
      "Epoch 57/120\n",
      "\u001b[1m160/160\u001b[0m \u001b[32m━━━━━━━━━━━━━━━━━━━━\u001b[0m\u001b[37m\u001b[0m \u001b[1m0s\u001b[0m 534us/step - accuracy: 1.0000 - loss: 5.1845e-06 - val_accuracy: 1.0000 - val_loss: 4.4399e-04\n",
      "Epoch 58/120\n",
      "\u001b[1m160/160\u001b[0m \u001b[32m━━━━━━━━━━━━━━━━━━━━\u001b[0m\u001b[37m\u001b[0m \u001b[1m0s\u001b[0m 532us/step - accuracy: 1.0000 - loss: 5.3012e-06 - val_accuracy: 1.0000 - val_loss: 2.1747e-04\n",
      "Epoch 59/120\n",
      "\u001b[1m160/160\u001b[0m \u001b[32m━━━━━━━━━━━━━━━━━━━━\u001b[0m\u001b[37m\u001b[0m \u001b[1m0s\u001b[0m 528us/step - accuracy: 1.0000 - loss: 7.2457e-06 - val_accuracy: 1.0000 - val_loss: 1.8200e-04\n",
      "Epoch 60/120\n",
      "\u001b[1m160/160\u001b[0m \u001b[32m━━━━━━━━━━━━━━━━━━━━\u001b[0m\u001b[37m\u001b[0m \u001b[1m0s\u001b[0m 538us/step - accuracy: 1.0000 - loss: 5.0880e-06 - val_accuracy: 1.0000 - val_loss: 1.1115e-04\n",
      "Epoch 61/120\n",
      "\u001b[1m160/160\u001b[0m \u001b[32m━━━━━━━━━━━━━━━━━━━━\u001b[0m\u001b[37m\u001b[0m \u001b[1m0s\u001b[0m 538us/step - accuracy: 1.0000 - loss: 5.1049e-06 - val_accuracy: 1.0000 - val_loss: 1.4580e-04\n",
      "Epoch 62/120\n",
      "\u001b[1m160/160\u001b[0m \u001b[32m━━━━━━━━━━━━━━━━━━━━\u001b[0m\u001b[37m\u001b[0m \u001b[1m0s\u001b[0m 551us/step - accuracy: 1.0000 - loss: 3.4038e-06 - val_accuracy: 1.0000 - val_loss: 1.2931e-04\n",
      "Epoch 63/120\n",
      "\u001b[1m160/160\u001b[0m \u001b[32m━━━━━━━━━━━━━━━━━━━━\u001b[0m\u001b[37m\u001b[0m \u001b[1m0s\u001b[0m 552us/step - accuracy: 1.0000 - loss: 2.8810e-06 - val_accuracy: 1.0000 - val_loss: 1.1736e-04\n",
      "Epoch 64/120\n",
      "\u001b[1m160/160\u001b[0m \u001b[32m━━━━━━━━━━━━━━━━━━━━\u001b[0m\u001b[37m\u001b[0m \u001b[1m0s\u001b[0m 584us/step - accuracy: 1.0000 - loss: 3.7681e-06 - val_accuracy: 1.0000 - val_loss: 1.2868e-04\n",
      "Epoch 65/120\n",
      "\u001b[1m160/160\u001b[0m \u001b[32m━━━━━━━━━━━━━━━━━━━━\u001b[0m\u001b[37m\u001b[0m \u001b[1m0s\u001b[0m 555us/step - accuracy: 1.0000 - loss: 4.1119e-06 - val_accuracy: 1.0000 - val_loss: 8.0392e-05\n",
      "Epoch 66/120\n",
      "\u001b[1m160/160\u001b[0m \u001b[32m━━━━━━━━━━━━━━━━━━━━\u001b[0m\u001b[37m\u001b[0m \u001b[1m0s\u001b[0m 560us/step - accuracy: 1.0000 - loss: 3.4887e-06 - val_accuracy: 1.0000 - val_loss: 1.5835e-04\n",
      "Epoch 67/120\n",
      "\u001b[1m160/160\u001b[0m \u001b[32m━━━━━━━━━━━━━━━━━━━━\u001b[0m\u001b[37m\u001b[0m \u001b[1m0s\u001b[0m 539us/step - accuracy: 1.0000 - loss: 1.6457e-05 - val_accuracy: 0.9975 - val_loss: 0.0136\n",
      "Epoch 68/120\n",
      "\u001b[1m160/160\u001b[0m \u001b[32m━━━━━━━━━━━━━━━━━━━━\u001b[0m\u001b[37m\u001b[0m \u001b[1m0s\u001b[0m 538us/step - accuracy: 0.9998 - loss: 6.6928e-04 - val_accuracy: 0.9969 - val_loss: 0.0069\n",
      "Epoch 69/120\n",
      "\u001b[1m160/160\u001b[0m \u001b[32m━━━━━━━━━━━━━━━━━━━━\u001b[0m\u001b[37m\u001b[0m \u001b[1m0s\u001b[0m 534us/step - accuracy: 0.9996 - loss: 0.0019 - val_accuracy: 0.9981 - val_loss: 0.0021\n",
      "Epoch 70/120\n",
      "\u001b[1m160/160\u001b[0m \u001b[32m━━━━━━━━━━━━━━━━━━━━\u001b[0m\u001b[37m\u001b[0m \u001b[1m0s\u001b[0m 537us/step - accuracy: 1.0000 - loss: 2.1200e-05 - val_accuracy: 1.0000 - val_loss: 3.4262e-04\n",
      "Epoch 71/120\n",
      "\u001b[1m160/160\u001b[0m \u001b[32m━━━━━━━━━━━━━━━━━━━━\u001b[0m\u001b[37m\u001b[0m \u001b[1m0s\u001b[0m 535us/step - accuracy: 1.0000 - loss: 6.3452e-05 - val_accuracy: 1.0000 - val_loss: 2.0913e-04\n",
      "Epoch 72/120\n",
      "\u001b[1m160/160\u001b[0m \u001b[32m━━━━━━━━━━━━━━━━━━━━\u001b[0m\u001b[37m\u001b[0m \u001b[1m0s\u001b[0m 535us/step - accuracy: 1.0000 - loss: 2.3306e-05 - val_accuracy: 1.0000 - val_loss: 1.9827e-04\n",
      "Epoch 73/120\n",
      "\u001b[1m160/160\u001b[0m \u001b[32m━━━━━━━━━━━━━━━━━━━━\u001b[0m\u001b[37m\u001b[0m \u001b[1m0s\u001b[0m 534us/step - accuracy: 1.0000 - loss: 2.4966e-05 - val_accuracy: 1.0000 - val_loss: 1.8147e-04\n",
      "Epoch 74/120\n",
      "\u001b[1m160/160\u001b[0m \u001b[32m━━━━━━━━━━━━━━━━━━━━\u001b[0m\u001b[37m\u001b[0m \u001b[1m0s\u001b[0m 533us/step - accuracy: 1.0000 - loss: 8.5111e-06 - val_accuracy: 1.0000 - val_loss: 1.8909e-04\n",
      "Epoch 75/120\n",
      "\u001b[1m160/160\u001b[0m \u001b[32m━━━━━━━━━━━━━━━━━━━━\u001b[0m\u001b[37m\u001b[0m \u001b[1m0s\u001b[0m 535us/step - accuracy: 1.0000 - loss: 8.9466e-06 - val_accuracy: 1.0000 - val_loss: 1.7621e-04\n",
      "Epoch 76/120\n",
      "\u001b[1m160/160\u001b[0m \u001b[32m━━━━━━━━━━━━━━━━━━━━\u001b[0m\u001b[37m\u001b[0m \u001b[1m0s\u001b[0m 545us/step - accuracy: 1.0000 - loss: 1.2534e-05 - val_accuracy: 1.0000 - val_loss: 1.5511e-04\n",
      "Epoch 77/120\n",
      "\u001b[1m160/160\u001b[0m \u001b[32m━━━━━━━━━━━━━━━━━━━━\u001b[0m\u001b[37m\u001b[0m \u001b[1m0s\u001b[0m 544us/step - accuracy: 1.0000 - loss: 6.9079e-06 - val_accuracy: 1.0000 - val_loss: 1.5340e-04\n",
      "Epoch 78/120\n",
      "\u001b[1m160/160\u001b[0m \u001b[32m━━━━━━━━━━━━━━━━━━━━\u001b[0m\u001b[37m\u001b[0m \u001b[1m0s\u001b[0m 534us/step - accuracy: 1.0000 - loss: 4.8811e-06 - val_accuracy: 1.0000 - val_loss: 1.5319e-04\n",
      "Epoch 79/120\n",
      "\u001b[1m160/160\u001b[0m \u001b[32m━━━━━━━━━━━━━━━━━━━━\u001b[0m\u001b[37m\u001b[0m \u001b[1m0s\u001b[0m 574us/step - accuracy: 1.0000 - loss: 5.7647e-06 - val_accuracy: 1.0000 - val_loss: 1.3344e-04\n",
      "Epoch 80/120\n",
      "\u001b[1m160/160\u001b[0m \u001b[32m━━━━━━━━━━━━━━━━━━━━\u001b[0m\u001b[37m\u001b[0m \u001b[1m0s\u001b[0m 554us/step - accuracy: 1.0000 - loss: 3.8462e-06 - val_accuracy: 1.0000 - val_loss: 1.3415e-04\n",
      "Epoch 81/120\n",
      "\u001b[1m160/160\u001b[0m \u001b[32m━━━━━━━━━━━━━━━━━━━━\u001b[0m\u001b[37m\u001b[0m \u001b[1m0s\u001b[0m 572us/step - accuracy: 1.0000 - loss: 8.6456e-06 - val_accuracy: 1.0000 - val_loss: 1.1397e-04\n",
      "Epoch 82/120\n",
      "\u001b[1m160/160\u001b[0m \u001b[32m━━━━━━━━━━━━━━━━━━━━\u001b[0m\u001b[37m\u001b[0m \u001b[1m0s\u001b[0m 555us/step - accuracy: 1.0000 - loss: 4.0335e-06 - val_accuracy: 1.0000 - val_loss: 1.1422e-04\n",
      "Epoch 83/120\n",
      "\u001b[1m160/160\u001b[0m \u001b[32m━━━━━━━━━━━━━━━━━━━━\u001b[0m\u001b[37m\u001b[0m \u001b[1m0s\u001b[0m 531us/step - accuracy: 1.0000 - loss: 5.0766e-06 - val_accuracy: 1.0000 - val_loss: 1.0354e-04\n",
      "Epoch 84/120\n",
      "\u001b[1m160/160\u001b[0m \u001b[32m━━━━━━━━━━━━━━━━━━━━\u001b[0m\u001b[37m\u001b[0m \u001b[1m0s\u001b[0m 525us/step - accuracy: 1.0000 - loss: 3.7674e-06 - val_accuracy: 1.0000 - val_loss: 1.0275e-04\n",
      "Epoch 85/120\n",
      "\u001b[1m160/160\u001b[0m \u001b[32m━━━━━━━━━━━━━━━━━━━━\u001b[0m\u001b[37m\u001b[0m \u001b[1m0s\u001b[0m 532us/step - accuracy: 1.0000 - loss: 4.3114e-06 - val_accuracy: 1.0000 - val_loss: 9.2183e-05\n",
      "Epoch 86/120\n",
      "\u001b[1m160/160\u001b[0m \u001b[32m━━━━━━━━━━━━━━━━━━━━\u001b[0m\u001b[37m\u001b[0m \u001b[1m0s\u001b[0m 546us/step - accuracy: 1.0000 - loss: 5.3975e-06 - val_accuracy: 1.0000 - val_loss: 8.6087e-05\n",
      "Epoch 87/120\n",
      "\u001b[1m160/160\u001b[0m \u001b[32m━━━━━━━━━━━━━━━━━━━━\u001b[0m\u001b[37m\u001b[0m \u001b[1m0s\u001b[0m 574us/step - accuracy: 1.0000 - loss: 3.5874e-06 - val_accuracy: 1.0000 - val_loss: 8.3399e-05\n",
      "Epoch 88/120\n",
      "\u001b[1m160/160\u001b[0m \u001b[32m━━━━━━━━━━━━━━━━━━━━\u001b[0m\u001b[37m\u001b[0m \u001b[1m0s\u001b[0m 787us/step - accuracy: 1.0000 - loss: 2.6540e-06 - val_accuracy: 1.0000 - val_loss: 7.9998e-05\n",
      "Epoch 89/120\n",
      "\u001b[1m160/160\u001b[0m \u001b[32m━━━━━━━━━━━━━━━━━━━━\u001b[0m\u001b[37m\u001b[0m \u001b[1m0s\u001b[0m 600us/step - accuracy: 1.0000 - loss: 2.2100e-06 - val_accuracy: 1.0000 - val_loss: 8.4263e-05\n",
      "Epoch 90/120\n",
      "\u001b[1m160/160\u001b[0m \u001b[32m━━━━━━━━━━━━━━━━━━━━\u001b[0m\u001b[37m\u001b[0m \u001b[1m0s\u001b[0m 595us/step - accuracy: 1.0000 - loss: 1.5669e-06 - val_accuracy: 1.0000 - val_loss: 7.6904e-05\n",
      "Epoch 91/120\n",
      "\u001b[1m160/160\u001b[0m \u001b[32m━━━━━━━━━━━━━━━━━━━━\u001b[0m\u001b[37m\u001b[0m \u001b[1m0s\u001b[0m 590us/step - accuracy: 1.0000 - loss: 1.5791e-06 - val_accuracy: 1.0000 - val_loss: 7.6464e-05\n",
      "Epoch 92/120\n",
      "\u001b[1m160/160\u001b[0m \u001b[32m━━━━━━━━━━━━━━━━━━━━\u001b[0m\u001b[37m\u001b[0m \u001b[1m0s\u001b[0m 570us/step - accuracy: 1.0000 - loss: 1.9235e-06 - val_accuracy: 1.0000 - val_loss: 6.8670e-05\n",
      "Epoch 93/120\n",
      "\u001b[1m160/160\u001b[0m \u001b[32m━━━━━━━━━━━━━━━━━━━━\u001b[0m\u001b[37m\u001b[0m \u001b[1m0s\u001b[0m 558us/step - accuracy: 1.0000 - loss: 2.4826e-06 - val_accuracy: 1.0000 - val_loss: 6.3906e-05\n",
      "Epoch 94/120\n",
      "\u001b[1m160/160\u001b[0m \u001b[32m━━━━━━━━━━━━━━━━━━━━\u001b[0m\u001b[37m\u001b[0m \u001b[1m0s\u001b[0m 581us/step - accuracy: 1.0000 - loss: 1.8691e-06 - val_accuracy: 1.0000 - val_loss: 5.9133e-05\n",
      "Epoch 95/120\n",
      "\u001b[1m160/160\u001b[0m \u001b[32m━━━━━━━━━━━━━━━━━━━━\u001b[0m\u001b[37m\u001b[0m \u001b[1m0s\u001b[0m 573us/step - accuracy: 1.0000 - loss: 1.9835e-06 - val_accuracy: 1.0000 - val_loss: 5.6781e-05\n",
      "Epoch 96/120\n",
      "\u001b[1m160/160\u001b[0m \u001b[32m━━━━━━━━━━━━━━━━━━━━\u001b[0m\u001b[37m\u001b[0m \u001b[1m0s\u001b[0m 542us/step - accuracy: 1.0000 - loss: 1.2555e-06 - val_accuracy: 1.0000 - val_loss: 5.9445e-05\n",
      "Epoch 97/120\n",
      "\u001b[1m160/160\u001b[0m \u001b[32m━━━━━━━━━━━━━━━━━━━━\u001b[0m\u001b[37m\u001b[0m \u001b[1m0s\u001b[0m 537us/step - accuracy: 1.0000 - loss: 2.1177e-06 - val_accuracy: 1.0000 - val_loss: 5.1052e-05\n",
      "Epoch 98/120\n",
      "\u001b[1m160/160\u001b[0m \u001b[32m━━━━━━━━━━━━━━━━━━━━\u001b[0m\u001b[37m\u001b[0m \u001b[1m0s\u001b[0m 534us/step - accuracy: 1.0000 - loss: 1.3869e-06 - val_accuracy: 1.0000 - val_loss: 4.7506e-05\n",
      "Epoch 99/120\n",
      "\u001b[1m160/160\u001b[0m \u001b[32m━━━━━━━━━━━━━━━━━━━━\u001b[0m\u001b[37m\u001b[0m \u001b[1m0s\u001b[0m 541us/step - accuracy: 1.0000 - loss: 1.0055e-06 - val_accuracy: 1.0000 - val_loss: 4.9590e-05\n",
      "Epoch 100/120\n",
      "\u001b[1m160/160\u001b[0m \u001b[32m━━━━━━━━━━━━━━━━━━━━\u001b[0m\u001b[37m\u001b[0m \u001b[1m0s\u001b[0m 533us/step - accuracy: 1.0000 - loss: 1.2515e-06 - val_accuracy: 1.0000 - val_loss: 4.7539e-05\n",
      "Epoch 101/120\n",
      "\u001b[1m160/160\u001b[0m \u001b[32m━━━━━━━━━━━━━━━━━━━━\u001b[0m\u001b[37m\u001b[0m \u001b[1m0s\u001b[0m 538us/step - accuracy: 1.0000 - loss: 9.5185e-07 - val_accuracy: 1.0000 - val_loss: 4.7102e-05\n",
      "Epoch 102/120\n",
      "\u001b[1m160/160\u001b[0m \u001b[32m━━━━━━━━━━━━━━━━━━━━\u001b[0m\u001b[37m\u001b[0m \u001b[1m0s\u001b[0m 540us/step - accuracy: 1.0000 - loss: 2.1147e-06 - val_accuracy: 1.0000 - val_loss: 3.9148e-05\n",
      "Epoch 103/120\n",
      "\u001b[1m160/160\u001b[0m \u001b[32m━━━━━━━━━━━━━━━━━━━━\u001b[0m\u001b[37m\u001b[0m \u001b[1m0s\u001b[0m 537us/step - accuracy: 1.0000 - loss: 1.8554e-06 - val_accuracy: 1.0000 - val_loss: 3.6220e-05\n",
      "Epoch 104/120\n",
      "\u001b[1m160/160\u001b[0m \u001b[32m━━━━━━━━━━━━━━━━━━━━\u001b[0m\u001b[37m\u001b[0m \u001b[1m0s\u001b[0m 536us/step - accuracy: 1.0000 - loss: 9.7823e-07 - val_accuracy: 1.0000 - val_loss: 4.0735e-05\n",
      "Epoch 105/120\n",
      "\u001b[1m160/160\u001b[0m \u001b[32m━━━━━━━━━━━━━━━━━━━━\u001b[0m\u001b[37m\u001b[0m \u001b[1m0s\u001b[0m 537us/step - accuracy: 1.0000 - loss: 7.9775e-07 - val_accuracy: 1.0000 - val_loss: 4.0695e-05\n",
      "Epoch 106/120\n",
      "\u001b[1m160/160\u001b[0m \u001b[32m━━━━━━━━━━━━━━━━━━━━\u001b[0m\u001b[37m\u001b[0m \u001b[1m0s\u001b[0m 579us/step - accuracy: 1.0000 - loss: 1.5285e-06 - val_accuracy: 1.0000 - val_loss: 3.2446e-05\n",
      "Epoch 107/120\n",
      "\u001b[1m160/160\u001b[0m \u001b[32m━━━━━━━━━━━━━━━━━━━━\u001b[0m\u001b[37m\u001b[0m \u001b[1m0s\u001b[0m 544us/step - accuracy: 1.0000 - loss: 1.3659e-06 - val_accuracy: 1.0000 - val_loss: 3.0402e-05\n",
      "Epoch 108/120\n",
      "\u001b[1m160/160\u001b[0m \u001b[32m━━━━━━━━━━━━━━━━━━━━\u001b[0m\u001b[37m\u001b[0m \u001b[1m0s\u001b[0m 536us/step - accuracy: 1.0000 - loss: 9.5308e-07 - val_accuracy: 1.0000 - val_loss: 3.0491e-05\n",
      "Epoch 109/120\n",
      "\u001b[1m160/160\u001b[0m \u001b[32m━━━━━━━━━━━━━━━━━━━━\u001b[0m\u001b[37m\u001b[0m \u001b[1m0s\u001b[0m 536us/step - accuracy: 1.0000 - loss: 9.8913e-07 - val_accuracy: 1.0000 - val_loss: 3.2240e-05\n",
      "Epoch 110/120\n",
      "\u001b[1m160/160\u001b[0m \u001b[32m━━━━━━━━━━━━━━━━━━━━\u001b[0m\u001b[37m\u001b[0m \u001b[1m0s\u001b[0m 541us/step - accuracy: 1.0000 - loss: 8.1832e-07 - val_accuracy: 1.0000 - val_loss: 2.7247e-05\n",
      "Epoch 111/120\n",
      "\u001b[1m160/160\u001b[0m \u001b[32m━━━━━━━━━━━━━━━━━━━━\u001b[0m\u001b[37m\u001b[0m \u001b[1m0s\u001b[0m 539us/step - accuracy: 1.0000 - loss: 5.5654e-07 - val_accuracy: 1.0000 - val_loss: 2.8766e-05\n",
      "Epoch 112/120\n",
      "\u001b[1m160/160\u001b[0m \u001b[32m━━━━━━━━━━━━━━━━━━━━\u001b[0m\u001b[37m\u001b[0m \u001b[1m0s\u001b[0m 530us/step - accuracy: 1.0000 - loss: 5.8895e-07 - val_accuracy: 1.0000 - val_loss: 3.0478e-05\n",
      "Epoch 113/120\n",
      "\u001b[1m160/160\u001b[0m \u001b[32m━━━━━━━━━━━━━━━━━━━━\u001b[0m\u001b[37m\u001b[0m \u001b[1m0s\u001b[0m 697us/step - accuracy: 1.0000 - loss: 8.0084e-07 - val_accuracy: 1.0000 - val_loss: 3.0291e-05\n",
      "Epoch 114/120\n",
      "\u001b[1m160/160\u001b[0m \u001b[32m━━━━━━━━━━━━━━━━━━━━\u001b[0m\u001b[37m\u001b[0m \u001b[1m0s\u001b[0m 531us/step - accuracy: 1.0000 - loss: 8.9893e-07 - val_accuracy: 1.0000 - val_loss: 2.2575e-05\n",
      "Epoch 115/120\n",
      "\u001b[1m160/160\u001b[0m \u001b[32m━━━━━━━━━━━━━━━━━━━━\u001b[0m\u001b[37m\u001b[0m \u001b[1m0s\u001b[0m 567us/step - accuracy: 1.0000 - loss: 6.3217e-07 - val_accuracy: 1.0000 - val_loss: 2.2641e-05\n",
      "Epoch 116/120\n",
      "\u001b[1m160/160\u001b[0m \u001b[32m━━━━━━━━━━━━━━━━━━━━\u001b[0m\u001b[37m\u001b[0m \u001b[1m0s\u001b[0m 550us/step - accuracy: 1.0000 - loss: 7.3358e-07 - val_accuracy: 1.0000 - val_loss: 2.1084e-05\n",
      "Epoch 117/120\n",
      "\u001b[1m160/160\u001b[0m \u001b[32m━━━━━━━━━━━━━━━━━━━━\u001b[0m\u001b[37m\u001b[0m \u001b[1m0s\u001b[0m 551us/step - accuracy: 1.0000 - loss: 1.0020e-06 - val_accuracy: 1.0000 - val_loss: 1.9440e-05\n",
      "Epoch 118/120\n",
      "\u001b[1m160/160\u001b[0m \u001b[32m━━━━━━━━━━━━━━━━━━━━\u001b[0m\u001b[37m\u001b[0m \u001b[1m0s\u001b[0m 540us/step - accuracy: 1.0000 - loss: 5.1908e-07 - val_accuracy: 1.0000 - val_loss: 2.5642e-05\n",
      "Epoch 119/120\n",
      "\u001b[1m160/160\u001b[0m \u001b[32m━━━━━━━━━━━━━━━━━━━━\u001b[0m\u001b[37m\u001b[0m \u001b[1m0s\u001b[0m 540us/step - accuracy: 1.0000 - loss: 5.2276e-07 - val_accuracy: 1.0000 - val_loss: 2.0028e-05\n",
      "Epoch 120/120\n",
      "\u001b[1m160/160\u001b[0m \u001b[32m━━━━━━━━━━━━━━━━━━━━\u001b[0m\u001b[37m\u001b[0m \u001b[1m0s\u001b[0m 535us/step - accuracy: 1.0000 - loss: 4.2937e-07 - val_accuracy: 1.0000 - val_loss: 2.2673e-05\n"
     ]
    }
   ],
   "source": [
    "history = model.fit(X_train_tsr,Y_train_tsr,epochs=120,validation_split=0.2,batch_size=40)"
   ]
  },
  {
   "cell_type": "code",
   "execution_count": 37,
   "metadata": {
    "ExecuteTime": {
     "end_time": "2024-10-24T01:13:00.768208Z",
     "start_time": "2024-10-24T01:13:00.409577Z"
    },
    "collapsed": false
   },
   "outputs": [
    {
     "name": "stdout",
     "output_type": "stream",
     "text": [
      "\u001b[1m16/16\u001b[0m \u001b[32m━━━━━━━━━━━━━━━━━━━━\u001b[0m\u001b[37m\u001b[0m \u001b[1m0s\u001b[0m 899us/step - accuracy: 1.0000 - loss: 1.4757e-06\n",
      "test loss, test acc: [1.1764257124013966e-06, 1.0]\n",
      "Generate predictions for 3 samples\n",
      "\u001b[1m1/1\u001b[0m \u001b[32m━━━━━━━━━━━━━━━━━━━━\u001b[0m\u001b[37m\u001b[0m \u001b[1m0s\u001b[0m 25ms/step\n",
      "predictions shape: (3, 1)\n",
      "[[1.0000000e+00]\n",
      " [7.0356219e-09]\n",
      " [6.3348437e-12]]\n"
     ]
    }
   ],
   "source": [
    "results = model.evaluate(X_test_tsr, Y_test_tsr, batch_size=128)\n",
    "print(\"test loss, test acc:\", results)\n",
    "\n",
    "print(\"Generate predictions for 3 samples\")\n",
    "predictions = model.predict(X_test_tsr[:3])\n",
    "print(\"predictions shape:\", predictions.shape)\n",
    "print(predictions)"
   ]
  },
  {
   "cell_type": "code",
   "execution_count": 38,
   "metadata": {
    "ExecuteTime": {
     "end_time": "2024-10-24T01:13:00.779674Z",
     "start_time": "2024-10-24T01:13:00.769217Z"
    },
    "collapsed": false
   },
   "outputs": [
    {
     "name": "stdout",
     "output_type": "stream",
     "text": [
      "Predictions :\n",
      "Phishing\n",
      "Legitimate\n",
      "Legitimate\n",
      "Real values :\n",
      "Phishing\n",
      "Legitimate\n",
      "Legitimate\n"
     ]
    }
   ],
   "source": [
    "print(\"Predictions :\")\n",
    "for prediction in predictions:\n",
    "    if prediction > 0.5:\n",
    "        print(\"Phishing\")\n",
    "    else:\n",
    "        print(\"Legitimate\")\n",
    "        \n",
    "print(\"Real values :\")\n",
    "for value in Y_test_tsr[:3]:\n",
    "    if value == 1:\n",
    "        print(\"Phishing\")\n",
    "    else:\n",
    "        print(\"Legitimate\")"
   ]
  },
  {
   "cell_type": "code",
   "execution_count": 39,
   "metadata": {
    "ExecuteTime": {
     "end_time": "2024-10-24T01:24:57.708432Z",
     "start_time": "2024-10-24T01:24:57.520166Z"
    },
    "collapsed": false
   },
   "outputs": [
    {
     "name": "stdout",
     "output_type": "stream",
     "text": [
      "\u001b[1m63/63\u001b[0m \u001b[32m━━━━━━━━━━━━━━━━━━━━\u001b[0m\u001b[37m\u001b[0m \u001b[1m0s\u001b[0m 341us/step\n"
     ]
    }
   ],
   "source": [
    "y_pred = model.predict(X_test_tsr)\n",
    "#Converting predictions to 1D array\n",
    "y_pred = np.array([1 if x > 0.5 else 0 for x in y_pred])"
   ]
  },
  {
   "cell_type": "code",
   "execution_count": 40,
   "metadata": {
    "ExecuteTime": {
     "end_time": "2024-10-24T01:25:43.984781Z",
     "start_time": "2024-10-24T01:25:43.978212Z"
    },
    "collapsed": false
   },
   "outputs": [
    {
     "name": "stdout",
     "output_type": "stream",
     "text": [
      "[[1021    0]\n",
      " [   0  979]]\n"
     ]
    }
   ],
   "source": [
    "cm2 = confusion_matrix(Y_test, y_pred)\n",
    "print(cm2)"
   ]
  },
  {
   "cell_type": "code",
   "execution_count": 41,
   "metadata": {
    "ExecuteTime": {
     "end_time": "2024-10-24T01:26:54.627441Z",
     "start_time": "2024-10-24T01:26:54.398160Z"
    },
    "collapsed": false
   },
   "outputs": [
    {
     "data": {
      "text/plain": [
       "Text(0.5, 1.0, 'Confusion Matrix')"
      ]
     },
     "execution_count": 41,
     "metadata": {},
     "output_type": "execute_result"
    },
    {
     "data": {
      "image/png": "[encoded data removed]",
      "text/plain": [
       "<Figure size 300x300 with 2 Axes>"
      ]
     },
     "metadata": {},
     "output_type": "display_data"
    }
   ],
   "source": [
    "plt.figure(figsize=(3,3))\n",
    "sns.heatmap(cm2, annot=True, linewidths=.5, square = True, cmap = 'Blues')\n",
    "\n",
    "plt.xticks([0, 1], ['legitimate', 'phishing'])\n",
    "plt.yticks([0, 1], ['legitimate', 'phishing'])\n",
    "\n",
    "plt.xlabel('Predicted label')\n",
    "plt.ylabel('Actual label')\n",
    "\n",
    "\n",
    "\n",
    "plt.title(\"Confusion Matrix\", size = 12)"
   ]
  }
 ],
 "metadata": {
  "kernelspec": {
   "display_name": "Python 3",
   "language": "python",
   "name": "python3"
  },
  "language_info": {
   "codemirror_mode": {
    "name": "ipython",
    "version": 3
   },
   "file_extension": ".py",
   "mimetype": "text/x-python",
   "name": "python",
   "nbconvert_exporter": "python",
   "pygments_lexer": "ipython3",
   "version": "3.12.5"
  }
 },
 "nbformat": 4,
 "nbformat_minor": 2
}

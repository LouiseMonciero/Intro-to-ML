{
 "cells": [
  {
   "cell_type": "markdown",
   "metadata": {},
   "source": [
    "# Preprocessing"
   ]
  },
  {
   "cell_type": "markdown",
   "metadata": {},
   "source": [
    "## Reading CSV"
   ]
  },
  {
   "cell_type": "code",
   "execution_count": 187,
   "metadata": {
    "ExecuteTime": {
     "end_time": "2024-10-24T01:12:21.899250Z",
     "start_time": "2024-10-24T01:12:21.894720Z"
    }
   },
   "outputs": [],
   "source": [
    "import pandas as pd\n",
    "import matplotlib.pyplot as plt\n",
    "import numpy as np\n",
    "import sklearn"
   ]
  },
  {
   "cell_type": "code",
   "execution_count": 188,
   "metadata": {
    "ExecuteTime": {
     "end_time": "2024-10-24T01:12:22.431471Z",
     "start_time": "2024-10-24T01:12:22.269193Z"
    }
   },
   "outputs": [],
   "source": [
    "data = pd.read_csv('sample_output.csv')"
   ]
  },
  {
   "cell_type": "markdown",
   "metadata": {},
   "source": [
    "## Understanding Dataset"
   ]
  },
  {
   "cell_type": "code",
   "execution_count": 189,
   "metadata": {
    "ExecuteTime": {
     "end_time": "2024-10-24T01:12:22.439594Z",
     "start_time": "2024-10-24T01:12:22.433482Z"
    }
   },
   "outputs": [
    {
     "data": {
      "text/plain": "(10000, 18)"
     },
     "execution_count": 189,
     "metadata": {},
     "output_type": "execute_result"
    }
   ],
   "source": [
    "data.shape"
   ]
  },
  {
   "cell_type": "code",
   "execution_count": 190,
   "metadata": {
    "ExecuteTime": {
     "end_time": "2024-10-24T01:12:22.466044Z",
     "start_time": "2024-10-24T01:12:22.440606Z"
    }
   },
   "outputs": [
    {
     "data": {
      "text/plain": "                                                 url             source  \\\n0  http://sub22b.jelastic.regruhosting.ru/acesso/...  Phishing.Database   \n1  https://cherry-609d.hakeem1115.workers.dev/63f...  Phishing.Database   \n2  http://secureid-auth5b.serveirc.com/navyfedera...  Phishing.Database   \n\n      label  url_length  starts_with_ip  url_entropy  has_punycode  \\\n0  phishing          62           False     4.203093         False   \n1  phishing          79           False     4.747960         False   \n2  phishing          62           False     4.453623         False   \n\n   digit_letter_ratio  dot_count  at_count  dash_count  tld_count  \\\n0            0.039216          4         0           0          0   \n1            0.634146          3         0           5          0   \n2            0.040000          4         0           1          1   \n\n   domain_has_digits  subdomain_count  nan_char_entropy  has_internal_links  \\\n0              False                2          0.606254               False   \n1              False                2          0.438186               False   \n2              False                1          0.606254                True   \n\n                                          whois_data  domain_age_days  \n0                                                NaN              NaN  \n1  {'domain_name': None, 'registrar': None, 'whoi...              NaN  \n2  {'domain_name': 'SERVEIRC.COM', 'registrar': '...           8804.0  ",
      "text/html": "<div>\n<style scoped>\n    .dataframe tbody tr th:only-of-type {\n        vertical-align: middle;\n    }\n\n    .dataframe tbody tr th {\n        vertical-align: top;\n    }\n\n    .dataframe thead th {\n        text-align: right;\n    }\n</style>\n<table border=\"1\" class=\"dataframe\">\n  <thead>\n    <tr style=\"text-align: right;\">\n      <th></th>\n      <th>url</th>\n      <th>source</th>\n      <th>label</th>\n      <th>url_length</th>\n      <th>starts_with_ip</th>\n      <th>url_entropy</th>\n      <th>has_punycode</th>\n      <th>digit_letter_ratio</th>\n      <th>dot_count</th>\n      <th>at_count</th>\n      <th>dash_count</th>\n      <th>tld_count</th>\n      <th>domain_has_digits</th>\n      <th>subdomain_count</th>\n      <th>nan_char_entropy</th>\n      <th>has_internal_links</th>\n      <th>whois_data</th>\n      <th>domain_age_days</th>\n    </tr>\n  </thead>\n  <tbody>\n    <tr>\n      <th>0</th>\n      <td>http://sub22b.jelastic.regruhosting.ru/acesso/...</td>\n      <td>Phishing.Database</td>\n      <td>phishing</td>\n      <td>62</td>\n      <td>False</td>\n      <td>4.203093</td>\n      <td>False</td>\n      <td>0.039216</td>\n      <td>4</td>\n      <td>0</td>\n      <td>0</td>\n      <td>0</td>\n      <td>False</td>\n      <td>2</td>\n      <td>0.606254</td>\n      <td>False</td>\n      <td>NaN</td>\n      <td>NaN</td>\n    </tr>\n    <tr>\n      <th>1</th>\n      <td>https://cherry-609d.hakeem1115.workers.dev/63f...</td>\n      <td>Phishing.Database</td>\n      <td>phishing</td>\n      <td>79</td>\n      <td>False</td>\n      <td>4.747960</td>\n      <td>False</td>\n      <td>0.634146</td>\n      <td>3</td>\n      <td>0</td>\n      <td>5</td>\n      <td>0</td>\n      <td>False</td>\n      <td>2</td>\n      <td>0.438186</td>\n      <td>False</td>\n      <td>{'domain_name': None, 'registrar': None, 'whoi...</td>\n      <td>NaN</td>\n    </tr>\n    <tr>\n      <th>2</th>\n      <td>http://secureid-auth5b.serveirc.com/navyfedera...</td>\n      <td>Phishing.Database</td>\n      <td>phishing</td>\n      <td>62</td>\n      <td>False</td>\n      <td>4.453623</td>\n      <td>False</td>\n      <td>0.040000</td>\n      <td>4</td>\n      <td>0</td>\n      <td>1</td>\n      <td>1</td>\n      <td>False</td>\n      <td>1</td>\n      <td>0.606254</td>\n      <td>True</td>\n      <td>{'domain_name': 'SERVEIRC.COM', 'registrar': '...</td>\n      <td>8804.0</td>\n    </tr>\n  </tbody>\n</table>\n</div>"
     },
     "execution_count": 190,
     "metadata": {},
     "output_type": "execute_result"
    }
   ],
   "source": [
    "data.head(3)"
   ]
  },
  {
   "cell_type": "code",
   "execution_count": 191,
   "metadata": {
    "ExecuteTime": {
     "end_time": "2024-10-24T01:12:22.484216Z",
     "start_time": "2024-10-24T01:12:22.468060Z"
    }
   },
   "outputs": [
    {
     "data": {
      "text/plain": "                        url          source       label  url_length  \\\n9997             mst.org.br        Majestic  legitimate          10   \n9998  cs532-2037.meraki.com  Cisco-Umbrella  legitimate          21   \n9999         mainediner.com        Majestic  legitimate          14   \n\n      starts_with_ip  url_entropy  has_punycode  digit_letter_ratio  \\\n9997           False     2.921928         False            0.000000   \n9998           False     3.916127         False            0.636364   \n9999           False     3.235926         False            0.000000   \n\n      dot_count  at_count  dash_count  tld_count  domain_has_digits  \\\n9997          2         0           0          0              False   \n9998          2         0           1          0              False   \n9999          1         0           0          0              False   \n\n      subdomain_count  nan_char_entropy  has_internal_links  \\\n9997                0          0.464386               False   \n9998                1          0.323078               False   \n9999                0          0.271954               False   \n\n                                             whois_data  domain_age_days  \n9997  {'domain_name': 'mst.org.br', 'registrant_name...           9872.0  \n9998  {'domain_name': 'MERAKI.COM', 'registrar': 'Ma...           7916.0  \n9999  {'domain_name': 'MAINEDINER.COM', 'registrar':...          10497.0  ",
      "text/html": "<div>\n<style scoped>\n    .dataframe tbody tr th:only-of-type {\n        vertical-align: middle;\n    }\n\n    .dataframe tbody tr th {\n        vertical-align: top;\n    }\n\n    .dataframe thead th {\n        text-align: right;\n    }\n</style>\n<table border=\"1\" class=\"dataframe\">\n  <thead>\n    <tr style=\"text-align: right;\">\n      <th></th>\n      <th>url</th>\n      <th>source</th>\n      <th>label</th>\n      <th>url_length</th>\n      <th>starts_with_ip</th>\n      <th>url_entropy</th>\n      <th>has_punycode</th>\n      <th>digit_letter_ratio</th>\n      <th>dot_count</th>\n      <th>at_count</th>\n      <th>dash_count</th>\n      <th>tld_count</th>\n      <th>domain_has_digits</th>\n      <th>subdomain_count</th>\n      <th>nan_char_entropy</th>\n      <th>has_internal_links</th>\n      <th>whois_data</th>\n      <th>domain_age_days</th>\n    </tr>\n  </thead>\n  <tbody>\n    <tr>\n      <th>9997</th>\n      <td>mst.org.br</td>\n      <td>Majestic</td>\n      <td>legitimate</td>\n      <td>10</td>\n      <td>False</td>\n      <td>2.921928</td>\n      <td>False</td>\n      <td>0.000000</td>\n      <td>2</td>\n      <td>0</td>\n      <td>0</td>\n      <td>0</td>\n      <td>False</td>\n      <td>0</td>\n      <td>0.464386</td>\n      <td>False</td>\n      <td>{'domain_name': 'mst.org.br', 'registrant_name...</td>\n      <td>9872.0</td>\n    </tr>\n    <tr>\n      <th>9998</th>\n      <td>cs532-2037.meraki.com</td>\n      <td>Cisco-Umbrella</td>\n      <td>legitimate</td>\n      <td>21</td>\n      <td>False</td>\n      <td>3.916127</td>\n      <td>False</td>\n      <td>0.636364</td>\n      <td>2</td>\n      <td>0</td>\n      <td>1</td>\n      <td>0</td>\n      <td>False</td>\n      <td>1</td>\n      <td>0.323078</td>\n      <td>False</td>\n      <td>{'domain_name': 'MERAKI.COM', 'registrar': 'Ma...</td>\n      <td>7916.0</td>\n    </tr>\n    <tr>\n      <th>9999</th>\n      <td>mainediner.com</td>\n      <td>Majestic</td>\n      <td>legitimate</td>\n      <td>14</td>\n      <td>False</td>\n      <td>3.235926</td>\n      <td>False</td>\n      <td>0.000000</td>\n      <td>1</td>\n      <td>0</td>\n      <td>0</td>\n      <td>0</td>\n      <td>False</td>\n      <td>0</td>\n      <td>0.271954</td>\n      <td>False</td>\n      <td>{'domain_name': 'MAINEDINER.COM', 'registrar':...</td>\n      <td>10497.0</td>\n    </tr>\n  </tbody>\n</table>\n</div>"
     },
     "execution_count": 191,
     "metadata": {},
     "output_type": "execute_result"
    }
   ],
   "source": [
    "data.tail(3)"
   ]
  },
  {
   "cell_type": "code",
   "execution_count": 192,
   "metadata": {
    "ExecuteTime": {
     "end_time": "2024-10-24T01:12:22.494816Z",
     "start_time": "2024-10-24T01:12:22.485233Z"
    }
   },
   "outputs": [
    {
     "data": {
      "text/plain": "url                    object\nsource                 object\nlabel                  object\nurl_length              int64\nstarts_with_ip           bool\nurl_entropy           float64\nhas_punycode             bool\ndigit_letter_ratio    float64\ndot_count               int64\nat_count                int64\ndash_count              int64\ntld_count               int64\ndomain_has_digits        bool\nsubdomain_count         int64\nnan_char_entropy      float64\nhas_internal_links       bool\nwhois_data             object\ndomain_age_days       float64\ndtype: object"
     },
     "execution_count": 192,
     "metadata": {},
     "output_type": "execute_result"
    }
   ],
   "source": [
    "data.dtypes"
   ]
  },
  {
   "cell_type": "markdown",
   "metadata": {},
   "source": [
    "## Dropping variables"
   ]
  },
  {
   "cell_type": "markdown",
   "metadata": {},
   "source": [
    "Dropping variables that are not IV"
   ]
  },
  {
   "cell_type": "code",
   "execution_count": 193,
   "metadata": {
    "ExecuteTime": {
     "end_time": "2024-10-24T01:12:22.504058Z",
     "start_time": "2024-10-24T01:12:22.495829Z"
    }
   },
   "outputs": [],
   "source": [
    "# The url is unnecessary as all the informations about the url are in the followings variables\n",
    "# whois_data is unnecessary as its content is summarized in the other IV variables\n",
    "# domain_age_data is unnecessary has it won't help the model to determine the TV\n",
    "\n",
    "data = data.drop(['url', 'whois_data', 'domain_age_days'], axis=1) # axis=1 necessary ?\n"
   ]
  },
  {
   "cell_type": "markdown",
   "metadata": {},
   "source": [
    "Dropping datas totally definning the model"
   ]
  },
  {
   "cell_type": "code",
   "execution_count": 194,
   "metadata": {
    "ExecuteTime": {
     "end_time": "2024-10-24T01:12:22.513023Z",
     "start_time": "2024-10-24T01:12:22.506071Z"
    }
   },
   "outputs": [],
   "source": [
    "# The source colums determines whether the url is legitimate or not\n",
    "data = data.drop('source', axis=1)\n"
   ]
  },
  {
   "cell_type": "code",
   "execution_count": 195,
   "metadata": {
    "ExecuteTime": {
     "end_time": "2024-10-24T01:12:22.547905Z",
     "start_time": "2024-10-24T01:12:22.542038Z"
    }
   },
   "outputs": [
    {
     "data": {
      "text/plain": "(10000, 14)"
     },
     "execution_count": 195,
     "metadata": {},
     "output_type": "execute_result"
    }
   ],
   "source": [
    "data.shape\n",
    "# loss of 4 col"
   ]
  },
  {
   "cell_type": "markdown",
   "metadata": {},
   "source": [
    "## Understanding clean dataset"
   ]
  },
  {
   "cell_type": "code",
   "execution_count": 196,
   "metadata": {
    "ExecuteTime": {
     "end_time": "2024-10-24T01:12:22.661730Z",
     "start_time": "2024-10-24T01:12:22.652989Z"
    }
   },
   "outputs": [
    {
     "data": {
      "text/plain": "label                 0\nurl_length            0\nstarts_with_ip        0\nurl_entropy           0\nhas_punycode          0\ndigit_letter_ratio    0\ndot_count             0\nat_count              0\ndash_count            0\ntld_count             0\ndomain_has_digits     0\nsubdomain_count       0\nnan_char_entropy      0\nhas_internal_links    0\ndtype: int64"
     },
     "execution_count": 196,
     "metadata": {},
     "output_type": "execute_result"
    }
   ],
   "source": [
    "data.isnull().sum()"
   ]
  },
  {
   "cell_type": "code",
   "execution_count": 197,
   "metadata": {
    "ExecuteTime": {
     "end_time": "2024-10-24T01:12:22.776217Z",
     "start_time": "2024-10-24T01:12:22.770321Z"
    }
   },
   "outputs": [
    {
     "data": {
      "text/plain": "label                  object\nurl_length              int64\nstarts_with_ip           bool\nurl_entropy           float64\nhas_punycode             bool\ndigit_letter_ratio    float64\ndot_count               int64\nat_count                int64\ndash_count              int64\ntld_count               int64\ndomain_has_digits        bool\nsubdomain_count         int64\nnan_char_entropy      float64\nhas_internal_links       bool\ndtype: object"
     },
     "execution_count": 197,
     "metadata": {},
     "output_type": "execute_result"
    }
   ],
   "source": [
    "data.dtypes"
   ]
  },
  {
   "cell_type": "code",
   "execution_count": 198,
   "metadata": {
    "ExecuteTime": {
     "end_time": "2024-10-24T01:12:22.968559Z",
     "start_time": "2024-10-24T01:12:22.937653Z"
    }
   },
   "outputs": [
    {
     "data": {
      "text/plain": "         url_length   url_entropy  digit_letter_ratio    dot_count  \\\ncount  10000.000000  10000.000000        10000.000000  10000.00000   \nmean      45.788100      3.911319            0.115826      2.21580   \nstd       68.050433      0.640732            0.239825      2.39416   \nmin        5.000000      1.918296            0.000000      1.00000   \n25%       17.000000      3.448513            0.000000      1.00000   \n50%       30.000000      3.920869            0.000000      2.00000   \n75%       53.000000      4.334118            0.133333      3.00000   \nmax     2631.000000      5.963848            5.000000    148.00000   \n\n          at_count    dash_count     tld_count  subdomain_count  \\\ncount  10000.00000  10000.000000  10000.000000     10000.000000   \nmean       0.01090      0.745000      0.038500         0.786900   \nstd        0.11306      1.878225      0.348755         1.040767   \nmin        0.00000      0.000000      0.000000         0.000000   \n25%        0.00000      0.000000      0.000000         0.000000   \n50%        0.00000      0.000000      0.000000         1.000000   \n75%        0.00000      1.000000      0.000000         1.000000   \nmax        4.00000    113.000000     12.000000        13.000000   \n\n       nan_char_entropy  \ncount      10000.000000  \nmean           0.464863  \nstd            0.187817  \nmin            0.071456  \n25%            0.306397  \n50%            0.415452  \n75%            0.616195  \nmax            1.429613  ",
      "text/html": "<div>\n<style scoped>\n    .dataframe tbody tr th:only-of-type {\n        vertical-align: middle;\n    }\n\n    .dataframe tbody tr th {\n        vertical-align: top;\n    }\n\n    .dataframe thead th {\n        text-align: right;\n    }\n</style>\n<table border=\"1\" class=\"dataframe\">\n  <thead>\n    <tr style=\"text-align: right;\">\n      <th></th>\n      <th>url_length</th>\n      <th>url_entropy</th>\n      <th>digit_letter_ratio</th>\n      <th>dot_count</th>\n      <th>at_count</th>\n      <th>dash_count</th>\n      <th>tld_count</th>\n      <th>subdomain_count</th>\n      <th>nan_char_entropy</th>\n    </tr>\n  </thead>\n  <tbody>\n    <tr>\n      <th>count</th>\n      <td>10000.000000</td>\n      <td>10000.000000</td>\n      <td>10000.000000</td>\n      <td>10000.00000</td>\n      <td>10000.00000</td>\n      <td>10000.000000</td>\n      <td>10000.000000</td>\n      <td>10000.000000</td>\n      <td>10000.000000</td>\n    </tr>\n    <tr>\n      <th>mean</th>\n      <td>45.788100</td>\n      <td>3.911319</td>\n      <td>0.115826</td>\n      <td>2.21580</td>\n      <td>0.01090</td>\n      <td>0.745000</td>\n      <td>0.038500</td>\n      <td>0.786900</td>\n      <td>0.464863</td>\n    </tr>\n    <tr>\n      <th>std</th>\n      <td>68.050433</td>\n      <td>0.640732</td>\n      <td>0.239825</td>\n      <td>2.39416</td>\n      <td>0.11306</td>\n      <td>1.878225</td>\n      <td>0.348755</td>\n      <td>1.040767</td>\n      <td>0.187817</td>\n    </tr>\n    <tr>\n      <th>min</th>\n      <td>5.000000</td>\n      <td>1.918296</td>\n      <td>0.000000</td>\n      <td>1.00000</td>\n      <td>0.00000</td>\n      <td>0.000000</td>\n      <td>0.000000</td>\n      <td>0.000000</td>\n      <td>0.071456</td>\n    </tr>\n    <tr>\n      <th>25%</th>\n      <td>17.000000</td>\n      <td>3.448513</td>\n      <td>0.000000</td>\n      <td>1.00000</td>\n      <td>0.00000</td>\n      <td>0.000000</td>\n      <td>0.000000</td>\n      <td>0.000000</td>\n      <td>0.306397</td>\n    </tr>\n    <tr>\n      <th>50%</th>\n      <td>30.000000</td>\n      <td>3.920869</td>\n      <td>0.000000</td>\n      <td>2.00000</td>\n      <td>0.00000</td>\n      <td>0.000000</td>\n      <td>0.000000</td>\n      <td>1.000000</td>\n      <td>0.415452</td>\n    </tr>\n    <tr>\n      <th>75%</th>\n      <td>53.000000</td>\n      <td>4.334118</td>\n      <td>0.133333</td>\n      <td>3.00000</td>\n      <td>0.00000</td>\n      <td>1.000000</td>\n      <td>0.000000</td>\n      <td>1.000000</td>\n      <td>0.616195</td>\n    </tr>\n    <tr>\n      <th>max</th>\n      <td>2631.000000</td>\n      <td>5.963848</td>\n      <td>5.000000</td>\n      <td>148.00000</td>\n      <td>4.00000</td>\n      <td>113.000000</td>\n      <td>12.000000</td>\n      <td>13.000000</td>\n      <td>1.429613</td>\n    </tr>\n  </tbody>\n</table>\n</div>"
     },
     "execution_count": 198,
     "metadata": {},
     "output_type": "execute_result"
    }
   ],
   "source": [
    "data.describe()"
   ]
  },
  {
   "cell_type": "markdown",
   "metadata": {},
   "source": [
    "We see that the variable 'url_length' is probably neither standardized nor normalized. Below is therefore the distribution of the values."
   ]
  },
  {
   "cell_type": "code",
   "execution_count": 199,
   "metadata": {
    "ExecuteTime": {
     "end_time": "2024-10-24T01:12:23.785610Z",
     "start_time": "2024-10-24T01:12:23.006694Z"
    }
   },
   "outputs": [
    {
     "data": {
      "text/plain": "[]"
     },
     "execution_count": 199,
     "metadata": {},
     "output_type": "execute_result"
    },
    {
     "data": {
      "text/plain": "<Figure size 640x480 with 1 Axes>",
      "image/png": "[encoded data removed]"
     },
     "metadata": {},
     "output_type": "display_data"
    }
   ],
   "source": [
    "# See distribution of 'url length'\n",
    "\n",
    "plt.hist(data['url_length'], bins=500)\n",
    "plt.xlim(0, 500) #optional\n",
    "plt.plot()"
   ]
  },
  {
   "cell_type": "markdown",
   "metadata": {},
   "source": [
    "## Class Balancing\n",
    "Our TV is labal. This data set is already balanced. It is a binary dataset."
   ]
  },
  {
   "cell_type": "code",
   "execution_count": 200,
   "metadata": {
    "ExecuteTime": {
     "end_time": "2024-10-24T01:12:23.797121Z",
     "start_time": "2024-10-24T01:12:23.787621Z"
    }
   },
   "outputs": [
    {
     "data": {
      "text/plain": "0"
     },
     "execution_count": 200,
     "metadata": {},
     "output_type": "execute_result"
    }
   ],
   "source": [
    "data['label'].isnull().sum()"
   ]
  },
  {
   "cell_type": "code",
   "execution_count": 201,
   "metadata": {
    "ExecuteTime": {
     "end_time": "2024-10-24T01:12:23.972441Z",
     "start_time": "2024-10-24T01:12:23.798670Z"
    }
   },
   "outputs": [
    {
     "data": {
      "text/plain": "label\nphishing      5000\nlegitimate    5000\nName: count, dtype: int64"
     },
     "execution_count": 201,
     "metadata": {},
     "output_type": "execute_result"
    },
    {
     "data": {
      "text/plain": "<Figure size 640x480 with 1 Axes>",
      "image/png": "[encoded data removed]"
     },
     "metadata": {},
     "output_type": "display_data"
    }
   ],
   "source": [
    "plt.hist(data['label'], density=False, bins= 3 )\n",
    "data['label'].value_counts()\n",
    "\n",
    "# add colors ???"
   ]
  },
  {
   "cell_type": "markdown",
   "metadata": {},
   "source": [
    "## Label Encoding / Factorizing"
   ]
  },
  {
   "cell_type": "code",
   "execution_count": 202,
   "metadata": {
    "ExecuteTime": {
     "end_time": "2024-10-24T01:12:23.979734Z",
     "start_time": "2024-10-24T01:12:23.974606Z"
    }
   },
   "outputs": [],
   "source": [
    "# WHY DONT WE USE GETDUMMIES ???\n",
    "# OR OneHotEncoder from SKLEARN"
   ]
  },
  {
   "cell_type": "code",
   "execution_count": 203,
   "metadata": {
    "ExecuteTime": {
     "end_time": "2024-10-24T01:12:24.014961Z",
     "start_time": "2024-10-24T01:12:23.981373Z"
    }
   },
   "outputs": [
    {
     "data": {
      "text/plain": "      label  url_length  starts_with_ip  url_entropy  has_punycode  \\\n0         0          62           False     4.203093         False   \n1         0          79           False     4.747960         False   \n2         0          62           False     4.453623         False   \n3         0          24           False     3.970176         False   \n4         0          69           False     4.548398         False   \n...     ...         ...             ...          ...           ...   \n9995      1          25           False     3.943465         False   \n9996      1          11           False     2.663533         False   \n9997      1          10           False     2.921928         False   \n9998      1          21           False     3.916127         False   \n9999      1          14           False     3.235926         False   \n\n      digit_letter_ratio  dot_count  at_count  dash_count  tld_count  \\\n0               0.039216          4         0           0          0   \n1               0.634146          3         0           5          0   \n2               0.040000          4         0           1          1   \n3               0.000000          1         0           0          0   \n4               0.441860          2         0           0          0   \n...                  ...        ...       ...         ...        ...   \n9995            0.100000          2         0           1          0   \n9996            0.000000          2         0           0          0   \n9997            0.000000          2         0           0          0   \n9998            0.636364          2         0           1          0   \n9999            0.000000          1         0           0          0   \n\n      domain_has_digits  subdomain_count  nan_char_entropy  has_internal_links  \n0                 False                2          0.606254               False  \n1                 False                2          0.438186               False  \n2                 False                1          0.606254                True  \n3                 False                0          0.680827               False  \n4                  True                1          0.474778               False  \n...                 ...              ...               ...                 ...  \n9995              False                1          0.291508               False  \n9996              False                0          0.447169               False  \n9997              False                0          0.464386               False  \n9998              False                1          0.323078               False  \n9999              False                0          0.271954               False  \n\n[10000 rows x 14 columns]",
      "text/html": "<div>\n<style scoped>\n    .dataframe tbody tr th:only-of-type {\n        vertical-align: middle;\n    }\n\n    .dataframe tbody tr th {\n        vertical-align: top;\n    }\n\n    .dataframe thead th {\n        text-align: right;\n    }\n</style>\n<table border=\"1\" class=\"dataframe\">\n  <thead>\n    <tr style=\"text-align: right;\">\n      <th></th>\n      <th>label</th>\n      <th>url_length</th>\n      <th>starts_with_ip</th>\n      <th>url_entropy</th>\n      <th>has_punycode</th>\n      <th>digit_letter_ratio</th>\n      <th>dot_count</th>\n      <th>at_count</th>\n      <th>dash_count</th>\n      <th>tld_count</th>\n      <th>domain_has_digits</th>\n      <th>subdomain_count</th>\n      <th>nan_char_entropy</th>\n      <th>has_internal_links</th>\n    </tr>\n  </thead>\n  <tbody>\n    <tr>\n      <th>0</th>\n      <td>0</td>\n      <td>62</td>\n      <td>False</td>\n      <td>4.203093</td>\n      <td>False</td>\n      <td>0.039216</td>\n      <td>4</td>\n      <td>0</td>\n      <td>0</td>\n      <td>0</td>\n      <td>False</td>\n      <td>2</td>\n      <td>0.606254</td>\n      <td>False</td>\n    </tr>\n    <tr>\n      <th>1</th>\n      <td>0</td>\n      <td>79</td>\n      <td>False</td>\n      <td>4.747960</td>\n      <td>False</td>\n      <td>0.634146</td>\n      <td>3</td>\n      <td>0</td>\n      <td>5</td>\n      <td>0</td>\n      <td>False</td>\n      <td>2</td>\n      <td>0.438186</td>\n      <td>False</td>\n    </tr>\n    <tr>\n      <th>2</th>\n      <td>0</td>\n      <td>62</td>\n      <td>False</td>\n      <td>4.453623</td>\n      <td>False</td>\n      <td>0.040000</td>\n      <td>4</td>\n      <td>0</td>\n      <td>1</td>\n      <td>1</td>\n      <td>False</td>\n      <td>1</td>\n      <td>0.606254</td>\n      <td>True</td>\n    </tr>\n    <tr>\n      <th>3</th>\n      <td>0</td>\n      <td>24</td>\n      <td>False</td>\n      <td>3.970176</td>\n      <td>False</td>\n      <td>0.000000</td>\n      <td>1</td>\n      <td>0</td>\n      <td>0</td>\n      <td>0</td>\n      <td>False</td>\n      <td>0</td>\n      <td>0.680827</td>\n      <td>False</td>\n    </tr>\n    <tr>\n      <th>4</th>\n      <td>0</td>\n      <td>69</td>\n      <td>False</td>\n      <td>4.548398</td>\n      <td>False</td>\n      <td>0.441860</td>\n      <td>2</td>\n      <td>0</td>\n      <td>0</td>\n      <td>0</td>\n      <td>True</td>\n      <td>1</td>\n      <td>0.474778</td>\n      <td>False</td>\n    </tr>\n    <tr>\n      <th>...</th>\n      <td>...</td>\n      <td>...</td>\n      <td>...</td>\n      <td>...</td>\n      <td>...</td>\n      <td>...</td>\n      <td>...</td>\n      <td>...</td>\n      <td>...</td>\n      <td>...</td>\n      <td>...</td>\n      <td>...</td>\n      <td>...</td>\n      <td>...</td>\n    </tr>\n    <tr>\n      <th>9995</th>\n      <td>1</td>\n      <td>25</td>\n      <td>False</td>\n      <td>3.943465</td>\n      <td>False</td>\n      <td>0.100000</td>\n      <td>2</td>\n      <td>0</td>\n      <td>1</td>\n      <td>0</td>\n      <td>False</td>\n      <td>1</td>\n      <td>0.291508</td>\n      <td>False</td>\n    </tr>\n    <tr>\n      <th>9996</th>\n      <td>1</td>\n      <td>11</td>\n      <td>False</td>\n      <td>2.663533</td>\n      <td>False</td>\n      <td>0.000000</td>\n      <td>2</td>\n      <td>0</td>\n      <td>0</td>\n      <td>0</td>\n      <td>False</td>\n      <td>0</td>\n      <td>0.447169</td>\n      <td>False</td>\n    </tr>\n    <tr>\n      <th>9997</th>\n      <td>1</td>\n      <td>10</td>\n      <td>False</td>\n      <td>2.921928</td>\n      <td>False</td>\n      <td>0.000000</td>\n      <td>2</td>\n      <td>0</td>\n      <td>0</td>\n      <td>0</td>\n      <td>False</td>\n      <td>0</td>\n      <td>0.464386</td>\n      <td>False</td>\n    </tr>\n    <tr>\n      <th>9998</th>\n      <td>1</td>\n      <td>21</td>\n      <td>False</td>\n      <td>3.916127</td>\n      <td>False</td>\n      <td>0.636364</td>\n      <td>2</td>\n      <td>0</td>\n      <td>1</td>\n      <td>0</td>\n      <td>False</td>\n      <td>1</td>\n      <td>0.323078</td>\n      <td>False</td>\n    </tr>\n    <tr>\n      <th>9999</th>\n      <td>1</td>\n      <td>14</td>\n      <td>False</td>\n      <td>3.235926</td>\n      <td>False</td>\n      <td>0.000000</td>\n      <td>1</td>\n      <td>0</td>\n      <td>0</td>\n      <td>0</td>\n      <td>False</td>\n      <td>0</td>\n      <td>0.271954</td>\n      <td>False</td>\n    </tr>\n  </tbody>\n</table>\n<p>10000 rows × 14 columns</p>\n</div>"
     },
     "execution_count": 203,
     "metadata": {},
     "output_type": "execute_result"
    }
   ],
   "source": [
    "# 0 is for legitimate url, 1 for phishing websites\n",
    "data['label'] = pd.factorize(data['label'])[0] #what is the use of [0]??\n",
    "\n",
    "data"
   ]
  },
  {
   "cell_type": "markdown",
   "metadata": {},
   "source": [
    "## Assign IV and TV"
   ]
  },
  {
   "cell_type": "code",
   "execution_count": 204,
   "metadata": {
    "ExecuteTime": {
     "end_time": "2024-10-24T01:12:24.022452Z",
     "start_time": "2024-10-24T01:12:24.016486Z"
    }
   },
   "outputs": [],
   "source": [
    "X = data.drop('label', axis = 1) #IV\n",
    "Y = data['label'] #TV"
   ]
  },
  {
   "cell_type": "markdown",
   "metadata": {},
   "source": [
    "## Data Split / Model Building"
   ]
  },
  {
   "cell_type": "code",
   "execution_count": 205,
   "metadata": {
    "ExecuteTime": {
     "end_time": "2024-10-24T01:12:24.034379Z",
     "start_time": "2024-10-24T01:12:24.024366Z"
    }
   },
   "outputs": [],
   "source": [
    "from sklearn.model_selection import train_test_split\n",
    "X_train, X_test, Y_train, Y_test = train_test_split(X, Y, test_size = 0.20, random_state = 1)"
   ]
  },
  {
   "cell_type": "code",
   "execution_count": 206,
   "metadata": {
    "ExecuteTime": {
     "end_time": "2024-10-24T01:12:24.051916Z",
     "start_time": "2024-10-24T01:12:24.035393Z"
    }
   },
   "outputs": [
    {
     "data": {
      "text/plain": "      url_length  starts_with_ip  url_entropy  has_punycode  \\\n9953          10           False     3.121928         False   \n3850          39           False     4.015921         False   \n4962          97           False     4.778498         False   \n3886          27           False     4.060262         False   \n5437          10           False     2.646439         False   \n\n      digit_letter_ratio  dot_count  at_count  dash_count  tld_count  \\\n9953            0.000000          1         0           1          0   \n3850            0.100000          1         0           0          0   \n4962            0.641509          3         0           1          0   \n3886            0.150000          1         0           0          0   \n5437            0.000000          2         0           0          0   \n\n      domain_has_digits  subdomain_count  nan_char_entropy  has_internal_links  \n9953              False                0          0.332193               False  \n3850               True                0          0.608011               False  \n4962              False                1          0.514324               False  \n3886               True                0          0.630354               False  \n5437              False                0          0.464386               False  ",
      "text/html": "<div>\n<style scoped>\n    .dataframe tbody tr th:only-of-type {\n        vertical-align: middle;\n    }\n\n    .dataframe tbody tr th {\n        vertical-align: top;\n    }\n\n    .dataframe thead th {\n        text-align: right;\n    }\n</style>\n<table border=\"1\" class=\"dataframe\">\n  <thead>\n    <tr style=\"text-align: right;\">\n      <th></th>\n      <th>url_length</th>\n      <th>starts_with_ip</th>\n      <th>url_entropy</th>\n      <th>has_punycode</th>\n      <th>digit_letter_ratio</th>\n      <th>dot_count</th>\n      <th>at_count</th>\n      <th>dash_count</th>\n      <th>tld_count</th>\n      <th>domain_has_digits</th>\n      <th>subdomain_count</th>\n      <th>nan_char_entropy</th>\n      <th>has_internal_links</th>\n    </tr>\n  </thead>\n  <tbody>\n    <tr>\n      <th>9953</th>\n      <td>10</td>\n      <td>False</td>\n      <td>3.121928</td>\n      <td>False</td>\n      <td>0.000000</td>\n      <td>1</td>\n      <td>0</td>\n      <td>1</td>\n      <td>0</td>\n      <td>False</td>\n      <td>0</td>\n      <td>0.332193</td>\n      <td>False</td>\n    </tr>\n    <tr>\n      <th>3850</th>\n      <td>39</td>\n      <td>False</td>\n      <td>4.015921</td>\n      <td>False</td>\n      <td>0.100000</td>\n      <td>1</td>\n      <td>0</td>\n      <td>0</td>\n      <td>0</td>\n      <td>True</td>\n      <td>0</td>\n      <td>0.608011</td>\n      <td>False</td>\n    </tr>\n    <tr>\n      <th>4962</th>\n      <td>97</td>\n      <td>False</td>\n      <td>4.778498</td>\n      <td>False</td>\n      <td>0.641509</td>\n      <td>3</td>\n      <td>0</td>\n      <td>1</td>\n      <td>0</td>\n      <td>False</td>\n      <td>1</td>\n      <td>0.514324</td>\n      <td>False</td>\n    </tr>\n    <tr>\n      <th>3886</th>\n      <td>27</td>\n      <td>False</td>\n      <td>4.060262</td>\n      <td>False</td>\n      <td>0.150000</td>\n      <td>1</td>\n      <td>0</td>\n      <td>0</td>\n      <td>0</td>\n      <td>True</td>\n      <td>0</td>\n      <td>0.630354</td>\n      <td>False</td>\n    </tr>\n    <tr>\n      <th>5437</th>\n      <td>10</td>\n      <td>False</td>\n      <td>2.646439</td>\n      <td>False</td>\n      <td>0.000000</td>\n      <td>2</td>\n      <td>0</td>\n      <td>0</td>\n      <td>0</td>\n      <td>False</td>\n      <td>0</td>\n      <td>0.464386</td>\n      <td>False</td>\n    </tr>\n  </tbody>\n</table>\n</div>"
     },
     "execution_count": 206,
     "metadata": {},
     "output_type": "execute_result"
    }
   ],
   "source": [
    "X_test.head(5)\n",
    "# or X_train[0:5]"
   ]
  },
  {
   "cell_type": "code",
   "execution_count": 207,
   "metadata": {
    "ExecuteTime": {
     "end_time": "2024-10-24T01:12:24.063642Z",
     "start_time": "2024-10-24T01:12:24.053002Z"
    }
   },
   "outputs": [
    {
     "data": {
      "text/plain": "label\n1    4021\n0    3979\nName: count, dtype: int64"
     },
     "execution_count": 207,
     "metadata": {},
     "output_type": "execute_result"
    }
   ],
   "source": [
    "#Y_test.head()\n",
    "Y_train.value_counts()"
   ]
  },
  {
   "cell_type": "code",
   "execution_count": 208,
   "metadata": {
    "ExecuteTime": {
     "end_time": "2024-10-24T01:12:24.074011Z",
     "start_time": "2024-10-24T01:12:24.066868Z"
    }
   },
   "outputs": [
    {
     "data": {
      "text/plain": "(2000,)"
     },
     "execution_count": 208,
     "metadata": {},
     "output_type": "execute_result"
    }
   ],
   "source": [
    "Y_test.shape # 0.2 of the data set"
   ]
  },
  {
   "cell_type": "markdown",
   "metadata": {},
   "source": [
    "## KNN"
   ]
  },
  {
   "cell_type": "code",
   "execution_count": 209,
   "metadata": {
    "ExecuteTime": {
     "end_time": "2024-10-24T01:12:24.082483Z",
     "start_time": "2024-10-24T01:12:24.075637Z"
    }
   },
   "outputs": [],
   "source": [
    "import seaborn as sns\n",
    "from sklearn.neighbors import KNeighborsClassifier\n",
    "from sklearn.metrics import classification_report, confusion_matrix, accuracy_score, precision_score, recall_score, f1_score"
   ]
  },
  {
   "cell_type": "code",
   "execution_count": 210,
   "metadata": {
    "ExecuteTime": {
     "end_time": "2024-10-24T01:12:24.261824Z",
     "start_time": "2024-10-24T01:12:24.083497Z"
    }
   },
   "outputs": [
    {
     "name": "stdout",
     "output_type": "stream",
     "text": [
      "KNN - Accuracy: 96.700.\n",
      "\n",
      "Classification Report\n",
      "              precision    recall  f1-score   support\n",
      "\n",
      "           0       0.97      0.97      0.97      1021\n",
      "           1       0.97      0.96      0.97       979\n",
      "\n",
      "    accuracy                           0.97      2000\n",
      "   macro avg       0.97      0.97      0.97      2000\n",
      "weighted avg       0.97      0.97      0.97      2000\n"
     ]
    }
   ],
   "source": [
    "# ATTANTION CECI EST UN ENORME COPIER COLLER IL SAGIRAI DE COMPRENDRE POUR JUGER CE SCRIPT\n",
    "\n",
    "knn = KNeighborsClassifier()\n",
    "knn.fit(X_train, Y_train)\n",
    "y_pred = knn.predict(X_test)\n",
    "acc = accuracy_score(Y_test, y_pred)*100\n",
    "print(\"KNN - Accuracy: {:.3f}.\".format(acc))\n",
    "print(\"\\nClassification Report\")\n",
    "print(classification_report(Y_test, y_pred))"
   ]
  },
  {
   "cell_type": "markdown",
   "metadata": {},
   "source": [
    "### ANALYSE THE RESULTS : \n",
    "PLEASE DO SO"
   ]
  },
  {
   "cell_type": "markdown",
   "metadata": {},
   "source": [
    "## Confusion Matrix"
   ]
  },
  {
   "cell_type": "code",
   "execution_count": 211,
   "metadata": {
    "ExecuteTime": {
     "end_time": "2024-10-24T01:12:24.271056Z",
     "start_time": "2024-10-24T01:12:24.262838Z"
    }
   },
   "outputs": [
    {
     "name": "stdout",
     "output_type": "stream",
     "text": [
      "[[990  31]\n",
      " [ 35 944]]\n"
     ]
    }
   ],
   "source": [
    "cm = confusion_matrix(Y_test, y_pred)\n",
    "print(cm)"
   ]
  },
  {
   "cell_type": "code",
   "execution_count": 212,
   "metadata": {
    "ExecuteTime": {
     "end_time": "2024-10-24T01:12:24.494556Z",
     "start_time": "2024-10-24T01:12:24.272604Z"
    }
   },
   "outputs": [
    {
     "data": {
      "text/plain": "Text(0.5, 1.0, 'Confusion Matrix')"
     },
     "execution_count": 212,
     "metadata": {},
     "output_type": "execute_result"
    },
    {
     "data": {
      "text/plain": "<Figure size 300x300 with 2 Axes>",
      "image/png": "[encoded data removed]"
     },
     "metadata": {},
     "output_type": "display_data"
    }
   ],
   "source": [
    "plt.figure(figsize=(3,3))\n",
    "sns.heatmap(cm, annot=True, linewidths=.5, square = True, cmap = 'Blues')\n",
    "\n",
    "plt.xticks([0, 1], ['legitimate', 'phishing'])\n",
    "plt.yticks([0, 1], ['legitimate', 'phishing'])\n",
    "\n",
    "plt.xlabel('Predicted label')\n",
    "plt.ylabel('Actual label')\n",
    "\n",
    "\n",
    "\n",
    "plt.title(\"Confusion Matrix\", size = 12)"
   ]
  },
  {
   "cell_type": "markdown",
   "source": [
    "### Model building with Tensorflow"
   ],
   "metadata": {
    "collapsed": false
   }
  },
  {
   "cell_type": "code",
   "outputs": [],
   "source": [
    "import tensorflow as tf\n",
    "from tensorflow import keras\n",
    "from keras import Sequential\n",
    "from keras.layers import Dense,Input"
   ],
   "metadata": {
    "collapsed": false,
    "ExecuteTime": {
     "end_time": "2024-10-24T01:12:24.500083Z",
     "start_time": "2024-10-24T01:12:24.495569Z"
    }
   },
   "execution_count": 213
  },
  {
   "cell_type": "markdown",
   "source": [
    "Create model with 1 input layer, 2 hidden layer and 1 output layer"
   ],
   "metadata": {
    "collapsed": false
   }
  },
  {
   "cell_type": "code",
   "outputs": [],
   "source": [
    "model = Sequential()\n",
    "\n",
    "model.add(Input(shape=(X_train.shape[1],))) # input layer\n",
    "model.add(Dense(40,activation='relu')) # hidden layer\n",
    "model.add(Dense(20,activation='relu')) # hidden layer\n",
    "model.add(Dense(1,activation='sigmoid')) # output layer"
   ],
   "metadata": {
    "collapsed": false,
    "ExecuteTime": {
     "end_time": "2024-10-24T01:12:24.548531Z",
     "start_time": "2024-10-24T01:12:24.501623Z"
    }
   },
   "execution_count": 214
  },
  {
   "cell_type": "code",
   "outputs": [
    {
     "data": {
      "text/plain": "\u001B[1mModel: \"sequential_5\"\u001B[0m\n",
      "text/html": "<pre style=\"white-space:pre;overflow-x:auto;line-height:normal;font-family:Menlo,'DejaVu Sans Mono',consolas,'Courier New',monospace\"><span style=\"font-weight: bold\">Model: \"sequential_5\"</span>\n</pre>\n"
     },
     "metadata": {},
     "output_type": "display_data"
    },
    {
     "data": {
      "text/plain": "┏━━━━━━━━━━━━━━━━━━━━━━━━━━━━━━━━━┳━━━━━━━━━━━━━━━━━━━━━━━━┳━━━━━━━━━━━━━━━┓\n┃\u001B[1m \u001B[0m\u001B[1mLayer (type)                   \u001B[0m\u001B[1m \u001B[0m┃\u001B[1m \u001B[0m\u001B[1mOutput Shape          \u001B[0m\u001B[1m \u001B[0m┃\u001B[1m \u001B[0m\u001B[1m      Param #\u001B[0m\u001B[1m \u001B[0m┃\n┡━━━━━━━━━━━━━━━━━━━━━━━━━━━━━━━━━╇━━━━━━━━━━━━━━━━━━━━━━━━╇━━━━━━━━━━━━━━━┩\n│ dense_15 (\u001B[38;5;33mDense\u001B[0m)                │ (\u001B[38;5;45mNone\u001B[0m, \u001B[38;5;34m40\u001B[0m)             │           \u001B[38;5;34m560\u001B[0m │\n├─────────────────────────────────┼────────────────────────┼───────────────┤\n│ dense_16 (\u001B[38;5;33mDense\u001B[0m)                │ (\u001B[38;5;45mNone\u001B[0m, \u001B[38;5;34m20\u001B[0m)             │           \u001B[38;5;34m820\u001B[0m │\n├─────────────────────────────────┼────────────────────────┼───────────────┤\n│ dense_17 (\u001B[38;5;33mDense\u001B[0m)                │ (\u001B[38;5;45mNone\u001B[0m, \u001B[38;5;34m1\u001B[0m)              │            \u001B[38;5;34m21\u001B[0m │\n└─────────────────────────────────┴────────────────────────┴───────────────┘\n",
      "text/html": "<pre style=\"white-space:pre;overflow-x:auto;line-height:normal;font-family:Menlo,'DejaVu Sans Mono',consolas,'Courier New',monospace\">┏━━━━━━━━━━━━━━━━━━━━━━━━━━━━━━━━━┳━━━━━━━━━━━━━━━━━━━━━━━━┳━━━━━━━━━━━━━━━┓\n┃<span style=\"font-weight: bold\"> Layer (type)                    </span>┃<span style=\"font-weight: bold\"> Output Shape           </span>┃<span style=\"font-weight: bold\">       Param # </span>┃\n┡━━━━━━━━━━━━━━━━━━━━━━━━━━━━━━━━━╇━━━━━━━━━━━━━━━━━━━━━━━━╇━━━━━━━━━━━━━━━┩\n│ dense_15 (<span style=\"color: #0087ff; text-decoration-color: #0087ff\">Dense</span>)                │ (<span style=\"color: #00d7ff; text-decoration-color: #00d7ff\">None</span>, <span style=\"color: #00af00; text-decoration-color: #00af00\">40</span>)             │           <span style=\"color: #00af00; text-decoration-color: #00af00\">560</span> │\n├─────────────────────────────────┼────────────────────────┼───────────────┤\n│ dense_16 (<span style=\"color: #0087ff; text-decoration-color: #0087ff\">Dense</span>)                │ (<span style=\"color: #00d7ff; text-decoration-color: #00d7ff\">None</span>, <span style=\"color: #00af00; text-decoration-color: #00af00\">20</span>)             │           <span style=\"color: #00af00; text-decoration-color: #00af00\">820</span> │\n├─────────────────────────────────┼────────────────────────┼───────────────┤\n│ dense_17 (<span style=\"color: #0087ff; text-decoration-color: #0087ff\">Dense</span>)                │ (<span style=\"color: #00d7ff; text-decoration-color: #00d7ff\">None</span>, <span style=\"color: #00af00; text-decoration-color: #00af00\">1</span>)              │            <span style=\"color: #00af00; text-decoration-color: #00af00\">21</span> │\n└─────────────────────────────────┴────────────────────────┴───────────────┘\n</pre>\n"
     },
     "metadata": {},
     "output_type": "display_data"
    },
    {
     "data": {
      "text/plain": "\u001B[1m Total params: \u001B[0m\u001B[38;5;34m1,401\u001B[0m (5.47 KB)\n",
      "text/html": "<pre style=\"white-space:pre;overflow-x:auto;line-height:normal;font-family:Menlo,'DejaVu Sans Mono',consolas,'Courier New',monospace\"><span style=\"font-weight: bold\"> Total params: </span><span style=\"color: #00af00; text-decoration-color: #00af00\">1,401</span> (5.47 KB)\n</pre>\n"
     },
     "metadata": {},
     "output_type": "display_data"
    },
    {
     "data": {
      "text/plain": "\u001B[1m Trainable params: \u001B[0m\u001B[38;5;34m1,401\u001B[0m (5.47 KB)\n",
      "text/html": "<pre style=\"white-space:pre;overflow-x:auto;line-height:normal;font-family:Menlo,'DejaVu Sans Mono',consolas,'Courier New',monospace\"><span style=\"font-weight: bold\"> Trainable params: </span><span style=\"color: #00af00; text-decoration-color: #00af00\">1,401</span> (5.47 KB)\n</pre>\n"
     },
     "metadata": {},
     "output_type": "display_data"
    },
    {
     "data": {
      "text/plain": "\u001B[1m Non-trainable params: \u001B[0m\u001B[38;5;34m0\u001B[0m (0.00 B)\n",
      "text/html": "<pre style=\"white-space:pre;overflow-x:auto;line-height:normal;font-family:Menlo,'DejaVu Sans Mono',consolas,'Courier New',monospace\"><span style=\"font-weight: bold\"> Non-trainable params: </span><span style=\"color: #00af00; text-decoration-color: #00af00\">0</span> (0.00 B)\n</pre>\n"
     },
     "metadata": {},
     "output_type": "display_data"
    }
   ],
   "source": [
    "model.summary()"
   ],
   "metadata": {
    "collapsed": false,
    "ExecuteTime": {
     "end_time": "2024-10-24T01:12:24.566297Z",
     "start_time": "2024-10-24T01:12:24.549543Z"
    }
   },
   "execution_count": 215
  },
  {
   "cell_type": "code",
   "outputs": [],
   "source": [
    "model.compile(loss='binary_crossentropy',optimizer='Adam',metrics=['accuracy'])"
   ],
   "metadata": {
    "collapsed": false,
    "ExecuteTime": {
     "end_time": "2024-10-24T01:12:24.576638Z",
     "start_time": "2024-10-24T01:12:24.568311Z"
    }
   },
   "execution_count": 216
  },
  {
   "cell_type": "code",
   "outputs": [
    {
     "name": "stdout",
     "output_type": "stream",
     "text": [
      "<class 'numpy.ndarray'> <class 'numpy.ndarray'>\n"
     ]
    }
   ],
   "source": [
    "X_train_arr = X_train.to_numpy()\n",
    "Y_train_arr = Y_train.to_numpy()\n",
    "print(type(X_train_arr), type(Y_train_arr))"
   ],
   "metadata": {
    "collapsed": false,
    "ExecuteTime": {
     "end_time": "2024-10-24T01:12:24.587036Z",
     "start_time": "2024-10-24T01:12:24.579362Z"
    }
   },
   "execution_count": 217
  },
  {
   "cell_type": "code",
   "outputs": [
    {
     "name": "stdout",
     "output_type": "stream",
     "text": [
      "X_train shape: (8000, 13)\n",
      "Y_train shape: (8000,)\n"
     ]
    }
   ],
   "source": [
    "print(\"X_train shape:\", X_train_arr.shape)\n",
    "print(\"Y_train shape:\", Y_train_arr.shape)"
   ],
   "metadata": {
    "collapsed": false,
    "ExecuteTime": {
     "end_time": "2024-10-24T01:12:24.594764Z",
     "start_time": "2024-10-24T01:12:24.588756Z"
    }
   },
   "execution_count": 218
  },
  {
   "cell_type": "code",
   "outputs": [
    {
     "name": "stdout",
     "output_type": "stream",
     "text": [
      "X_test shape: (2000, 13)\n",
      "Y_test shape: (2000,)\n"
     ]
    }
   ],
   "source": [
    "X_test_arr = X_test.to_numpy()\n",
    "Y_test_arr = Y_test.to_numpy()\n",
    "print(\"X_test shape:\", X_test_arr.shape)\n",
    "print(\"Y_test shape:\", Y_test_arr.shape)\n"
   ],
   "metadata": {
    "collapsed": false,
    "ExecuteTime": {
     "end_time": "2024-10-24T01:12:24.803758Z",
     "start_time": "2024-10-24T01:12:24.794928Z"
    }
   },
   "execution_count": 219
  },
  {
   "cell_type": "code",
   "outputs": [],
   "source": [
    "# Convert to tensor\n",
    "X_train_tsr = tf.convert_to_tensor(X_train_arr, dtype=tf.float32)\n",
    "Y_train_tsr = tf.convert_to_tensor(Y_train_arr, dtype=tf.float32)\n",
    "X_test_tsr = tf.convert_to_tensor(X_test_arr, dtype=tf.float32)\n",
    "Y_test_tsr = tf.convert_to_tensor(Y_test_arr, dtype=tf.float32)"
   ],
   "metadata": {
    "collapsed": false,
    "ExecuteTime": {
     "end_time": "2024-10-24T01:12:24.897446Z",
     "start_time": "2024-10-24T01:12:24.885273Z"
    }
   },
   "execution_count": 220
  },
  {
   "cell_type": "markdown",
   "source": [
    "#### Model Training"
   ],
   "metadata": {
    "collapsed": false
   }
  },
  {
   "cell_type": "code",
   "outputs": [
    {
     "name": "stdout",
     "output_type": "stream",
     "text": [
      "Epoch 1/120\n",
      "\u001B[1m160/160\u001B[0m \u001B[32m━━━━━━━━━━━━━━━━━━━━\u001B[0m\u001B[37m\u001B[0m \u001B[1m2s\u001B[0m 3ms/step - accuracy: 0.7336 - loss: 0.5043 - val_accuracy: 0.8750 - val_loss: 0.3027\n",
      "Epoch 2/120\n",
      "\u001B[1m160/160\u001B[0m \u001B[32m━━━━━━━━━━━━━━━━━━━━\u001B[0m\u001B[37m\u001B[0m \u001B[1m0s\u001B[0m 2ms/step - accuracy: 0.8943 - loss: 0.2589 - val_accuracy: 0.9169 - val_loss: 0.2515\n",
      "Epoch 3/120\n",
      "\u001B[1m160/160\u001B[0m \u001B[32m━━━━━━━━━━━━━━━━━━━━\u001B[0m\u001B[37m\u001B[0m \u001B[1m0s\u001B[0m 2ms/step - accuracy: 0.9283 - loss: 0.1931 - val_accuracy: 0.9456 - val_loss: 0.1657\n",
      "Epoch 4/120\n",
      "\u001B[1m160/160\u001B[0m \u001B[32m━━━━━━━━━━━━━━━━━━━━\u001B[0m\u001B[37m\u001B[0m \u001B[1m0s\u001B[0m 2ms/step - accuracy: 0.9540 - loss: 0.1465 - val_accuracy: 0.9731 - val_loss: 0.1169\n",
      "Epoch 5/120\n",
      "\u001B[1m160/160\u001B[0m \u001B[32m━━━━━━━━━━━━━━━━━━━━\u001B[0m\u001B[37m\u001B[0m \u001B[1m0s\u001B[0m 1ms/step - accuracy: 0.9740 - loss: 0.1101 - val_accuracy: 0.9725 - val_loss: 0.1116\n",
      "Epoch 6/120\n",
      "\u001B[1m160/160\u001B[0m \u001B[32m━━━━━━━━━━━━━━━━━━━━\u001B[0m\u001B[37m\u001B[0m \u001B[1m0s\u001B[0m 1ms/step - accuracy: 0.9872 - loss: 0.0660 - val_accuracy: 0.9919 - val_loss: 0.0525\n",
      "Epoch 7/120\n",
      "\u001B[1m160/160\u001B[0m \u001B[32m━━━━━━━━━━━━━━━━━━━━\u001B[0m\u001B[37m\u001B[0m \u001B[1m0s\u001B[0m 1ms/step - accuracy: 0.9937 - loss: 0.0452 - val_accuracy: 0.9944 - val_loss: 0.0361\n",
      "Epoch 8/120\n",
      "\u001B[1m160/160\u001B[0m \u001B[32m━━━━━━━━━━━━━━━━━━━━\u001B[0m\u001B[37m\u001B[0m \u001B[1m0s\u001B[0m 1ms/step - accuracy: 0.9937 - loss: 0.0299 - val_accuracy: 0.9950 - val_loss: 0.0323\n",
      "Epoch 9/120\n",
      "\u001B[1m160/160\u001B[0m \u001B[32m━━━━━━━━━━━━━━━━━━━━\u001B[0m\u001B[37m\u001B[0m \u001B[1m0s\u001B[0m 2ms/step - accuracy: 0.9941 - loss: 0.0297 - val_accuracy: 0.9912 - val_loss: 0.0404\n",
      "Epoch 10/120\n",
      "\u001B[1m160/160\u001B[0m \u001B[32m━━━━━━━━━━━━━━━━━━━━\u001B[0m\u001B[37m\u001B[0m \u001B[1m0s\u001B[0m 2ms/step - accuracy: 0.9960 - loss: 0.0212 - val_accuracy: 0.9956 - val_loss: 0.0187\n",
      "Epoch 11/120\n",
      "\u001B[1m160/160\u001B[0m \u001B[32m━━━━━━━━━━━━━━━━━━━━\u001B[0m\u001B[37m\u001B[0m \u001B[1m0s\u001B[0m 2ms/step - accuracy: 0.9975 - loss: 0.0126 - val_accuracy: 0.9969 - val_loss: 0.0147\n",
      "Epoch 12/120\n",
      "\u001B[1m160/160\u001B[0m \u001B[32m━━━━━━━━━━━━━━━━━━━━\u001B[0m\u001B[37m\u001B[0m \u001B[1m0s\u001B[0m 2ms/step - accuracy: 0.9971 - loss: 0.0151 - val_accuracy: 0.9956 - val_loss: 0.0131\n",
      "Epoch 13/120\n",
      "\u001B[1m160/160\u001B[0m \u001B[32m━━━━━━━━━━━━━━━━━━━━\u001B[0m\u001B[37m\u001B[0m \u001B[1m0s\u001B[0m 2ms/step - accuracy: 0.9987 - loss: 0.0089 - val_accuracy: 0.9975 - val_loss: 0.0113\n",
      "Epoch 14/120\n",
      "\u001B[1m160/160\u001B[0m \u001B[32m━━━━━━━━━━━━━━━━━━━━\u001B[0m\u001B[37m\u001B[0m \u001B[1m0s\u001B[0m 2ms/step - accuracy: 0.9994 - loss: 0.0070 - val_accuracy: 0.9975 - val_loss: 0.0088\n",
      "Epoch 15/120\n",
      "\u001B[1m160/160\u001B[0m \u001B[32m━━━━━━━━━━━━━━━━━━━━\u001B[0m\u001B[37m\u001B[0m \u001B[1m0s\u001B[0m 2ms/step - accuracy: 0.9987 - loss: 0.0079 - val_accuracy: 0.9969 - val_loss: 0.0097\n",
      "Epoch 16/120\n",
      "\u001B[1m160/160\u001B[0m \u001B[32m━━━━━━━━━━━━━━━━━━━━\u001B[0m\u001B[37m\u001B[0m \u001B[1m0s\u001B[0m 2ms/step - accuracy: 0.9979 - loss: 0.0093 - val_accuracy: 0.9987 - val_loss: 0.0062\n",
      "Epoch 17/120\n",
      "\u001B[1m160/160\u001B[0m \u001B[32m━━━━━━━━━━━━━━━━━━━━\u001B[0m\u001B[37m\u001B[0m \u001B[1m0s\u001B[0m 2ms/step - accuracy: 0.9995 - loss: 0.0044 - val_accuracy: 0.9981 - val_loss: 0.0060\n",
      "Epoch 18/120\n",
      "\u001B[1m160/160\u001B[0m \u001B[32m━━━━━━━━━━━━━━━━━━━━\u001B[0m\u001B[37m\u001B[0m \u001B[1m0s\u001B[0m 2ms/step - accuracy: 0.9987 - loss: 0.0057 - val_accuracy: 0.9969 - val_loss: 0.0068\n",
      "Epoch 19/120\n",
      "\u001B[1m160/160\u001B[0m \u001B[32m━━━━━━━━━━━━━━━━━━━━\u001B[0m\u001B[37m\u001B[0m \u001B[1m0s\u001B[0m 2ms/step - accuracy: 1.0000 - loss: 0.0023 - val_accuracy: 0.9987 - val_loss: 0.0051\n",
      "Epoch 20/120\n",
      "\u001B[1m160/160\u001B[0m \u001B[32m━━━━━━━━━━━━━━━━━━━━\u001B[0m\u001B[37m\u001B[0m \u001B[1m0s\u001B[0m 1ms/step - accuracy: 0.9993 - loss: 0.0036 - val_accuracy: 0.9994 - val_loss: 0.0051\n",
      "Epoch 21/120\n",
      "\u001B[1m160/160\u001B[0m \u001B[32m━━━━━━━━━━━━━━━━━━━━\u001B[0m\u001B[37m\u001B[0m \u001B[1m0s\u001B[0m 2ms/step - accuracy: 0.9995 - loss: 0.0024 - val_accuracy: 0.9981 - val_loss: 0.0065\n",
      "Epoch 22/120\n",
      "\u001B[1m160/160\u001B[0m \u001B[32m━━━━━━━━━━━━━━━━━━━━\u001B[0m\u001B[37m\u001B[0m \u001B[1m0s\u001B[0m 2ms/step - accuracy: 0.9942 - loss: 0.0145 - val_accuracy: 0.9969 - val_loss: 0.0055\n",
      "Epoch 23/120\n",
      "\u001B[1m160/160\u001B[0m \u001B[32m━━━━━━━━━━━━━━━━━━━━\u001B[0m\u001B[37m\u001B[0m \u001B[1m0s\u001B[0m 2ms/step - accuracy: 0.9994 - loss: 0.0028 - val_accuracy: 0.9737 - val_loss: 0.0917\n",
      "Epoch 24/120\n",
      "\u001B[1m160/160\u001B[0m \u001B[32m━━━━━━━━━━━━━━━━━━━━\u001B[0m\u001B[37m\u001B[0m \u001B[1m0s\u001B[0m 2ms/step - accuracy: 0.9921 - loss: 0.0410 - val_accuracy: 0.9975 - val_loss: 0.0146\n",
      "Epoch 25/120\n",
      "\u001B[1m160/160\u001B[0m \u001B[32m━━━━━━━━━━━━━━━━━━━━\u001B[0m\u001B[37m\u001B[0m \u001B[1m0s\u001B[0m 2ms/step - accuracy: 0.9981 - loss: 0.0071 - val_accuracy: 0.9969 - val_loss: 0.0047\n",
      "Epoch 26/120\n",
      "\u001B[1m160/160\u001B[0m \u001B[32m━━━━━━━━━━━━━━━━━━━━\u001B[0m\u001B[37m\u001B[0m \u001B[1m0s\u001B[0m 2ms/step - accuracy: 0.9999 - loss: 8.5370e-04 - val_accuracy: 0.9975 - val_loss: 0.0038\n",
      "Epoch 27/120\n",
      "\u001B[1m160/160\u001B[0m \u001B[32m━━━━━━━━━━━━━━━━━━━━\u001B[0m\u001B[37m\u001B[0m \u001B[1m0s\u001B[0m 2ms/step - accuracy: 1.0000 - loss: 5.7409e-04 - val_accuracy: 0.9975 - val_loss: 0.0035\n",
      "Epoch 28/120\n",
      "\u001B[1m160/160\u001B[0m \u001B[32m━━━━━━━━━━━━━━━━━━━━\u001B[0m\u001B[37m\u001B[0m \u001B[1m0s\u001B[0m 2ms/step - accuracy: 0.9999 - loss: 7.9595e-04 - val_accuracy: 0.9956 - val_loss: 0.0139\n",
      "Epoch 29/120\n",
      "\u001B[1m160/160\u001B[0m \u001B[32m━━━━━━━━━━━━━━━━━━━━\u001B[0m\u001B[37m\u001B[0m \u001B[1m0s\u001B[0m 1ms/step - accuracy: 0.9968 - loss: 0.0113 - val_accuracy: 0.9994 - val_loss: 0.0025\n",
      "Epoch 30/120\n",
      "\u001B[1m160/160\u001B[0m \u001B[32m━━━━━━━━━━━━━━━━━━━━\u001B[0m\u001B[37m\u001B[0m \u001B[1m0s\u001B[0m 1ms/step - accuracy: 1.0000 - loss: 4.8815e-04 - val_accuracy: 0.9994 - val_loss: 0.0025\n",
      "Epoch 31/120\n",
      "\u001B[1m160/160\u001B[0m \u001B[32m━━━━━━━━━━━━━━━━━━━━\u001B[0m\u001B[37m\u001B[0m \u001B[1m0s\u001B[0m 2ms/step - accuracy: 1.0000 - loss: 9.8179e-04 - val_accuracy: 0.9994 - val_loss: 0.0028\n",
      "Epoch 32/120\n",
      "\u001B[1m160/160\u001B[0m \u001B[32m━━━━━━━━━━━━━━━━━━━━\u001B[0m\u001B[37m\u001B[0m \u001B[1m0s\u001B[0m 1ms/step - accuracy: 0.9997 - loss: 0.0013 - val_accuracy: 0.9944 - val_loss: 0.0495\n",
      "Epoch 33/120\n",
      "\u001B[1m160/160\u001B[0m \u001B[32m━━━━━━━━━━━━━━━━━━━━\u001B[0m\u001B[37m\u001B[0m \u001B[1m0s\u001B[0m 1ms/step - accuracy: 0.9918 - loss: 0.0346 - val_accuracy: 0.9975 - val_loss: 0.0036\n",
      "Epoch 34/120\n",
      "\u001B[1m160/160\u001B[0m \u001B[32m━━━━━━━━━━━━━━━━━━━━\u001B[0m\u001B[37m\u001B[0m \u001B[1m0s\u001B[0m 1ms/step - accuracy: 1.0000 - loss: 6.1386e-04 - val_accuracy: 0.9981 - val_loss: 0.0030\n",
      "Epoch 35/120\n",
      "\u001B[1m160/160\u001B[0m \u001B[32m━━━━━━━━━━━━━━━━━━━━\u001B[0m\u001B[37m\u001B[0m \u001B[1m0s\u001B[0m 2ms/step - accuracy: 0.9979 - loss: 0.0044 - val_accuracy: 0.9969 - val_loss: 0.0102\n",
      "Epoch 36/120\n",
      "\u001B[1m160/160\u001B[0m \u001B[32m━━━━━━━━━━━━━━━━━━━━\u001B[0m\u001B[37m\u001B[0m \u001B[1m0s\u001B[0m 2ms/step - accuracy: 0.9999 - loss: 9.4389e-04 - val_accuracy: 0.9969 - val_loss: 0.0051\n",
      "Epoch 37/120\n",
      "\u001B[1m160/160\u001B[0m \u001B[32m━━━━━━━━━━━━━━━━━━━━\u001B[0m\u001B[37m\u001B[0m \u001B[1m0s\u001B[0m 2ms/step - accuracy: 0.9999 - loss: 5.8849e-04 - val_accuracy: 0.9975 - val_loss: 0.0058\n",
      "Epoch 38/120\n",
      "\u001B[1m160/160\u001B[0m \u001B[32m━━━━━━━━━━━━━━━━━━━━\u001B[0m\u001B[37m\u001B[0m \u001B[1m0s\u001B[0m 2ms/step - accuracy: 0.9996 - loss: 0.0014 - val_accuracy: 0.9987 - val_loss: 0.0055\n",
      "Epoch 39/120\n",
      "\u001B[1m160/160\u001B[0m \u001B[32m━━━━━━━━━━━━━━━━━━━━\u001B[0m\u001B[37m\u001B[0m \u001B[1m0s\u001B[0m 2ms/step - accuracy: 0.9954 - loss: 0.0174 - val_accuracy: 0.9975 - val_loss: 0.0042\n",
      "Epoch 40/120\n",
      "\u001B[1m160/160\u001B[0m \u001B[32m━━━━━━━━━━━━━━━━━━━━\u001B[0m\u001B[37m\u001B[0m \u001B[1m0s\u001B[0m 2ms/step - accuracy: 1.0000 - loss: 2.4751e-04 - val_accuracy: 0.9987 - val_loss: 0.0066\n",
      "Epoch 41/120\n",
      "\u001B[1m160/160\u001B[0m \u001B[32m━━━━━━━━━━━━━━━━━━━━\u001B[0m\u001B[37m\u001B[0m \u001B[1m0s\u001B[0m 1ms/step - accuracy: 1.0000 - loss: 8.8895e-04 - val_accuracy: 0.9987 - val_loss: 0.0026\n",
      "Epoch 42/120\n",
      "\u001B[1m160/160\u001B[0m \u001B[32m━━━━━━━━━━━━━━━━━━━━\u001B[0m\u001B[37m\u001B[0m \u001B[1m0s\u001B[0m 1ms/step - accuracy: 0.9997 - loss: 7.2569e-04 - val_accuracy: 0.9981 - val_loss: 0.0038\n",
      "Epoch 43/120\n",
      "\u001B[1m160/160\u001B[0m \u001B[32m━━━━━━━━━━━━━━━━━━━━\u001B[0m\u001B[37m\u001B[0m \u001B[1m0s\u001B[0m 1ms/step - accuracy: 0.9996 - loss: 0.0018 - val_accuracy: 0.9981 - val_loss: 0.0091\n",
      "Epoch 44/120\n",
      "\u001B[1m160/160\u001B[0m \u001B[32m━━━━━━━━━━━━━━━━━━━━\u001B[0m\u001B[37m\u001B[0m \u001B[1m0s\u001B[0m 2ms/step - accuracy: 0.9976 - loss: 0.0096 - val_accuracy: 0.9975 - val_loss: 0.0044\n",
      "Epoch 45/120\n",
      "\u001B[1m160/160\u001B[0m \u001B[32m━━━━━━━━━━━━━━━━━━━━\u001B[0m\u001B[37m\u001B[0m \u001B[1m0s\u001B[0m 2ms/step - accuracy: 0.9999 - loss: 5.4348e-04 - val_accuracy: 0.9944 - val_loss: 0.0341\n",
      "Epoch 46/120\n",
      "\u001B[1m160/160\u001B[0m \u001B[32m━━━━━━━━━━━━━━━━━━━━\u001B[0m\u001B[37m\u001B[0m \u001B[1m0s\u001B[0m 1ms/step - accuracy: 0.9916 - loss: 0.0268 - val_accuracy: 0.9969 - val_loss: 0.0085\n",
      "Epoch 47/120\n",
      "\u001B[1m160/160\u001B[0m \u001B[32m━━━━━━━━━━━━━━━━━━━━\u001B[0m\u001B[37m\u001B[0m \u001B[1m0s\u001B[0m 1ms/step - accuracy: 0.9999 - loss: 0.0013 - val_accuracy: 0.9975 - val_loss: 0.0149\n",
      "Epoch 48/120\n",
      "\u001B[1m160/160\u001B[0m \u001B[32m━━━━━━━━━━━━━━━━━━━━\u001B[0m\u001B[37m\u001B[0m \u001B[1m0s\u001B[0m 2ms/step - accuracy: 0.9998 - loss: 0.0011 - val_accuracy: 0.9981 - val_loss: 0.0074\n",
      "Epoch 49/120\n",
      "\u001B[1m160/160\u001B[0m \u001B[32m━━━━━━━━━━━━━━━━━━━━\u001B[0m\u001B[37m\u001B[0m \u001B[1m0s\u001B[0m 2ms/step - accuracy: 0.9986 - loss: 0.0065 - val_accuracy: 0.9969 - val_loss: 0.0140\n",
      "Epoch 50/120\n",
      "\u001B[1m160/160\u001B[0m \u001B[32m━━━━━━━━━━━━━━━━━━━━\u001B[0m\u001B[37m\u001B[0m \u001B[1m0s\u001B[0m 1ms/step - accuracy: 0.9988 - loss: 0.0083 - val_accuracy: 0.9981 - val_loss: 0.0059\n",
      "Epoch 51/120\n",
      "\u001B[1m160/160\u001B[0m \u001B[32m━━━━━━━━━━━━━━━━━━━━\u001B[0m\u001B[37m\u001B[0m \u001B[1m0s\u001B[0m 1ms/step - accuracy: 0.9998 - loss: 8.9564e-04 - val_accuracy: 0.9969 - val_loss: 0.0147\n",
      "Epoch 52/120\n",
      "\u001B[1m160/160\u001B[0m \u001B[32m━━━━━━━━━━━━━━━━━━━━\u001B[0m\u001B[37m\u001B[0m \u001B[1m0s\u001B[0m 2ms/step - accuracy: 0.9995 - loss: 0.0029 - val_accuracy: 1.0000 - val_loss: 0.0014\n",
      "Epoch 53/120\n",
      "\u001B[1m160/160\u001B[0m \u001B[32m━━━━━━━━━━━━━━━━━━━━\u001B[0m\u001B[37m\u001B[0m \u001B[1m0s\u001B[0m 2ms/step - accuracy: 0.9999 - loss: 3.1968e-04 - val_accuracy: 0.9987 - val_loss: 0.0017\n",
      "Epoch 54/120\n",
      "\u001B[1m160/160\u001B[0m \u001B[32m━━━━━━━━━━━━━━━━━━━━\u001B[0m\u001B[37m\u001B[0m \u001B[1m0s\u001B[0m 2ms/step - accuracy: 1.0000 - loss: 3.1609e-04 - val_accuracy: 0.9981 - val_loss: 0.0082\n",
      "Epoch 55/120\n",
      "\u001B[1m160/160\u001B[0m \u001B[32m━━━━━━━━━━━━━━━━━━━━\u001B[0m\u001B[37m\u001B[0m \u001B[1m0s\u001B[0m 2ms/step - accuracy: 0.9987 - loss: 0.0051 - val_accuracy: 0.9944 - val_loss: 0.0285\n",
      "Epoch 56/120\n",
      "\u001B[1m160/160\u001B[0m \u001B[32m━━━━━━━━━━━━━━━━━━━━\u001B[0m\u001B[37m\u001B[0m \u001B[1m0s\u001B[0m 2ms/step - accuracy: 0.9986 - loss: 0.0046 - val_accuracy: 0.9950 - val_loss: 0.0230\n",
      "Epoch 57/120\n",
      "\u001B[1m160/160\u001B[0m \u001B[32m━━━━━━━━━━━━━━━━━━━━\u001B[0m\u001B[37m\u001B[0m \u001B[1m0s\u001B[0m 1ms/step - accuracy: 0.9995 - loss: 8.5845e-04 - val_accuracy: 0.9981 - val_loss: 0.0036\n",
      "Epoch 58/120\n",
      "\u001B[1m160/160\u001B[0m \u001B[32m━━━━━━━━━━━━━━━━━━━━\u001B[0m\u001B[37m\u001B[0m \u001B[1m0s\u001B[0m 1ms/step - accuracy: 0.9999 - loss: 3.6979e-04 - val_accuracy: 1.0000 - val_loss: 0.0013\n",
      "Epoch 59/120\n",
      "\u001B[1m160/160\u001B[0m \u001B[32m━━━━━━━━━━━━━━━━━━━━\u001B[0m\u001B[37m\u001B[0m \u001B[1m0s\u001B[0m 1ms/step - accuracy: 0.9992 - loss: 0.0018 - val_accuracy: 0.9981 - val_loss: 0.0042\n",
      "Epoch 60/120\n",
      "\u001B[1m160/160\u001B[0m \u001B[32m━━━━━━━━━━━━━━━━━━━━\u001B[0m\u001B[37m\u001B[0m \u001B[1m0s\u001B[0m 1ms/step - accuracy: 0.9988 - loss: 0.0030 - val_accuracy: 0.9956 - val_loss: 0.0218\n",
      "Epoch 61/120\n",
      "\u001B[1m160/160\u001B[0m \u001B[32m━━━━━━━━━━━━━━━━━━━━\u001B[0m\u001B[37m\u001B[0m \u001B[1m0s\u001B[0m 1ms/step - accuracy: 0.9962 - loss: 0.0119 - val_accuracy: 0.9975 - val_loss: 0.0040\n",
      "Epoch 62/120\n",
      "\u001B[1m160/160\u001B[0m \u001B[32m━━━━━━━━━━━━━━━━━━━━\u001B[0m\u001B[37m\u001B[0m \u001B[1m0s\u001B[0m 2ms/step - accuracy: 0.9998 - loss: 0.0011 - val_accuracy: 0.9962 - val_loss: 0.0189\n",
      "Epoch 63/120\n",
      "\u001B[1m160/160\u001B[0m \u001B[32m━━━━━━━━━━━━━━━━━━━━\u001B[0m\u001B[37m\u001B[0m \u001B[1m0s\u001B[0m 2ms/step - accuracy: 0.9989 - loss: 0.0079 - val_accuracy: 0.9981 - val_loss: 0.0023\n",
      "Epoch 64/120\n",
      "\u001B[1m160/160\u001B[0m \u001B[32m━━━━━━━━━━━━━━━━━━━━\u001B[0m\u001B[37m\u001B[0m \u001B[1m0s\u001B[0m 1ms/step - accuracy: 1.0000 - loss: 1.5608e-04 - val_accuracy: 0.9987 - val_loss: 0.0042\n",
      "Epoch 65/120\n",
      "\u001B[1m160/160\u001B[0m \u001B[32m━━━━━━━━━━━━━━━━━━━━\u001B[0m\u001B[37m\u001B[0m \u001B[1m0s\u001B[0m 2ms/step - accuracy: 0.9965 - loss: 0.0164 - val_accuracy: 0.9969 - val_loss: 0.0048\n",
      "Epoch 66/120\n",
      "\u001B[1m160/160\u001B[0m \u001B[32m━━━━━━━━━━━━━━━━━━━━\u001B[0m\u001B[37m\u001B[0m \u001B[1m0s\u001B[0m 1ms/step - accuracy: 0.9999 - loss: 5.3670e-04 - val_accuracy: 0.9969 - val_loss: 0.0146\n",
      "Epoch 67/120\n",
      "\u001B[1m160/160\u001B[0m \u001B[32m━━━━━━━━━━━━━━━━━━━━\u001B[0m\u001B[37m\u001B[0m \u001B[1m0s\u001B[0m 1ms/step - accuracy: 0.9994 - loss: 0.0042 - val_accuracy: 0.9994 - val_loss: 0.0017\n",
      "Epoch 68/120\n",
      "\u001B[1m160/160\u001B[0m \u001B[32m━━━━━━━━━━━━━━━━━━━━\u001B[0m\u001B[37m\u001B[0m \u001B[1m0s\u001B[0m 1ms/step - accuracy: 0.9999 - loss: 4.5580e-04 - val_accuracy: 0.9994 - val_loss: 0.0016\n",
      "Epoch 69/120\n",
      "\u001B[1m160/160\u001B[0m \u001B[32m━━━━━━━━━━━━━━━━━━━━\u001B[0m\u001B[37m\u001B[0m \u001B[1m0s\u001B[0m 1ms/step - accuracy: 0.9994 - loss: 0.0015 - val_accuracy: 1.0000 - val_loss: 8.5505e-04\n",
      "Epoch 70/120\n",
      "\u001B[1m160/160\u001B[0m \u001B[32m━━━━━━━━━━━━━━━━━━━━\u001B[0m\u001B[37m\u001B[0m \u001B[1m0s\u001B[0m 2ms/step - accuracy: 0.9998 - loss: 6.5127e-04 - val_accuracy: 1.0000 - val_loss: 5.6567e-04\n",
      "Epoch 71/120\n",
      "\u001B[1m160/160\u001B[0m \u001B[32m━━━━━━━━━━━━━━━━━━━━\u001B[0m\u001B[37m\u001B[0m \u001B[1m0s\u001B[0m 1ms/step - accuracy: 0.9999 - loss: 2.8671e-04 - val_accuracy: 0.9981 - val_loss: 0.0044\n",
      "Epoch 72/120\n",
      "\u001B[1m160/160\u001B[0m \u001B[32m━━━━━━━━━━━━━━━━━━━━\u001B[0m\u001B[37m\u001B[0m \u001B[1m0s\u001B[0m 2ms/step - accuracy: 1.0000 - loss: 4.0479e-04 - val_accuracy: 0.9994 - val_loss: 0.0014\n",
      "Epoch 73/120\n",
      "\u001B[1m160/160\u001B[0m \u001B[32m━━━━━━━━━━━━━━━━━━━━\u001B[0m\u001B[37m\u001B[0m \u001B[1m0s\u001B[0m 2ms/step - accuracy: 1.0000 - loss: 1.0601e-04 - val_accuracy: 0.9825 - val_loss: 0.0867\n",
      "Epoch 74/120\n",
      "\u001B[1m160/160\u001B[0m \u001B[32m━━━━━━━━━━━━━━━━━━━━\u001B[0m\u001B[37m\u001B[0m \u001B[1m0s\u001B[0m 1ms/step - accuracy: 0.9968 - loss: 0.0179 - val_accuracy: 0.9987 - val_loss: 0.0023\n",
      "Epoch 75/120\n",
      "\u001B[1m160/160\u001B[0m \u001B[32m━━━━━━━━━━━━━━━━━━━━\u001B[0m\u001B[37m\u001B[0m \u001B[1m0s\u001B[0m 1ms/step - accuracy: 0.9994 - loss: 0.0032 - val_accuracy: 0.9981 - val_loss: 0.0068\n",
      "Epoch 76/120\n",
      "\u001B[1m160/160\u001B[0m \u001B[32m━━━━━━━━━━━━━━━━━━━━\u001B[0m\u001B[37m\u001B[0m \u001B[1m0s\u001B[0m 1ms/step - accuracy: 0.9978 - loss: 0.0123 - val_accuracy: 0.9956 - val_loss: 0.0264\n",
      "Epoch 77/120\n",
      "\u001B[1m160/160\u001B[0m \u001B[32m━━━━━━━━━━━━━━━━━━━━\u001B[0m\u001B[37m\u001B[0m \u001B[1m0s\u001B[0m 2ms/step - accuracy: 0.9984 - loss: 0.0027 - val_accuracy: 1.0000 - val_loss: 7.7619e-04\n",
      "Epoch 78/120\n",
      "\u001B[1m160/160\u001B[0m \u001B[32m━━━━━━━━━━━━━━━━━━━━\u001B[0m\u001B[37m\u001B[0m \u001B[1m0s\u001B[0m 2ms/step - accuracy: 0.9999 - loss: 2.9881e-04 - val_accuracy: 0.9975 - val_loss: 0.0065\n",
      "Epoch 79/120\n",
      "\u001B[1m160/160\u001B[0m \u001B[32m━━━━━━━━━━━━━━━━━━━━\u001B[0m\u001B[37m\u001B[0m \u001B[1m0s\u001B[0m 1ms/step - accuracy: 1.0000 - loss: 2.4081e-04 - val_accuracy: 0.9994 - val_loss: 0.0021\n",
      "Epoch 80/120\n",
      "\u001B[1m160/160\u001B[0m \u001B[32m━━━━━━━━━━━━━━━━━━━━\u001B[0m\u001B[37m\u001B[0m \u001B[1m0s\u001B[0m 2ms/step - accuracy: 0.9998 - loss: 8.9307e-04 - val_accuracy: 0.9937 - val_loss: 0.0203\n",
      "Epoch 81/120\n",
      "\u001B[1m160/160\u001B[0m \u001B[32m━━━━━━━━━━━━━━━━━━━━\u001B[0m\u001B[37m\u001B[0m \u001B[1m0s\u001B[0m 2ms/step - accuracy: 0.9982 - loss: 0.0036 - val_accuracy: 0.9981 - val_loss: 0.0051\n",
      "Epoch 82/120\n",
      "\u001B[1m160/160\u001B[0m \u001B[32m━━━━━━━━━━━━━━━━━━━━\u001B[0m\u001B[37m\u001B[0m \u001B[1m0s\u001B[0m 2ms/step - accuracy: 1.0000 - loss: 5.9564e-04 - val_accuracy: 1.0000 - val_loss: 6.0934e-04\n",
      "Epoch 83/120\n",
      "\u001B[1m160/160\u001B[0m \u001B[32m━━━━━━━━━━━━━━━━━━━━\u001B[0m\u001B[37m\u001B[0m \u001B[1m0s\u001B[0m 1ms/step - accuracy: 1.0000 - loss: 8.5822e-05 - val_accuracy: 1.0000 - val_loss: 5.1977e-04\n",
      "Epoch 84/120\n",
      "\u001B[1m160/160\u001B[0m \u001B[32m━━━━━━━━━━━━━━━━━━━━\u001B[0m\u001B[37m\u001B[0m \u001B[1m0s\u001B[0m 1ms/step - accuracy: 1.0000 - loss: 7.6859e-05 - val_accuracy: 1.0000 - val_loss: 5.0593e-04\n",
      "Epoch 85/120\n",
      "\u001B[1m160/160\u001B[0m \u001B[32m━━━━━━━━━━━━━━━━━━━━\u001B[0m\u001B[37m\u001B[0m \u001B[1m0s\u001B[0m 1ms/step - accuracy: 1.0000 - loss: 6.3918e-05 - val_accuracy: 0.9994 - val_loss: 7.5399e-04\n",
      "Epoch 86/120\n",
      "\u001B[1m160/160\u001B[0m \u001B[32m━━━━━━━━━━━━━━━━━━━━\u001B[0m\u001B[37m\u001B[0m \u001B[1m0s\u001B[0m 1ms/step - accuracy: 1.0000 - loss: 9.4186e-05 - val_accuracy: 1.0000 - val_loss: 4.6334e-04\n",
      "Epoch 87/120\n",
      "\u001B[1m160/160\u001B[0m \u001B[32m━━━━━━━━━━━━━━━━━━━━\u001B[0m\u001B[37m\u001B[0m \u001B[1m0s\u001B[0m 1ms/step - accuracy: 1.0000 - loss: 9.8148e-05 - val_accuracy: 1.0000 - val_loss: 4.5935e-04\n",
      "Epoch 88/120\n",
      "\u001B[1m160/160\u001B[0m \u001B[32m━━━━━━━━━━━━━━━━━━━━\u001B[0m\u001B[37m\u001B[0m \u001B[1m0s\u001B[0m 2ms/step - accuracy: 1.0000 - loss: 6.0246e-05 - val_accuracy: 0.9994 - val_loss: 8.7702e-04\n",
      "Epoch 89/120\n",
      "\u001B[1m160/160\u001B[0m \u001B[32m━━━━━━━━━━━━━━━━━━━━\u001B[0m\u001B[37m\u001B[0m \u001B[1m0s\u001B[0m 2ms/step - accuracy: 1.0000 - loss: 1.3693e-04 - val_accuracy: 1.0000 - val_loss: 4.0132e-04\n",
      "Epoch 90/120\n",
      "\u001B[1m160/160\u001B[0m \u001B[32m━━━━━━━━━━━━━━━━━━━━\u001B[0m\u001B[37m\u001B[0m \u001B[1m0s\u001B[0m 2ms/step - accuracy: 1.0000 - loss: 6.0464e-05 - val_accuracy: 0.9994 - val_loss: 8.6715e-04\n",
      "Epoch 91/120\n",
      "\u001B[1m160/160\u001B[0m \u001B[32m━━━━━━━━━━━━━━━━━━━━\u001B[0m\u001B[37m\u001B[0m \u001B[1m0s\u001B[0m 2ms/step - accuracy: 1.0000 - loss: 6.6045e-05 - val_accuracy: 1.0000 - val_loss: 4.4915e-04\n",
      "Epoch 92/120\n",
      "\u001B[1m160/160\u001B[0m \u001B[32m━━━━━━━━━━━━━━━━━━━━\u001B[0m\u001B[37m\u001B[0m \u001B[1m0s\u001B[0m 1ms/step - accuracy: 1.0000 - loss: 5.7603e-05 - val_accuracy: 0.9994 - val_loss: 8.2564e-04\n",
      "Epoch 93/120\n",
      "\u001B[1m160/160\u001B[0m \u001B[32m━━━━━━━━━━━━━━━━━━━━\u001B[0m\u001B[37m\u001B[0m \u001B[1m0s\u001B[0m 1ms/step - accuracy: 1.0000 - loss: 5.7195e-05 - val_accuracy: 1.0000 - val_loss: 4.6139e-04\n",
      "Epoch 94/120\n",
      "\u001B[1m160/160\u001B[0m \u001B[32m━━━━━━━━━━━━━━━━━━━━\u001B[0m\u001B[37m\u001B[0m \u001B[1m0s\u001B[0m 2ms/step - accuracy: 1.0000 - loss: 6.4182e-05 - val_accuracy: 0.9994 - val_loss: 0.0012\n",
      "Epoch 95/120\n",
      "\u001B[1m160/160\u001B[0m \u001B[32m━━━━━━━━━━━━━━━━━━━━\u001B[0m\u001B[37m\u001B[0m \u001B[1m0s\u001B[0m 2ms/step - accuracy: 1.0000 - loss: 4.8714e-05 - val_accuracy: 1.0000 - val_loss: 3.9015e-04\n",
      "Epoch 96/120\n",
      "\u001B[1m160/160\u001B[0m \u001B[32m━━━━━━━━━━━━━━━━━━━━\u001B[0m\u001B[37m\u001B[0m \u001B[1m0s\u001B[0m 2ms/step - accuracy: 1.0000 - loss: 4.9241e-05 - val_accuracy: 1.0000 - val_loss: 4.0068e-04\n",
      "Epoch 97/120\n",
      "\u001B[1m160/160\u001B[0m \u001B[32m━━━━━━━━━━━━━━━━━━━━\u001B[0m\u001B[37m\u001B[0m \u001B[1m0s\u001B[0m 1ms/step - accuracy: 1.0000 - loss: 3.5955e-05 - val_accuracy: 0.9994 - val_loss: 0.0011\n",
      "Epoch 98/120\n",
      "\u001B[1m160/160\u001B[0m \u001B[32m━━━━━━━━━━━━━━━━━━━━\u001B[0m\u001B[37m\u001B[0m \u001B[1m0s\u001B[0m 1ms/step - accuracy: 0.9954 - loss: 0.0184 - val_accuracy: 0.9975 - val_loss: 0.0036\n",
      "Epoch 99/120\n",
      "\u001B[1m160/160\u001B[0m \u001B[32m━━━━━━━━━━━━━━━━━━━━\u001B[0m\u001B[37m\u001B[0m \u001B[1m0s\u001B[0m 2ms/step - accuracy: 0.9998 - loss: 8.8257e-04 - val_accuracy: 0.9981 - val_loss: 0.0061\n",
      "Epoch 100/120\n",
      "\u001B[1m160/160\u001B[0m \u001B[32m━━━━━━━━━━━━━━━━━━━━\u001B[0m\u001B[37m\u001B[0m \u001B[1m0s\u001B[0m 2ms/step - accuracy: 0.9995 - loss: 0.0011 - val_accuracy: 0.9981 - val_loss: 0.0026\n",
      "Epoch 101/120\n",
      "\u001B[1m160/160\u001B[0m \u001B[32m━━━━━━━━━━━━━━━━━━━━\u001B[0m\u001B[37m\u001B[0m \u001B[1m0s\u001B[0m 2ms/step - accuracy: 0.9994 - loss: 0.0014 - val_accuracy: 1.0000 - val_loss: 0.0013\n",
      "Epoch 102/120\n",
      "\u001B[1m160/160\u001B[0m \u001B[32m━━━━━━━━━━━━━━━━━━━━\u001B[0m\u001B[37m\u001B[0m \u001B[1m0s\u001B[0m 1ms/step - accuracy: 1.0000 - loss: 1.2884e-04 - val_accuracy: 0.9981 - val_loss: 0.0034\n",
      "Epoch 103/120\n",
      "\u001B[1m160/160\u001B[0m \u001B[32m━━━━━━━━━━━━━━━━━━━━\u001B[0m\u001B[37m\u001B[0m \u001B[1m0s\u001B[0m 2ms/step - accuracy: 0.9992 - loss: 0.0015 - val_accuracy: 1.0000 - val_loss: 5.8316e-04\n",
      "Epoch 104/120\n",
      "\u001B[1m160/160\u001B[0m \u001B[32m━━━━━━━━━━━━━━━━━━━━\u001B[0m\u001B[37m\u001B[0m \u001B[1m0s\u001B[0m 1ms/step - accuracy: 1.0000 - loss: 8.3617e-05 - val_accuracy: 1.0000 - val_loss: 5.3781e-04\n",
      "Epoch 105/120\n",
      "\u001B[1m160/160\u001B[0m \u001B[32m━━━━━━━━━━━━━━━━━━━━\u001B[0m\u001B[37m\u001B[0m \u001B[1m0s\u001B[0m 1ms/step - accuracy: 1.0000 - loss: 1.6051e-04 - val_accuracy: 0.9994 - val_loss: 0.0016\n",
      "Epoch 106/120\n",
      "\u001B[1m160/160\u001B[0m \u001B[32m━━━━━━━━━━━━━━━━━━━━\u001B[0m\u001B[37m\u001B[0m \u001B[1m0s\u001B[0m 1ms/step - accuracy: 1.0000 - loss: 8.2246e-05 - val_accuracy: 0.9994 - val_loss: 6.8312e-04\n",
      "Epoch 107/120\n",
      "\u001B[1m160/160\u001B[0m \u001B[32m━━━━━━━━━━━━━━━━━━━━\u001B[0m\u001B[37m\u001B[0m \u001B[1m0s\u001B[0m 2ms/step - accuracy: 1.0000 - loss: 2.6604e-04 - val_accuracy: 0.9944 - val_loss: 0.0156\n",
      "Epoch 108/120\n",
      "\u001B[1m160/160\u001B[0m \u001B[32m━━━━━━━━━━━━━━━━━━━━\u001B[0m\u001B[37m\u001B[0m \u001B[1m0s\u001B[0m 1ms/step - accuracy: 0.9978 - loss: 0.0094 - val_accuracy: 0.9994 - val_loss: 0.0038\n",
      "Epoch 109/120\n",
      "\u001B[1m160/160\u001B[0m \u001B[32m━━━━━━━━━━━━━━━━━━━━\u001B[0m\u001B[37m\u001B[0m \u001B[1m0s\u001B[0m 2ms/step - accuracy: 0.9998 - loss: 0.0017 - val_accuracy: 0.9956 - val_loss: 0.0262\n",
      "Epoch 110/120\n",
      "\u001B[1m160/160\u001B[0m \u001B[32m━━━━━━━━━━━━━━━━━━━━\u001B[0m\u001B[37m\u001B[0m \u001B[1m0s\u001B[0m 2ms/step - accuracy: 1.0000 - loss: 9.7829e-04 - val_accuracy: 0.9994 - val_loss: 0.0022\n",
      "Epoch 111/120\n",
      "\u001B[1m160/160\u001B[0m \u001B[32m━━━━━━━━━━━━━━━━━━━━\u001B[0m\u001B[37m\u001B[0m \u001B[1m0s\u001B[0m 1ms/step - accuracy: 0.9995 - loss: 0.0031 - val_accuracy: 0.9994 - val_loss: 0.0014\n",
      "Epoch 112/120\n",
      "\u001B[1m160/160\u001B[0m \u001B[32m━━━━━━━━━━━━━━━━━━━━\u001B[0m\u001B[37m\u001B[0m \u001B[1m0s\u001B[0m 1ms/step - accuracy: 1.0000 - loss: 8.1707e-05 - val_accuracy: 1.0000 - val_loss: 0.0011\n",
      "Epoch 113/120\n",
      "\u001B[1m160/160\u001B[0m \u001B[32m━━━━━━━━━━━━━━━━━━━━\u001B[0m\u001B[37m\u001B[0m \u001B[1m0s\u001B[0m 2ms/step - accuracy: 0.9998 - loss: 5.0867e-04 - val_accuracy: 0.9881 - val_loss: 0.0373\n",
      "Epoch 114/120\n",
      "\u001B[1m160/160\u001B[0m \u001B[32m━━━━━━━━━━━━━━━━━━━━\u001B[0m\u001B[37m\u001B[0m \u001B[1m0s\u001B[0m 1ms/step - accuracy: 0.9970 - loss: 0.0106 - val_accuracy: 1.0000 - val_loss: 0.0012\n",
      "Epoch 115/120\n",
      "\u001B[1m160/160\u001B[0m \u001B[32m━━━━━━━━━━━━━━━━━━━━\u001B[0m\u001B[37m\u001B[0m \u001B[1m0s\u001B[0m 1ms/step - accuracy: 1.0000 - loss: 2.2663e-04 - val_accuracy: 1.0000 - val_loss: 9.4029e-04\n",
      "Epoch 116/120\n",
      "\u001B[1m160/160\u001B[0m \u001B[32m━━━━━━━━━━━━━━━━━━━━\u001B[0m\u001B[37m\u001B[0m \u001B[1m0s\u001B[0m 1ms/step - accuracy: 1.0000 - loss: 2.7453e-04 - val_accuracy: 0.9956 - val_loss: 0.0145\n",
      "Epoch 117/120\n",
      "\u001B[1m160/160\u001B[0m \u001B[32m━━━━━━━━━━━━━━━━━━━━\u001B[0m\u001B[37m\u001B[0m \u001B[1m0s\u001B[0m 1ms/step - accuracy: 1.0000 - loss: 3.0134e-04 - val_accuracy: 0.9994 - val_loss: 0.0011\n",
      "Epoch 118/120\n",
      "\u001B[1m160/160\u001B[0m \u001B[32m━━━━━━━━━━━━━━━━━━━━\u001B[0m\u001B[37m\u001B[0m \u001B[1m0s\u001B[0m 2ms/step - accuracy: 1.0000 - loss: 9.7532e-05 - val_accuracy: 0.9994 - val_loss: 7.8811e-04\n",
      "Epoch 119/120\n",
      "\u001B[1m160/160\u001B[0m \u001B[32m━━━━━━━━━━━━━━━━━━━━\u001B[0m\u001B[37m\u001B[0m \u001B[1m0s\u001B[0m 2ms/step - accuracy: 1.0000 - loss: 6.3832e-05 - val_accuracy: 1.0000 - val_loss: 7.2885e-04\n",
      "Epoch 120/120\n",
      "\u001B[1m160/160\u001B[0m \u001B[32m━━━━━━━━━━━━━━━━━━━━\u001B[0m\u001B[37m\u001B[0m \u001B[1m0s\u001B[0m 2ms/step - accuracy: 1.0000 - loss: 1.3744e-04 - val_accuracy: 0.9994 - val_loss: 7.1431e-04\n"
     ]
    }
   ],
   "source": [
    "history = model.fit(X_train_tsr,Y_train_tsr,epochs=120,validation_split=0.2,batch_size=40)"
   ],
   "metadata": {
    "collapsed": false,
    "ExecuteTime": {
     "end_time": "2024-10-24T01:13:00.408569Z",
     "start_time": "2024-10-24T01:12:25.040428Z"
    }
   },
   "execution_count": 221
  },
  {
   "cell_type": "code",
   "outputs": [
    {
     "name": "stdout",
     "output_type": "stream",
     "text": [
      "\u001B[1m16/16\u001B[0m \u001B[32m━━━━━━━━━━━━━━━━━━━━\u001B[0m\u001B[37m\u001B[0m \u001B[1m0s\u001B[0m 2ms/step - accuracy: 1.0000 - loss: 1.7150e-04\n",
      "test loss, test acc: [0.0001064172392943874, 1.0]\n",
      "Generate predictions for 3 samples\n",
      "WARNING:tensorflow:5 out of the last 69 calls to <function TensorFlowTrainer.make_predict_function.<locals>.one_step_on_data_distributed at 0x0000026D648267A0> triggered tf.function retracing. Tracing is expensive and the excessive number of tracings could be due to (1) creating @tf.function repeatedly in a loop, (2) passing tensors with different shapes, (3) passing Python objects instead of tensors. For (1), please define your @tf.function outside of the loop. For (2), @tf.function has reduce_retracing=True option that can avoid unnecessary retracing. For (3), please refer to https://www.tensorflow.org/guide/function#controlling_retracing and https://www.tensorflow.org/api_docs/python/tf/function for  more details.\n",
      "\u001B[1m1/1\u001B[0m \u001B[32m━━━━━━━━━━━━━━━━━━━━\u001B[0m\u001B[37m\u001B[0m \u001B[1m0s\u001B[0m 54ms/step\n",
      "predictions shape: (3, 1)\n",
      "[[1.0000000e+00]\n",
      " [1.2370000e-06]\n",
      " [3.2929477e-09]]\n"
     ]
    }
   ],
   "source": [
    "results = model.evaluate(X_test_tsr, Y_test_tsr, batch_size=128)\n",
    "print(\"test loss, test acc:\", results)\n",
    "\n",
    "print(\"Generate predictions for 3 samples\")\n",
    "predictions = model.predict(X_test_tsr[:3])\n",
    "print(\"predictions shape:\", predictions.shape)\n",
    "print(predictions)"
   ],
   "metadata": {
    "collapsed": false,
    "ExecuteTime": {
     "end_time": "2024-10-24T01:13:00.768208Z",
     "start_time": "2024-10-24T01:13:00.409577Z"
    }
   },
   "execution_count": 222
  },
  {
   "cell_type": "code",
   "outputs": [
    {
     "name": "stdout",
     "output_type": "stream",
     "text": [
      "Predictions :\n",
      "Phishing\n",
      "Legitimate\n",
      "Legitimate\n",
      "Real values :\n",
      "Phishing\n",
      "Legitimate\n",
      "Legitimate\n"
     ]
    }
   ],
   "source": [
    "print(\"Predictions :\")\n",
    "for prediction in predictions:\n",
    "    if prediction > 0.5:\n",
    "        print(\"Phishing\")\n",
    "    else:\n",
    "        print(\"Legitimate\")\n",
    "        \n",
    "print(\"Real values :\")\n",
    "for value in Y_test_tsr[:3]:\n",
    "    if value == 1:\n",
    "        print(\"Phishing\")\n",
    "    else:\n",
    "        print(\"Legitimate\")"
   ],
   "metadata": {
    "collapsed": false,
    "ExecuteTime": {
     "end_time": "2024-10-24T01:13:00.779674Z",
     "start_time": "2024-10-24T01:13:00.769217Z"
    }
   },
   "execution_count": 223
  },
  {
   "cell_type": "code",
   "outputs": [
    {
     "name": "stdout",
     "output_type": "stream",
     "text": [
      "WARNING:tensorflow:6 out of the last 70 calls to <function TensorFlowTrainer.make_predict_function.<locals>.one_step_on_data_distributed at 0x0000026D648267A0> triggered tf.function retracing. Tracing is expensive and the excessive number of tracings could be due to (1) creating @tf.function repeatedly in a loop, (2) passing tensors with different shapes, (3) passing Python objects instead of tensors. For (1), please define your @tf.function outside of the loop. For (2), @tf.function has reduce_retracing=True option that can avoid unnecessary retracing. For (3), please refer to https://www.tensorflow.org/guide/function#controlling_retracing and https://www.tensorflow.org/api_docs/python/tf/function for  more details.\n",
      "\u001B[1m63/63\u001B[0m \u001B[32m━━━━━━━━━━━━━━━━━━━━\u001B[0m\u001B[37m\u001B[0m \u001B[1m0s\u001B[0m 998us/step\n"
     ]
    }
   ],
   "source": [
    "y_pred = model.predict(X_test_tsr)\n",
    "#Converting predictions to 1D array\n",
    "y_pred = np.array([1 if x > 0.5 else 0 for x in y_pred])"
   ],
   "metadata": {
    "collapsed": false,
    "ExecuteTime": {
     "end_time": "2024-10-24T01:24:57.708432Z",
     "start_time": "2024-10-24T01:24:57.520166Z"
    }
   },
   "execution_count": 224
  },
  {
   "cell_type": "code",
   "outputs": [
    {
     "name": "stdout",
     "output_type": "stream",
     "text": [
      "[[1021    0]\n",
      " [   0  979]]\n"
     ]
    }
   ],
   "source": [
    "cm2 = confusion_matrix(Y_test, y_pred)\n",
    "print(cm2)"
   ],
   "metadata": {
    "collapsed": false,
    "ExecuteTime": {
     "end_time": "2024-10-24T01:25:43.984781Z",
     "start_time": "2024-10-24T01:25:43.978212Z"
    }
   },
   "execution_count": 225
  },
  {
   "cell_type": "code",
   "outputs": [
    {
     "data": {
      "text/plain": "Text(0.5, 1.0, 'Confusion Matrix')"
     },
     "execution_count": 227,
     "metadata": {},
     "output_type": "execute_result"
    },
    {
     "data": {
      "text/plain": "<Figure size 300x300 with 2 Axes>",
      "image/png": "[encoded data removed]"
     },
     "metadata": {},
     "output_type": "display_data"
    }
   ],
   "source": [
    "plt.figure(figsize=(3,3))\n",
    "sns.heatmap(cm2, annot=True, linewidths=.5, square = True, cmap = 'Blues')\n",
    "\n",
    "plt.xticks([0, 1], ['legitimate', 'phishing'])\n",
    "plt.yticks([0, 1], ['legitimate', 'phishing'])\n",
    "\n",
    "plt.xlabel('Predicted label')\n",
    "plt.ylabel('Actual label')\n",
    "\n",
    "\n",
    "\n",
    "plt.title(\"Confusion Matrix\", size = 12)"
   ],
   "metadata": {
    "collapsed": false,
    "ExecuteTime": {
     "end_time": "2024-10-24T01:26:54.627441Z",
     "start_time": "2024-10-24T01:26:54.398160Z"
    }
   },
   "execution_count": 227
  }
 ],
 "metadata": {
  "kernelspec": {
   "display_name": "Python 3",
   "language": "python",
   "name": "python3"
  },
  "language_info": {
   "codemirror_mode": {
    "name": "ipython",
    "version": 3
   },
   "file_extension": ".py",
   "mimetype": "text/x-python",
   "name": "python",
   "nbconvert_exporter": "python",
   "pygments_lexer": "ipython3",
   "version": "3.12.5"
  }
 },
 "nbformat": 4,
 "nbformat_minor": 2
}

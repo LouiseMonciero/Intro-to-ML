{
 "cells": [
  {
   "cell_type": "markdown",
   "metadata": {},
   "source": [
    "# Preprocessing"
   ]
  },
  {
   "cell_type": "markdown",
   "metadata": {},
   "source": [
    "## Reading CSV"
   ]
  },
  {
   "cell_type": "code",
   "execution_count": 120,
   "metadata": {
    "ExecuteTime": {
     "end_time": "2024-10-24T01:12:21.899250Z",
     "start_time": "2024-10-24T01:12:21.894720Z"
    }
   },
   "outputs": [],
   "source": [
    "import pandas as pd\n",
    "import matplotlib.pyplot as plt\n",
    "import numpy as np\n",
    "import sklearn\n",
    "import seaborn"
   ]
  },
  {
   "cell_type": "code",
   "execution_count": 121,
   "metadata": {
    "ExecuteTime": {
     "end_time": "2024-10-24T01:12:22.431471Z",
     "start_time": "2024-10-24T01:12:22.269193Z"
    }
   },
   "outputs": [],
   "source": [
    "data = pd.read_csv('./sample_output.csv')"
   ]
  },
  {
   "cell_type": "markdown",
   "metadata": {},
   "source": [
    "## Understanding Dataset"
   ]
  },
  {
   "cell_type": "code",
   "execution_count": 122,
   "metadata": {
    "ExecuteTime": {
     "end_time": "2024-10-24T01:12:22.439594Z",
     "start_time": "2024-10-24T01:12:22.433482Z"
    }
   },
   "outputs": [
    {
     "data": {
      "text/plain": [
       "(10000, 18)"
      ]
     },
     "execution_count": 122,
     "metadata": {},
     "output_type": "execute_result"
    }
   ],
   "source": [
    "data.shape"
   ]
  },
  {
   "cell_type": "code",
   "execution_count": 123,
   "metadata": {
    "ExecuteTime": {
     "end_time": "2024-10-24T01:12:22.466044Z",
     "start_time": "2024-10-24T01:12:22.440606Z"
    }
   },
   "outputs": [
    {
     "data": {
      "text/html": [
       "<div>\n",
       "<style scoped>\n",
       "    .dataframe tbody tr th:only-of-type {\n",
       "        vertical-align: middle;\n",
       "    }\n",
       "\n",
       "    .dataframe tbody tr th {\n",
       "        vertical-align: top;\n",
       "    }\n",
       "\n",
       "    .dataframe thead th {\n",
       "        text-align: right;\n",
       "    }\n",
       "</style>\n",
       "<table border=\"1\" class=\"dataframe\">\n",
       "  <thead>\n",
       "    <tr style=\"text-align: right;\">\n",
       "      <th></th>\n",
       "      <th>url</th>\n",
       "      <th>source</th>\n",
       "      <th>label</th>\n",
       "      <th>url_length</th>\n",
       "      <th>starts_with_ip</th>\n",
       "      <th>url_entropy</th>\n",
       "      <th>has_punycode</th>\n",
       "      <th>digit_letter_ratio</th>\n",
       "      <th>dot_count</th>\n",
       "      <th>at_count</th>\n",
       "      <th>dash_count</th>\n",
       "      <th>tld_count</th>\n",
       "      <th>domain_has_digits</th>\n",
       "      <th>subdomain_count</th>\n",
       "      <th>nan_char_entropy</th>\n",
       "      <th>has_internal_links</th>\n",
       "      <th>whois_data</th>\n",
       "      <th>domain_age_days</th>\n",
       "    </tr>\n",
       "  </thead>\n",
       "  <tbody>\n",
       "    <tr>\n",
       "      <th>0</th>\n",
       "      <td>http://sub22b.jelastic.regruhosting.ru/acesso/...</td>\n",
       "      <td>Phishing.Database</td>\n",
       "      <td>phishing</td>\n",
       "      <td>62</td>\n",
       "      <td>False</td>\n",
       "      <td>4.203093</td>\n",
       "      <td>False</td>\n",
       "      <td>0.039216</td>\n",
       "      <td>4</td>\n",
       "      <td>0</td>\n",
       "      <td>0</td>\n",
       "      <td>0</td>\n",
       "      <td>False</td>\n",
       "      <td>2</td>\n",
       "      <td>0.606254</td>\n",
       "      <td>False</td>\n",
       "      <td>NaN</td>\n",
       "      <td>NaN</td>\n",
       "    </tr>\n",
       "    <tr>\n",
       "      <th>1</th>\n",
       "      <td>https://cherry-609d.hakeem1115.workers.dev/63f...</td>\n",
       "      <td>Phishing.Database</td>\n",
       "      <td>phishing</td>\n",
       "      <td>79</td>\n",
       "      <td>False</td>\n",
       "      <td>4.747960</td>\n",
       "      <td>False</td>\n",
       "      <td>0.634146</td>\n",
       "      <td>3</td>\n",
       "      <td>0</td>\n",
       "      <td>5</td>\n",
       "      <td>0</td>\n",
       "      <td>False</td>\n",
       "      <td>2</td>\n",
       "      <td>0.438186</td>\n",
       "      <td>False</td>\n",
       "      <td>{'domain_name': None, 'registrar': None, 'whoi...</td>\n",
       "      <td>NaN</td>\n",
       "    </tr>\n",
       "    <tr>\n",
       "      <th>2</th>\n",
       "      <td>http://secureid-auth5b.serveirc.com/navyfedera...</td>\n",
       "      <td>Phishing.Database</td>\n",
       "      <td>phishing</td>\n",
       "      <td>62</td>\n",
       "      <td>False</td>\n",
       "      <td>4.453623</td>\n",
       "      <td>False</td>\n",
       "      <td>0.040000</td>\n",
       "      <td>4</td>\n",
       "      <td>0</td>\n",
       "      <td>1</td>\n",
       "      <td>1</td>\n",
       "      <td>False</td>\n",
       "      <td>1</td>\n",
       "      <td>0.606254</td>\n",
       "      <td>True</td>\n",
       "      <td>{'domain_name': 'SERVEIRC.COM', 'registrar': '...</td>\n",
       "      <td>8804.0</td>\n",
       "    </tr>\n",
       "  </tbody>\n",
       "</table>\n",
       "</div>"
      ],
      "text/plain": [
       "                                                 url             source  \\\n",
       "0  http://sub22b.jelastic.regruhosting.ru/acesso/...  Phishing.Database   \n",
       "1  https://cherry-609d.hakeem1115.workers.dev/63f...  Phishing.Database   \n",
       "2  http://secureid-auth5b.serveirc.com/navyfedera...  Phishing.Database   \n",
       "\n",
       "      label  url_length  starts_with_ip  url_entropy  has_punycode  \\\n",
       "0  phishing          62           False     4.203093         False   \n",
       "1  phishing          79           False     4.747960         False   \n",
       "2  phishing          62           False     4.453623         False   \n",
       "\n",
       "   digit_letter_ratio  dot_count  at_count  dash_count  tld_count  \\\n",
       "0            0.039216          4         0           0          0   \n",
       "1            0.634146          3         0           5          0   \n",
       "2            0.040000          4         0           1          1   \n",
       "\n",
       "   domain_has_digits  subdomain_count  nan_char_entropy  has_internal_links  \\\n",
       "0              False                2          0.606254               False   \n",
       "1              False                2          0.438186               False   \n",
       "2              False                1          0.606254                True   \n",
       "\n",
       "                                          whois_data  domain_age_days  \n",
       "0                                                NaN              NaN  \n",
       "1  {'domain_name': None, 'registrar': None, 'whoi...              NaN  \n",
       "2  {'domain_name': 'SERVEIRC.COM', 'registrar': '...           8804.0  "
      ]
     },
     "execution_count": 123,
     "metadata": {},
     "output_type": "execute_result"
    }
   ],
   "source": [
    "data.head(3)"
   ]
  },
  {
   "cell_type": "code",
   "execution_count": 124,
   "metadata": {
    "ExecuteTime": {
     "end_time": "2024-10-24T01:12:22.484216Z",
     "start_time": "2024-10-24T01:12:22.468060Z"
    }
   },
   "outputs": [
    {
     "data": {
      "text/html": [
       "<div>\n",
       "<style scoped>\n",
       "    .dataframe tbody tr th:only-of-type {\n",
       "        vertical-align: middle;\n",
       "    }\n",
       "\n",
       "    .dataframe tbody tr th {\n",
       "        vertical-align: top;\n",
       "    }\n",
       "\n",
       "    .dataframe thead th {\n",
       "        text-align: right;\n",
       "    }\n",
       "</style>\n",
       "<table border=\"1\" class=\"dataframe\">\n",
       "  <thead>\n",
       "    <tr style=\"text-align: right;\">\n",
       "      <th></th>\n",
       "      <th>url</th>\n",
       "      <th>source</th>\n",
       "      <th>label</th>\n",
       "      <th>url_length</th>\n",
       "      <th>starts_with_ip</th>\n",
       "      <th>url_entropy</th>\n",
       "      <th>has_punycode</th>\n",
       "      <th>digit_letter_ratio</th>\n",
       "      <th>dot_count</th>\n",
       "      <th>at_count</th>\n",
       "      <th>dash_count</th>\n",
       "      <th>tld_count</th>\n",
       "      <th>domain_has_digits</th>\n",
       "      <th>subdomain_count</th>\n",
       "      <th>nan_char_entropy</th>\n",
       "      <th>has_internal_links</th>\n",
       "      <th>whois_data</th>\n",
       "      <th>domain_age_days</th>\n",
       "    </tr>\n",
       "  </thead>\n",
       "  <tbody>\n",
       "    <tr>\n",
       "      <th>9997</th>\n",
       "      <td>mst.org.br</td>\n",
       "      <td>Majestic</td>\n",
       "      <td>legitimate</td>\n",
       "      <td>10</td>\n",
       "      <td>False</td>\n",
       "      <td>2.921928</td>\n",
       "      <td>False</td>\n",
       "      <td>0.000000</td>\n",
       "      <td>2</td>\n",
       "      <td>0</td>\n",
       "      <td>0</td>\n",
       "      <td>0</td>\n",
       "      <td>False</td>\n",
       "      <td>0</td>\n",
       "      <td>0.464386</td>\n",
       "      <td>False</td>\n",
       "      <td>{'domain_name': 'mst.org.br', 'registrant_name...</td>\n",
       "      <td>9872.0</td>\n",
       "    </tr>\n",
       "    <tr>\n",
       "      <th>9998</th>\n",
       "      <td>cs532-2037.meraki.com</td>\n",
       "      <td>Cisco-Umbrella</td>\n",
       "      <td>legitimate</td>\n",
       "      <td>21</td>\n",
       "      <td>False</td>\n",
       "      <td>3.916127</td>\n",
       "      <td>False</td>\n",
       "      <td>0.636364</td>\n",
       "      <td>2</td>\n",
       "      <td>0</td>\n",
       "      <td>1</td>\n",
       "      <td>0</td>\n",
       "      <td>False</td>\n",
       "      <td>1</td>\n",
       "      <td>0.323078</td>\n",
       "      <td>False</td>\n",
       "      <td>{'domain_name': 'MERAKI.COM', 'registrar': 'Ma...</td>\n",
       "      <td>7916.0</td>\n",
       "    </tr>\n",
       "    <tr>\n",
       "      <th>9999</th>\n",
       "      <td>mainediner.com</td>\n",
       "      <td>Majestic</td>\n",
       "      <td>legitimate</td>\n",
       "      <td>14</td>\n",
       "      <td>False</td>\n",
       "      <td>3.235926</td>\n",
       "      <td>False</td>\n",
       "      <td>0.000000</td>\n",
       "      <td>1</td>\n",
       "      <td>0</td>\n",
       "      <td>0</td>\n",
       "      <td>0</td>\n",
       "      <td>False</td>\n",
       "      <td>0</td>\n",
       "      <td>0.271954</td>\n",
       "      <td>False</td>\n",
       "      <td>{'domain_name': 'MAINEDINER.COM', 'registrar':...</td>\n",
       "      <td>10497.0</td>\n",
       "    </tr>\n",
       "  </tbody>\n",
       "</table>\n",
       "</div>"
      ],
      "text/plain": [
       "                        url          source       label  url_length  \\\n",
       "9997             mst.org.br        Majestic  legitimate          10   \n",
       "9998  cs532-2037.meraki.com  Cisco-Umbrella  legitimate          21   \n",
       "9999         mainediner.com        Majestic  legitimate          14   \n",
       "\n",
       "      starts_with_ip  url_entropy  has_punycode  digit_letter_ratio  \\\n",
       "9997           False     2.921928         False            0.000000   \n",
       "9998           False     3.916127         False            0.636364   \n",
       "9999           False     3.235926         False            0.000000   \n",
       "\n",
       "      dot_count  at_count  dash_count  tld_count  domain_has_digits  \\\n",
       "9997          2         0           0          0              False   \n",
       "9998          2         0           1          0              False   \n",
       "9999          1         0           0          0              False   \n",
       "\n",
       "      subdomain_count  nan_char_entropy  has_internal_links  \\\n",
       "9997                0          0.464386               False   \n",
       "9998                1          0.323078               False   \n",
       "9999                0          0.271954               False   \n",
       "\n",
       "                                             whois_data  domain_age_days  \n",
       "9997  {'domain_name': 'mst.org.br', 'registrant_name...           9872.0  \n",
       "9998  {'domain_name': 'MERAKI.COM', 'registrar': 'Ma...           7916.0  \n",
       "9999  {'domain_name': 'MAINEDINER.COM', 'registrar':...          10497.0  "
      ]
     },
     "execution_count": 124,
     "metadata": {},
     "output_type": "execute_result"
    }
   ],
   "source": [
    "data.tail(3)"
   ]
  },
  {
   "cell_type": "code",
   "execution_count": 125,
   "metadata": {
    "ExecuteTime": {
     "end_time": "2024-10-24T01:12:22.494816Z",
     "start_time": "2024-10-24T01:12:22.485233Z"
    }
   },
   "outputs": [
    {
     "data": {
      "text/plain": [
       "url                    object\n",
       "source                 object\n",
       "label                  object\n",
       "url_length              int64\n",
       "starts_with_ip           bool\n",
       "url_entropy           float64\n",
       "has_punycode             bool\n",
       "digit_letter_ratio    float64\n",
       "dot_count               int64\n",
       "at_count                int64\n",
       "dash_count              int64\n",
       "tld_count               int64\n",
       "domain_has_digits        bool\n",
       "subdomain_count         int64\n",
       "nan_char_entropy      float64\n",
       "has_internal_links       bool\n",
       "whois_data             object\n",
       "domain_age_days       float64\n",
       "dtype: object"
      ]
     },
     "execution_count": 125,
     "metadata": {},
     "output_type": "execute_result"
    }
   ],
   "source": [
    "data.dtypes"
   ]
  },
  {
   "cell_type": "markdown",
   "metadata": {},
   "source": [
    "## Correlation Matrix\n"
   ]
  },
  {
   "cell_type": "code",
   "execution_count": 126,
   "metadata": {},
   "outputs": [
    {
     "data": {
      "text/plain": [
       "label                 1.000000\n",
       "nan_char_entropy      0.817593\n",
       "url_entropy           0.733971\n",
       "url_length            0.380100\n",
       "digit_letter_ratio    0.255433\n",
       "dot_count             0.185795\n",
       "dash_count            0.165271\n",
       "has_internal_links    0.151025\n",
       "domain_has_digits     0.148972\n",
       "tld_count             0.110398\n",
       "starts_with_ip        0.103999\n",
       "at_count              0.096414\n",
       "subdomain_count       0.070240\n",
       "has_punycode          0.003017\n",
       "Name: label, dtype: float64"
      ]
     },
     "execution_count": 126,
     "metadata": {},
     "output_type": "execute_result"
    }
   ],
   "source": [
    "# Label Encoding\n",
    "data_labeled = data\n",
    "data_labeled['url'] = pd.factorize(data_labeled['url'])[0]\n",
    "data_labeled['source'] = pd.factorize(data_labeled['source'])[0]\n",
    "data_labeled['label'] = pd.factorize(data_labeled['label'])[0]\n",
    "data_labeled['whois_data'] = pd.factorize(data_labeled['whois_data'])[0]\n",
    "\n",
    "#without 'url' 'whoisdata' 'date...'\n",
    "data_labeled[['label','url_length','starts_with_ip','url_entropy','has_punycode','digit_letter_ratio','dot_count','at_count','dash_count','tld_count','domain_has_digits','subdomain_count','nan_char_entropy','has_internal_links']].corr()['label'].abs().sort_values(ascending=False)"
   ]
  },
  {
   "cell_type": "code",
   "execution_count": 127,
   "metadata": {},
   "outputs": [
    {
     "data": {
      "text/plain": [
       "label                 1.000000\n",
       "nan_char_entropy     -0.817593\n",
       "url_entropy          -0.733971\n",
       "url_length           -0.380100\n",
       "digit_letter_ratio   -0.255433\n",
       "Name: label, dtype: float64"
      ]
     },
     "execution_count": 127,
     "metadata": {},
     "output_type": "execute_result"
    }
   ],
   "source": [
    "# ...\n",
    "data_labeled[['label','nan_char_entropy','url_entropy','url_length','digit_letter_ratio']].corr()['label']"
   ]
  },
  {
   "cell_type": "markdown",
   "metadata": {},
   "source": [
    "## Dropping variables"
   ]
  },
  {
   "cell_type": "markdown",
   "metadata": {},
   "source": [
    "Dropping variables that are not IV"
   ]
  },
  {
   "cell_type": "code",
   "execution_count": 128,
   "metadata": {
    "ExecuteTime": {
     "end_time": "2024-10-24T01:12:22.504058Z",
     "start_time": "2024-10-24T01:12:22.495829Z"
    }
   },
   "outputs": [],
   "source": [
    "# The url is unnecessary as all the informations about the url are in the followings variables\n",
    "# whois_data is unnecessary as its content is summarized in the other IV variables\n",
    "# domain_age_data is unnecessary has it won't help the model to determine the TV\n",
    "\n",
    "data = data.drop(['url', 'whois_data', 'domain_age_days'], axis=1) # axis=1 necessary ?\n"
   ]
  },
  {
   "cell_type": "markdown",
   "metadata": {},
   "source": [
    "Dropping datas totally definning the model"
   ]
  },
  {
   "cell_type": "code",
   "execution_count": 129,
   "metadata": {
    "ExecuteTime": {
     "end_time": "2024-10-24T01:12:22.513023Z",
     "start_time": "2024-10-24T01:12:22.506071Z"
    }
   },
   "outputs": [],
   "source": [
    "# The source colums determines whether the url is legitimate or not\n",
    "data = data.drop('source', axis=1)\n"
   ]
  },
  {
   "cell_type": "code",
   "execution_count": 130,
   "metadata": {
    "ExecuteTime": {
     "end_time": "2024-10-24T01:12:22.547905Z",
     "start_time": "2024-10-24T01:12:22.542038Z"
    }
   },
   "outputs": [
    {
     "data": {
      "text/plain": [
       "(10000, 14)"
      ]
     },
     "execution_count": 130,
     "metadata": {},
     "output_type": "execute_result"
    }
   ],
   "source": [
    "data.shape\n",
    "# loss of 4 col"
   ]
  },
  {
   "cell_type": "markdown",
   "metadata": {},
   "source": [
    "## Understanding clean dataset"
   ]
  },
  {
   "cell_type": "code",
   "execution_count": 131,
   "metadata": {
    "ExecuteTime": {
     "end_time": "2024-10-24T01:12:22.661730Z",
     "start_time": "2024-10-24T01:12:22.652989Z"
    }
   },
   "outputs": [
    {
     "data": {
      "text/plain": [
       "label                 0\n",
       "url_length            0\n",
       "starts_with_ip        0\n",
       "url_entropy           0\n",
       "has_punycode          0\n",
       "digit_letter_ratio    0\n",
       "dot_count             0\n",
       "at_count              0\n",
       "dash_count            0\n",
       "tld_count             0\n",
       "domain_has_digits     0\n",
       "subdomain_count       0\n",
       "nan_char_entropy      0\n",
       "has_internal_links    0\n",
       "dtype: int64"
      ]
     },
     "execution_count": 131,
     "metadata": {},
     "output_type": "execute_result"
    }
   ],
   "source": [
    "data.isnull().sum()"
   ]
  },
  {
   "cell_type": "code",
   "execution_count": 132,
   "metadata": {
    "ExecuteTime": {
     "end_time": "2024-10-24T01:12:22.776217Z",
     "start_time": "2024-10-24T01:12:22.770321Z"
    }
   },
   "outputs": [
    {
     "data": {
      "text/plain": [
       "label                   int64\n",
       "url_length              int64\n",
       "starts_with_ip           bool\n",
       "url_entropy           float64\n",
       "has_punycode             bool\n",
       "digit_letter_ratio    float64\n",
       "dot_count               int64\n",
       "at_count                int64\n",
       "dash_count              int64\n",
       "tld_count               int64\n",
       "domain_has_digits        bool\n",
       "subdomain_count         int64\n",
       "nan_char_entropy      float64\n",
       "has_internal_links       bool\n",
       "dtype: object"
      ]
     },
     "execution_count": 132,
     "metadata": {},
     "output_type": "execute_result"
    }
   ],
   "source": [
    "data.dtypes"
   ]
  },
  {
   "cell_type": "code",
   "execution_count": 133,
   "metadata": {
    "ExecuteTime": {
     "end_time": "2024-10-24T01:12:22.968559Z",
     "start_time": "2024-10-24T01:12:22.937653Z"
    }
   },
   "outputs": [
    {
     "data": {
      "text/html": [
       "<div>\n",
       "<style scoped>\n",
       "    .dataframe tbody tr th:only-of-type {\n",
       "        vertical-align: middle;\n",
       "    }\n",
       "\n",
       "    .dataframe tbody tr th {\n",
       "        vertical-align: top;\n",
       "    }\n",
       "\n",
       "    .dataframe thead th {\n",
       "        text-align: right;\n",
       "    }\n",
       "</style>\n",
       "<table border=\"1\" class=\"dataframe\">\n",
       "  <thead>\n",
       "    <tr style=\"text-align: right;\">\n",
       "      <th></th>\n",
       "      <th>label</th>\n",
       "      <th>url_length</th>\n",
       "      <th>url_entropy</th>\n",
       "      <th>digit_letter_ratio</th>\n",
       "      <th>dot_count</th>\n",
       "      <th>at_count</th>\n",
       "      <th>dash_count</th>\n",
       "      <th>tld_count</th>\n",
       "      <th>subdomain_count</th>\n",
       "      <th>nan_char_entropy</th>\n",
       "    </tr>\n",
       "  </thead>\n",
       "  <tbody>\n",
       "    <tr>\n",
       "      <th>count</th>\n",
       "      <td>10000.000000</td>\n",
       "      <td>10000.000000</td>\n",
       "      <td>10000.000000</td>\n",
       "      <td>10000.000000</td>\n",
       "      <td>10000.00000</td>\n",
       "      <td>10000.00000</td>\n",
       "      <td>10000.000000</td>\n",
       "      <td>10000.000000</td>\n",
       "      <td>10000.000000</td>\n",
       "      <td>10000.000000</td>\n",
       "    </tr>\n",
       "    <tr>\n",
       "      <th>mean</th>\n",
       "      <td>0.500000</td>\n",
       "      <td>45.788100</td>\n",
       "      <td>3.911319</td>\n",
       "      <td>0.115826</td>\n",
       "      <td>2.21580</td>\n",
       "      <td>0.01090</td>\n",
       "      <td>0.745000</td>\n",
       "      <td>0.038500</td>\n",
       "      <td>0.786900</td>\n",
       "      <td>0.464863</td>\n",
       "    </tr>\n",
       "    <tr>\n",
       "      <th>std</th>\n",
       "      <td>0.500025</td>\n",
       "      <td>68.050433</td>\n",
       "      <td>0.640732</td>\n",
       "      <td>0.239825</td>\n",
       "      <td>2.39416</td>\n",
       "      <td>0.11306</td>\n",
       "      <td>1.878225</td>\n",
       "      <td>0.348755</td>\n",
       "      <td>1.040767</td>\n",
       "      <td>0.187817</td>\n",
       "    </tr>\n",
       "    <tr>\n",
       "      <th>min</th>\n",
       "      <td>0.000000</td>\n",
       "      <td>5.000000</td>\n",
       "      <td>1.918296</td>\n",
       "      <td>0.000000</td>\n",
       "      <td>1.00000</td>\n",
       "      <td>0.00000</td>\n",
       "      <td>0.000000</td>\n",
       "      <td>0.000000</td>\n",
       "      <td>0.000000</td>\n",
       "      <td>0.071456</td>\n",
       "    </tr>\n",
       "    <tr>\n",
       "      <th>25%</th>\n",
       "      <td>0.000000</td>\n",
       "      <td>17.000000</td>\n",
       "      <td>3.448513</td>\n",
       "      <td>0.000000</td>\n",
       "      <td>1.00000</td>\n",
       "      <td>0.00000</td>\n",
       "      <td>0.000000</td>\n",
       "      <td>0.000000</td>\n",
       "      <td>0.000000</td>\n",
       "      <td>0.306397</td>\n",
       "    </tr>\n",
       "    <tr>\n",
       "      <th>50%</th>\n",
       "      <td>0.500000</td>\n",
       "      <td>30.000000</td>\n",
       "      <td>3.920869</td>\n",
       "      <td>0.000000</td>\n",
       "      <td>2.00000</td>\n",
       "      <td>0.00000</td>\n",
       "      <td>0.000000</td>\n",
       "      <td>0.000000</td>\n",
       "      <td>1.000000</td>\n",
       "      <td>0.415452</td>\n",
       "    </tr>\n",
       "    <tr>\n",
       "      <th>75%</th>\n",
       "      <td>1.000000</td>\n",
       "      <td>53.000000</td>\n",
       "      <td>4.334118</td>\n",
       "      <td>0.133333</td>\n",
       "      <td>3.00000</td>\n",
       "      <td>0.00000</td>\n",
       "      <td>1.000000</td>\n",
       "      <td>0.000000</td>\n",
       "      <td>1.000000</td>\n",
       "      <td>0.616195</td>\n",
       "    </tr>\n",
       "    <tr>\n",
       "      <th>max</th>\n",
       "      <td>1.000000</td>\n",
       "      <td>2631.000000</td>\n",
       "      <td>5.963848</td>\n",
       "      <td>5.000000</td>\n",
       "      <td>148.00000</td>\n",
       "      <td>4.00000</td>\n",
       "      <td>113.000000</td>\n",
       "      <td>12.000000</td>\n",
       "      <td>13.000000</td>\n",
       "      <td>1.429613</td>\n",
       "    </tr>\n",
       "  </tbody>\n",
       "</table>\n",
       "</div>"
      ],
      "text/plain": [
       "              label    url_length   url_entropy  digit_letter_ratio  \\\n",
       "count  10000.000000  10000.000000  10000.000000        10000.000000   \n",
       "mean       0.500000     45.788100      3.911319            0.115826   \n",
       "std        0.500025     68.050433      0.640732            0.239825   \n",
       "min        0.000000      5.000000      1.918296            0.000000   \n",
       "25%        0.000000     17.000000      3.448513            0.000000   \n",
       "50%        0.500000     30.000000      3.920869            0.000000   \n",
       "75%        1.000000     53.000000      4.334118            0.133333   \n",
       "max        1.000000   2631.000000      5.963848            5.000000   \n",
       "\n",
       "         dot_count     at_count    dash_count     tld_count  subdomain_count  \\\n",
       "count  10000.00000  10000.00000  10000.000000  10000.000000     10000.000000   \n",
       "mean       2.21580      0.01090      0.745000      0.038500         0.786900   \n",
       "std        2.39416      0.11306      1.878225      0.348755         1.040767   \n",
       "min        1.00000      0.00000      0.000000      0.000000         0.000000   \n",
       "25%        1.00000      0.00000      0.000000      0.000000         0.000000   \n",
       "50%        2.00000      0.00000      0.000000      0.000000         1.000000   \n",
       "75%        3.00000      0.00000      1.000000      0.000000         1.000000   \n",
       "max      148.00000      4.00000    113.000000     12.000000        13.000000   \n",
       "\n",
       "       nan_char_entropy  \n",
       "count      10000.000000  \n",
       "mean           0.464863  \n",
       "std            0.187817  \n",
       "min            0.071456  \n",
       "25%            0.306397  \n",
       "50%            0.415452  \n",
       "75%            0.616195  \n",
       "max            1.429613  "
      ]
     },
     "execution_count": 133,
     "metadata": {},
     "output_type": "execute_result"
    }
   ],
   "source": [
    "data.describe()"
   ]
  },
  {
   "cell_type": "markdown",
   "metadata": {},
   "source": [
    "We see that the variable 'url_length' is probably neither standardized nor normalized. Below is therefore the distribution of the values."
   ]
  },
  {
   "cell_type": "code",
   "execution_count": 134,
   "metadata": {
    "ExecuteTime": {
     "end_time": "2024-10-24T01:12:23.785610Z",
     "start_time": "2024-10-24T01:12:23.006694Z"
    }
   },
   "outputs": [
    {
     "data": {
      "text/plain": [
       "[]"
      ]
     },
     "execution_count": 134,
     "metadata": {},
     "output_type": "execute_result"
    },
    {
     "data": {
      "image/png": "[encoded data removed]",
      "text/plain": [
       "<Figure size 640x480 with 1 Axes>"
      ]
     },
     "metadata": {},
     "output_type": "display_data"
    }
   ],
   "source": [
    "# See distribution of 'url length'\n",
    "\n",
    "plt.hist(data['url_length'], bins=500)\n",
    "plt.xlim(0, 500) #optional\n",
    "plt.plot()"
   ]
  },
  {
   "cell_type": "markdown",
   "metadata": {},
   "source": [
    "Indeed, the distribution of the variable 'url_lenght' does folow a Gaussian. A standardization can be performed."
   ]
  },
  {
   "cell_type": "markdown",
   "metadata": {},
   "source": [
    "## Standardization & Normalization"
   ]
  },
  {
   "cell_type": "code",
   "execution_count": 135,
   "metadata": {},
   "outputs": [
    {
     "data": {
      "text/html": [
       "<div>\n",
       "<style scoped>\n",
       "    .dataframe tbody tr th:only-of-type {\n",
       "        vertical-align: middle;\n",
       "    }\n",
       "\n",
       "    .dataframe tbody tr th {\n",
       "        vertical-align: top;\n",
       "    }\n",
       "\n",
       "    .dataframe thead th {\n",
       "        text-align: right;\n",
       "    }\n",
       "</style>\n",
       "<table border=\"1\" class=\"dataframe\">\n",
       "  <thead>\n",
       "    <tr style=\"text-align: right;\">\n",
       "      <th></th>\n",
       "      <th>label</th>\n",
       "      <th>url_length</th>\n",
       "      <th>url_entropy</th>\n",
       "      <th>digit_letter_ratio</th>\n",
       "      <th>dot_count</th>\n",
       "      <th>at_count</th>\n",
       "      <th>dash_count</th>\n",
       "      <th>tld_count</th>\n",
       "      <th>subdomain_count</th>\n",
       "      <th>nan_char_entropy</th>\n",
       "    </tr>\n",
       "  </thead>\n",
       "  <tbody>\n",
       "    <tr>\n",
       "      <th>count</th>\n",
       "      <td>10000.000000</td>\n",
       "      <td>10000.000000</td>\n",
       "      <td>10000.000000</td>\n",
       "      <td>10000.000000</td>\n",
       "      <td>1.000000e+04</td>\n",
       "      <td>10000.00000</td>\n",
       "      <td>1.000000e+04</td>\n",
       "      <td>10000.000000</td>\n",
       "      <td>10000.000000</td>\n",
       "      <td>10000.000000</td>\n",
       "    </tr>\n",
       "    <tr>\n",
       "      <th>mean</th>\n",
       "      <td>0.500000</td>\n",
       "      <td>0.000000</td>\n",
       "      <td>3.911319</td>\n",
       "      <td>0.115826</td>\n",
       "      <td>-6.821210e-17</td>\n",
       "      <td>0.01090</td>\n",
       "      <td>4.547474e-17</td>\n",
       "      <td>0.038500</td>\n",
       "      <td>0.786900</td>\n",
       "      <td>0.464863</td>\n",
       "    </tr>\n",
       "    <tr>\n",
       "      <th>std</th>\n",
       "      <td>0.500025</td>\n",
       "      <td>1.000050</td>\n",
       "      <td>0.640732</td>\n",
       "      <td>0.239825</td>\n",
       "      <td>1.000050e+00</td>\n",
       "      <td>0.11306</td>\n",
       "      <td>1.000050e+00</td>\n",
       "      <td>0.348755</td>\n",
       "      <td>1.040767</td>\n",
       "      <td>0.187817</td>\n",
       "    </tr>\n",
       "    <tr>\n",
       "      <th>min</th>\n",
       "      <td>0.000000</td>\n",
       "      <td>-0.599410</td>\n",
       "      <td>1.918296</td>\n",
       "      <td>0.000000</td>\n",
       "      <td>-5.078444e-01</td>\n",
       "      <td>0.00000</td>\n",
       "      <td>-3.966710e-01</td>\n",
       "      <td>0.000000</td>\n",
       "      <td>0.000000</td>\n",
       "      <td>0.071456</td>\n",
       "    </tr>\n",
       "    <tr>\n",
       "      <th>25%</th>\n",
       "      <td>0.000000</td>\n",
       "      <td>-0.423062</td>\n",
       "      <td>3.448513</td>\n",
       "      <td>0.000000</td>\n",
       "      <td>-5.078444e-01</td>\n",
       "      <td>0.00000</td>\n",
       "      <td>-3.966710e-01</td>\n",
       "      <td>0.000000</td>\n",
       "      <td>0.000000</td>\n",
       "      <td>0.306397</td>\n",
       "    </tr>\n",
       "    <tr>\n",
       "      <th>50%</th>\n",
       "      <td>0.500000</td>\n",
       "      <td>-0.232017</td>\n",
       "      <td>3.920869</td>\n",
       "      <td>0.000000</td>\n",
       "      <td>-9.014049e-02</td>\n",
       "      <td>0.00000</td>\n",
       "      <td>-3.966710e-01</td>\n",
       "      <td>0.000000</td>\n",
       "      <td>1.000000</td>\n",
       "      <td>0.415452</td>\n",
       "    </tr>\n",
       "    <tr>\n",
       "      <th>75%</th>\n",
       "      <td>1.000000</td>\n",
       "      <td>0.105984</td>\n",
       "      <td>4.334118</td>\n",
       "      <td>0.133333</td>\n",
       "      <td>3.275634e-01</td>\n",
       "      <td>0.00000</td>\n",
       "      <td>1.357733e-01</td>\n",
       "      <td>0.000000</td>\n",
       "      <td>1.000000</td>\n",
       "      <td>0.616195</td>\n",
       "    </tr>\n",
       "    <tr>\n",
       "      <th>max</th>\n",
       "      <td>1.000000</td>\n",
       "      <td>37.991546</td>\n",
       "      <td>5.963848</td>\n",
       "      <td>5.000000</td>\n",
       "      <td>6.089462e+01</td>\n",
       "      <td>4.00000</td>\n",
       "      <td>5.976954e+01</td>\n",
       "      <td>12.000000</td>\n",
       "      <td>13.000000</td>\n",
       "      <td>1.429613</td>\n",
       "    </tr>\n",
       "  </tbody>\n",
       "</table>\n",
       "</div>"
      ],
      "text/plain": [
       "              label    url_length   url_entropy  digit_letter_ratio  \\\n",
       "count  10000.000000  10000.000000  10000.000000        10000.000000   \n",
       "mean       0.500000      0.000000      3.911319            0.115826   \n",
       "std        0.500025      1.000050      0.640732            0.239825   \n",
       "min        0.000000     -0.599410      1.918296            0.000000   \n",
       "25%        0.000000     -0.423062      3.448513            0.000000   \n",
       "50%        0.500000     -0.232017      3.920869            0.000000   \n",
       "75%        1.000000      0.105984      4.334118            0.133333   \n",
       "max        1.000000     37.991546      5.963848            5.000000   \n",
       "\n",
       "          dot_count     at_count    dash_count     tld_count  subdomain_count  \\\n",
       "count  1.000000e+04  10000.00000  1.000000e+04  10000.000000     10000.000000   \n",
       "mean  -6.821210e-17      0.01090  4.547474e-17      0.038500         0.786900   \n",
       "std    1.000050e+00      0.11306  1.000050e+00      0.348755         1.040767   \n",
       "min   -5.078444e-01      0.00000 -3.966710e-01      0.000000         0.000000   \n",
       "25%   -5.078444e-01      0.00000 -3.966710e-01      0.000000         0.000000   \n",
       "50%   -9.014049e-02      0.00000 -3.966710e-01      0.000000         1.000000   \n",
       "75%    3.275634e-01      0.00000  1.357733e-01      0.000000         1.000000   \n",
       "max    6.089462e+01      4.00000  5.976954e+01     12.000000        13.000000   \n",
       "\n",
       "       nan_char_entropy  \n",
       "count      10000.000000  \n",
       "mean           0.464863  \n",
       "std            0.187817  \n",
       "min            0.071456  \n",
       "25%            0.306397  \n",
       "50%            0.415452  \n",
       "75%            0.616195  \n",
       "max            1.429613  "
      ]
     },
     "execution_count": 135,
     "metadata": {},
     "output_type": "execute_result"
    }
   ],
   "source": [
    "# Standardization of the url_lenght\n",
    "from sklearn.preprocessing import StandardScaler\n",
    "\n",
    "#temp = preprocessing.normalize([data['url_length']])\n",
    "data['url_length'] = StandardScaler().fit_transform(data[['url_length']])\n",
    "data['dot_count'] = StandardScaler().fit_transform(data[['dot_count']])\n",
    "data['dash_count'] = StandardScaler().fit_transform(data[['dash_count']])\n",
    "\n",
    "\n",
    "data.describe()"
   ]
  },
  {
   "cell_type": "markdown",
   "metadata": {},
   "source": [
    "## Class Balancing\n",
    "Our TV is labal. This data set is already balanced. It is a binary dataset."
   ]
  },
  {
   "cell_type": "code",
   "execution_count": 136,
   "metadata": {
    "ExecuteTime": {
     "end_time": "2024-10-24T01:12:23.797121Z",
     "start_time": "2024-10-24T01:12:23.787621Z"
    }
   },
   "outputs": [
    {
     "data": {
      "text/plain": [
       "np.int64(0)"
      ]
     },
     "execution_count": 136,
     "metadata": {},
     "output_type": "execute_result"
    }
   ],
   "source": [
    "data['label'].isnull().sum()"
   ]
  },
  {
   "cell_type": "code",
   "execution_count": 137,
   "metadata": {
    "ExecuteTime": {
     "end_time": "2024-10-24T01:12:23.972441Z",
     "start_time": "2024-10-24T01:12:23.798670Z"
    }
   },
   "outputs": [
    {
     "data": {
      "text/plain": [
       "label\n",
       "0    5000\n",
       "1    5000\n",
       "Name: count, dtype: int64"
      ]
     },
     "execution_count": 137,
     "metadata": {},
     "output_type": "execute_result"
    },
    {
     "data": {
      "image/png": "[encoded data removed]",
      "text/plain": [
       "<Figure size 640x480 with 1 Axes>"
      ]
     },
     "metadata": {},
     "output_type": "display_data"
    }
   ],
   "source": [
    "plt.hist(data['label'], density=False, bins= 3 )\n",
    "data['label'].value_counts()\n",
    "\n",
    "# add colors ???"
   ]
  },
  {
   "cell_type": "markdown",
   "metadata": {},
   "source": [
    "## Label Encoding / Factorizing"
   ]
  },
  {
   "cell_type": "code",
   "execution_count": 138,
   "metadata": {
    "ExecuteTime": {
     "end_time": "2024-10-24T01:12:24.014961Z",
     "start_time": "2024-10-24T01:12:23.981373Z"
    }
   },
   "outputs": [
    {
     "data": {
      "text/html": [
       "<div>\n",
       "<style scoped>\n",
       "    .dataframe tbody tr th:only-of-type {\n",
       "        vertical-align: middle;\n",
       "    }\n",
       "\n",
       "    .dataframe tbody tr th {\n",
       "        vertical-align: top;\n",
       "    }\n",
       "\n",
       "    .dataframe thead th {\n",
       "        text-align: right;\n",
       "    }\n",
       "</style>\n",
       "<table border=\"1\" class=\"dataframe\">\n",
       "  <thead>\n",
       "    <tr style=\"text-align: right;\">\n",
       "      <th></th>\n",
       "      <th>label</th>\n",
       "      <th>url_length</th>\n",
       "      <th>starts_with_ip</th>\n",
       "      <th>url_entropy</th>\n",
       "      <th>has_punycode</th>\n",
       "      <th>digit_letter_ratio</th>\n",
       "      <th>dot_count</th>\n",
       "      <th>at_count</th>\n",
       "      <th>dash_count</th>\n",
       "      <th>tld_count</th>\n",
       "      <th>domain_has_digits</th>\n",
       "      <th>subdomain_count</th>\n",
       "      <th>nan_char_entropy</th>\n",
       "      <th>has_internal_links</th>\n",
       "    </tr>\n",
       "  </thead>\n",
       "  <tbody>\n",
       "    <tr>\n",
       "      <th>0</th>\n",
       "      <td>0</td>\n",
       "      <td>0.238246</td>\n",
       "      <td>False</td>\n",
       "      <td>4.203093</td>\n",
       "      <td>False</td>\n",
       "      <td>0.039216</td>\n",
       "      <td>0.745267</td>\n",
       "      <td>0</td>\n",
       "      <td>-0.396671</td>\n",
       "      <td>0</td>\n",
       "      <td>False</td>\n",
       "      <td>2</td>\n",
       "      <td>0.606254</td>\n",
       "      <td>False</td>\n",
       "    </tr>\n",
       "    <tr>\n",
       "      <th>1</th>\n",
       "      <td>0</td>\n",
       "      <td>0.488073</td>\n",
       "      <td>False</td>\n",
       "      <td>4.747960</td>\n",
       "      <td>False</td>\n",
       "      <td>0.634146</td>\n",
       "      <td>0.327563</td>\n",
       "      <td>0</td>\n",
       "      <td>2.265551</td>\n",
       "      <td>0</td>\n",
       "      <td>False</td>\n",
       "      <td>2</td>\n",
       "      <td>0.438186</td>\n",
       "      <td>False</td>\n",
       "    </tr>\n",
       "    <tr>\n",
       "      <th>2</th>\n",
       "      <td>0</td>\n",
       "      <td>0.238246</td>\n",
       "      <td>False</td>\n",
       "      <td>4.453623</td>\n",
       "      <td>False</td>\n",
       "      <td>0.040000</td>\n",
       "      <td>0.745267</td>\n",
       "      <td>0</td>\n",
       "      <td>0.135773</td>\n",
       "      <td>1</td>\n",
       "      <td>False</td>\n",
       "      <td>1</td>\n",
       "      <td>0.606254</td>\n",
       "      <td>True</td>\n",
       "    </tr>\n",
       "    <tr>\n",
       "      <th>3</th>\n",
       "      <td>0</td>\n",
       "      <td>-0.320192</td>\n",
       "      <td>False</td>\n",
       "      <td>3.970176</td>\n",
       "      <td>False</td>\n",
       "      <td>0.000000</td>\n",
       "      <td>-0.507844</td>\n",
       "      <td>0</td>\n",
       "      <td>-0.396671</td>\n",
       "      <td>0</td>\n",
       "      <td>False</td>\n",
       "      <td>0</td>\n",
       "      <td>0.680827</td>\n",
       "      <td>False</td>\n",
       "    </tr>\n",
       "    <tr>\n",
       "      <th>4</th>\n",
       "      <td>0</td>\n",
       "      <td>0.341116</td>\n",
       "      <td>False</td>\n",
       "      <td>4.548398</td>\n",
       "      <td>False</td>\n",
       "      <td>0.441860</td>\n",
       "      <td>-0.090140</td>\n",
       "      <td>0</td>\n",
       "      <td>-0.396671</td>\n",
       "      <td>0</td>\n",
       "      <td>True</td>\n",
       "      <td>1</td>\n",
       "      <td>0.474778</td>\n",
       "      <td>False</td>\n",
       "    </tr>\n",
       "    <tr>\n",
       "      <th>...</th>\n",
       "      <td>...</td>\n",
       "      <td>...</td>\n",
       "      <td>...</td>\n",
       "      <td>...</td>\n",
       "      <td>...</td>\n",
       "      <td>...</td>\n",
       "      <td>...</td>\n",
       "      <td>...</td>\n",
       "      <td>...</td>\n",
       "      <td>...</td>\n",
       "      <td>...</td>\n",
       "      <td>...</td>\n",
       "      <td>...</td>\n",
       "      <td>...</td>\n",
       "    </tr>\n",
       "    <tr>\n",
       "      <th>9995</th>\n",
       "      <td>1</td>\n",
       "      <td>-0.305496</td>\n",
       "      <td>False</td>\n",
       "      <td>3.943465</td>\n",
       "      <td>False</td>\n",
       "      <td>0.100000</td>\n",
       "      <td>-0.090140</td>\n",
       "      <td>0</td>\n",
       "      <td>0.135773</td>\n",
       "      <td>0</td>\n",
       "      <td>False</td>\n",
       "      <td>1</td>\n",
       "      <td>0.291508</td>\n",
       "      <td>False</td>\n",
       "    </tr>\n",
       "    <tr>\n",
       "      <th>9996</th>\n",
       "      <td>1</td>\n",
       "      <td>-0.511236</td>\n",
       "      <td>False</td>\n",
       "      <td>2.663533</td>\n",
       "      <td>False</td>\n",
       "      <td>0.000000</td>\n",
       "      <td>-0.090140</td>\n",
       "      <td>0</td>\n",
       "      <td>-0.396671</td>\n",
       "      <td>0</td>\n",
       "      <td>False</td>\n",
       "      <td>0</td>\n",
       "      <td>0.447169</td>\n",
       "      <td>False</td>\n",
       "    </tr>\n",
       "    <tr>\n",
       "      <th>9997</th>\n",
       "      <td>1</td>\n",
       "      <td>-0.525932</td>\n",
       "      <td>False</td>\n",
       "      <td>2.921928</td>\n",
       "      <td>False</td>\n",
       "      <td>0.000000</td>\n",
       "      <td>-0.090140</td>\n",
       "      <td>0</td>\n",
       "      <td>-0.396671</td>\n",
       "      <td>0</td>\n",
       "      <td>False</td>\n",
       "      <td>0</td>\n",
       "      <td>0.464386</td>\n",
       "      <td>False</td>\n",
       "    </tr>\n",
       "    <tr>\n",
       "      <th>9998</th>\n",
       "      <td>1</td>\n",
       "      <td>-0.364279</td>\n",
       "      <td>False</td>\n",
       "      <td>3.916127</td>\n",
       "      <td>False</td>\n",
       "      <td>0.636364</td>\n",
       "      <td>-0.090140</td>\n",
       "      <td>0</td>\n",
       "      <td>0.135773</td>\n",
       "      <td>0</td>\n",
       "      <td>False</td>\n",
       "      <td>1</td>\n",
       "      <td>0.323078</td>\n",
       "      <td>False</td>\n",
       "    </tr>\n",
       "    <tr>\n",
       "      <th>9999</th>\n",
       "      <td>1</td>\n",
       "      <td>-0.467149</td>\n",
       "      <td>False</td>\n",
       "      <td>3.235926</td>\n",
       "      <td>False</td>\n",
       "      <td>0.000000</td>\n",
       "      <td>-0.507844</td>\n",
       "      <td>0</td>\n",
       "      <td>-0.396671</td>\n",
       "      <td>0</td>\n",
       "      <td>False</td>\n",
       "      <td>0</td>\n",
       "      <td>0.271954</td>\n",
       "      <td>False</td>\n",
       "    </tr>\n",
       "  </tbody>\n",
       "</table>\n",
       "<p>10000 rows × 14 columns</p>\n",
       "</div>"
      ],
      "text/plain": [
       "      label  url_length  starts_with_ip  url_entropy  has_punycode  \\\n",
       "0         0    0.238246           False     4.203093         False   \n",
       "1         0    0.488073           False     4.747960         False   \n",
       "2         0    0.238246           False     4.453623         False   \n",
       "3         0   -0.320192           False     3.970176         False   \n",
       "4         0    0.341116           False     4.548398         False   \n",
       "...     ...         ...             ...          ...           ...   \n",
       "9995      1   -0.305496           False     3.943465         False   \n",
       "9996      1   -0.511236           False     2.663533         False   \n",
       "9997      1   -0.525932           False     2.921928         False   \n",
       "9998      1   -0.364279           False     3.916127         False   \n",
       "9999      1   -0.467149           False     3.235926         False   \n",
       "\n",
       "      digit_letter_ratio  dot_count  at_count  dash_count  tld_count  \\\n",
       "0               0.039216   0.745267         0   -0.396671          0   \n",
       "1               0.634146   0.327563         0    2.265551          0   \n",
       "2               0.040000   0.745267         0    0.135773          1   \n",
       "3               0.000000  -0.507844         0   -0.396671          0   \n",
       "4               0.441860  -0.090140         0   -0.396671          0   \n",
       "...                  ...        ...       ...         ...        ...   \n",
       "9995            0.100000  -0.090140         0    0.135773          0   \n",
       "9996            0.000000  -0.090140         0   -0.396671          0   \n",
       "9997            0.000000  -0.090140         0   -0.396671          0   \n",
       "9998            0.636364  -0.090140         0    0.135773          0   \n",
       "9999            0.000000  -0.507844         0   -0.396671          0   \n",
       "\n",
       "      domain_has_digits  subdomain_count  nan_char_entropy  has_internal_links  \n",
       "0                 False                2          0.606254               False  \n",
       "1                 False                2          0.438186               False  \n",
       "2                 False                1          0.606254                True  \n",
       "3                 False                0          0.680827               False  \n",
       "4                  True                1          0.474778               False  \n",
       "...                 ...              ...               ...                 ...  \n",
       "9995              False                1          0.291508               False  \n",
       "9996              False                0          0.447169               False  \n",
       "9997              False                0          0.464386               False  \n",
       "9998              False                1          0.323078               False  \n",
       "9999              False                0          0.271954               False  \n",
       "\n",
       "[10000 rows x 14 columns]"
      ]
     },
     "execution_count": 138,
     "metadata": {},
     "output_type": "execute_result"
    }
   ],
   "source": [
    "#0: legitimate, \n",
    "#1: phishing\n",
    "data['label'] = pd.factorize(data['label'])[0]\n",
    "\n",
    "data"
   ]
  },
  {
   "cell_type": "markdown",
   "metadata": {},
   "source": [
    "## Assign IV and TV"
   ]
  },
  {
   "cell_type": "code",
   "execution_count": 139,
   "metadata": {
    "ExecuteTime": {
     "end_time": "2024-10-24T01:12:24.022452Z",
     "start_time": "2024-10-24T01:12:24.016486Z"
    }
   },
   "outputs": [],
   "source": [
    "X = data.drop('label', axis = 1) #IV\n",
    "Y = data['label'] #TV"
   ]
  },
  {
   "cell_type": "markdown",
   "metadata": {},
   "source": [
    "## Data Split"
   ]
  },
  {
   "cell_type": "code",
   "execution_count": 140,
   "metadata": {
    "ExecuteTime": {
     "end_time": "2024-10-24T01:12:24.034379Z",
     "start_time": "2024-10-24T01:12:24.024366Z"
    }
   },
   "outputs": [],
   "source": [
    "from sklearn.model_selection import train_test_split\n",
    "X_train, X_test, Y_train, Y_test = train_test_split(X, Y, test_size = 0.20, random_state = 1)"
   ]
  },
  {
   "cell_type": "code",
   "execution_count": 141,
   "metadata": {
    "ExecuteTime": {
     "end_time": "2024-10-24T01:12:24.051916Z",
     "start_time": "2024-10-24T01:12:24.035393Z"
    }
   },
   "outputs": [
    {
     "data": {
      "text/html": [
       "<div>\n",
       "<style scoped>\n",
       "    .dataframe tbody tr th:only-of-type {\n",
       "        vertical-align: middle;\n",
       "    }\n",
       "\n",
       "    .dataframe tbody tr th {\n",
       "        vertical-align: top;\n",
       "    }\n",
       "\n",
       "    .dataframe thead th {\n",
       "        text-align: right;\n",
       "    }\n",
       "</style>\n",
       "<table border=\"1\" class=\"dataframe\">\n",
       "  <thead>\n",
       "    <tr style=\"text-align: right;\">\n",
       "      <th></th>\n",
       "      <th>url_length</th>\n",
       "      <th>starts_with_ip</th>\n",
       "      <th>url_entropy</th>\n",
       "      <th>has_punycode</th>\n",
       "      <th>digit_letter_ratio</th>\n",
       "      <th>dot_count</th>\n",
       "      <th>at_count</th>\n",
       "      <th>dash_count</th>\n",
       "      <th>tld_count</th>\n",
       "      <th>domain_has_digits</th>\n",
       "      <th>subdomain_count</th>\n",
       "      <th>nan_char_entropy</th>\n",
       "      <th>has_internal_links</th>\n",
       "    </tr>\n",
       "  </thead>\n",
       "  <tbody>\n",
       "    <tr>\n",
       "      <th>9953</th>\n",
       "      <td>-0.525932</td>\n",
       "      <td>False</td>\n",
       "      <td>3.121928</td>\n",
       "      <td>False</td>\n",
       "      <td>0.000000</td>\n",
       "      <td>-0.507844</td>\n",
       "      <td>0</td>\n",
       "      <td>0.135773</td>\n",
       "      <td>0</td>\n",
       "      <td>False</td>\n",
       "      <td>0</td>\n",
       "      <td>0.332193</td>\n",
       "      <td>False</td>\n",
       "    </tr>\n",
       "    <tr>\n",
       "      <th>3850</th>\n",
       "      <td>-0.099756</td>\n",
       "      <td>False</td>\n",
       "      <td>4.015921</td>\n",
       "      <td>False</td>\n",
       "      <td>0.100000</td>\n",
       "      <td>-0.507844</td>\n",
       "      <td>0</td>\n",
       "      <td>-0.396671</td>\n",
       "      <td>0</td>\n",
       "      <td>True</td>\n",
       "      <td>0</td>\n",
       "      <td>0.608011</td>\n",
       "      <td>False</td>\n",
       "    </tr>\n",
       "    <tr>\n",
       "      <th>4962</th>\n",
       "      <td>0.752596</td>\n",
       "      <td>False</td>\n",
       "      <td>4.778498</td>\n",
       "      <td>False</td>\n",
       "      <td>0.641509</td>\n",
       "      <td>0.327563</td>\n",
       "      <td>0</td>\n",
       "      <td>0.135773</td>\n",
       "      <td>0</td>\n",
       "      <td>False</td>\n",
       "      <td>1</td>\n",
       "      <td>0.514324</td>\n",
       "      <td>False</td>\n",
       "    </tr>\n",
       "    <tr>\n",
       "      <th>3886</th>\n",
       "      <td>-0.276105</td>\n",
       "      <td>False</td>\n",
       "      <td>4.060262</td>\n",
       "      <td>False</td>\n",
       "      <td>0.150000</td>\n",
       "      <td>-0.507844</td>\n",
       "      <td>0</td>\n",
       "      <td>-0.396671</td>\n",
       "      <td>0</td>\n",
       "      <td>True</td>\n",
       "      <td>0</td>\n",
       "      <td>0.630354</td>\n",
       "      <td>False</td>\n",
       "    </tr>\n",
       "    <tr>\n",
       "      <th>5437</th>\n",
       "      <td>-0.525932</td>\n",
       "      <td>False</td>\n",
       "      <td>2.646439</td>\n",
       "      <td>False</td>\n",
       "      <td>0.000000</td>\n",
       "      <td>-0.090140</td>\n",
       "      <td>0</td>\n",
       "      <td>-0.396671</td>\n",
       "      <td>0</td>\n",
       "      <td>False</td>\n",
       "      <td>0</td>\n",
       "      <td>0.464386</td>\n",
       "      <td>False</td>\n",
       "    </tr>\n",
       "  </tbody>\n",
       "</table>\n",
       "</div>"
      ],
      "text/plain": [
       "      url_length  starts_with_ip  url_entropy  has_punycode  \\\n",
       "9953   -0.525932           False     3.121928         False   \n",
       "3850   -0.099756           False     4.015921         False   \n",
       "4962    0.752596           False     4.778498         False   \n",
       "3886   -0.276105           False     4.060262         False   \n",
       "5437   -0.525932           False     2.646439         False   \n",
       "\n",
       "      digit_letter_ratio  dot_count  at_count  dash_count  tld_count  \\\n",
       "9953            0.000000  -0.507844         0    0.135773          0   \n",
       "3850            0.100000  -0.507844         0   -0.396671          0   \n",
       "4962            0.641509   0.327563         0    0.135773          0   \n",
       "3886            0.150000  -0.507844         0   -0.396671          0   \n",
       "5437            0.000000  -0.090140         0   -0.396671          0   \n",
       "\n",
       "      domain_has_digits  subdomain_count  nan_char_entropy  has_internal_links  \n",
       "9953              False                0          0.332193               False  \n",
       "3850               True                0          0.608011               False  \n",
       "4962              False                1          0.514324               False  \n",
       "3886               True                0          0.630354               False  \n",
       "5437              False                0          0.464386               False  "
      ]
     },
     "execution_count": 141,
     "metadata": {},
     "output_type": "execute_result"
    }
   ],
   "source": [
    "X_test.head(5)\n",
    "# or X_train[0:5]"
   ]
  },
  {
   "cell_type": "code",
   "execution_count": 142,
   "metadata": {
    "ExecuteTime": {
     "end_time": "2024-10-24T01:12:24.063642Z",
     "start_time": "2024-10-24T01:12:24.053002Z"
    }
   },
   "outputs": [
    {
     "data": {
      "text/plain": [
       "label\n",
       "1    4021\n",
       "0    3979\n",
       "Name: count, dtype: int64"
      ]
     },
     "execution_count": 142,
     "metadata": {},
     "output_type": "execute_result"
    }
   ],
   "source": [
    "#Y_test.head()\n",
    "Y_train.value_counts()"
   ]
  },
  {
   "cell_type": "code",
   "execution_count": 143,
   "metadata": {
    "ExecuteTime": {
     "end_time": "2024-10-24T01:12:24.074011Z",
     "start_time": "2024-10-24T01:12:24.066868Z"
    }
   },
   "outputs": [
    {
     "data": {
      "text/plain": [
       "(2000,)"
      ]
     },
     "execution_count": 143,
     "metadata": {},
     "output_type": "execute_result"
    }
   ],
   "source": [
    "Y_test.shape # 0.2 of the data set"
   ]
  },
  {
   "cell_type": "markdown",
   "metadata": {},
   "source": [
    "## KNN"
   ]
  },
  {
   "cell_type": "markdown",
   "metadata": {},
   "source": [
    "### Model Building"
   ]
  },
  {
   "cell_type": "code",
   "execution_count": 144,
   "metadata": {
    "ExecuteTime": {
     "end_time": "2024-10-24T01:12:24.082483Z",
     "start_time": "2024-10-24T01:12:24.075637Z"
    }
   },
   "outputs": [],
   "source": [
    "import seaborn as sns\n",
    "from sklearn.neighbors import KNeighborsClassifier\n",
    "from sklearn.metrics import classification_report, confusion_matrix, accuracy_score, precision_score, recall_score, f1_score"
   ]
  },
  {
   "cell_type": "markdown",
   "metadata": {},
   "source": [
    "Training Sample"
   ]
  },
  {
   "cell_type": "code",
   "execution_count": 145,
   "metadata": {},
   "outputs": [
    {
     "data": {
      "text/plain": [
       "(8000, 13)"
      ]
     },
     "execution_count": 145,
     "metadata": {},
     "output_type": "execute_result"
    }
   ],
   "source": [
    "# training sample\n",
    "X_train.shape"
   ]
  },
  {
   "cell_type": "code",
   "execution_count": 146,
   "metadata": {
    "ExecuteTime": {
     "end_time": "2024-10-24T01:12:24.261824Z",
     "start_time": "2024-10-24T01:12:24.083497Z"
    }
   },
   "outputs": [
    {
     "data": {
      "text/html": [
       "<style>#sk-container-id-3 {\n",
       "  /* Definition of color scheme common for light and dark mode */\n",
       "  --sklearn-color-text: black;\n",
       "  --sklearn-color-line: gray;\n",
       "  /* Definition of color scheme for unfitted estimators */\n",
       "  --sklearn-color-unfitted-level-0: #fff5e6;\n",
       "  --sklearn-color-unfitted-level-1: #f6e4d2;\n",
       "  --sklearn-color-unfitted-level-2: #ffe0b3;\n",
       "  --sklearn-color-unfitted-level-3: chocolate;\n",
       "  /* Definition of color scheme for fitted estimators */\n",
       "  --sklearn-color-fitted-level-0: #f0f8ff;\n",
       "  --sklearn-color-fitted-level-1: #d4ebff;\n",
       "  --sklearn-color-fitted-level-2: #b3dbfd;\n",
       "  --sklearn-color-fitted-level-3: cornflowerblue;\n",
       "\n",
       "  /* Specific color for light theme */\n",
       "  --sklearn-color-text-on-default-background: var(--sg-text-color, var(--theme-code-foreground, var(--jp-content-font-color1, black)));\n",
       "  --sklearn-color-background: var(--sg-background-color, var(--theme-background, var(--jp-layout-color0, white)));\n",
       "  --sklearn-color-border-box: var(--sg-text-color, var(--theme-code-foreground, var(--jp-content-font-color1, black)));\n",
       "  --sklearn-color-icon: #696969;\n",
       "\n",
       "  @media (prefers-color-scheme: dark) {\n",
       "    /* Redefinition of color scheme for dark theme */\n",
       "    --sklearn-color-text-on-default-background: var(--sg-text-color, var(--theme-code-foreground, var(--jp-content-font-color1, white)));\n",
       "    --sklearn-color-background: var(--sg-background-color, var(--theme-background, var(--jp-layout-color0, #111)));\n",
       "    --sklearn-color-border-box: var(--sg-text-color, var(--theme-code-foreground, var(--jp-content-font-color1, white)));\n",
       "    --sklearn-color-icon: #878787;\n",
       "  }\n",
       "}\n",
       "\n",
       "#sk-container-id-3 {\n",
       "  color: var(--sklearn-color-text);\n",
       "}\n",
       "\n",
       "#sk-container-id-3 pre {\n",
       "  padding: 0;\n",
       "}\n",
       "\n",
       "#sk-container-id-3 input.sk-hidden--visually {\n",
       "  border: 0;\n",
       "  clip: rect(1px 1px 1px 1px);\n",
       "  clip: rect(1px, 1px, 1px, 1px);\n",
       "  height: 1px;\n",
       "  margin: -1px;\n",
       "  overflow: hidden;\n",
       "  padding: 0;\n",
       "  position: absolute;\n",
       "  width: 1px;\n",
       "}\n",
       "\n",
       "#sk-container-id-3 div.sk-dashed-wrapped {\n",
       "  border: 1px dashed var(--sklearn-color-line);\n",
       "  margin: 0 0.4em 0.5em 0.4em;\n",
       "  box-sizing: border-box;\n",
       "  padding-bottom: 0.4em;\n",
       "  background-color: var(--sklearn-color-background);\n",
       "}\n",
       "\n",
       "#sk-container-id-3 div.sk-container {\n",
       "  /* jupyter's `normalize.less` sets `[hidden] { display: none; }`\n",
       "     but bootstrap.min.css set `[hidden] { display: none !important; }`\n",
       "     so we also need the `!important` here to be able to override the\n",
       "     default hidden behavior on the sphinx rendered scikit-learn.org.\n",
       "     See: https://github.com/scikit-learn/scikit-learn/issues/21755 */\n",
       "  display: inline-block !important;\n",
       "  position: relative;\n",
       "}\n",
       "\n",
       "#sk-container-id-3 div.sk-text-repr-fallback {\n",
       "  display: none;\n",
       "}\n",
       "\n",
       "div.sk-parallel-item,\n",
       "div.sk-serial,\n",
       "div.sk-item {\n",
       "  /* draw centered vertical line to link estimators */\n",
       "  background-image: linear-gradient(var(--sklearn-color-text-on-default-background), var(--sklearn-color-text-on-default-background));\n",
       "  background-size: 2px 100%;\n",
       "  background-repeat: no-repeat;\n",
       "  background-position: center center;\n",
       "}\n",
       "\n",
       "/* Parallel-specific style estimator block */\n",
       "\n",
       "#sk-container-id-3 div.sk-parallel-item::after {\n",
       "  content: \"\";\n",
       "  width: 100%;\n",
       "  border-bottom: 2px solid var(--sklearn-color-text-on-default-background);\n",
       "  flex-grow: 1;\n",
       "}\n",
       "\n",
       "#sk-container-id-3 div.sk-parallel {\n",
       "  display: flex;\n",
       "  align-items: stretch;\n",
       "  justify-content: center;\n",
       "  background-color: var(--sklearn-color-background);\n",
       "  position: relative;\n",
       "}\n",
       "\n",
       "#sk-container-id-3 div.sk-parallel-item {\n",
       "  display: flex;\n",
       "  flex-direction: column;\n",
       "}\n",
       "\n",
       "#sk-container-id-3 div.sk-parallel-item:first-child::after {\n",
       "  align-self: flex-end;\n",
       "  width: 50%;\n",
       "}\n",
       "\n",
       "#sk-container-id-3 div.sk-parallel-item:last-child::after {\n",
       "  align-self: flex-start;\n",
       "  width: 50%;\n",
       "}\n",
       "\n",
       "#sk-container-id-3 div.sk-parallel-item:only-child::after {\n",
       "  width: 0;\n",
       "}\n",
       "\n",
       "/* Serial-specific style estimator block */\n",
       "\n",
       "#sk-container-id-3 div.sk-serial {\n",
       "  display: flex;\n",
       "  flex-direction: column;\n",
       "  align-items: center;\n",
       "  background-color: var(--sklearn-color-background);\n",
       "  padding-right: 1em;\n",
       "  padding-left: 1em;\n",
       "}\n",
       "\n",
       "\n",
       "/* Toggleable style: style used for estimator/Pipeline/ColumnTransformer box that is\n",
       "clickable and can be expanded/collapsed.\n",
       "- Pipeline and ColumnTransformer use this feature and define the default style\n",
       "- Estimators will overwrite some part of the style using the `sk-estimator` class\n",
       "*/\n",
       "\n",
       "/* Pipeline and ColumnTransformer style (default) */\n",
       "\n",
       "#sk-container-id-3 div.sk-toggleable {\n",
       "  /* Default theme specific background. It is overwritten whether we have a\n",
       "  specific estimator or a Pipeline/ColumnTransformer */\n",
       "  background-color: var(--sklearn-color-background);\n",
       "}\n",
       "\n",
       "/* Toggleable label */\n",
       "#sk-container-id-3 label.sk-toggleable__label {\n",
       "  cursor: pointer;\n",
       "  display: block;\n",
       "  width: 100%;\n",
       "  margin-bottom: 0;\n",
       "  padding: 0.5em;\n",
       "  box-sizing: border-box;\n",
       "  text-align: center;\n",
       "}\n",
       "\n",
       "#sk-container-id-3 label.sk-toggleable__label-arrow:before {\n",
       "  /* Arrow on the left of the label */\n",
       "  content: \"▸\";\n",
       "  float: left;\n",
       "  margin-right: 0.25em;\n",
       "  color: var(--sklearn-color-icon);\n",
       "}\n",
       "\n",
       "#sk-container-id-3 label.sk-toggleable__label-arrow:hover:before {\n",
       "  color: var(--sklearn-color-text);\n",
       "}\n",
       "\n",
       "/* Toggleable content - dropdown */\n",
       "\n",
       "#sk-container-id-3 div.sk-toggleable__content {\n",
       "  max-height: 0;\n",
       "  max-width: 0;\n",
       "  overflow: hidden;\n",
       "  text-align: left;\n",
       "  /* unfitted */\n",
       "  background-color: var(--sklearn-color-unfitted-level-0);\n",
       "}\n",
       "\n",
       "#sk-container-id-3 div.sk-toggleable__content.fitted {\n",
       "  /* fitted */\n",
       "  background-color: var(--sklearn-color-fitted-level-0);\n",
       "}\n",
       "\n",
       "#sk-container-id-3 div.sk-toggleable__content pre {\n",
       "  margin: 0.2em;\n",
       "  border-radius: 0.25em;\n",
       "  color: var(--sklearn-color-text);\n",
       "  /* unfitted */\n",
       "  background-color: var(--sklearn-color-unfitted-level-0);\n",
       "}\n",
       "\n",
       "#sk-container-id-3 div.sk-toggleable__content.fitted pre {\n",
       "  /* unfitted */\n",
       "  background-color: var(--sklearn-color-fitted-level-0);\n",
       "}\n",
       "\n",
       "#sk-container-id-3 input.sk-toggleable__control:checked~div.sk-toggleable__content {\n",
       "  /* Expand drop-down */\n",
       "  max-height: 200px;\n",
       "  max-width: 100%;\n",
       "  overflow: auto;\n",
       "}\n",
       "\n",
       "#sk-container-id-3 input.sk-toggleable__control:checked~label.sk-toggleable__label-arrow:before {\n",
       "  content: \"▾\";\n",
       "}\n",
       "\n",
       "/* Pipeline/ColumnTransformer-specific style */\n",
       "\n",
       "#sk-container-id-3 div.sk-label input.sk-toggleable__control:checked~label.sk-toggleable__label {\n",
       "  color: var(--sklearn-color-text);\n",
       "  background-color: var(--sklearn-color-unfitted-level-2);\n",
       "}\n",
       "\n",
       "#sk-container-id-3 div.sk-label.fitted input.sk-toggleable__control:checked~label.sk-toggleable__label {\n",
       "  background-color: var(--sklearn-color-fitted-level-2);\n",
       "}\n",
       "\n",
       "/* Estimator-specific style */\n",
       "\n",
       "/* Colorize estimator box */\n",
       "#sk-container-id-3 div.sk-estimator input.sk-toggleable__control:checked~label.sk-toggleable__label {\n",
       "  /* unfitted */\n",
       "  background-color: var(--sklearn-color-unfitted-level-2);\n",
       "}\n",
       "\n",
       "#sk-container-id-3 div.sk-estimator.fitted input.sk-toggleable__control:checked~label.sk-toggleable__label {\n",
       "  /* fitted */\n",
       "  background-color: var(--sklearn-color-fitted-level-2);\n",
       "}\n",
       "\n",
       "#sk-container-id-3 div.sk-label label.sk-toggleable__label,\n",
       "#sk-container-id-3 div.sk-label label {\n",
       "  /* The background is the default theme color */\n",
       "  color: var(--sklearn-color-text-on-default-background);\n",
       "}\n",
       "\n",
       "/* On hover, darken the color of the background */\n",
       "#sk-container-id-3 div.sk-label:hover label.sk-toggleable__label {\n",
       "  color: var(--sklearn-color-text);\n",
       "  background-color: var(--sklearn-color-unfitted-level-2);\n",
       "}\n",
       "\n",
       "/* Label box, darken color on hover, fitted */\n",
       "#sk-container-id-3 div.sk-label.fitted:hover label.sk-toggleable__label.fitted {\n",
       "  color: var(--sklearn-color-text);\n",
       "  background-color: var(--sklearn-color-fitted-level-2);\n",
       "}\n",
       "\n",
       "/* Estimator label */\n",
       "\n",
       "#sk-container-id-3 div.sk-label label {\n",
       "  font-family: monospace;\n",
       "  font-weight: bold;\n",
       "  display: inline-block;\n",
       "  line-height: 1.2em;\n",
       "}\n",
       "\n",
       "#sk-container-id-3 div.sk-label-container {\n",
       "  text-align: center;\n",
       "}\n",
       "\n",
       "/* Estimator-specific */\n",
       "#sk-container-id-3 div.sk-estimator {\n",
       "  font-family: monospace;\n",
       "  border: 1px dotted var(--sklearn-color-border-box);\n",
       "  border-radius: 0.25em;\n",
       "  box-sizing: border-box;\n",
       "  margin-bottom: 0.5em;\n",
       "  /* unfitted */\n",
       "  background-color: var(--sklearn-color-unfitted-level-0);\n",
       "}\n",
       "\n",
       "#sk-container-id-3 div.sk-estimator.fitted {\n",
       "  /* fitted */\n",
       "  background-color: var(--sklearn-color-fitted-level-0);\n",
       "}\n",
       "\n",
       "/* on hover */\n",
       "#sk-container-id-3 div.sk-estimator:hover {\n",
       "  /* unfitted */\n",
       "  background-color: var(--sklearn-color-unfitted-level-2);\n",
       "}\n",
       "\n",
       "#sk-container-id-3 div.sk-estimator.fitted:hover {\n",
       "  /* fitted */\n",
       "  background-color: var(--sklearn-color-fitted-level-2);\n",
       "}\n",
       "\n",
       "/* Specification for estimator info (e.g. \"i\" and \"?\") */\n",
       "\n",
       "/* Common style for \"i\" and \"?\" */\n",
       "\n",
       ".sk-estimator-doc-link,\n",
       "a:link.sk-estimator-doc-link,\n",
       "a:visited.sk-estimator-doc-link {\n",
       "  float: right;\n",
       "  font-size: smaller;\n",
       "  line-height: 1em;\n",
       "  font-family: monospace;\n",
       "  background-color: var(--sklearn-color-background);\n",
       "  border-radius: 1em;\n",
       "  height: 1em;\n",
       "  width: 1em;\n",
       "  text-decoration: none !important;\n",
       "  margin-left: 1ex;\n",
       "  /* unfitted */\n",
       "  border: var(--sklearn-color-unfitted-level-1) 1pt solid;\n",
       "  color: var(--sklearn-color-unfitted-level-1);\n",
       "}\n",
       "\n",
       ".sk-estimator-doc-link.fitted,\n",
       "a:link.sk-estimator-doc-link.fitted,\n",
       "a:visited.sk-estimator-doc-link.fitted {\n",
       "  /* fitted */\n",
       "  border: var(--sklearn-color-fitted-level-1) 1pt solid;\n",
       "  color: var(--sklearn-color-fitted-level-1);\n",
       "}\n",
       "\n",
       "/* On hover */\n",
       "div.sk-estimator:hover .sk-estimator-doc-link:hover,\n",
       ".sk-estimator-doc-link:hover,\n",
       "div.sk-label-container:hover .sk-estimator-doc-link:hover,\n",
       ".sk-estimator-doc-link:hover {\n",
       "  /* unfitted */\n",
       "  background-color: var(--sklearn-color-unfitted-level-3);\n",
       "  color: var(--sklearn-color-background);\n",
       "  text-decoration: none;\n",
       "}\n",
       "\n",
       "div.sk-estimator.fitted:hover .sk-estimator-doc-link.fitted:hover,\n",
       ".sk-estimator-doc-link.fitted:hover,\n",
       "div.sk-label-container:hover .sk-estimator-doc-link.fitted:hover,\n",
       ".sk-estimator-doc-link.fitted:hover {\n",
       "  /* fitted */\n",
       "  background-color: var(--sklearn-color-fitted-level-3);\n",
       "  color: var(--sklearn-color-background);\n",
       "  text-decoration: none;\n",
       "}\n",
       "\n",
       "/* Span, style for the box shown on hovering the info icon */\n",
       ".sk-estimator-doc-link span {\n",
       "  display: none;\n",
       "  z-index: 9999;\n",
       "  position: relative;\n",
       "  font-weight: normal;\n",
       "  right: .2ex;\n",
       "  padding: .5ex;\n",
       "  margin: .5ex;\n",
       "  width: min-content;\n",
       "  min-width: 20ex;\n",
       "  max-width: 50ex;\n",
       "  color: var(--sklearn-color-text);\n",
       "  box-shadow: 2pt 2pt 4pt #999;\n",
       "  /* unfitted */\n",
       "  background: var(--sklearn-color-unfitted-level-0);\n",
       "  border: .5pt solid var(--sklearn-color-unfitted-level-3);\n",
       "}\n",
       "\n",
       ".sk-estimator-doc-link.fitted span {\n",
       "  /* fitted */\n",
       "  background: var(--sklearn-color-fitted-level-0);\n",
       "  border: var(--sklearn-color-fitted-level-3);\n",
       "}\n",
       "\n",
       ".sk-estimator-doc-link:hover span {\n",
       "  display: block;\n",
       "}\n",
       "\n",
       "/* \"?\"-specific style due to the `<a>` HTML tag */\n",
       "\n",
       "#sk-container-id-3 a.estimator_doc_link {\n",
       "  float: right;\n",
       "  font-size: 1rem;\n",
       "  line-height: 1em;\n",
       "  font-family: monospace;\n",
       "  background-color: var(--sklearn-color-background);\n",
       "  border-radius: 1rem;\n",
       "  height: 1rem;\n",
       "  width: 1rem;\n",
       "  text-decoration: none;\n",
       "  /* unfitted */\n",
       "  color: var(--sklearn-color-unfitted-level-1);\n",
       "  border: var(--sklearn-color-unfitted-level-1) 1pt solid;\n",
       "}\n",
       "\n",
       "#sk-container-id-3 a.estimator_doc_link.fitted {\n",
       "  /* fitted */\n",
       "  border: var(--sklearn-color-fitted-level-1) 1pt solid;\n",
       "  color: var(--sklearn-color-fitted-level-1);\n",
       "}\n",
       "\n",
       "/* On hover */\n",
       "#sk-container-id-3 a.estimator_doc_link:hover {\n",
       "  /* unfitted */\n",
       "  background-color: var(--sklearn-color-unfitted-level-3);\n",
       "  color: var(--sklearn-color-background);\n",
       "  text-decoration: none;\n",
       "}\n",
       "\n",
       "#sk-container-id-3 a.estimator_doc_link.fitted:hover {\n",
       "  /* fitted */\n",
       "  background-color: var(--sklearn-color-fitted-level-3);\n",
       "}\n",
       "</style><div id=\"sk-container-id-3\" class=\"sk-top-container\"><div class=\"sk-text-repr-fallback\"><pre>KNeighborsClassifier()</pre><b>In a Jupyter environment, please rerun this cell to show the HTML representation or trust the notebook. <br />On GitHub, the HTML representation is unable to render, please try loading this page with nbviewer.org.</b></div><div class=\"sk-container\" hidden><div class=\"sk-item\"><div class=\"sk-estimator fitted sk-toggleable\"><input class=\"sk-toggleable__control sk-hidden--visually\" id=\"sk-estimator-id-3\" type=\"checkbox\" checked><label for=\"sk-estimator-id-3\" class=\"sk-toggleable__label fitted sk-toggleable__label-arrow fitted\">&nbsp;&nbsp;KNeighborsClassifier<a class=\"sk-estimator-doc-link fitted\" rel=\"noreferrer\" target=\"_blank\" href=\"https://scikit-learn.org/1.5/modules/generated/sklearn.neighbors.KNeighborsClassifier.html\">?<span>Documentation for KNeighborsClassifier</span></a><span class=\"sk-estimator-doc-link fitted\">i<span>Fitted</span></span></label><div class=\"sk-toggleable__content fitted\"><pre>KNeighborsClassifier()</pre></div> </div></div></div></div>"
      ],
      "text/plain": [
       "KNeighborsClassifier()"
      ]
     },
     "execution_count": 146,
     "metadata": {},
     "output_type": "execute_result"
    }
   ],
   "source": [
    "knn = KNeighborsClassifier()\n",
    "knn.fit(X_train, Y_train)"
   ]
  },
  {
   "cell_type": "markdown",
   "metadata": {},
   "source": [
    "### Model testing"
   ]
  },
  {
   "cell_type": "code",
   "execution_count": 147,
   "metadata": {},
   "outputs": [],
   "source": [
    "y_pred = knn.predict(X_test)"
   ]
  },
  {
   "cell_type": "markdown",
   "metadata": {},
   "source": [
    "### Analysis of the metrics :"
   ]
  },
  {
   "cell_type": "code",
   "execution_count": 148,
   "metadata": {},
   "outputs": [
    {
     "name": "stdout",
     "output_type": "stream",
     "text": [
      "KNN - Accuracy: 99.000.\n",
      "\n",
      "Classification Report\n",
      "              precision    recall  f1-score   support\n",
      "\n",
      "           0       0.99      0.99      0.99      1021\n",
      "           1       0.99      0.99      0.99       979\n",
      "\n",
      "    accuracy                           0.99      2000\n",
      "   macro avg       0.99      0.99      0.99      2000\n",
      "weighted avg       0.99      0.99      0.99      2000\n",
      "\n"
     ]
    }
   ],
   "source": [
    "# Accuracy, recall, precision\n",
    "acc = accuracy_score(Y_test, y_pred)*100\n",
    "print(\"KNN - Accuracy: {:.3f}.\".format(acc))\n",
    "print(\"\\nClassification Report\")\n",
    "print(classification_report(Y_test, y_pred))"
   ]
  },
  {
   "cell_type": "markdown",
   "metadata": {},
   "source": [
    "#### Confusion Matrix"
   ]
  },
  {
   "cell_type": "code",
   "execution_count": 149,
   "metadata": {
    "ExecuteTime": {
     "end_time": "2024-10-24T01:12:24.271056Z",
     "start_time": "2024-10-24T01:12:24.262838Z"
    }
   },
   "outputs": [
    {
     "name": "stdout",
     "output_type": "stream",
     "text": [
      "[[1010   11]\n",
      " [   9  970]]\n"
     ]
    }
   ],
   "source": [
    "cm = confusion_matrix(Y_test, y_pred)\n",
    "print(cm)"
   ]
  },
  {
   "cell_type": "code",
   "execution_count": 150,
   "metadata": {
    "ExecuteTime": {
     "end_time": "2024-10-24T01:12:24.494556Z",
     "start_time": "2024-10-24T01:12:24.272604Z"
    }
   },
   "outputs": [
    {
     "data": {
      "text/plain": [
       "Text(0.5, 1.0, 'Confusion Matrix')"
      ]
     },
     "execution_count": 150,
     "metadata": {},
     "output_type": "execute_result"
    },
    {
     "data": {
      "image/png": "[encoded data removed]",
      "text/plain": [
       "<Figure size 300x300 with 2 Axes>"
      ]
     },
     "metadata": {},
     "output_type": "display_data"
    }
   ],
   "source": [
    "plt.figure(figsize=(3,3))\n",
    "sns.heatmap(cm, annot=True, linewidths=.5, square = True, cmap = 'Blues')\n",
    "\n",
    "plt.xticks([0, 1], ['legitimate', 'phishing'])\n",
    "plt.yticks([0, 1], ['legitimate', 'phishing'])\n",
    "\n",
    "plt.xlabel('Predicted label')\n",
    "plt.ylabel('Actual label')\n",
    "\n",
    "\n",
    "\n",
    "plt.title(\"Confusion Matrix\", size = 12)"
   ]
  },
  {
   "cell_type": "markdown",
   "metadata": {
    "collapsed": false
   },
   "source": [
    "## Model building with Tensorflow"
   ]
  },
  {
   "cell_type": "markdown",
   "metadata": {},
   "source": [
    "### Model building"
   ]
  },
  {
   "cell_type": "code",
   "execution_count": 151,
   "metadata": {
    "ExecuteTime": {
     "end_time": "2024-10-24T01:12:24.500083Z",
     "start_time": "2024-10-24T01:12:24.495569Z"
    },
    "collapsed": false
   },
   "outputs": [],
   "source": [
    "import tensorflow as tf\n",
    "from tensorflow import keras\n",
    "from keras import Sequential\n",
    "from keras.layers import Dense,Input"
   ]
  },
  {
   "cell_type": "markdown",
   "metadata": {
    "collapsed": false
   },
   "source": [
    "Create model with 1 input layer, 2 hidden layer and 1 output layer"
   ]
  },
  {
   "cell_type": "code",
   "execution_count": 152,
   "metadata": {
    "ExecuteTime": {
     "end_time": "2024-10-24T01:12:24.548531Z",
     "start_time": "2024-10-24T01:12:24.501623Z"
    },
    "collapsed": false
   },
   "outputs": [],
   "source": [
    "model = Sequential()\n",
    "\n",
    "model.add(Input(shape=(X_train.shape[1],))) # input layer\n",
    "model.add(Dense(40,activation='relu')) # hidden layer\n",
    "model.add(Dense(20,activation='relu')) # hidden layer\n",
    "model.add(Dense(1,activation='sigmoid')) # output layer"
   ]
  },
  {
   "cell_type": "code",
   "execution_count": 153,
   "metadata": {
    "ExecuteTime": {
     "end_time": "2024-10-24T01:12:24.566297Z",
     "start_time": "2024-10-24T01:12:24.549543Z"
    },
    "collapsed": false
   },
   "outputs": [
    {
     "data": {
      "text/html": [
       "<pre style=\"white-space:pre;overflow-x:auto;line-height:normal;font-family:Menlo,'DejaVu Sans Mono',consolas,'Courier New',monospace\"><span style=\"font-weight: bold\">Model: \"sequential_2\"</span>\n",
       "</pre>\n"
      ],
      "text/plain": [
       "\u001b[1mModel: \"sequential_2\"\u001b[0m\n"
      ]
     },
     "metadata": {},
     "output_type": "display_data"
    },
    {
     "data": {
      "text/html": [
       "<pre style=\"white-space:pre;overflow-x:auto;line-height:normal;font-family:Menlo,'DejaVu Sans Mono',consolas,'Courier New',monospace\">┏━━━━━━━━━━━━━━━━━━━━━━━━━━━━━━━━━┳━━━━━━━━━━━━━━━━━━━━━━━━┳━━━━━━━━━━━━━━━┓\n",
       "┃<span style=\"font-weight: bold\"> Layer (type)                    </span>┃<span style=\"font-weight: bold\"> Output Shape           </span>┃<span style=\"font-weight: bold\">       Param # </span>┃\n",
       "┡━━━━━━━━━━━━━━━━━━━━━━━━━━━━━━━━━╇━━━━━━━━━━━━━━━━━━━━━━━━╇━━━━━━━━━━━━━━━┩\n",
       "│ dense_6 (<span style=\"color: #0087ff; text-decoration-color: #0087ff\">Dense</span>)                 │ (<span style=\"color: #00d7ff; text-decoration-color: #00d7ff\">None</span>, <span style=\"color: #00af00; text-decoration-color: #00af00\">40</span>)             │           <span style=\"color: #00af00; text-decoration-color: #00af00\">560</span> │\n",
       "├─────────────────────────────────┼────────────────────────┼───────────────┤\n",
       "│ dense_7 (<span style=\"color: #0087ff; text-decoration-color: #0087ff\">Dense</span>)                 │ (<span style=\"color: #00d7ff; text-decoration-color: #00d7ff\">None</span>, <span style=\"color: #00af00; text-decoration-color: #00af00\">20</span>)             │           <span style=\"color: #00af00; text-decoration-color: #00af00\">820</span> │\n",
       "├─────────────────────────────────┼────────────────────────┼───────────────┤\n",
       "│ dense_8 (<span style=\"color: #0087ff; text-decoration-color: #0087ff\">Dense</span>)                 │ (<span style=\"color: #00d7ff; text-decoration-color: #00d7ff\">None</span>, <span style=\"color: #00af00; text-decoration-color: #00af00\">1</span>)              │            <span style=\"color: #00af00; text-decoration-color: #00af00\">21</span> │\n",
       "└─────────────────────────────────┴────────────────────────┴───────────────┘\n",
       "</pre>\n"
      ],
      "text/plain": [
       "┏━━━━━━━━━━━━━━━━━━━━━━━━━━━━━━━━━┳━━━━━━━━━━━━━━━━━━━━━━━━┳━━━━━━━━━━━━━━━┓\n",
       "┃\u001b[1m \u001b[0m\u001b[1mLayer (type)                   \u001b[0m\u001b[1m \u001b[0m┃\u001b[1m \u001b[0m\u001b[1mOutput Shape          \u001b[0m\u001b[1m \u001b[0m┃\u001b[1m \u001b[0m\u001b[1m      Param #\u001b[0m\u001b[1m \u001b[0m┃\n",
       "┡━━━━━━━━━━━━━━━━━━━━━━━━━━━━━━━━━╇━━━━━━━━━━━━━━━━━━━━━━━━╇━━━━━━━━━━━━━━━┩\n",
       "│ dense_6 (\u001b[38;5;33mDense\u001b[0m)                 │ (\u001b[38;5;45mNone\u001b[0m, \u001b[38;5;34m40\u001b[0m)             │           \u001b[38;5;34m560\u001b[0m │\n",
       "├─────────────────────────────────┼────────────────────────┼───────────────┤\n",
       "│ dense_7 (\u001b[38;5;33mDense\u001b[0m)                 │ (\u001b[38;5;45mNone\u001b[0m, \u001b[38;5;34m20\u001b[0m)             │           \u001b[38;5;34m820\u001b[0m │\n",
       "├─────────────────────────────────┼────────────────────────┼───────────────┤\n",
       "│ dense_8 (\u001b[38;5;33mDense\u001b[0m)                 │ (\u001b[38;5;45mNone\u001b[0m, \u001b[38;5;34m1\u001b[0m)              │            \u001b[38;5;34m21\u001b[0m │\n",
       "└─────────────────────────────────┴────────────────────────┴───────────────┘\n"
      ]
     },
     "metadata": {},
     "output_type": "display_data"
    },
    {
     "data": {
      "text/html": [
       "<pre style=\"white-space:pre;overflow-x:auto;line-height:normal;font-family:Menlo,'DejaVu Sans Mono',consolas,'Courier New',monospace\"><span style=\"font-weight: bold\"> Total params: </span><span style=\"color: #00af00; text-decoration-color: #00af00\">1,401</span> (5.47 KB)\n",
       "</pre>\n"
      ],
      "text/plain": [
       "\u001b[1m Total params: \u001b[0m\u001b[38;5;34m1,401\u001b[0m (5.47 KB)\n"
      ]
     },
     "metadata": {},
     "output_type": "display_data"
    },
    {
     "data": {
      "text/html": [
       "<pre style=\"white-space:pre;overflow-x:auto;line-height:normal;font-family:Menlo,'DejaVu Sans Mono',consolas,'Courier New',monospace\"><span style=\"font-weight: bold\"> Trainable params: </span><span style=\"color: #00af00; text-decoration-color: #00af00\">1,401</span> (5.47 KB)\n",
       "</pre>\n"
      ],
      "text/plain": [
       "\u001b[1m Trainable params: \u001b[0m\u001b[38;5;34m1,401\u001b[0m (5.47 KB)\n"
      ]
     },
     "metadata": {},
     "output_type": "display_data"
    },
    {
     "data": {
      "text/html": [
       "<pre style=\"white-space:pre;overflow-x:auto;line-height:normal;font-family:Menlo,'DejaVu Sans Mono',consolas,'Courier New',monospace\"><span style=\"font-weight: bold\"> Non-trainable params: </span><span style=\"color: #00af00; text-decoration-color: #00af00\">0</span> (0.00 B)\n",
       "</pre>\n"
      ],
      "text/plain": [
       "\u001b[1m Non-trainable params: \u001b[0m\u001b[38;5;34m0\u001b[0m (0.00 B)\n"
      ]
     },
     "metadata": {},
     "output_type": "display_data"
    }
   ],
   "source": [
    "model.summary()"
   ]
  },
  {
   "cell_type": "code",
   "execution_count": 154,
   "metadata": {
    "ExecuteTime": {
     "end_time": "2024-10-24T01:12:24.576638Z",
     "start_time": "2024-10-24T01:12:24.568311Z"
    },
    "collapsed": false
   },
   "outputs": [],
   "source": [
    "model.compile(loss='binary_crossentropy',optimizer='Adam',metrics=['accuracy'])"
   ]
  },
  {
   "cell_type": "code",
   "execution_count": 155,
   "metadata": {
    "ExecuteTime": {
     "end_time": "2024-10-24T01:12:24.587036Z",
     "start_time": "2024-10-24T01:12:24.579362Z"
    },
    "collapsed": false
   },
   "outputs": [
    {
     "name": "stdout",
     "output_type": "stream",
     "text": [
      "<class 'numpy.ndarray'> <class 'numpy.ndarray'>\n"
     ]
    }
   ],
   "source": [
    "X_train_arr = X_train.to_numpy()\n",
    "Y_train_arr = Y_train.to_numpy()\n",
    "print(type(X_train_arr), type(Y_train_arr))"
   ]
  },
  {
   "cell_type": "markdown",
   "metadata": {},
   "source": [
    "Training sample"
   ]
  },
  {
   "cell_type": "code",
   "execution_count": 156,
   "metadata": {
    "ExecuteTime": {
     "end_time": "2024-10-24T01:12:24.594764Z",
     "start_time": "2024-10-24T01:12:24.588756Z"
    },
    "collapsed": false
   },
   "outputs": [
    {
     "name": "stdout",
     "output_type": "stream",
     "text": [
      "X_train shape: (8000, 13)\n",
      "Y_train shape: (8000,)\n"
     ]
    }
   ],
   "source": [
    "print(\"X_train shape:\", X_train_arr.shape)\n",
    "print(\"Y_train shape:\", Y_train_arr.shape)"
   ]
  },
  {
   "cell_type": "code",
   "execution_count": 157,
   "metadata": {
    "ExecuteTime": {
     "end_time": "2024-10-24T01:12:24.803758Z",
     "start_time": "2024-10-24T01:12:24.794928Z"
    },
    "collapsed": false
   },
   "outputs": [
    {
     "name": "stdout",
     "output_type": "stream",
     "text": [
      "X_test shape: (2000, 13)\n",
      "Y_test shape: (2000,)\n"
     ]
    }
   ],
   "source": [
    "X_test_arr = X_test.to_numpy()\n",
    "Y_test_arr = Y_test.to_numpy()\n",
    "print(\"X_test shape:\", X_test_arr.shape)\n",
    "print(\"Y_test shape:\", Y_test_arr.shape)\n"
   ]
  },
  {
   "cell_type": "code",
   "execution_count": 158,
   "metadata": {
    "ExecuteTime": {
     "end_time": "2024-10-24T01:12:24.897446Z",
     "start_time": "2024-10-24T01:12:24.885273Z"
    },
    "collapsed": false
   },
   "outputs": [],
   "source": [
    "# Convert to tensor\n",
    "X_train_tsr = tf.convert_to_tensor(X_train_arr, dtype=tf.float32)\n",
    "Y_train_tsr = tf.convert_to_tensor(Y_train_arr, dtype=tf.float32)\n",
    "X_test_tsr = tf.convert_to_tensor(X_test_arr, dtype=tf.float32)\n",
    "Y_test_tsr = tf.convert_to_tensor(Y_test_arr, dtype=tf.float32)"
   ]
  },
  {
   "cell_type": "markdown",
   "metadata": {
    "collapsed": false
   },
   "source": [
    "#### Model Training"
   ]
  },
  {
   "cell_type": "code",
   "execution_count": 159,
   "metadata": {
    "ExecuteTime": {
     "end_time": "2024-10-24T01:13:00.408569Z",
     "start_time": "2024-10-24T01:12:25.040428Z"
    },
    "collapsed": false
   },
   "outputs": [
    {
     "name": "stdout",
     "output_type": "stream",
     "text": [
      "Epoch 1/120\n"
     ]
    },
    {
     "name": "stdout",
     "output_type": "stream",
     "text": [
      "\u001b[1m160/160\u001b[0m \u001b[32m━━━━━━━━━━━━━━━━━━━━\u001b[0m\u001b[37m\u001b[0m \u001b[1m1s\u001b[0m 902us/step - accuracy: 0.6922 - loss: 0.6403 - val_accuracy: 0.9450 - val_loss: 0.2732\n",
      "Epoch 2/120\n",
      "\u001b[1m160/160\u001b[0m \u001b[32m━━━━━━━━━━━━━━━━━━━━\u001b[0m\u001b[37m\u001b[0m \u001b[1m0s\u001b[0m 544us/step - accuracy: 0.9772 - loss: 0.1976 - val_accuracy: 0.9925 - val_loss: 0.0865\n",
      "Epoch 3/120\n",
      "\u001b[1m160/160\u001b[0m \u001b[32m━━━━━━━━━━━━━━━━━━━━\u001b[0m\u001b[37m\u001b[0m \u001b[1m0s\u001b[0m 523us/step - accuracy: 0.9937 - loss: 0.0606 - val_accuracy: 0.9950 - val_loss: 0.0412\n",
      "Epoch 4/120\n",
      "\u001b[1m160/160\u001b[0m \u001b[32m━━━━━━━━━━━━━━━━━━━━\u001b[0m\u001b[37m\u001b[0m \u001b[1m0s\u001b[0m 520us/step - accuracy: 0.9968 - loss: 0.0285 - val_accuracy: 0.9956 - val_loss: 0.0286\n",
      "Epoch 5/120\n",
      "\u001b[1m160/160\u001b[0m \u001b[32m━━━━━━━━━━━━━━━━━━━━\u001b[0m\u001b[37m\u001b[0m \u001b[1m0s\u001b[0m 516us/step - accuracy: 0.9981 - loss: 0.0160 - val_accuracy: 0.9969 - val_loss: 0.0219\n",
      "Epoch 6/120\n",
      "\u001b[1m160/160\u001b[0m \u001b[32m━━━━━━━━━━━━━━━━━━━━\u001b[0m\u001b[37m\u001b[0m \u001b[1m0s\u001b[0m 514us/step - accuracy: 0.9976 - loss: 0.0127 - val_accuracy: 0.9969 - val_loss: 0.0182\n",
      "Epoch 7/120\n",
      "\u001b[1m160/160\u001b[0m \u001b[32m━━━━━━━━━━━━━━━━━━━━\u001b[0m\u001b[37m\u001b[0m \u001b[1m0s\u001b[0m 518us/step - accuracy: 0.9978 - loss: 0.0093 - val_accuracy: 0.9969 - val_loss: 0.0174\n",
      "Epoch 8/120\n",
      "\u001b[1m160/160\u001b[0m \u001b[32m━━━━━━━━━━━━━━━━━━━━\u001b[0m\u001b[37m\u001b[0m \u001b[1m0s\u001b[0m 530us/step - accuracy: 0.9994 - loss: 0.0053 - val_accuracy: 0.9969 - val_loss: 0.0158\n",
      "Epoch 9/120\n",
      "\u001b[1m160/160\u001b[0m \u001b[32m━━━━━━━━━━━━━━━━━━━━\u001b[0m\u001b[37m\u001b[0m \u001b[1m0s\u001b[0m 570us/step - accuracy: 0.9992 - loss: 0.0045 - val_accuracy: 0.9975 - val_loss: 0.0135\n",
      "Epoch 10/120\n",
      "\u001b[1m160/160\u001b[0m \u001b[32m━━━━━━━━━━━━━━━━━━━━\u001b[0m\u001b[37m\u001b[0m \u001b[1m0s\u001b[0m 683us/step - accuracy: 0.9999 - loss: 0.0025 - val_accuracy: 0.9975 - val_loss: 0.0109\n",
      "Epoch 11/120\n",
      "\u001b[1m160/160\u001b[0m \u001b[32m━━━━━━━━━━━━━━━━━━━━\u001b[0m\u001b[37m\u001b[0m \u001b[1m0s\u001b[0m 570us/step - accuracy: 1.0000 - loss: 0.0024 - val_accuracy: 0.9975 - val_loss: 0.0091\n",
      "Epoch 12/120\n",
      "\u001b[1m160/160\u001b[0m \u001b[32m━━━━━━━━━━━━━━━━━━━━\u001b[0m\u001b[37m\u001b[0m \u001b[1m0s\u001b[0m 662us/step - accuracy: 0.9998 - loss: 0.0023 - val_accuracy: 0.9969 - val_loss: 0.0093\n",
      "Epoch 13/120\n",
      "\u001b[1m160/160\u001b[0m \u001b[32m━━━━━━━━━━━━━━━━━━━━\u001b[0m\u001b[37m\u001b[0m \u001b[1m0s\u001b[0m 528us/step - accuracy: 1.0000 - loss: 0.0013 - val_accuracy: 0.9969 - val_loss: 0.0086\n",
      "Epoch 14/120\n",
      "\u001b[1m160/160\u001b[0m \u001b[32m━━━━━━━━━━━━━━━━━━━━\u001b[0m\u001b[37m\u001b[0m \u001b[1m0s\u001b[0m 751us/step - accuracy: 0.9992 - loss: 0.0021 - val_accuracy: 0.9969 - val_loss: 0.0060\n",
      "Epoch 15/120\n",
      "\u001b[1m160/160\u001b[0m \u001b[32m━━━━━━━━━━━━━━━━━━━━\u001b[0m\u001b[37m\u001b[0m \u001b[1m0s\u001b[0m 550us/step - accuracy: 1.0000 - loss: 9.5850e-04 - val_accuracy: 0.9969 - val_loss: 0.0075\n",
      "Epoch 16/120\n",
      "\u001b[1m160/160\u001b[0m \u001b[32m━━━━━━━━━━━━━━━━━━━━\u001b[0m\u001b[37m\u001b[0m \u001b[1m0s\u001b[0m 569us/step - accuracy: 0.9997 - loss: 0.0013 - val_accuracy: 0.9969 - val_loss: 0.0062\n",
      "Epoch 17/120\n",
      "\u001b[1m160/160\u001b[0m \u001b[32m━━━━━━━━━━━━━━━━━━━━\u001b[0m\u001b[37m\u001b[0m \u001b[1m0s\u001b[0m 592us/step - accuracy: 0.9993 - loss: 0.0018 - val_accuracy: 0.9969 - val_loss: 0.0060\n",
      "Epoch 18/120\n",
      "\u001b[1m160/160\u001b[0m \u001b[32m━━━━━━━━━━━━━━━━━━━━\u001b[0m\u001b[37m\u001b[0m \u001b[1m0s\u001b[0m 552us/step - accuracy: 0.9999 - loss: 5.9751e-04 - val_accuracy: 0.9969 - val_loss: 0.0057\n",
      "Epoch 19/120\n",
      "\u001b[1m160/160\u001b[0m \u001b[32m━━━━━━━━━━━━━━━━━━━━\u001b[0m\u001b[37m\u001b[0m \u001b[1m0s\u001b[0m 529us/step - accuracy: 0.9991 - loss: 0.0018 - val_accuracy: 0.9969 - val_loss: 0.0046\n",
      "Epoch 20/120\n",
      "\u001b[1m160/160\u001b[0m \u001b[32m━━━━━━━━━━━━━━━━━━━━\u001b[0m\u001b[37m\u001b[0m \u001b[1m0s\u001b[0m 538us/step - accuracy: 0.9999 - loss: 4.2684e-04 - val_accuracy: 0.9987 - val_loss: 0.0027\n",
      "Epoch 21/120\n",
      "\u001b[1m160/160\u001b[0m \u001b[32m━━━━━━━━━━━━━━━━━━━━\u001b[0m\u001b[37m\u001b[0m \u001b[1m0s\u001b[0m 530us/step - accuracy: 1.0000 - loss: 4.1358e-04 - val_accuracy: 0.9987 - val_loss: 0.0026\n",
      "Epoch 22/120\n",
      "\u001b[1m160/160\u001b[0m \u001b[32m━━━━━━━━━━━━━━━━━━━━\u001b[0m\u001b[37m\u001b[0m \u001b[1m0s\u001b[0m 526us/step - accuracy: 1.0000 - loss: 3.3262e-04 - val_accuracy: 0.9975 - val_loss: 0.0032\n",
      "Epoch 23/120\n",
      "\u001b[1m160/160\u001b[0m \u001b[32m━━━━━━━━━━━━━━━━━━━━\u001b[0m\u001b[37m\u001b[0m \u001b[1m0s\u001b[0m 527us/step - accuracy: 1.0000 - loss: 4.2918e-04 - val_accuracy: 0.9975 - val_loss: 0.0029\n",
      "Epoch 24/120\n",
      "\u001b[1m160/160\u001b[0m \u001b[32m━━━━━━━━━━━━━━━━━━━━\u001b[0m\u001b[37m\u001b[0m \u001b[1m0s\u001b[0m 534us/step - accuracy: 1.0000 - loss: 2.8023e-04 - val_accuracy: 0.9987 - val_loss: 0.0027\n",
      "Epoch 25/120\n",
      "\u001b[1m160/160\u001b[0m \u001b[32m━━━━━━━━━━━━━━━━━━━━\u001b[0m\u001b[37m\u001b[0m \u001b[1m0s\u001b[0m 2ms/step - accuracy: 1.0000 - loss: 2.5445e-04 - val_accuracy: 0.9987 - val_loss: 0.0028\n",
      "Epoch 26/120\n",
      "\u001b[1m160/160\u001b[0m \u001b[32m━━━━━━━━━━━━━━━━━━━━\u001b[0m\u001b[37m\u001b[0m \u001b[1m0s\u001b[0m 606us/step - accuracy: 1.0000 - loss: 1.5397e-04 - val_accuracy: 0.9987 - val_loss: 0.0035\n",
      "Epoch 27/120\n",
      "\u001b[1m160/160\u001b[0m \u001b[32m━━━━━━━━━━━━━━━━━━━━\u001b[0m\u001b[37m\u001b[0m \u001b[1m0s\u001b[0m 543us/step - accuracy: 1.0000 - loss: 2.1680e-04 - val_accuracy: 0.9994 - val_loss: 0.0019\n",
      "Epoch 28/120\n",
      "\u001b[1m160/160\u001b[0m \u001b[32m━━━━━━━━━━━━━━━━━━━━\u001b[0m\u001b[37m\u001b[0m \u001b[1m0s\u001b[0m 541us/step - accuracy: 1.0000 - loss: 1.9530e-04 - val_accuracy: 0.9987 - val_loss: 0.0023\n",
      "Epoch 29/120\n",
      "\u001b[1m160/160\u001b[0m \u001b[32m━━━━━━━━━━━━━━━━━━━━\u001b[0m\u001b[37m\u001b[0m \u001b[1m0s\u001b[0m 537us/step - accuracy: 1.0000 - loss: 1.3388e-04 - val_accuracy: 0.9994 - val_loss: 0.0020\n",
      "Epoch 30/120\n",
      "\u001b[1m160/160\u001b[0m \u001b[32m━━━━━━━━━━━━━━━━━━━━\u001b[0m\u001b[37m\u001b[0m \u001b[1m0s\u001b[0m 545us/step - accuracy: 1.0000 - loss: 1.9717e-04 - val_accuracy: 0.9994 - val_loss: 0.0018\n",
      "Epoch 31/120\n",
      "\u001b[1m160/160\u001b[0m \u001b[32m━━━━━━━━━━━━━━━━━━━━\u001b[0m\u001b[37m\u001b[0m \u001b[1m0s\u001b[0m 516us/step - accuracy: 1.0000 - loss: 9.5916e-05 - val_accuracy: 0.9994 - val_loss: 0.0016\n",
      "Epoch 32/120\n",
      "\u001b[1m160/160\u001b[0m \u001b[32m━━━━━━━━━━━━━━━━━━━━\u001b[0m\u001b[37m\u001b[0m \u001b[1m0s\u001b[0m 527us/step - accuracy: 1.0000 - loss: 7.1881e-05 - val_accuracy: 0.9987 - val_loss: 0.0027\n",
      "Epoch 33/120\n",
      "\u001b[1m160/160\u001b[0m \u001b[32m━━━━━━━━━━━━━━━━━━━━\u001b[0m\u001b[37m\u001b[0m \u001b[1m0s\u001b[0m 516us/step - accuracy: 1.0000 - loss: 1.0533e-04 - val_accuracy: 0.9994 - val_loss: 0.0012\n",
      "Epoch 34/120\n",
      "\u001b[1m160/160\u001b[0m \u001b[32m━━━━━━━━━━━━━━━━━━━━\u001b[0m\u001b[37m\u001b[0m \u001b[1m0s\u001b[0m 526us/step - accuracy: 1.0000 - loss: 9.0398e-05 - val_accuracy: 0.9994 - val_loss: 0.0016\n",
      "Epoch 35/120\n",
      "\u001b[1m160/160\u001b[0m \u001b[32m━━━━━━━━━━━━━━━━━━━━\u001b[0m\u001b[37m\u001b[0m \u001b[1m0s\u001b[0m 543us/step - accuracy: 1.0000 - loss: 6.8433e-05 - val_accuracy: 1.0000 - val_loss: 7.9162e-04\n",
      "Epoch 36/120\n",
      "\u001b[1m160/160\u001b[0m \u001b[32m━━━━━━━━━━━━━━━━━━━━\u001b[0m\u001b[37m\u001b[0m \u001b[1m0s\u001b[0m 544us/step - accuracy: 1.0000 - loss: 5.7866e-05 - val_accuracy: 0.9987 - val_loss: 0.0023\n",
      "Epoch 37/120\n",
      "\u001b[1m160/160\u001b[0m \u001b[32m━━━━━━━━━━━━━━━━━━━━\u001b[0m\u001b[37m\u001b[0m \u001b[1m0s\u001b[0m 539us/step - accuracy: 1.0000 - loss: 7.7175e-05 - val_accuracy: 0.9994 - val_loss: 0.0017\n",
      "Epoch 38/120\n",
      "\u001b[1m160/160\u001b[0m \u001b[32m━━━━━━━━━━━━━━━━━━━━\u001b[0m\u001b[37m\u001b[0m \u001b[1m0s\u001b[0m 539us/step - accuracy: 1.0000 - loss: 6.1909e-05 - val_accuracy: 0.9994 - val_loss: 0.0014\n",
      "Epoch 39/120\n",
      "\u001b[1m160/160\u001b[0m \u001b[32m━━━━━━━━━━━━━━━━━━━━\u001b[0m\u001b[37m\u001b[0m \u001b[1m0s\u001b[0m 546us/step - accuracy: 1.0000 - loss: 6.0197e-05 - val_accuracy: 0.9994 - val_loss: 0.0014\n",
      "Epoch 40/120\n",
      "\u001b[1m160/160\u001b[0m \u001b[32m━━━━━━━━━━━━━━━━━━━━\u001b[0m\u001b[37m\u001b[0m \u001b[1m0s\u001b[0m 544us/step - accuracy: 1.0000 - loss: 4.1056e-05 - val_accuracy: 0.9994 - val_loss: 0.0011\n",
      "Epoch 41/120\n",
      "\u001b[1m160/160\u001b[0m \u001b[32m━━━━━━━━━━━━━━━━━━━━\u001b[0m\u001b[37m\u001b[0m \u001b[1m0s\u001b[0m 531us/step - accuracy: 1.0000 - loss: 4.9716e-05 - val_accuracy: 0.9994 - val_loss: 0.0010\n",
      "Epoch 42/120\n",
      "\u001b[1m160/160\u001b[0m \u001b[32m━━━━━━━━━━━━━━━━━━━━\u001b[0m\u001b[37m\u001b[0m \u001b[1m0s\u001b[0m 510us/step - accuracy: 1.0000 - loss: 3.3074e-05 - val_accuracy: 0.9994 - val_loss: 0.0013\n",
      "Epoch 43/120\n",
      "\u001b[1m160/160\u001b[0m \u001b[32m━━━━━━━━━━━━━━━━━━━━\u001b[0m\u001b[37m\u001b[0m \u001b[1m0s\u001b[0m 524us/step - accuracy: 1.0000 - loss: 2.5502e-05 - val_accuracy: 0.9994 - val_loss: 0.0014\n",
      "Epoch 44/120\n",
      "\u001b[1m160/160\u001b[0m \u001b[32m━━━━━━━━━━━━━━━━━━━━\u001b[0m\u001b[37m\u001b[0m \u001b[1m0s\u001b[0m 503us/step - accuracy: 1.0000 - loss: 2.5514e-05 - val_accuracy: 0.9994 - val_loss: 0.0011\n",
      "Epoch 45/120\n",
      "\u001b[1m160/160\u001b[0m \u001b[32m━━━━━━━━━━━━━━━━━━━━\u001b[0m\u001b[37m\u001b[0m \u001b[1m0s\u001b[0m 511us/step - accuracy: 1.0000 - loss: 2.6595e-05 - val_accuracy: 0.9994 - val_loss: 8.3503e-04\n",
      "Epoch 46/120\n",
      "\u001b[1m160/160\u001b[0m \u001b[32m━━━━━━━━━━━━━━━━━━━━\u001b[0m\u001b[37m\u001b[0m \u001b[1m0s\u001b[0m 514us/step - accuracy: 1.0000 - loss: 2.6501e-05 - val_accuracy: 0.9994 - val_loss: 0.0012\n",
      "Epoch 47/120\n",
      "\u001b[1m160/160\u001b[0m \u001b[32m━━━━━━━━━━━━━━━━━━━━\u001b[0m\u001b[37m\u001b[0m \u001b[1m0s\u001b[0m 511us/step - accuracy: 1.0000 - loss: 2.0602e-05 - val_accuracy: 1.0000 - val_loss: 3.1917e-04\n",
      "Epoch 48/120\n",
      "\u001b[1m160/160\u001b[0m \u001b[32m━━━━━━━━━━━━━━━━━━━━\u001b[0m\u001b[37m\u001b[0m \u001b[1m0s\u001b[0m 506us/step - accuracy: 1.0000 - loss: 1.5026e-05 - val_accuracy: 0.9994 - val_loss: 0.0012\n",
      "Epoch 49/120\n",
      "\u001b[1m160/160\u001b[0m \u001b[32m━━━━━━━━━━━━━━━━━━━━\u001b[0m\u001b[37m\u001b[0m \u001b[1m0s\u001b[0m 509us/step - accuracy: 1.0000 - loss: 2.1790e-05 - val_accuracy: 1.0000 - val_loss: 5.6985e-04\n",
      "Epoch 50/120\n",
      "\u001b[1m160/160\u001b[0m \u001b[32m━━━━━━━━━━━━━━━━━━━━\u001b[0m\u001b[37m\u001b[0m \u001b[1m0s\u001b[0m 514us/step - accuracy: 1.0000 - loss: 1.8130e-05 - val_accuracy: 0.9994 - val_loss: 8.6252e-04\n",
      "Epoch 51/120\n",
      "\u001b[1m160/160\u001b[0m \u001b[32m━━━━━━━━━━━━━━━━━━━━\u001b[0m\u001b[37m\u001b[0m \u001b[1m0s\u001b[0m 499us/step - accuracy: 1.0000 - loss: 1.1959e-05 - val_accuracy: 0.9994 - val_loss: 0.0011\n",
      "Epoch 52/120\n",
      "\u001b[1m160/160\u001b[0m \u001b[32m━━━━━━━━━━━━━━━━━━━━\u001b[0m\u001b[37m\u001b[0m \u001b[1m0s\u001b[0m 499us/step - accuracy: 1.0000 - loss: 1.1471e-05 - val_accuracy: 0.9994 - val_loss: 0.0014\n",
      "Epoch 53/120\n",
      "\u001b[1m160/160\u001b[0m \u001b[32m━━━━━━━━━━━━━━━━━━━━\u001b[0m\u001b[37m\u001b[0m \u001b[1m0s\u001b[0m 511us/step - accuracy: 1.0000 - loss: 2.3660e-05 - val_accuracy: 0.9994 - val_loss: 0.0011\n",
      "Epoch 54/120\n",
      "\u001b[1m160/160\u001b[0m \u001b[32m━━━━━━━━━━━━━━━━━━━━\u001b[0m\u001b[37m\u001b[0m \u001b[1m0s\u001b[0m 508us/step - accuracy: 1.0000 - loss: 9.2517e-06 - val_accuracy: 0.9987 - val_loss: 0.0031\n",
      "Epoch 55/120\n",
      "\u001b[1m160/160\u001b[0m \u001b[32m━━━━━━━━━━━━━━━━━━━━\u001b[0m\u001b[37m\u001b[0m \u001b[1m0s\u001b[0m 507us/step - accuracy: 1.0000 - loss: 1.5882e-05 - val_accuracy: 0.9994 - val_loss: 0.0011\n",
      "Epoch 56/120\n",
      "\u001b[1m160/160\u001b[0m \u001b[32m━━━━━━━━━━━━━━━━━━━━\u001b[0m\u001b[37m\u001b[0m \u001b[1m0s\u001b[0m 507us/step - accuracy: 1.0000 - loss: 9.9332e-06 - val_accuracy: 0.9994 - val_loss: 9.5633e-04\n",
      "Epoch 57/120\n",
      "\u001b[1m160/160\u001b[0m \u001b[32m━━━━━━━━━━━━━━━━━━━━\u001b[0m\u001b[37m\u001b[0m \u001b[1m0s\u001b[0m 508us/step - accuracy: 1.0000 - loss: 7.7091e-06 - val_accuracy: 0.9994 - val_loss: 0.0015\n",
      "Epoch 58/120\n",
      "\u001b[1m160/160\u001b[0m \u001b[32m━━━━━━━━━━━━━━━━━━━━\u001b[0m\u001b[37m\u001b[0m \u001b[1m0s\u001b[0m 510us/step - accuracy: 1.0000 - loss: 7.4062e-06 - val_accuracy: 0.9994 - val_loss: 6.9467e-04\n",
      "Epoch 59/120\n",
      "\u001b[1m160/160\u001b[0m \u001b[32m━━━━━━━━━━━━━━━━━━━━\u001b[0m\u001b[37m\u001b[0m \u001b[1m0s\u001b[0m 501us/step - accuracy: 1.0000 - loss: 7.7563e-06 - val_accuracy: 0.9994 - val_loss: 7.4933e-04\n",
      "Epoch 60/120\n",
      "\u001b[1m160/160\u001b[0m \u001b[32m━━━━━━━━━━━━━━━━━━━━\u001b[0m\u001b[37m\u001b[0m \u001b[1m0s\u001b[0m 510us/step - accuracy: 1.0000 - loss: 6.3564e-06 - val_accuracy: 0.9994 - val_loss: 0.0022\n",
      "Epoch 61/120\n",
      "\u001b[1m160/160\u001b[0m \u001b[32m━━━━━━━━━━━━━━━━━━━━\u001b[0m\u001b[37m\u001b[0m \u001b[1m0s\u001b[0m 515us/step - accuracy: 1.0000 - loss: 7.1066e-06 - val_accuracy: 0.9994 - val_loss: 0.0010\n",
      "Epoch 62/120\n",
      "\u001b[1m160/160\u001b[0m \u001b[32m━━━━━━━━━━━━━━━━━━━━\u001b[0m\u001b[37m\u001b[0m \u001b[1m0s\u001b[0m 510us/step - accuracy: 1.0000 - loss: 4.8018e-06 - val_accuracy: 0.9994 - val_loss: 7.9913e-04\n",
      "Epoch 63/120\n",
      "\u001b[1m160/160\u001b[0m \u001b[32m━━━━━━━━━━━━━━━━━━━━\u001b[0m\u001b[37m\u001b[0m \u001b[1m0s\u001b[0m 517us/step - accuracy: 1.0000 - loss: 4.4210e-06 - val_accuracy: 0.9994 - val_loss: 9.5991e-04\n",
      "Epoch 64/120\n",
      "\u001b[1m160/160\u001b[0m \u001b[32m━━━━━━━━━━━━━━━━━━━━\u001b[0m\u001b[37m\u001b[0m \u001b[1m0s\u001b[0m 511us/step - accuracy: 1.0000 - loss: 4.3008e-06 - val_accuracy: 0.9994 - val_loss: 9.9662e-04\n",
      "Epoch 65/120\n",
      "\u001b[1m160/160\u001b[0m \u001b[32m━━━━━━━━━━━━━━━━━━━━\u001b[0m\u001b[37m\u001b[0m \u001b[1m0s\u001b[0m 506us/step - accuracy: 1.0000 - loss: 3.8221e-06 - val_accuracy: 0.9994 - val_loss: 5.0719e-04\n",
      "Epoch 66/120\n",
      "\u001b[1m160/160\u001b[0m \u001b[32m━━━━━━━━━━━━━━━━━━━━\u001b[0m\u001b[37m\u001b[0m \u001b[1m0s\u001b[0m 510us/step - accuracy: 1.0000 - loss: 3.8746e-06 - val_accuracy: 0.9994 - val_loss: 0.0020\n",
      "Epoch 67/120\n",
      "\u001b[1m160/160\u001b[0m \u001b[32m━━━━━━━━━━━━━━━━━━━━\u001b[0m\u001b[37m\u001b[0m \u001b[1m0s\u001b[0m 499us/step - accuracy: 1.0000 - loss: 5.3541e-06 - val_accuracy: 0.9994 - val_loss: 6.0695e-04\n",
      "Epoch 68/120\n",
      "\u001b[1m160/160\u001b[0m \u001b[32m━━━━━━━━━━━━━━━━━━━━\u001b[0m\u001b[37m\u001b[0m \u001b[1m0s\u001b[0m 507us/step - accuracy: 1.0000 - loss: 3.4657e-06 - val_accuracy: 0.9994 - val_loss: 7.2557e-04\n",
      "Epoch 69/120\n",
      "\u001b[1m160/160\u001b[0m \u001b[32m━━━━━━━━━━━━━━━━━━━━\u001b[0m\u001b[37m\u001b[0m \u001b[1m0s\u001b[0m 509us/step - accuracy: 1.0000 - loss: 3.1124e-06 - val_accuracy: 0.9994 - val_loss: 6.9169e-04\n",
      "Epoch 70/120\n",
      "\u001b[1m160/160\u001b[0m \u001b[32m━━━━━━━━━━━━━━━━━━━━\u001b[0m\u001b[37m\u001b[0m \u001b[1m0s\u001b[0m 510us/step - accuracy: 1.0000 - loss: 2.9586e-06 - val_accuracy: 0.9994 - val_loss: 7.4772e-04\n",
      "Epoch 71/120\n",
      "\u001b[1m160/160\u001b[0m \u001b[32m━━━━━━━━━━━━━━━━━━━━\u001b[0m\u001b[37m\u001b[0m \u001b[1m0s\u001b[0m 513us/step - accuracy: 1.0000 - loss: 2.2880e-06 - val_accuracy: 0.9994 - val_loss: 0.0015\n",
      "Epoch 72/120\n",
      "\u001b[1m160/160\u001b[0m \u001b[32m━━━━━━━━━━━━━━━━━━━━\u001b[0m\u001b[37m\u001b[0m \u001b[1m0s\u001b[0m 509us/step - accuracy: 1.0000 - loss: 2.7488e-06 - val_accuracy: 0.9994 - val_loss: 8.0933e-04\n",
      "Epoch 73/120\n",
      "\u001b[1m160/160\u001b[0m \u001b[32m━━━━━━━━━━━━━━━━━━━━\u001b[0m\u001b[37m\u001b[0m \u001b[1m0s\u001b[0m 509us/step - accuracy: 1.0000 - loss: 2.1327e-06 - val_accuracy: 0.9994 - val_loss: 7.6204e-04\n",
      "Epoch 74/120\n",
      "\u001b[1m160/160\u001b[0m \u001b[32m━━━━━━━━━━━━━━━━━━━━\u001b[0m\u001b[37m\u001b[0m \u001b[1m0s\u001b[0m 506us/step - accuracy: 1.0000 - loss: 2.4001e-06 - val_accuracy: 0.9994 - val_loss: 8.6616e-04\n",
      "Epoch 75/120\n",
      "\u001b[1m160/160\u001b[0m \u001b[32m━━━━━━━━━━━━━━━━━━━━\u001b[0m\u001b[37m\u001b[0m \u001b[1m0s\u001b[0m 511us/step - accuracy: 1.0000 - loss: 1.8449e-06 - val_accuracy: 1.0000 - val_loss: 3.4776e-04\n",
      "Epoch 76/120\n",
      "\u001b[1m160/160\u001b[0m \u001b[32m━━━━━━━━━━━━━━━━━━━━\u001b[0m\u001b[37m\u001b[0m \u001b[1m0s\u001b[0m 504us/step - accuracy: 1.0000 - loss: 1.5988e-06 - val_accuracy: 0.9994 - val_loss: 9.3499e-04\n",
      "Epoch 77/120\n",
      "\u001b[1m160/160\u001b[0m \u001b[32m━━━━━━━━━━━━━━━━━━━━\u001b[0m\u001b[37m\u001b[0m \u001b[1m0s\u001b[0m 504us/step - accuracy: 1.0000 - loss: 1.2352e-06 - val_accuracy: 0.9994 - val_loss: 0.0011\n",
      "Epoch 78/120\n",
      "\u001b[1m160/160\u001b[0m \u001b[32m━━━━━━━━━━━━━━━━━━━━\u001b[0m\u001b[37m\u001b[0m \u001b[1m0s\u001b[0m 514us/step - accuracy: 1.0000 - loss: 1.2200e-06 - val_accuracy: 0.9994 - val_loss: 5.1017e-04\n",
      "Epoch 79/120\n",
      "\u001b[1m160/160\u001b[0m \u001b[32m━━━━━━━━━━━━━━━━━━━━\u001b[0m\u001b[37m\u001b[0m \u001b[1m0s\u001b[0m 500us/step - accuracy: 1.0000 - loss: 1.0440e-06 - val_accuracy: 1.0000 - val_loss: 2.7111e-04\n",
      "Epoch 80/120\n",
      "\u001b[1m160/160\u001b[0m \u001b[32m━━━━━━━━━━━━━━━━━━━━\u001b[0m\u001b[37m\u001b[0m \u001b[1m0s\u001b[0m 514us/step - accuracy: 1.0000 - loss: 9.1434e-07 - val_accuracy: 1.0000 - val_loss: 3.7387e-04\n",
      "Epoch 81/120\n",
      "\u001b[1m160/160\u001b[0m \u001b[32m━━━━━━━━━━━━━━━━━━━━\u001b[0m\u001b[37m\u001b[0m \u001b[1m0s\u001b[0m 518us/step - accuracy: 1.0000 - loss: 9.9756e-07 - val_accuracy: 1.0000 - val_loss: 3.5139e-04\n",
      "Epoch 82/120\n",
      "\u001b[1m160/160\u001b[0m \u001b[32m━━━━━━━━━━━━━━━━━━━━\u001b[0m\u001b[37m\u001b[0m \u001b[1m0s\u001b[0m 543us/step - accuracy: 1.0000 - loss: 7.3593e-07 - val_accuracy: 0.9994 - val_loss: 0.0015\n",
      "Epoch 83/120\n",
      "\u001b[1m160/160\u001b[0m \u001b[32m━━━━━━━━━━━━━━━━━━━━\u001b[0m\u001b[37m\u001b[0m \u001b[1m0s\u001b[0m 552us/step - accuracy: 1.0000 - loss: 9.5593e-07 - val_accuracy: 1.0000 - val_loss: 4.3889e-04\n",
      "Epoch 84/120\n",
      "\u001b[1m160/160\u001b[0m \u001b[32m━━━━━━━━━━━━━━━━━━━━\u001b[0m\u001b[37m\u001b[0m \u001b[1m0s\u001b[0m 548us/step - accuracy: 1.0000 - loss: 5.9838e-07 - val_accuracy: 0.9994 - val_loss: 0.0011\n",
      "Epoch 85/120\n",
      "\u001b[1m160/160\u001b[0m \u001b[32m━━━━━━━━━━━━━━━━━━━━\u001b[0m\u001b[37m\u001b[0m \u001b[1m0s\u001b[0m 858us/step - accuracy: 1.0000 - loss: 7.0583e-07 - val_accuracy: 0.9994 - val_loss: 5.6662e-04\n",
      "Epoch 86/120\n",
      "\u001b[1m160/160\u001b[0m \u001b[32m━━━━━━━━━━━━━━━━━━━━\u001b[0m\u001b[37m\u001b[0m \u001b[1m0s\u001b[0m 539us/step - accuracy: 1.0000 - loss: 7.7884e-07 - val_accuracy: 0.9994 - val_loss: 7.5202e-04\n",
      "Epoch 87/120\n",
      "\u001b[1m160/160\u001b[0m \u001b[32m━━━━━━━━━━━━━━━━━━━━\u001b[0m\u001b[37m\u001b[0m \u001b[1m0s\u001b[0m 509us/step - accuracy: 1.0000 - loss: 5.1887e-07 - val_accuracy: 1.0000 - val_loss: 2.5987e-04\n",
      "Epoch 88/120\n",
      "\u001b[1m160/160\u001b[0m \u001b[32m━━━━━━━━━━━━━━━━━━━━\u001b[0m\u001b[37m\u001b[0m \u001b[1m0s\u001b[0m 512us/step - accuracy: 1.0000 - loss: 4.3843e-07 - val_accuracy: 1.0000 - val_loss: 3.9071e-04\n",
      "Epoch 89/120\n",
      "\u001b[1m160/160\u001b[0m \u001b[32m━━━━━━━━━━━━━━━━━━━━\u001b[0m\u001b[37m\u001b[0m \u001b[1m0s\u001b[0m 523us/step - accuracy: 1.0000 - loss: 4.4401e-07 - val_accuracy: 0.9994 - val_loss: 0.0011\n",
      "Epoch 90/120\n",
      "\u001b[1m160/160\u001b[0m \u001b[32m━━━━━━━━━━━━━━━━━━━━\u001b[0m\u001b[37m\u001b[0m \u001b[1m0s\u001b[0m 547us/step - accuracy: 1.0000 - loss: 6.0699e-07 - val_accuracy: 1.0000 - val_loss: 3.0631e-04\n",
      "Epoch 91/120\n",
      "\u001b[1m160/160\u001b[0m \u001b[32m━━━━━━━━━━━━━━━━━━━━\u001b[0m\u001b[37m\u001b[0m \u001b[1m0s\u001b[0m 552us/step - accuracy: 1.0000 - loss: 3.9769e-07 - val_accuracy: 0.9994 - val_loss: 5.0056e-04\n",
      "Epoch 92/120\n",
      "\u001b[1m160/160\u001b[0m \u001b[32m━━━━━━━━━━━━━━━━━━━━\u001b[0m\u001b[37m\u001b[0m \u001b[1m0s\u001b[0m 554us/step - accuracy: 1.0000 - loss: 3.8535e-07 - val_accuracy: 0.9994 - val_loss: 6.8390e-04\n",
      "Epoch 93/120\n",
      "\u001b[1m160/160\u001b[0m \u001b[32m━━━━━━━━━━━━━━━━━━━━\u001b[0m\u001b[37m\u001b[0m \u001b[1m0s\u001b[0m 559us/step - accuracy: 1.0000 - loss: 2.7962e-07 - val_accuracy: 0.9994 - val_loss: 0.0013\n",
      "Epoch 94/120\n",
      "\u001b[1m160/160\u001b[0m \u001b[32m━━━━━━━━━━━━━━━━━━━━\u001b[0m\u001b[37m\u001b[0m \u001b[1m0s\u001b[0m 526us/step - accuracy: 1.0000 - loss: 2.6226e-07 - val_accuracy: 1.0000 - val_loss: 8.8799e-05\n",
      "Epoch 95/120\n",
      "\u001b[1m160/160\u001b[0m \u001b[32m━━━━━━━━━━━━━━━━━━━━\u001b[0m\u001b[37m\u001b[0m \u001b[1m0s\u001b[0m 513us/step - accuracy: 1.0000 - loss: 3.2236e-07 - val_accuracy: 1.0000 - val_loss: 4.3439e-04\n",
      "Epoch 96/120\n",
      "\u001b[1m160/160\u001b[0m \u001b[32m━━━━━━━━━━━━━━━━━━━━\u001b[0m\u001b[37m\u001b[0m \u001b[1m0s\u001b[0m 521us/step - accuracy: 1.0000 - loss: 3.9282e-07 - val_accuracy: 0.9994 - val_loss: 4.4935e-04\n",
      "Epoch 97/120\n",
      "\u001b[1m160/160\u001b[0m \u001b[32m━━━━━━━━━━━━━━━━━━━━\u001b[0m\u001b[37m\u001b[0m \u001b[1m0s\u001b[0m 575us/step - accuracy: 1.0000 - loss: 2.1398e-07 - val_accuracy: 0.9994 - val_loss: 8.4126e-04\n",
      "Epoch 98/120\n",
      "\u001b[1m160/160\u001b[0m \u001b[32m━━━━━━━━━━━━━━━━━━━━\u001b[0m\u001b[37m\u001b[0m \u001b[1m0s\u001b[0m 588us/step - accuracy: 1.0000 - loss: 2.2327e-07 - val_accuracy: 0.9994 - val_loss: 6.8550e-04\n",
      "Epoch 99/120\n",
      "\u001b[1m160/160\u001b[0m \u001b[32m━━━━━━━━━━━━━━━━━━━━\u001b[0m\u001b[37m\u001b[0m \u001b[1m0s\u001b[0m 547us/step - accuracy: 1.0000 - loss: 1.8278e-07 - val_accuracy: 1.0000 - val_loss: 1.8770e-04\n",
      "Epoch 100/120\n",
      "\u001b[1m160/160\u001b[0m \u001b[32m━━━━━━━━━━━━━━━━━━━━\u001b[0m\u001b[37m\u001b[0m \u001b[1m0s\u001b[0m 556us/step - accuracy: 1.0000 - loss: 3.3201e-07 - val_accuracy: 1.0000 - val_loss: 2.6535e-04\n",
      "Epoch 101/120\n",
      "\u001b[1m160/160\u001b[0m \u001b[32m━━━━━━━━━━━━━━━━━━━━\u001b[0m\u001b[37m\u001b[0m \u001b[1m0s\u001b[0m 547us/step - accuracy: 1.0000 - loss: 1.9229e-07 - val_accuracy: 0.9994 - val_loss: 5.3785e-04\n",
      "Epoch 102/120\n",
      "\u001b[1m160/160\u001b[0m \u001b[32m━━━━━━━━━━━━━━━━━━━━\u001b[0m\u001b[37m\u001b[0m \u001b[1m0s\u001b[0m 545us/step - accuracy: 1.0000 - loss: 1.3216e-07 - val_accuracy: 0.9994 - val_loss: 9.8038e-04\n",
      "Epoch 103/120\n",
      "\u001b[1m160/160\u001b[0m \u001b[32m━━━━━━━━━━━━━━━━━━━━\u001b[0m\u001b[37m\u001b[0m \u001b[1m0s\u001b[0m 517us/step - accuracy: 1.0000 - loss: 1.4731e-07 - val_accuracy: 1.0000 - val_loss: 3.7971e-04\n",
      "Epoch 104/120\n",
      "\u001b[1m160/160\u001b[0m \u001b[32m━━━━━━━━━━━━━━━━━━━━\u001b[0m\u001b[37m\u001b[0m \u001b[1m0s\u001b[0m 515us/step - accuracy: 1.0000 - loss: 1.1379e-07 - val_accuracy: 0.9994 - val_loss: 0.0011\n",
      "Epoch 105/120\n",
      "\u001b[1m160/160\u001b[0m \u001b[32m━━━━━━━━━━━━━━━━━━━━\u001b[0m\u001b[37m\u001b[0m \u001b[1m0s\u001b[0m 521us/step - accuracy: 1.0000 - loss: 1.3890e-07 - val_accuracy: 1.0000 - val_loss: 3.6399e-04\n",
      "Epoch 106/120\n",
      "\u001b[1m160/160\u001b[0m \u001b[32m━━━━━━━━━━━━━━━━━━━━\u001b[0m\u001b[37m\u001b[0m \u001b[1m0s\u001b[0m 739us/step - accuracy: 1.0000 - loss: 1.1111e-07 - val_accuracy: 0.9994 - val_loss: 4.4241e-04\n",
      "Epoch 107/120\n",
      "\u001b[1m160/160\u001b[0m \u001b[32m━━━━━━━━━━━━━━━━━━━━\u001b[0m\u001b[37m\u001b[0m \u001b[1m0s\u001b[0m 2ms/step - accuracy: 1.0000 - loss: 1.0917e-07 - val_accuracy: 0.9994 - val_loss: 7.4455e-04\n",
      "Epoch 108/120\n",
      "\u001b[1m160/160\u001b[0m \u001b[32m━━━━━━━━━━━━━━━━━━━━\u001b[0m\u001b[37m\u001b[0m \u001b[1m0s\u001b[0m 562us/step - accuracy: 1.0000 - loss: 8.1923e-08 - val_accuracy: 0.9994 - val_loss: 0.0012\n",
      "Epoch 109/120\n",
      "\u001b[1m160/160\u001b[0m \u001b[32m━━━━━━━━━━━━━━━━━━━━\u001b[0m\u001b[37m\u001b[0m \u001b[1m0s\u001b[0m 708us/step - accuracy: 1.0000 - loss: 8.1440e-08 - val_accuracy: 0.9994 - val_loss: 9.7720e-04\n",
      "Epoch 110/120\n",
      "\u001b[1m160/160\u001b[0m \u001b[32m━━━━━━━━━━━━━━━━━━━━\u001b[0m\u001b[37m\u001b[0m \u001b[1m0s\u001b[0m 618us/step - accuracy: 1.0000 - loss: 8.9941e-08 - val_accuracy: 0.9994 - val_loss: 6.4590e-04\n",
      "Epoch 111/120\n",
      "\u001b[1m160/160\u001b[0m \u001b[32m━━━━━━━━━━━━━━━━━━━━\u001b[0m\u001b[37m\u001b[0m \u001b[1m0s\u001b[0m 547us/step - accuracy: 1.0000 - loss: 5.9251e-08 - val_accuracy: 0.9994 - val_loss: 7.0544e-04\n",
      "Epoch 112/120\n",
      "\u001b[1m160/160\u001b[0m \u001b[32m━━━━━━━━━━━━━━━━━━━━\u001b[0m\u001b[37m\u001b[0m \u001b[1m0s\u001b[0m 508us/step - accuracy: 1.0000 - loss: 1.0995e-07 - val_accuracy: 1.0000 - val_loss: 2.0994e-04\n",
      "Epoch 113/120\n",
      "\u001b[1m160/160\u001b[0m \u001b[32m━━━━━━━━━━━━━━━━━━━━\u001b[0m\u001b[37m\u001b[0m \u001b[1m0s\u001b[0m 542us/step - accuracy: 1.0000 - loss: 5.1153e-08 - val_accuracy: 1.0000 - val_loss: 1.5374e-04\n",
      "Epoch 114/120\n",
      "\u001b[1m160/160\u001b[0m \u001b[32m━━━━━━━━━━━━━━━━━━━━\u001b[0m\u001b[37m\u001b[0m \u001b[1m0s\u001b[0m 527us/step - accuracy: 1.0000 - loss: 5.5724e-08 - val_accuracy: 0.9994 - val_loss: 5.9198e-04\n",
      "Epoch 115/120\n",
      "\u001b[1m160/160\u001b[0m \u001b[32m━━━━━━━━━━━━━━━━━━━━\u001b[0m\u001b[37m\u001b[0m \u001b[1m0s\u001b[0m 612us/step - accuracy: 1.0000 - loss: 6.0724e-08 - val_accuracy: 0.9994 - val_loss: 5.9563e-04\n",
      "Epoch 116/120\n",
      "\u001b[1m160/160\u001b[0m \u001b[32m━━━━━━━━━━━━━━━━━━━━\u001b[0m\u001b[37m\u001b[0m \u001b[1m0s\u001b[0m 566us/step - accuracy: 1.0000 - loss: 5.2976e-08 - val_accuracy: 1.0000 - val_loss: 1.1569e-04\n",
      "Epoch 117/120\n",
      "\u001b[1m160/160\u001b[0m \u001b[32m━━━━━━━━━━━━━━━━━━━━\u001b[0m\u001b[37m\u001b[0m \u001b[1m0s\u001b[0m 551us/step - accuracy: 1.0000 - loss: 4.4163e-08 - val_accuracy: 1.0000 - val_loss: 2.0664e-04\n",
      "Epoch 118/120\n",
      "\u001b[1m160/160\u001b[0m \u001b[32m━━━━━━━━━━━━━━━━━━━━\u001b[0m\u001b[37m\u001b[0m \u001b[1m0s\u001b[0m 559us/step - accuracy: 1.0000 - loss: 8.1754e-08 - val_accuracy: 1.0000 - val_loss: 3.7493e-04\n",
      "Epoch 119/120\n",
      "\u001b[1m160/160\u001b[0m \u001b[32m━━━━━━━━━━━━━━━━━━━━\u001b[0m\u001b[37m\u001b[0m \u001b[1m0s\u001b[0m 623us/step - accuracy: 1.0000 - loss: 2.8720e-08 - val_accuracy: 0.9994 - val_loss: 5.1879e-04\n",
      "Epoch 120/120\n",
      "\u001b[1m160/160\u001b[0m \u001b[32m━━━━━━━━━━━━━━━━━━━━\u001b[0m\u001b[37m\u001b[0m \u001b[1m0s\u001b[0m 626us/step - accuracy: 1.0000 - loss: 2.8544e-08 - val_accuracy: 1.0000 - val_loss: 1.2154e-05\n"
     ]
    }
   ],
   "source": [
    "history = model.fit(X_train_tsr,Y_train_tsr,epochs=120,validation_split=0.2,batch_size=40)\n"
   ]
  },
  {
   "cell_type": "markdown",
   "metadata": {},
   "source": [
    "### Model testing"
   ]
  },
  {
   "cell_type": "markdown",
   "metadata": {},
   "source": [
    "#### Analyse of the metrics"
   ]
  },
  {
   "cell_type": "code",
   "execution_count": 160,
   "metadata": {
    "ExecuteTime": {
     "end_time": "2024-10-24T01:13:00.768208Z",
     "start_time": "2024-10-24T01:13:00.409577Z"
    },
    "collapsed": false
   },
   "outputs": [
    {
     "name": "stdout",
     "output_type": "stream",
     "text": [
      "\u001b[1m16/16\u001b[0m \u001b[32m━━━━━━━━━━━━━━━━━━━━\u001b[0m\u001b[37m\u001b[0m \u001b[1m0s\u001b[0m 909us/step - accuracy: 1.0000 - loss: 1.6752e-07\n",
      "test loss:  1.6821887527385115e-07  \n",
      "test acc:  1.0\n"
     ]
    }
   ],
   "source": [
    "results = model.evaluate(X_test_tsr, Y_test_tsr, batch_size=128)\n",
    "print(\"test loss: \", results[0],\" \\ntest acc: \", results[1])"
   ]
  },
  {
   "cell_type": "code",
   "execution_count": 161,
   "metadata": {},
   "outputs": [
    {
     "name": "stdout",
     "output_type": "stream",
     "text": [
      "Generate predictions for 3 entries\n",
      "\u001b[1m1/1\u001b[0m \u001b[32m━━━━━━━━━━━━━━━━━━━━\u001b[0m\u001b[37m\u001b[0m \u001b[1m0s\u001b[0m 28ms/step\n",
      "prediction n°0:  1.0 --> class 1 (=phishing)\n",
      "prediction n°1:  4.269329e-10 --> class 0 (=legitimate)\n",
      "prediction n°2:  4.1595305e-14 --> class 0 (=legitimate)\n"
     ]
    }
   ],
   "source": [
    "print(\"Generate predictions for 3 entries\")\n",
    "predictions = model.predict(X_test_tsr[:3])\n",
    "for i in range(len(predictions)):\n",
    "    if (predictions[i][0]>0.5):\n",
    "        print(\"prediction n°\"+str(i)+\": \", predictions[i][0], \"--> class 1 (=phishing)\")\n",
    "    else :\n",
    "        print(\"prediction n°\"+str(i)+\": \", predictions[i][0], \"--> class 0 (=legitimate)\")"
   ]
  },
  {
   "cell_type": "code",
   "execution_count": 162,
   "metadata": {
    "ExecuteTime": {
     "end_time": "2024-10-24T01:13:00.779674Z",
     "start_time": "2024-10-24T01:13:00.769217Z"
    },
    "collapsed": false
   },
   "outputs": [
    {
     "name": "stdout",
     "output_type": "stream",
     "text": [
      "Predictions :\n",
      "Phishing\n",
      "Legitimate\n",
      "Legitimate\n",
      "Real values :\n",
      "Phishing\n",
      "Legitimate\n",
      "Legitimate\n"
     ]
    }
   ],
   "source": [
    "print(\"Predictions :\")\n",
    "for prediction in predictions:\n",
    "    if prediction > 0.5:\n",
    "        print(\"Phishing\")\n",
    "    else:\n",
    "        print(\"Legitimate\")\n",
    "        \n",
    "print(\"Real values :\")\n",
    "for value in Y_test_tsr[:3]:\n",
    "    if value == 1:\n",
    "        print(\"Phishing\")\n",
    "    else:\n",
    "        print(\"Legitimate\")"
   ]
  },
  {
   "cell_type": "code",
   "execution_count": 163,
   "metadata": {
    "ExecuteTime": {
     "end_time": "2024-10-24T01:24:57.708432Z",
     "start_time": "2024-10-24T01:24:57.520166Z"
    },
    "collapsed": false
   },
   "outputs": [
    {
     "name": "stdout",
     "output_type": "stream",
     "text": [
      "\u001b[1m63/63\u001b[0m \u001b[32m━━━━━━━━━━━━━━━━━━━━\u001b[0m\u001b[37m\u001b[0m \u001b[1m0s\u001b[0m 339us/step\n"
     ]
    }
   ],
   "source": [
    "y_pred = model.predict(X_test_tsr)\n",
    "#Converting predictions to 1D array\n",
    "y_pred = np.array([1 if x > 0.5 else 0 for x in y_pred])"
   ]
  },
  {
   "cell_type": "markdown",
   "metadata": {},
   "source": [
    "#### Confusion Matrix"
   ]
  },
  {
   "cell_type": "code",
   "execution_count": 164,
   "metadata": {
    "ExecuteTime": {
     "end_time": "2024-10-24T01:25:43.984781Z",
     "start_time": "2024-10-24T01:25:43.978212Z"
    },
    "collapsed": false
   },
   "outputs": [
    {
     "name": "stdout",
     "output_type": "stream",
     "text": [
      "[[1021    0]\n",
      " [   0  979]]\n"
     ]
    }
   ],
   "source": [
    "cm2 = confusion_matrix(Y_test, y_pred)\n",
    "print(cm2)"
   ]
  },
  {
   "cell_type": "code",
   "execution_count": 165,
   "metadata": {
    "ExecuteTime": {
     "end_time": "2024-10-24T01:26:54.627441Z",
     "start_time": "2024-10-24T01:26:54.398160Z"
    },
    "collapsed": false
   },
   "outputs": [
    {
     "data": {
      "text/plain": [
       "Text(0.5, 1.0, 'Confusion Matrix')"
      ]
     },
     "execution_count": 165,
     "metadata": {},
     "output_type": "execute_result"
    },
    {
     "data": {
      "image/png": "[encoded data removed]",
      "text/plain": [
       "<Figure size 300x300 with 2 Axes>"
      ]
     },
     "metadata": {},
     "output_type": "display_data"
    }
   ],
   "source": [
    "plt.figure(figsize=(3,3))\n",
    "sns.heatmap(cm2, annot=True, linewidths=.5, square = True, cmap = 'Blues')\n",
    "\n",
    "plt.xticks([0, 1], ['legitimate', 'phishing'])\n",
    "plt.yticks([0, 1], ['legitimate', 'phishing'])\n",
    "\n",
    "plt.xlabel('Predicted label')\n",
    "plt.ylabel('Actual label')\n",
    "\n",
    "\n",
    "plt.title(\"Confusion Matrix\", size = 12)"
   ]
  },
  {
   "cell_type": "markdown",
   "metadata": {},
   "source": [
    "#### Testing the other dataset"
   ]
  },
  {
   "cell_type": "code",
   "execution_count": 168,
   "metadata": {},
   "outputs": [
    {
     "name": "stdout",
     "output_type": "stream",
     "text": [
      "\u001b[1m16/16\u001b[0m \u001b[32m━━━━━━━━━━━━━━━━━━━━\u001b[0m\u001b[37m\u001b[0m \u001b[1m0s\u001b[0m 942us/step - accuracy: 0.8039 - loss: 46.9599  \n",
      "test loss:  120.42062377929688  \n",
      "test acc:  0.5\n",
      "\u001b[1m63/63\u001b[0m \u001b[32m━━━━━━━━━━━━━━━━━━━━\u001b[0m\u001b[37m\u001b[0m \u001b[1m0s\u001b[0m 329us/step\n"
     ]
    },
    {
     "data": {
      "text/plain": [
       "Text(0.5, 1.0, 'Confusion Matrix')"
      ]
     },
     "execution_count": 168,
     "metadata": {},
     "output_type": "execute_result"
    },
    {
     "data": {
      "image/png": "[encoded data removed]",
      "text/plain": [
       "<Figure size 300x300 with 2 Axes>"
      ]
     },
     "metadata": {},
     "output_type": "display_data"
    }
   ],
   "source": [
    "dataset2 = pd.read_csv('./sample_output_2.csv')\n",
    "\n",
    "dataset2['label'] = pd.factorize(dataset2['label'])[0]\n",
    "\n",
    "X_test2 = dataset2.drop('label', axis=1)\n",
    "Y_test2 =  dataset2['label']\n",
    "\n",
    "X_test_tsr2 = tf.convert_to_tensor(X_test2.to_numpy(), dtype=tf.float32)\n",
    "Y_test_tsr2 = tf.convert_to_tensor(Y_test2.to_numpy(), dtype=tf.float32)\n",
    "\n",
    "results2 = model.evaluate( X_test_tsr2, Y_test_tsr2, batch_size=128)\n",
    "\n",
    "print(\"test loss: \", results2[0],\" \\ntest acc: \", results2[1])\n",
    "\n",
    "y_pred2 = model.predict(X_test_tsr2)\n",
    "y_pred2 = np.array([1 if x > 0.5 else 0 for x in y_pred2])\n",
    "\n",
    "cm2 = confusion_matrix(Y_test2, y_pred2)\n",
    "plt.figure(figsize=(3,3))\n",
    "sns.heatmap(cm2, annot=True, linewidths=.5, square = True, cmap = 'Blues')\n",
    "\n",
    "plt.xticks([0, 1], ['legitimate', 'phishing'])\n",
    "plt.yticks([0, 1], ['legitimate', 'phishing'])\n",
    "\n",
    "plt.xlabel('Predicted label')\n",
    "plt.ylabel('Actual label')\n",
    "\n",
    "\n",
    "plt.title(\"Confusion Matrix\", size = 12)\n",
    "\n"
   ]
  }
 ],
 "metadata": {
  "kernelspec": {
   "display_name": "Python 3",
   "language": "python",
   "name": "python3"
  },
  "language_info": {
   "codemirror_mode": {
    "name": "ipython",
    "version": 3
   },
   "file_extension": ".py",
   "mimetype": "text/x-python",
   "name": "python",
   "nbconvert_exporter": "python",
   "pygments_lexer": "ipython3",
   "version": "3.12.5"
  }
 },
 "nbformat": 4,
 "nbformat_minor": 2
}

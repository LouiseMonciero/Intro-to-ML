{
 "cells": [
  {
   "cell_type": "markdown",
   "metadata": {},
   "source": [
    "# Preprocessing"
   ]
  },
  {
   "cell_type": "markdown",
   "metadata": {},
   "source": [
    "## Reading CSV"
   ]
  },
  {
   "cell_type": "code",
   "execution_count": 203,
   "metadata": {},
   "outputs": [],
   "source": [
    "import pandas as pd\n",
    "import matplotlib.pyplot as plt\n",
    "import numpy as np\n",
    "import sklearn"
   ]
  },
  {
   "cell_type": "code",
   "execution_count": 204,
   "metadata": {},
   "outputs": [],
   "source": [
    "data = pd.read_csv('sample_output.csv')"
   ]
  },
  {
   "cell_type": "markdown",
   "metadata": {},
   "source": [
    "## Understanding Dataset"
   ]
  },
  {
   "cell_type": "code",
   "execution_count": 205,
   "metadata": {},
   "outputs": [
    {
     "data": {
      "text/plain": [
       "(10000, 18)"
      ]
     },
     "execution_count": 205,
     "metadata": {},
     "output_type": "execute_result"
    }
   ],
   "source": [
    "data.shape"
   ]
  },
  {
   "cell_type": "code",
   "execution_count": 206,
   "metadata": {},
   "outputs": [
    {
     "data": {
      "text/html": [
       "<div>\n",
       "<style scoped>\n",
       "    .dataframe tbody tr th:only-of-type {\n",
       "        vertical-align: middle;\n",
       "    }\n",
       "\n",
       "    .dataframe tbody tr th {\n",
       "        vertical-align: top;\n",
       "    }\n",
       "\n",
       "    .dataframe thead th {\n",
       "        text-align: right;\n",
       "    }\n",
       "</style>\n",
       "<table border=\"1\" class=\"dataframe\">\n",
       "  <thead>\n",
       "    <tr style=\"text-align: right;\">\n",
       "      <th></th>\n",
       "      <th>url</th>\n",
       "      <th>source</th>\n",
       "      <th>label</th>\n",
       "      <th>url_length</th>\n",
       "      <th>starts_with_ip</th>\n",
       "      <th>url_entropy</th>\n",
       "      <th>has_punycode</th>\n",
       "      <th>digit_letter_ratio</th>\n",
       "      <th>dot_count</th>\n",
       "      <th>at_count</th>\n",
       "      <th>dash_count</th>\n",
       "      <th>tld_count</th>\n",
       "      <th>domain_has_digits</th>\n",
       "      <th>subdomain_count</th>\n",
       "      <th>nan_char_entropy</th>\n",
       "      <th>has_internal_links</th>\n",
       "      <th>whois_data</th>\n",
       "      <th>domain_age_days</th>\n",
       "    </tr>\n",
       "  </thead>\n",
       "  <tbody>\n",
       "    <tr>\n",
       "      <th>0</th>\n",
       "      <td>http://sub22b.jelastic.regruhosting.ru/acesso/...</td>\n",
       "      <td>Phishing.Database</td>\n",
       "      <td>phishing</td>\n",
       "      <td>62</td>\n",
       "      <td>False</td>\n",
       "      <td>4.203093</td>\n",
       "      <td>False</td>\n",
       "      <td>0.039216</td>\n",
       "      <td>4</td>\n",
       "      <td>0</td>\n",
       "      <td>0</td>\n",
       "      <td>0</td>\n",
       "      <td>False</td>\n",
       "      <td>2</td>\n",
       "      <td>0.606254</td>\n",
       "      <td>False</td>\n",
       "      <td>NaN</td>\n",
       "      <td>NaN</td>\n",
       "    </tr>\n",
       "    <tr>\n",
       "      <th>1</th>\n",
       "      <td>https://cherry-609d.hakeem1115.workers.dev/63f...</td>\n",
       "      <td>Phishing.Database</td>\n",
       "      <td>phishing</td>\n",
       "      <td>79</td>\n",
       "      <td>False</td>\n",
       "      <td>4.747960</td>\n",
       "      <td>False</td>\n",
       "      <td>0.634146</td>\n",
       "      <td>3</td>\n",
       "      <td>0</td>\n",
       "      <td>5</td>\n",
       "      <td>0</td>\n",
       "      <td>False</td>\n",
       "      <td>2</td>\n",
       "      <td>0.438186</td>\n",
       "      <td>False</td>\n",
       "      <td>{'domain_name': None, 'registrar': None, 'whoi...</td>\n",
       "      <td>NaN</td>\n",
       "    </tr>\n",
       "    <tr>\n",
       "      <th>2</th>\n",
       "      <td>http://secureid-auth5b.serveirc.com/navyfedera...</td>\n",
       "      <td>Phishing.Database</td>\n",
       "      <td>phishing</td>\n",
       "      <td>62</td>\n",
       "      <td>False</td>\n",
       "      <td>4.453623</td>\n",
       "      <td>False</td>\n",
       "      <td>0.040000</td>\n",
       "      <td>4</td>\n",
       "      <td>0</td>\n",
       "      <td>1</td>\n",
       "      <td>1</td>\n",
       "      <td>False</td>\n",
       "      <td>1</td>\n",
       "      <td>0.606254</td>\n",
       "      <td>True</td>\n",
       "      <td>{'domain_name': 'SERVEIRC.COM', 'registrar': '...</td>\n",
       "      <td>8804.0</td>\n",
       "    </tr>\n",
       "  </tbody>\n",
       "</table>\n",
       "</div>"
      ],
      "text/plain": [
       "                                                 url             source  \\\n",
       "0  http://sub22b.jelastic.regruhosting.ru/acesso/...  Phishing.Database   \n",
       "1  https://cherry-609d.hakeem1115.workers.dev/63f...  Phishing.Database   \n",
       "2  http://secureid-auth5b.serveirc.com/navyfedera...  Phishing.Database   \n",
       "\n",
       "      label  url_length  starts_with_ip  url_entropy  has_punycode  \\\n",
       "0  phishing          62           False     4.203093         False   \n",
       "1  phishing          79           False     4.747960         False   \n",
       "2  phishing          62           False     4.453623         False   \n",
       "\n",
       "   digit_letter_ratio  dot_count  at_count  dash_count  tld_count  \\\n",
       "0            0.039216          4         0           0          0   \n",
       "1            0.634146          3         0           5          0   \n",
       "2            0.040000          4         0           1          1   \n",
       "\n",
       "   domain_has_digits  subdomain_count  nan_char_entropy  has_internal_links  \\\n",
       "0              False                2          0.606254               False   \n",
       "1              False                2          0.438186               False   \n",
       "2              False                1          0.606254                True   \n",
       "\n",
       "                                          whois_data  domain_age_days  \n",
       "0                                                NaN              NaN  \n",
       "1  {'domain_name': None, 'registrar': None, 'whoi...              NaN  \n",
       "2  {'domain_name': 'SERVEIRC.COM', 'registrar': '...           8804.0  "
      ]
     },
     "execution_count": 206,
     "metadata": {},
     "output_type": "execute_result"
    }
   ],
   "source": [
    "data.head(3)"
   ]
  },
  {
   "cell_type": "code",
   "execution_count": 207,
   "metadata": {},
   "outputs": [
    {
     "data": {
      "text/html": [
       "<div>\n",
       "<style scoped>\n",
       "    .dataframe tbody tr th:only-of-type {\n",
       "        vertical-align: middle;\n",
       "    }\n",
       "\n",
       "    .dataframe tbody tr th {\n",
       "        vertical-align: top;\n",
       "    }\n",
       "\n",
       "    .dataframe thead th {\n",
       "        text-align: right;\n",
       "    }\n",
       "</style>\n",
       "<table border=\"1\" class=\"dataframe\">\n",
       "  <thead>\n",
       "    <tr style=\"text-align: right;\">\n",
       "      <th></th>\n",
       "      <th>url</th>\n",
       "      <th>source</th>\n",
       "      <th>label</th>\n",
       "      <th>url_length</th>\n",
       "      <th>starts_with_ip</th>\n",
       "      <th>url_entropy</th>\n",
       "      <th>has_punycode</th>\n",
       "      <th>digit_letter_ratio</th>\n",
       "      <th>dot_count</th>\n",
       "      <th>at_count</th>\n",
       "      <th>dash_count</th>\n",
       "      <th>tld_count</th>\n",
       "      <th>domain_has_digits</th>\n",
       "      <th>subdomain_count</th>\n",
       "      <th>nan_char_entropy</th>\n",
       "      <th>has_internal_links</th>\n",
       "      <th>whois_data</th>\n",
       "      <th>domain_age_days</th>\n",
       "    </tr>\n",
       "  </thead>\n",
       "  <tbody>\n",
       "    <tr>\n",
       "      <th>9997</th>\n",
       "      <td>mst.org.br</td>\n",
       "      <td>Majestic</td>\n",
       "      <td>legitimate</td>\n",
       "      <td>10</td>\n",
       "      <td>False</td>\n",
       "      <td>2.921928</td>\n",
       "      <td>False</td>\n",
       "      <td>0.000000</td>\n",
       "      <td>2</td>\n",
       "      <td>0</td>\n",
       "      <td>0</td>\n",
       "      <td>0</td>\n",
       "      <td>False</td>\n",
       "      <td>0</td>\n",
       "      <td>0.464386</td>\n",
       "      <td>False</td>\n",
       "      <td>{'domain_name': 'mst.org.br', 'registrant_name...</td>\n",
       "      <td>9872.0</td>\n",
       "    </tr>\n",
       "    <tr>\n",
       "      <th>9998</th>\n",
       "      <td>cs532-2037.meraki.com</td>\n",
       "      <td>Cisco-Umbrella</td>\n",
       "      <td>legitimate</td>\n",
       "      <td>21</td>\n",
       "      <td>False</td>\n",
       "      <td>3.916127</td>\n",
       "      <td>False</td>\n",
       "      <td>0.636364</td>\n",
       "      <td>2</td>\n",
       "      <td>0</td>\n",
       "      <td>1</td>\n",
       "      <td>0</td>\n",
       "      <td>False</td>\n",
       "      <td>1</td>\n",
       "      <td>0.323078</td>\n",
       "      <td>False</td>\n",
       "      <td>{'domain_name': 'MERAKI.COM', 'registrar': 'Ma...</td>\n",
       "      <td>7916.0</td>\n",
       "    </tr>\n",
       "    <tr>\n",
       "      <th>9999</th>\n",
       "      <td>mainediner.com</td>\n",
       "      <td>Majestic</td>\n",
       "      <td>legitimate</td>\n",
       "      <td>14</td>\n",
       "      <td>False</td>\n",
       "      <td>3.235926</td>\n",
       "      <td>False</td>\n",
       "      <td>0.000000</td>\n",
       "      <td>1</td>\n",
       "      <td>0</td>\n",
       "      <td>0</td>\n",
       "      <td>0</td>\n",
       "      <td>False</td>\n",
       "      <td>0</td>\n",
       "      <td>0.271954</td>\n",
       "      <td>False</td>\n",
       "      <td>{'domain_name': 'MAINEDINER.COM', 'registrar':...</td>\n",
       "      <td>10497.0</td>\n",
       "    </tr>\n",
       "  </tbody>\n",
       "</table>\n",
       "</div>"
      ],
      "text/plain": [
       "                        url          source       label  url_length  \\\n",
       "9997             mst.org.br        Majestic  legitimate          10   \n",
       "9998  cs532-2037.meraki.com  Cisco-Umbrella  legitimate          21   \n",
       "9999         mainediner.com        Majestic  legitimate          14   \n",
       "\n",
       "      starts_with_ip  url_entropy  has_punycode  digit_letter_ratio  \\\n",
       "9997           False     2.921928         False            0.000000   \n",
       "9998           False     3.916127         False            0.636364   \n",
       "9999           False     3.235926         False            0.000000   \n",
       "\n",
       "      dot_count  at_count  dash_count  tld_count  domain_has_digits  \\\n",
       "9997          2         0           0          0              False   \n",
       "9998          2         0           1          0              False   \n",
       "9999          1         0           0          0              False   \n",
       "\n",
       "      subdomain_count  nan_char_entropy  has_internal_links  \\\n",
       "9997                0          0.464386               False   \n",
       "9998                1          0.323078               False   \n",
       "9999                0          0.271954               False   \n",
       "\n",
       "                                             whois_data  domain_age_days  \n",
       "9997  {'domain_name': 'mst.org.br', 'registrant_name...           9872.0  \n",
       "9998  {'domain_name': 'MERAKI.COM', 'registrar': 'Ma...           7916.0  \n",
       "9999  {'domain_name': 'MAINEDINER.COM', 'registrar':...          10497.0  "
      ]
     },
     "execution_count": 207,
     "metadata": {},
     "output_type": "execute_result"
    }
   ],
   "source": [
    "data.tail(3)"
   ]
  },
  {
   "cell_type": "code",
   "execution_count": 208,
   "metadata": {},
   "outputs": [
    {
     "data": {
      "text/plain": [
       "url                    object\n",
       "source                 object\n",
       "label                  object\n",
       "url_length              int64\n",
       "starts_with_ip           bool\n",
       "url_entropy           float64\n",
       "has_punycode             bool\n",
       "digit_letter_ratio    float64\n",
       "dot_count               int64\n",
       "at_count                int64\n",
       "dash_count              int64\n",
       "tld_count               int64\n",
       "domain_has_digits        bool\n",
       "subdomain_count         int64\n",
       "nan_char_entropy      float64\n",
       "has_internal_links       bool\n",
       "whois_data             object\n",
       "domain_age_days       float64\n",
       "dtype: object"
      ]
     },
     "execution_count": 208,
     "metadata": {},
     "output_type": "execute_result"
    }
   ],
   "source": [
    "data.dtypes"
   ]
  },
  {
   "cell_type": "markdown",
   "metadata": {},
   "source": [
    "## Dropping variables"
   ]
  },
  {
   "cell_type": "markdown",
   "metadata": {},
   "source": [
    "Dropping variables that are not IV"
   ]
  },
  {
   "cell_type": "code",
   "execution_count": 209,
   "metadata": {},
   "outputs": [],
   "source": [
    "# The url is unnecessary as all the informations about the url are in the followings variables\n",
    "# whois_data is unnecessary as its content is summarized in the other IV variables\n",
    "# domain_age_data is unnecessary has it won't help the model to determine the TV\n",
    "\n",
    "data = data.drop(['url', 'whois_data', 'domain_age_days'], axis=1) # axis=1 necessary ?\n"
   ]
  },
  {
   "cell_type": "markdown",
   "metadata": {},
   "source": [
    "Dropping datas totally definning the model"
   ]
  },
  {
   "cell_type": "code",
   "execution_count": 210,
   "metadata": {},
   "outputs": [],
   "source": [
    "# The source colums determines whether the url is legitimate or not\n",
    "data = data.drop('source', axis=1)\n"
   ]
  },
  {
   "cell_type": "code",
   "execution_count": 211,
   "metadata": {},
   "outputs": [
    {
     "data": {
      "text/plain": [
       "(10000, 14)"
      ]
     },
     "execution_count": 211,
     "metadata": {},
     "output_type": "execute_result"
    }
   ],
   "source": [
    "data.shape"
   ]
  },
  {
   "cell_type": "markdown",
   "metadata": {},
   "source": [
    "## Understanding clean dataset"
   ]
  },
  {
   "cell_type": "code",
   "execution_count": 212,
   "metadata": {},
   "outputs": [
    {
     "data": {
      "text/html": [
       "<div>\n",
       "<style scoped>\n",
       "    .dataframe tbody tr th:only-of-type {\n",
       "        vertical-align: middle;\n",
       "    }\n",
       "\n",
       "    .dataframe tbody tr th {\n",
       "        vertical-align: top;\n",
       "    }\n",
       "\n",
       "    .dataframe thead th {\n",
       "        text-align: right;\n",
       "    }\n",
       "</style>\n",
       "<table border=\"1\" class=\"dataframe\">\n",
       "  <thead>\n",
       "    <tr style=\"text-align: right;\">\n",
       "      <th></th>\n",
       "      <th>url_length</th>\n",
       "      <th>url_entropy</th>\n",
       "      <th>digit_letter_ratio</th>\n",
       "      <th>dot_count</th>\n",
       "      <th>at_count</th>\n",
       "      <th>dash_count</th>\n",
       "      <th>tld_count</th>\n",
       "      <th>subdomain_count</th>\n",
       "      <th>nan_char_entropy</th>\n",
       "    </tr>\n",
       "  </thead>\n",
       "  <tbody>\n",
       "    <tr>\n",
       "      <th>count</th>\n",
       "      <td>10000.000000</td>\n",
       "      <td>10000.000000</td>\n",
       "      <td>10000.000000</td>\n",
       "      <td>10000.00000</td>\n",
       "      <td>10000.00000</td>\n",
       "      <td>10000.000000</td>\n",
       "      <td>10000.000000</td>\n",
       "      <td>10000.000000</td>\n",
       "      <td>10000.000000</td>\n",
       "    </tr>\n",
       "    <tr>\n",
       "      <th>mean</th>\n",
       "      <td>45.788100</td>\n",
       "      <td>3.911319</td>\n",
       "      <td>0.115826</td>\n",
       "      <td>2.21580</td>\n",
       "      <td>0.01090</td>\n",
       "      <td>0.745000</td>\n",
       "      <td>0.038500</td>\n",
       "      <td>0.786900</td>\n",
       "      <td>0.464863</td>\n",
       "    </tr>\n",
       "    <tr>\n",
       "      <th>std</th>\n",
       "      <td>68.050433</td>\n",
       "      <td>0.640732</td>\n",
       "      <td>0.239825</td>\n",
       "      <td>2.39416</td>\n",
       "      <td>0.11306</td>\n",
       "      <td>1.878225</td>\n",
       "      <td>0.348755</td>\n",
       "      <td>1.040767</td>\n",
       "      <td>0.187817</td>\n",
       "    </tr>\n",
       "    <tr>\n",
       "      <th>min</th>\n",
       "      <td>5.000000</td>\n",
       "      <td>1.918296</td>\n",
       "      <td>0.000000</td>\n",
       "      <td>1.00000</td>\n",
       "      <td>0.00000</td>\n",
       "      <td>0.000000</td>\n",
       "      <td>0.000000</td>\n",
       "      <td>0.000000</td>\n",
       "      <td>0.071456</td>\n",
       "    </tr>\n",
       "    <tr>\n",
       "      <th>25%</th>\n",
       "      <td>17.000000</td>\n",
       "      <td>3.448513</td>\n",
       "      <td>0.000000</td>\n",
       "      <td>1.00000</td>\n",
       "      <td>0.00000</td>\n",
       "      <td>0.000000</td>\n",
       "      <td>0.000000</td>\n",
       "      <td>0.000000</td>\n",
       "      <td>0.306397</td>\n",
       "    </tr>\n",
       "    <tr>\n",
       "      <th>50%</th>\n",
       "      <td>30.000000</td>\n",
       "      <td>3.920869</td>\n",
       "      <td>0.000000</td>\n",
       "      <td>2.00000</td>\n",
       "      <td>0.00000</td>\n",
       "      <td>0.000000</td>\n",
       "      <td>0.000000</td>\n",
       "      <td>1.000000</td>\n",
       "      <td>0.415452</td>\n",
       "    </tr>\n",
       "    <tr>\n",
       "      <th>75%</th>\n",
       "      <td>53.000000</td>\n",
       "      <td>4.334118</td>\n",
       "      <td>0.133333</td>\n",
       "      <td>3.00000</td>\n",
       "      <td>0.00000</td>\n",
       "      <td>1.000000</td>\n",
       "      <td>0.000000</td>\n",
       "      <td>1.000000</td>\n",
       "      <td>0.616195</td>\n",
       "    </tr>\n",
       "    <tr>\n",
       "      <th>max</th>\n",
       "      <td>2631.000000</td>\n",
       "      <td>5.963848</td>\n",
       "      <td>5.000000</td>\n",
       "      <td>148.00000</td>\n",
       "      <td>4.00000</td>\n",
       "      <td>113.000000</td>\n",
       "      <td>12.000000</td>\n",
       "      <td>13.000000</td>\n",
       "      <td>1.429613</td>\n",
       "    </tr>\n",
       "  </tbody>\n",
       "</table>\n",
       "</div>"
      ],
      "text/plain": [
       "         url_length   url_entropy  digit_letter_ratio    dot_count  \\\n",
       "count  10000.000000  10000.000000        10000.000000  10000.00000   \n",
       "mean      45.788100      3.911319            0.115826      2.21580   \n",
       "std       68.050433      0.640732            0.239825      2.39416   \n",
       "min        5.000000      1.918296            0.000000      1.00000   \n",
       "25%       17.000000      3.448513            0.000000      1.00000   \n",
       "50%       30.000000      3.920869            0.000000      2.00000   \n",
       "75%       53.000000      4.334118            0.133333      3.00000   \n",
       "max     2631.000000      5.963848            5.000000    148.00000   \n",
       "\n",
       "          at_count    dash_count     tld_count  subdomain_count  \\\n",
       "count  10000.00000  10000.000000  10000.000000     10000.000000   \n",
       "mean       0.01090      0.745000      0.038500         0.786900   \n",
       "std        0.11306      1.878225      0.348755         1.040767   \n",
       "min        0.00000      0.000000      0.000000         0.000000   \n",
       "25%        0.00000      0.000000      0.000000         0.000000   \n",
       "50%        0.00000      0.000000      0.000000         1.000000   \n",
       "75%        0.00000      1.000000      0.000000         1.000000   \n",
       "max        4.00000    113.000000     12.000000        13.000000   \n",
       "\n",
       "       nan_char_entropy  \n",
       "count      10000.000000  \n",
       "mean           0.464863  \n",
       "std            0.187817  \n",
       "min            0.071456  \n",
       "25%            0.306397  \n",
       "50%            0.415452  \n",
       "75%            0.616195  \n",
       "max            1.429613  "
      ]
     },
     "execution_count": 212,
     "metadata": {},
     "output_type": "execute_result"
    }
   ],
   "source": [
    "data.describe()"
   ]
  },
  {
   "cell_type": "code",
   "execution_count": 213,
   "metadata": {},
   "outputs": [
    {
     "data": {
      "text/plain": [
       "label                 0\n",
       "url_length            0\n",
       "starts_with_ip        0\n",
       "url_entropy           0\n",
       "has_punycode          0\n",
       "digit_letter_ratio    0\n",
       "dot_count             0\n",
       "at_count              0\n",
       "dash_count            0\n",
       "tld_count             0\n",
       "domain_has_digits     0\n",
       "subdomain_count       0\n",
       "nan_char_entropy      0\n",
       "has_internal_links    0\n",
       "dtype: int64"
      ]
     },
     "execution_count": 213,
     "metadata": {},
     "output_type": "execute_result"
    }
   ],
   "source": [
    "data.isnull().sum()"
   ]
  },
  {
   "cell_type": "code",
   "execution_count": 214,
   "metadata": {},
   "outputs": [
    {
     "data": {
      "text/plain": [
       "label                  object\n",
       "url_length              int64\n",
       "starts_with_ip           bool\n",
       "url_entropy           float64\n",
       "has_punycode             bool\n",
       "digit_letter_ratio    float64\n",
       "dot_count               int64\n",
       "at_count                int64\n",
       "dash_count              int64\n",
       "tld_count               int64\n",
       "domain_has_digits        bool\n",
       "subdomain_count         int64\n",
       "nan_char_entropy      float64\n",
       "has_internal_links       bool\n",
       "dtype: object"
      ]
     },
     "execution_count": 214,
     "metadata": {},
     "output_type": "execute_result"
    }
   ],
   "source": [
    "data.dtypes"
   ]
  },
  {
   "cell_type": "markdown",
   "metadata": {},
   "source": [
    "## Class Balancing\n",
    "Our TV is labal. This data set is already balanced. It is a binary dataset."
   ]
  },
  {
   "cell_type": "code",
   "execution_count": 215,
   "metadata": {},
   "outputs": [
    {
     "data": {
      "text/plain": [
       "label                 0\n",
       "url_length            0\n",
       "starts_with_ip        0\n",
       "url_entropy           0\n",
       "has_punycode          0\n",
       "digit_letter_ratio    0\n",
       "dot_count             0\n",
       "at_count              0\n",
       "dash_count            0\n",
       "tld_count             0\n",
       "domain_has_digits     0\n",
       "subdomain_count       0\n",
       "nan_char_entropy      0\n",
       "has_internal_links    0\n",
       "dtype: int64"
      ]
     },
     "execution_count": 215,
     "metadata": {},
     "output_type": "execute_result"
    }
   ],
   "source": [
    "data.isnull().sum()"
   ]
  },
  {
   "cell_type": "code",
   "execution_count": 216,
   "metadata": {},
   "outputs": [
    {
     "data": {
      "text/plain": [
       "label\n",
       "phishing      5000\n",
       "legitimate    5000\n",
       "Name: count, dtype: int64"
      ]
     },
     "execution_count": 216,
     "metadata": {},
     "output_type": "execute_result"
    },
    {
     "data": {
      "image/png": "[encoded data removed]",
      "text/plain": [
       "<Figure size 640x480 with 1 Axes>"
      ]
     },
     "metadata": {},
     "output_type": "display_data"
    }
   ],
   "source": [
    "plt.hist(data['label'], density=False, bins= 3 )\n",
    "data['label'].value_counts()"
   ]
  },
  {
   "cell_type": "markdown",
   "metadata": {},
   "source": [
    "## Label Encoding / Factorizing"
   ]
  },
  {
   "cell_type": "code",
   "execution_count": 220,
   "metadata": {},
   "outputs": [],
   "source": [
    "# WHY DONT WE USE GETDUMMIES ???\n",
    "# OR OneHotEncoder from SKLEARN"
   ]
  },
  {
   "cell_type": "code",
   "execution_count": 217,
   "metadata": {},
   "outputs": [
    {
     "data": {
      "text/html": [
       "<div>\n",
       "<style scoped>\n",
       "    .dataframe tbody tr th:only-of-type {\n",
       "        vertical-align: middle;\n",
       "    }\n",
       "\n",
       "    .dataframe tbody tr th {\n",
       "        vertical-align: top;\n",
       "    }\n",
       "\n",
       "    .dataframe thead th {\n",
       "        text-align: right;\n",
       "    }\n",
       "</style>\n",
       "<table border=\"1\" class=\"dataframe\">\n",
       "  <thead>\n",
       "    <tr style=\"text-align: right;\">\n",
       "      <th></th>\n",
       "      <th>label</th>\n",
       "      <th>url_length</th>\n",
       "      <th>starts_with_ip</th>\n",
       "      <th>url_entropy</th>\n",
       "      <th>has_punycode</th>\n",
       "      <th>digit_letter_ratio</th>\n",
       "      <th>dot_count</th>\n",
       "      <th>at_count</th>\n",
       "      <th>dash_count</th>\n",
       "      <th>tld_count</th>\n",
       "      <th>domain_has_digits</th>\n",
       "      <th>subdomain_count</th>\n",
       "      <th>nan_char_entropy</th>\n",
       "      <th>has_internal_links</th>\n",
       "    </tr>\n",
       "  </thead>\n",
       "  <tbody>\n",
       "    <tr>\n",
       "      <th>0</th>\n",
       "      <td>0</td>\n",
       "      <td>62</td>\n",
       "      <td>False</td>\n",
       "      <td>4.203093</td>\n",
       "      <td>False</td>\n",
       "      <td>0.039216</td>\n",
       "      <td>4</td>\n",
       "      <td>0</td>\n",
       "      <td>0</td>\n",
       "      <td>0</td>\n",
       "      <td>False</td>\n",
       "      <td>2</td>\n",
       "      <td>0.606254</td>\n",
       "      <td>False</td>\n",
       "    </tr>\n",
       "    <tr>\n",
       "      <th>1</th>\n",
       "      <td>0</td>\n",
       "      <td>79</td>\n",
       "      <td>False</td>\n",
       "      <td>4.747960</td>\n",
       "      <td>False</td>\n",
       "      <td>0.634146</td>\n",
       "      <td>3</td>\n",
       "      <td>0</td>\n",
       "      <td>5</td>\n",
       "      <td>0</td>\n",
       "      <td>False</td>\n",
       "      <td>2</td>\n",
       "      <td>0.438186</td>\n",
       "      <td>False</td>\n",
       "    </tr>\n",
       "    <tr>\n",
       "      <th>2</th>\n",
       "      <td>0</td>\n",
       "      <td>62</td>\n",
       "      <td>False</td>\n",
       "      <td>4.453623</td>\n",
       "      <td>False</td>\n",
       "      <td>0.040000</td>\n",
       "      <td>4</td>\n",
       "      <td>0</td>\n",
       "      <td>1</td>\n",
       "      <td>1</td>\n",
       "      <td>False</td>\n",
       "      <td>1</td>\n",
       "      <td>0.606254</td>\n",
       "      <td>True</td>\n",
       "    </tr>\n",
       "    <tr>\n",
       "      <th>3</th>\n",
       "      <td>0</td>\n",
       "      <td>24</td>\n",
       "      <td>False</td>\n",
       "      <td>3.970176</td>\n",
       "      <td>False</td>\n",
       "      <td>0.000000</td>\n",
       "      <td>1</td>\n",
       "      <td>0</td>\n",
       "      <td>0</td>\n",
       "      <td>0</td>\n",
       "      <td>False</td>\n",
       "      <td>0</td>\n",
       "      <td>0.680827</td>\n",
       "      <td>False</td>\n",
       "    </tr>\n",
       "    <tr>\n",
       "      <th>4</th>\n",
       "      <td>0</td>\n",
       "      <td>69</td>\n",
       "      <td>False</td>\n",
       "      <td>4.548398</td>\n",
       "      <td>False</td>\n",
       "      <td>0.441860</td>\n",
       "      <td>2</td>\n",
       "      <td>0</td>\n",
       "      <td>0</td>\n",
       "      <td>0</td>\n",
       "      <td>True</td>\n",
       "      <td>1</td>\n",
       "      <td>0.474778</td>\n",
       "      <td>False</td>\n",
       "    </tr>\n",
       "    <tr>\n",
       "      <th>...</th>\n",
       "      <td>...</td>\n",
       "      <td>...</td>\n",
       "      <td>...</td>\n",
       "      <td>...</td>\n",
       "      <td>...</td>\n",
       "      <td>...</td>\n",
       "      <td>...</td>\n",
       "      <td>...</td>\n",
       "      <td>...</td>\n",
       "      <td>...</td>\n",
       "      <td>...</td>\n",
       "      <td>...</td>\n",
       "      <td>...</td>\n",
       "      <td>...</td>\n",
       "    </tr>\n",
       "    <tr>\n",
       "      <th>9995</th>\n",
       "      <td>1</td>\n",
       "      <td>25</td>\n",
       "      <td>False</td>\n",
       "      <td>3.943465</td>\n",
       "      <td>False</td>\n",
       "      <td>0.100000</td>\n",
       "      <td>2</td>\n",
       "      <td>0</td>\n",
       "      <td>1</td>\n",
       "      <td>0</td>\n",
       "      <td>False</td>\n",
       "      <td>1</td>\n",
       "      <td>0.291508</td>\n",
       "      <td>False</td>\n",
       "    </tr>\n",
       "    <tr>\n",
       "      <th>9996</th>\n",
       "      <td>1</td>\n",
       "      <td>11</td>\n",
       "      <td>False</td>\n",
       "      <td>2.663533</td>\n",
       "      <td>False</td>\n",
       "      <td>0.000000</td>\n",
       "      <td>2</td>\n",
       "      <td>0</td>\n",
       "      <td>0</td>\n",
       "      <td>0</td>\n",
       "      <td>False</td>\n",
       "      <td>0</td>\n",
       "      <td>0.447169</td>\n",
       "      <td>False</td>\n",
       "    </tr>\n",
       "    <tr>\n",
       "      <th>9997</th>\n",
       "      <td>1</td>\n",
       "      <td>10</td>\n",
       "      <td>False</td>\n",
       "      <td>2.921928</td>\n",
       "      <td>False</td>\n",
       "      <td>0.000000</td>\n",
       "      <td>2</td>\n",
       "      <td>0</td>\n",
       "      <td>0</td>\n",
       "      <td>0</td>\n",
       "      <td>False</td>\n",
       "      <td>0</td>\n",
       "      <td>0.464386</td>\n",
       "      <td>False</td>\n",
       "    </tr>\n",
       "    <tr>\n",
       "      <th>9998</th>\n",
       "      <td>1</td>\n",
       "      <td>21</td>\n",
       "      <td>False</td>\n",
       "      <td>3.916127</td>\n",
       "      <td>False</td>\n",
       "      <td>0.636364</td>\n",
       "      <td>2</td>\n",
       "      <td>0</td>\n",
       "      <td>1</td>\n",
       "      <td>0</td>\n",
       "      <td>False</td>\n",
       "      <td>1</td>\n",
       "      <td>0.323078</td>\n",
       "      <td>False</td>\n",
       "    </tr>\n",
       "    <tr>\n",
       "      <th>9999</th>\n",
       "      <td>1</td>\n",
       "      <td>14</td>\n",
       "      <td>False</td>\n",
       "      <td>3.235926</td>\n",
       "      <td>False</td>\n",
       "      <td>0.000000</td>\n",
       "      <td>1</td>\n",
       "      <td>0</td>\n",
       "      <td>0</td>\n",
       "      <td>0</td>\n",
       "      <td>False</td>\n",
       "      <td>0</td>\n",
       "      <td>0.271954</td>\n",
       "      <td>False</td>\n",
       "    </tr>\n",
       "  </tbody>\n",
       "</table>\n",
       "<p>10000 rows × 14 columns</p>\n",
       "</div>"
      ],
      "text/plain": [
       "      label  url_length  starts_with_ip  url_entropy  has_punycode  \\\n",
       "0         0          62           False     4.203093         False   \n",
       "1         0          79           False     4.747960         False   \n",
       "2         0          62           False     4.453623         False   \n",
       "3         0          24           False     3.970176         False   \n",
       "4         0          69           False     4.548398         False   \n",
       "...     ...         ...             ...          ...           ...   \n",
       "9995      1          25           False     3.943465         False   \n",
       "9996      1          11           False     2.663533         False   \n",
       "9997      1          10           False     2.921928         False   \n",
       "9998      1          21           False     3.916127         False   \n",
       "9999      1          14           False     3.235926         False   \n",
       "\n",
       "      digit_letter_ratio  dot_count  at_count  dash_count  tld_count  \\\n",
       "0               0.039216          4         0           0          0   \n",
       "1               0.634146          3         0           5          0   \n",
       "2               0.040000          4         0           1          1   \n",
       "3               0.000000          1         0           0          0   \n",
       "4               0.441860          2         0           0          0   \n",
       "...                  ...        ...       ...         ...        ...   \n",
       "9995            0.100000          2         0           1          0   \n",
       "9996            0.000000          2         0           0          0   \n",
       "9997            0.000000          2         0           0          0   \n",
       "9998            0.636364          2         0           1          0   \n",
       "9999            0.000000          1         0           0          0   \n",
       "\n",
       "      domain_has_digits  subdomain_count  nan_char_entropy  has_internal_links  \n",
       "0                 False                2          0.606254               False  \n",
       "1                 False                2          0.438186               False  \n",
       "2                 False                1          0.606254                True  \n",
       "3                 False                0          0.680827               False  \n",
       "4                  True                1          0.474778               False  \n",
       "...                 ...              ...               ...                 ...  \n",
       "9995              False                1          0.291508               False  \n",
       "9996              False                0          0.447169               False  \n",
       "9997              False                0          0.464386               False  \n",
       "9998              False                1          0.323078               False  \n",
       "9999              False                0          0.271954               False  \n",
       "\n",
       "[10000 rows x 14 columns]"
      ]
     },
     "execution_count": 217,
     "metadata": {},
     "output_type": "execute_result"
    }
   ],
   "source": [
    "# 0 is for legitimate url, 1 for phishing websites\n",
    "data['label'] = pd.factorize(data['label'])[0] #what is the use of [0]??\n",
    "\n",
    "data"
   ]
  },
  {
   "cell_type": "markdown",
   "metadata": {},
   "source": [
    "## Assign IV and TV"
   ]
  },
  {
   "cell_type": "code",
   "execution_count": 218,
   "metadata": {},
   "outputs": [],
   "source": [
    "X = data.drop('label', axis = 1) #IV\n",
    "Y = data['label'] #TV"
   ]
  },
  {
   "cell_type": "markdown",
   "metadata": {},
   "source": [
    "## Data Split / Model Building"
   ]
  },
  {
   "cell_type": "code",
   "execution_count": 235,
   "metadata": {},
   "outputs": [],
   "source": [
    "from sklearn.model_selection import train_test_split\n",
    "X_train, X_test, Y_train, Y_test = train_test_split(X, Y, test_size = 0.20, random_state = 1)"
   ]
  },
  {
   "cell_type": "code",
   "execution_count": 236,
   "metadata": {},
   "outputs": [
    {
     "data": {
      "text/html": [
       "<div>\n",
       "<style scoped>\n",
       "    .dataframe tbody tr th:only-of-type {\n",
       "        vertical-align: middle;\n",
       "    }\n",
       "\n",
       "    .dataframe tbody tr th {\n",
       "        vertical-align: top;\n",
       "    }\n",
       "\n",
       "    .dataframe thead th {\n",
       "        text-align: right;\n",
       "    }\n",
       "</style>\n",
       "<table border=\"1\" class=\"dataframe\">\n",
       "  <thead>\n",
       "    <tr style=\"text-align: right;\">\n",
       "      <th></th>\n",
       "      <th>url_length</th>\n",
       "      <th>starts_with_ip</th>\n",
       "      <th>url_entropy</th>\n",
       "      <th>has_punycode</th>\n",
       "      <th>digit_letter_ratio</th>\n",
       "      <th>dot_count</th>\n",
       "      <th>at_count</th>\n",
       "      <th>dash_count</th>\n",
       "      <th>tld_count</th>\n",
       "      <th>domain_has_digits</th>\n",
       "      <th>subdomain_count</th>\n",
       "      <th>nan_char_entropy</th>\n",
       "      <th>has_internal_links</th>\n",
       "    </tr>\n",
       "  </thead>\n",
       "  <tbody>\n",
       "    <tr>\n",
       "      <th>9953</th>\n",
       "      <td>10</td>\n",
       "      <td>False</td>\n",
       "      <td>3.121928</td>\n",
       "      <td>False</td>\n",
       "      <td>0.000000</td>\n",
       "      <td>1</td>\n",
       "      <td>0</td>\n",
       "      <td>1</td>\n",
       "      <td>0</td>\n",
       "      <td>False</td>\n",
       "      <td>0</td>\n",
       "      <td>0.332193</td>\n",
       "      <td>False</td>\n",
       "    </tr>\n",
       "    <tr>\n",
       "      <th>3850</th>\n",
       "      <td>39</td>\n",
       "      <td>False</td>\n",
       "      <td>4.015921</td>\n",
       "      <td>False</td>\n",
       "      <td>0.100000</td>\n",
       "      <td>1</td>\n",
       "      <td>0</td>\n",
       "      <td>0</td>\n",
       "      <td>0</td>\n",
       "      <td>True</td>\n",
       "      <td>0</td>\n",
       "      <td>0.608011</td>\n",
       "      <td>False</td>\n",
       "    </tr>\n",
       "    <tr>\n",
       "      <th>4962</th>\n",
       "      <td>97</td>\n",
       "      <td>False</td>\n",
       "      <td>4.778498</td>\n",
       "      <td>False</td>\n",
       "      <td>0.641509</td>\n",
       "      <td>3</td>\n",
       "      <td>0</td>\n",
       "      <td>1</td>\n",
       "      <td>0</td>\n",
       "      <td>False</td>\n",
       "      <td>1</td>\n",
       "      <td>0.514324</td>\n",
       "      <td>False</td>\n",
       "    </tr>\n",
       "    <tr>\n",
       "      <th>3886</th>\n",
       "      <td>27</td>\n",
       "      <td>False</td>\n",
       "      <td>4.060262</td>\n",
       "      <td>False</td>\n",
       "      <td>0.150000</td>\n",
       "      <td>1</td>\n",
       "      <td>0</td>\n",
       "      <td>0</td>\n",
       "      <td>0</td>\n",
       "      <td>True</td>\n",
       "      <td>0</td>\n",
       "      <td>0.630354</td>\n",
       "      <td>False</td>\n",
       "    </tr>\n",
       "    <tr>\n",
       "      <th>5437</th>\n",
       "      <td>10</td>\n",
       "      <td>False</td>\n",
       "      <td>2.646439</td>\n",
       "      <td>False</td>\n",
       "      <td>0.000000</td>\n",
       "      <td>2</td>\n",
       "      <td>0</td>\n",
       "      <td>0</td>\n",
       "      <td>0</td>\n",
       "      <td>False</td>\n",
       "      <td>0</td>\n",
       "      <td>0.464386</td>\n",
       "      <td>False</td>\n",
       "    </tr>\n",
       "  </tbody>\n",
       "</table>\n",
       "</div>"
      ],
      "text/plain": [
       "      url_length  starts_with_ip  url_entropy  has_punycode  \\\n",
       "9953          10           False     3.121928         False   \n",
       "3850          39           False     4.015921         False   \n",
       "4962          97           False     4.778498         False   \n",
       "3886          27           False     4.060262         False   \n",
       "5437          10           False     2.646439         False   \n",
       "\n",
       "      digit_letter_ratio  dot_count  at_count  dash_count  tld_count  \\\n",
       "9953            0.000000          1         0           1          0   \n",
       "3850            0.100000          1         0           0          0   \n",
       "4962            0.641509          3         0           1          0   \n",
       "3886            0.150000          1         0           0          0   \n",
       "5437            0.000000          2         0           0          0   \n",
       "\n",
       "      domain_has_digits  subdomain_count  nan_char_entropy  has_internal_links  \n",
       "9953              False                0          0.332193               False  \n",
       "3850               True                0          0.608011               False  \n",
       "4962              False                1          0.514324               False  \n",
       "3886               True                0          0.630354               False  \n",
       "5437              False                0          0.464386               False  "
      ]
     },
     "execution_count": 236,
     "metadata": {},
     "output_type": "execute_result"
    }
   ],
   "source": [
    "X_test.head(5)\n",
    "# or X_train[0:5]"
   ]
  },
  {
   "cell_type": "code",
   "execution_count": 237,
   "metadata": {},
   "outputs": [
    {
     "data": {
      "text/plain": [
       "9953    1\n",
       "3850    0\n",
       "4962    0\n",
       "3886    0\n",
       "5437    1\n",
       "Name: label, dtype: int64"
      ]
     },
     "execution_count": 237,
     "metadata": {},
     "output_type": "execute_result"
    }
   ],
   "source": [
    "Y_test.head()"
   ]
  },
  {
   "cell_type": "code",
   "execution_count": 238,
   "metadata": {},
   "outputs": [
    {
     "data": {
      "text/plain": [
       "(2000,)"
      ]
     },
     "execution_count": 238,
     "metadata": {},
     "output_type": "execute_result"
    }
   ],
   "source": [
    "Y_test.shape # 0.2 of the data set"
   ]
  },
  {
   "cell_type": "markdown",
   "metadata": {},
   "source": [
    "## KNN"
   ]
  },
  {
   "cell_type": "code",
   "execution_count": 240,
   "metadata": {},
   "outputs": [],
   "source": [
    "import seaborn as sns\n",
    "from sklearn.neighbors import KNeighborsClassifier\n",
    "from sklearn.metrics import classification_report, confusion_matrix, accuracy_score, precision_score, recall_score, f1_score"
   ]
  },
  {
   "cell_type": "code",
   "execution_count": 243,
   "metadata": {},
   "outputs": [
    {
     "name": "stdout",
     "output_type": "stream",
     "text": [
      "KNN - Accuracy: 96.700.\n",
      "\n",
      "Classification Report\n",
      "              precision    recall  f1-score   support\n",
      "\n",
      "           0       0.97      0.97      0.97      1021\n",
      "           1       0.97      0.96      0.97       979\n",
      "\n",
      "    accuracy                           0.97      2000\n",
      "   macro avg       0.97      0.97      0.97      2000\n",
      "weighted avg       0.97      0.97      0.97      2000\n",
      "\n"
     ]
    }
   ],
   "source": [
    "# ATTANTION CECI EST UN ENORME COPIER COLLER IL SAGIRAI DE COMPRENDRE POUR JUGER CE SCRIPT\n",
    "\n",
    "knn = KNeighborsClassifier()\n",
    "knn.fit(X_train, Y_train)\n",
    "y_pred = knn.predict(X_test)\n",
    "acc = accuracy_score(Y_test, y_pred)*100\n",
    "print(\"KNN - Accuracy: {:.3f}.\".format(acc))\n",
    "print(\"\\nClassification Report\")\n",
    "print(classification_report(Y_test, y_pred))"
   ]
  },
  {
   "cell_type": "markdown",
   "metadata": {},
   "source": [
    "### ANALYSE THE RESULTS : \n",
    "PLEASE DO SO"
   ]
  },
  {
   "cell_type": "markdown",
   "metadata": {},
   "source": [
    "## Confusion Matrix"
   ]
  },
  {
   "cell_type": "code",
   "execution_count": 245,
   "metadata": {},
   "outputs": [
    {
     "name": "stdout",
     "output_type": "stream",
     "text": [
      "[[990  31]\n",
      " [ 35 944]]\n"
     ]
    }
   ],
   "source": [
    "cm = confusion_matrix(Y_test, y_pred)\n",
    "print(cm)"
   ]
  },
  {
   "cell_type": "code",
   "execution_count": 255,
   "metadata": {},
   "outputs": [
    {
     "data": {
      "text/plain": [
       "Text(0.5, 1.0, 'Confusion Matrix')"
      ]
     },
     "execution_count": 255,
     "metadata": {},
     "output_type": "execute_result"
    },
    {
     "data": {
      "image/png": "[encoded data removed]",
      "text/plain": [
       "<Figure size 300x300 with 2 Axes>"
      ]
     },
     "metadata": {},
     "output_type": "display_data"
    }
   ],
   "source": [
    "plt.figure(figsize=(3,3))\n",
    "sns.heatmap(cm, annot=True, linewidths=.5, square = True, cmap = 'Blues')\n",
    "\n",
    "plt.xticks([0, 1], ['legitimate', 'phishing'])\n",
    "plt.yticks([0, 1], ['legitimate', 'phishing'])\n",
    "\n",
    "plt.xlabel('Predicted label')\n",
    "plt.ylabel('Actual label')\n",
    "\n",
    "\n",
    "\n",
    "plt.title(\"Confusion Matrix\", size = 12)"
   ]
  },
  {
   "cell_type": "code",
   "execution_count": null,
   "metadata": {},
   "outputs": [],
   "source": []
  },
  {
   "cell_type": "code",
   "execution_count": null,
   "metadata": {},
   "outputs": [],
   "source": []
  }
 ],
 "metadata": {
  "kernelspec": {
   "display_name": "Python 3",
   "language": "python",
   "name": "python3"
  },
  "language_info": {
   "codemirror_mode": {
    "name": "ipython",
    "version": 3
   },
   "file_extension": ".py",
   "mimetype": "text/x-python",
   "name": "python",
   "nbconvert_exporter": "python",
   "pygments_lexer": "ipython3",
   "version": "3.12.5"
  }
 },
 "nbformat": 4,
 "nbformat_minor": 2
}

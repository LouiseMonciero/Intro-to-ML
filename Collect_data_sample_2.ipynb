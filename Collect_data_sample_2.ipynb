{
 "cells": [
  {
   "cell_type": "markdown",
   "metadata": {},
   "source": [
    "## Librairies"
   ]
  },
  {
   "cell_type": "code",
   "execution_count": 111,
   "metadata": {},
   "outputs": [],
   "source": [
    "import pandas as pd\n",
    "import matplotlib.pyplot as plt"
   ]
  },
  {
   "cell_type": "markdown",
   "metadata": {},
   "source": [
    "## Extracting/Formatting the datas"
   ]
  },
  {
   "cell_type": "code",
   "execution_count": 112,
   "metadata": {},
   "outputs": [],
   "source": [
    "\n",
    "dataset = pd.read_csv('../dataset_phishing.csv')\n",
    "\n",
    "# Balancing the entries based on TV (=['label'])\n",
    "phishing_sample = dataset[dataset['status'] == 'phishing'].sample(n=1000, random_state=42)\n",
    "legitimate_sample = dataset[dataset['status'] == 'legitimate'].sample(n=1000, random_state=42)\n",
    "dataset_sample = pd.concat([phishing_sample, legitimate_sample])\n",
    "\n",
    "dataset_sample = dataset_sample.rename(columns={'status': 'label', 'length_url': 'url_length', 'ip':'starts_with_ip', 'nb_dots':'dot_count', 'nb_at':'at_count', 'nb_tilde': 'tld_count', 'nb_dslash': 'dash_count'})\n",
    "\n",
    "import pandas as pd\n",
    "import numpy as np\n",
    "from scipy.stats import entropy\n",
    "from collections import Counter\n",
    "import unicodedata\n",
    "from urllib.parse import urlparse\n",
    "\n",
    "def is_punycode(value):\n",
    "    if not isinstance(value, str):\n",
    "        return False\n",
    "\n",
    "    # Vérifie si la chaîne est ASCII\n",
    "    def is_ascii(s):\n",
    "        return all(ord(c) < 128 for c in s)\n",
    "\n",
    "    if not is_ascii(value):\n",
    "        return False\n",
    "\n",
    "    # Vérifie si la chaîne est encodée en UTF-8\n",
    "    if not isinstance(value, str) or unicodedata.normalize('NFC', value) != value:\n",
    "        raise ValueError(\"The string should be encoded by UTF-8 to do the right check.\")\n",
    "\n",
    "    # Vérifie si la chaîne commence par 'xn--'\n",
    "    return value.lower().startswith('xn--')\n",
    "\n",
    "\n",
    "def calculate_url_entropy(url):\n",
    "    if not isinstance(url, str) or len(url) == 0:\n",
    "        return 0\n",
    "    \n",
    "    char_counts = Counter(url)\n",
    "    probabilities = np.array(list(char_counts.values())) / len(url)\n",
    "    return entropy(probabilities, base=2)\n",
    "\n",
    "def calculate_letter_ratio(url):\n",
    "    if not isinstance(url, str) or len(url) == 0:\n",
    "        return 0.0\n",
    "    letter_count = sum(c.isalpha() for c in url)\n",
    "    return letter_count / len(url)\n",
    "\n",
    "def calculate_subdomain_count(url):\n",
    "    return len(urlparse(url).netloc.split('.'))\n",
    "\n",
    "def calculate_has_internal_links(url):\n",
    "    try:\n",
    "        return '#' in urlparse(url).fragment\n",
    "    except:\n",
    "        return False\n",
    "\n",
    "def domain_has_digit(url):\n",
    "    try:\n",
    "        domain = urlparse(url).netloc\n",
    "        return any(c.isdigit() for c in domain)\n",
    "    except:\n",
    "        return False\n",
    "    \n",
    "def nan_char_entropy(url):\n",
    "    if not isinstance(url, str) or len(url) == 0:\n",
    "        return 0.0\n",
    "    non_alpha_chars = ''.join(c for c in url if not c.isalnum())\n",
    "    if len(non_alpha_chars) == 0:\n",
    "        return 0.0\n",
    "    char_counts = Counter(non_alpha_chars)\n",
    "    probabilities = np.array(list(char_counts.values())) / len(non_alpha_chars)\n",
    "    return entropy(probabilities, base=2)\n",
    "\n",
    "dataset_sample['url_entropy'] = dataset_sample['url'].apply(calculate_url_entropy)\n",
    "dataset_sample['has_punycode'] = dataset_sample['url'].apply(is_punycode)\n",
    "dataset_sample['digit_letter_ratio'] = dataset_sample['url'].apply(calculate_letter_ratio)\n",
    "dataset_sample['subdomain_count'] = dataset_sample['url'].apply(calculate_subdomain_count)\n",
    "dataset_sample['has_internal_links'] = dataset_sample['url'].apply(calculate_has_internal_links)\n",
    "dataset_sample['domain_has_digit'] = dataset_sample['url'].apply(domain_has_digit)\n",
    "dataset_sample['nan_char_entropy'] = dataset_sample['url'].apply(nan_char_entropy)\n",
    "\n",
    "\n",
    "\n",
    "\n",
    "\n",
    "#output_path = \"../dataset_phishing.csv\"\n",
    "#data.to_csv(output_path, index=False)\n",
    "\n",
    "#print(f\"Les entropies des URLs ont été calculées et enregistrées dans {output_path}.\")\n",
    "\n",
    "\n",
    "\n"
   ]
  },
  {
   "cell_type": "code",
   "execution_count": 113,
   "metadata": {},
   "outputs": [
    {
     "data": {
      "text/plain": [
       "label                  object\n",
       "url_length              int64\n",
       "starts_with_ip          int64\n",
       "url_entropy           float64\n",
       "has_punycode             bool\n",
       "digit_letter_ratio    float64\n",
       "dot_count               int64\n",
       "at_count                int64\n",
       "dash_count              int64\n",
       "tld_count               int64\n",
       "domain_has_digit         bool\n",
       "subdomain_count         int64\n",
       "nan_char_entropy      float64\n",
       "has_internal_links       bool\n",
       "dtype: object"
      ]
     },
     "execution_count": 113,
     "metadata": {},
     "output_type": "execute_result"
    }
   ],
   "source": [
    "dataset_sample = dataset_sample[['label','url_length', 'starts_with_ip', 'url_entropy', 'has_punycode','digit_letter_ratio', 'dot_count', 'at_count', 'dash_count', 'tld_count', 'domain_has_digit', 'subdomain_count', 'nan_char_entropy', 'has_internal_links']]\n",
    "#dataset_sample = dataset_sample.drop(columns=['length_hostname', 'nb_hyphens', 'google_index', 'page_rank', 'dns_record', 'domain_age', 'whois_registered_domain'])\n",
    "dataset_sample.dtypes"
   ]
  },
  {
   "cell_type": "markdown",
   "metadata": {},
   "source": [
    "## Verification"
   ]
  },
  {
   "cell_type": "code",
   "execution_count": 114,
   "metadata": {},
   "outputs": [
    {
     "data": {
      "text/plain": [
       "count         2000\n",
       "unique           2\n",
       "top       phishing\n",
       "freq          1000\n",
       "Name: label, dtype: object"
      ]
     },
     "execution_count": 114,
     "metadata": {},
     "output_type": "execute_result"
    }
   ],
   "source": [
    "dataset_sample.shape\n",
    "dataset_sample['label'].describe()"
   ]
  },
  {
   "cell_type": "code",
   "execution_count": 115,
   "metadata": {},
   "outputs": [
    {
     "data": {
      "text/plain": [
       "(array([1000.,    0., 1000.]),\n",
       " array([0.        , 0.33333333, 0.66666667, 1.        ]),\n",
       " <BarContainer object of 3 artists>)"
      ]
     },
     "execution_count": 115,
     "metadata": {},
     "output_type": "execute_result"
    },
    {
     "data": {
      "image/png": "[encoded data removed]",
      "text/plain": [
       "<Figure size 640x480 with 1 Axes>"
      ]
     },
     "metadata": {},
     "output_type": "display_data"
    }
   ],
   "source": [
    "plt.hist(dataset_sample['label'], density=False, bins= 3 ) # attribut ??"
   ]
  },
  {
   "cell_type": "markdown",
   "metadata": {},
   "source": [
    "## Saving"
   ]
  },
  {
   "cell_type": "code",
   "execution_count": 116,
   "metadata": {},
   "outputs": [],
   "source": [
    "# To csv\n",
    "dataset_sample.to_csv('/Users/louise_monciero/Desktop/APU/Machine_Learning/Assignement/sample_output_2.csv', index=False)"
   ]
  }
 ],
 "metadata": {
  "kernelspec": {
   "display_name": "Python 3",
   "language": "python",
   "name": "python3"
  },
  "language_info": {
   "codemirror_mode": {
    "name": "ipython",
    "version": 3
   },
   "file_extension": ".py",
   "mimetype": "text/x-python",
   "name": "python",
   "nbconvert_exporter": "python",
   "pygments_lexer": "ipython3",
   "version": "3.12.5"
  }
 },
 "nbformat": 4,
 "nbformat_minor": 2
}

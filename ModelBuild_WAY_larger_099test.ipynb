{
 "cells": [
  {
   "cell_type": "markdown",
   "metadata": {},
   "source": [
    "# Preprocessing"
   ]
  },
  {
   "cell_type": "markdown",
   "metadata": {},
   "source": [
    "## Reading CSV"
   ]
  },
  {
   "cell_type": "code",
   "execution_count": 51,
   "metadata": {
    "ExecuteTime": {
     "end_time": "2024-10-24T01:12:21.899250Z",
     "start_time": "2024-10-24T01:12:21.894720Z"
    }
   },
   "outputs": [],
   "source": [
    "import pandas as pd\n",
    "import matplotlib.pyplot as plt\n",
    "import numpy as np\n",
    "import sklearn"
   ]
  },
  {
   "cell_type": "code",
   "execution_count": 52,
   "metadata": {
    "ExecuteTime": {
     "end_time": "2024-10-24T01:12:22.431471Z",
     "start_time": "2024-10-24T01:12:22.269193Z"
    }
   },
   "outputs": [],
   "source": [
    "data = pd.read_csv('../sample_output_WAY_larger.csv')"
   ]
  },
  {
   "cell_type": "markdown",
   "metadata": {},
   "source": [
    "## Understanding Dataset"
   ]
  },
  {
   "cell_type": "code",
   "execution_count": 53,
   "metadata": {
    "ExecuteTime": {
     "end_time": "2024-10-24T01:12:22.439594Z",
     "start_time": "2024-10-24T01:12:22.433482Z"
    }
   },
   "outputs": [
    {
     "data": {
      "text/plain": [
       "(20000, 18)"
      ]
     },
     "execution_count": 53,
     "metadata": {},
     "output_type": "execute_result"
    }
   ],
   "source": [
    "data.shape"
   ]
  },
  {
   "cell_type": "code",
   "execution_count": 54,
   "metadata": {
    "ExecuteTime": {
     "end_time": "2024-10-24T01:12:22.466044Z",
     "start_time": "2024-10-24T01:12:22.440606Z"
    }
   },
   "outputs": [
    {
     "data": {
      "text/html": [
       "<div>\n",
       "<style scoped>\n",
       "    .dataframe tbody tr th:only-of-type {\n",
       "        vertical-align: middle;\n",
       "    }\n",
       "\n",
       "    .dataframe tbody tr th {\n",
       "        vertical-align: top;\n",
       "    }\n",
       "\n",
       "    .dataframe thead th {\n",
       "        text-align: right;\n",
       "    }\n",
       "</style>\n",
       "<table border=\"1\" class=\"dataframe\">\n",
       "  <thead>\n",
       "    <tr style=\"text-align: right;\">\n",
       "      <th></th>\n",
       "      <th>url</th>\n",
       "      <th>source</th>\n",
       "      <th>label</th>\n",
       "      <th>url_length</th>\n",
       "      <th>starts_with_ip</th>\n",
       "      <th>url_entropy</th>\n",
       "      <th>has_punycode</th>\n",
       "      <th>digit_letter_ratio</th>\n",
       "      <th>dot_count</th>\n",
       "      <th>at_count</th>\n",
       "      <th>dash_count</th>\n",
       "      <th>tld_count</th>\n",
       "      <th>domain_has_digits</th>\n",
       "      <th>subdomain_count</th>\n",
       "      <th>nan_char_entropy</th>\n",
       "      <th>has_internal_links</th>\n",
       "      <th>whois_data</th>\n",
       "      <th>domain_age_days</th>\n",
       "    </tr>\n",
       "  </thead>\n",
       "  <tbody>\n",
       "    <tr>\n",
       "      <th>0</th>\n",
       "      <td>http://sub22b.jelastic.regruhosting.ru/acesso/...</td>\n",
       "      <td>Phishing.Database</td>\n",
       "      <td>phishing</td>\n",
       "      <td>62</td>\n",
       "      <td>False</td>\n",
       "      <td>4.203093</td>\n",
       "      <td>False</td>\n",
       "      <td>0.039216</td>\n",
       "      <td>4</td>\n",
       "      <td>0</td>\n",
       "      <td>0</td>\n",
       "      <td>0</td>\n",
       "      <td>False</td>\n",
       "      <td>2</td>\n",
       "      <td>0.606254</td>\n",
       "      <td>False</td>\n",
       "      <td>NaN</td>\n",
       "      <td>NaN</td>\n",
       "    </tr>\n",
       "    <tr>\n",
       "      <th>1</th>\n",
       "      <td>https://cherry-609d.hakeem1115.workers.dev/63f...</td>\n",
       "      <td>Phishing.Database</td>\n",
       "      <td>phishing</td>\n",
       "      <td>79</td>\n",
       "      <td>False</td>\n",
       "      <td>4.747960</td>\n",
       "      <td>False</td>\n",
       "      <td>0.634146</td>\n",
       "      <td>3</td>\n",
       "      <td>0</td>\n",
       "      <td>5</td>\n",
       "      <td>0</td>\n",
       "      <td>False</td>\n",
       "      <td>2</td>\n",
       "      <td>0.438186</td>\n",
       "      <td>False</td>\n",
       "      <td>{'domain_name': None, 'registrar': None, 'whoi...</td>\n",
       "      <td>NaN</td>\n",
       "    </tr>\n",
       "    <tr>\n",
       "      <th>2</th>\n",
       "      <td>http://secureid-auth5b.serveirc.com/navyfedera...</td>\n",
       "      <td>Phishing.Database</td>\n",
       "      <td>phishing</td>\n",
       "      <td>62</td>\n",
       "      <td>False</td>\n",
       "      <td>4.453623</td>\n",
       "      <td>False</td>\n",
       "      <td>0.040000</td>\n",
       "      <td>4</td>\n",
       "      <td>0</td>\n",
       "      <td>1</td>\n",
       "      <td>1</td>\n",
       "      <td>False</td>\n",
       "      <td>1</td>\n",
       "      <td>0.606254</td>\n",
       "      <td>True</td>\n",
       "      <td>{'domain_name': 'SERVEIRC.COM', 'registrar': '...</td>\n",
       "      <td>8804.0</td>\n",
       "    </tr>\n",
       "  </tbody>\n",
       "</table>\n",
       "</div>"
      ],
      "text/plain": [
       "                                                 url             source  \\\n",
       "0  http://sub22b.jelastic.regruhosting.ru/acesso/...  Phishing.Database   \n",
       "1  https://cherry-609d.hakeem1115.workers.dev/63f...  Phishing.Database   \n",
       "2  http://secureid-auth5b.serveirc.com/navyfedera...  Phishing.Database   \n",
       "\n",
       "      label  url_length  starts_with_ip  url_entropy  has_punycode  \\\n",
       "0  phishing          62           False     4.203093         False   \n",
       "1  phishing          79           False     4.747960         False   \n",
       "2  phishing          62           False     4.453623         False   \n",
       "\n",
       "   digit_letter_ratio  dot_count  at_count  dash_count  tld_count  \\\n",
       "0            0.039216          4         0           0          0   \n",
       "1            0.634146          3         0           5          0   \n",
       "2            0.040000          4         0           1          1   \n",
       "\n",
       "   domain_has_digits  subdomain_count  nan_char_entropy  has_internal_links  \\\n",
       "0              False                2          0.606254               False   \n",
       "1              False                2          0.438186               False   \n",
       "2              False                1          0.606254                True   \n",
       "\n",
       "                                          whois_data  domain_age_days  \n",
       "0                                                NaN              NaN  \n",
       "1  {'domain_name': None, 'registrar': None, 'whoi...              NaN  \n",
       "2  {'domain_name': 'SERVEIRC.COM', 'registrar': '...           8804.0  "
      ]
     },
     "execution_count": 54,
     "metadata": {},
     "output_type": "execute_result"
    }
   ],
   "source": [
    "data.head(3)"
   ]
  },
  {
   "cell_type": "code",
   "execution_count": 55,
   "metadata": {
    "ExecuteTime": {
     "end_time": "2024-10-24T01:12:22.484216Z",
     "start_time": "2024-10-24T01:12:22.468060Z"
    }
   },
   "outputs": [
    {
     "data": {
      "text/html": [
       "<div>\n",
       "<style scoped>\n",
       "    .dataframe tbody tr th:only-of-type {\n",
       "        vertical-align: middle;\n",
       "    }\n",
       "\n",
       "    .dataframe tbody tr th {\n",
       "        vertical-align: top;\n",
       "    }\n",
       "\n",
       "    .dataframe thead th {\n",
       "        text-align: right;\n",
       "    }\n",
       "</style>\n",
       "<table border=\"1\" class=\"dataframe\">\n",
       "  <thead>\n",
       "    <tr style=\"text-align: right;\">\n",
       "      <th></th>\n",
       "      <th>url</th>\n",
       "      <th>source</th>\n",
       "      <th>label</th>\n",
       "      <th>url_length</th>\n",
       "      <th>starts_with_ip</th>\n",
       "      <th>url_entropy</th>\n",
       "      <th>has_punycode</th>\n",
       "      <th>digit_letter_ratio</th>\n",
       "      <th>dot_count</th>\n",
       "      <th>at_count</th>\n",
       "      <th>dash_count</th>\n",
       "      <th>tld_count</th>\n",
       "      <th>domain_has_digits</th>\n",
       "      <th>subdomain_count</th>\n",
       "      <th>nan_char_entropy</th>\n",
       "      <th>has_internal_links</th>\n",
       "      <th>whois_data</th>\n",
       "      <th>domain_age_days</th>\n",
       "    </tr>\n",
       "  </thead>\n",
       "  <tbody>\n",
       "    <tr>\n",
       "      <th>19997</th>\n",
       "      <td>lokrum.hr</td>\n",
       "      <td>Majestic</td>\n",
       "      <td>legitimate</td>\n",
       "      <td>9</td>\n",
       "      <td>False</td>\n",
       "      <td>2.947703</td>\n",
       "      <td>False</td>\n",
       "      <td>0.000000</td>\n",
       "      <td>1</td>\n",
       "      <td>0</td>\n",
       "      <td>0</td>\n",
       "      <td>0</td>\n",
       "      <td>False</td>\n",
       "      <td>0</td>\n",
       "      <td>0.352214</td>\n",
       "      <td>False</td>\n",
       "      <td>{'domain_name': 'lokrum.hr', 'whois_server': '...</td>\n",
       "      <td>8232.0</td>\n",
       "    </tr>\n",
       "    <tr>\n",
       "      <th>19998</th>\n",
       "      <td>mot-itcdb2019.minotstateu.edu</td>\n",
       "      <td>Cisco-Umbrella</td>\n",
       "      <td>legitimate</td>\n",
       "      <td>29</td>\n",
       "      <td>False</td>\n",
       "      <td>3.974890</td>\n",
       "      <td>False</td>\n",
       "      <td>0.181818</td>\n",
       "      <td>2</td>\n",
       "      <td>0</td>\n",
       "      <td>1</td>\n",
       "      <td>0</td>\n",
       "      <td>False</td>\n",
       "      <td>1</td>\n",
       "      <td>0.266068</td>\n",
       "      <td>False</td>\n",
       "      <td>{'domain_name': 'MINOTSTATEU.EDU', 'creation_d...</td>\n",
       "      <td>9047.0</td>\n",
       "    </tr>\n",
       "    <tr>\n",
       "      <th>19999</th>\n",
       "      <td>www.edmundoptics.co.uk</td>\n",
       "      <td>Cisco-Umbrella</td>\n",
       "      <td>legitimate</td>\n",
       "      <td>22</td>\n",
       "      <td>False</td>\n",
       "      <td>3.663533</td>\n",
       "      <td>False</td>\n",
       "      <td>0.000000</td>\n",
       "      <td>3</td>\n",
       "      <td>0</td>\n",
       "      <td>0</td>\n",
       "      <td>0</td>\n",
       "      <td>False</td>\n",
       "      <td>1</td>\n",
       "      <td>0.391973</td>\n",
       "      <td>False</td>\n",
       "      <td>{'domain_name': 'edmundoptics.co.uk', 'registr...</td>\n",
       "      <td>8581.0</td>\n",
       "    </tr>\n",
       "  </tbody>\n",
       "</table>\n",
       "</div>"
      ],
      "text/plain": [
       "                                 url          source       label  url_length  \\\n",
       "19997                      lokrum.hr        Majestic  legitimate           9   \n",
       "19998  mot-itcdb2019.minotstateu.edu  Cisco-Umbrella  legitimate          29   \n",
       "19999         www.edmundoptics.co.uk  Cisco-Umbrella  legitimate          22   \n",
       "\n",
       "       starts_with_ip  url_entropy  has_punycode  digit_letter_ratio  \\\n",
       "19997           False     2.947703         False            0.000000   \n",
       "19998           False     3.974890         False            0.181818   \n",
       "19999           False     3.663533         False            0.000000   \n",
       "\n",
       "       dot_count  at_count  dash_count  tld_count  domain_has_digits  \\\n",
       "19997          1         0           0          0              False   \n",
       "19998          2         0           1          0              False   \n",
       "19999          3         0           0          0              False   \n",
       "\n",
       "       subdomain_count  nan_char_entropy  has_internal_links  \\\n",
       "19997                0          0.352214               False   \n",
       "19998                1          0.266068               False   \n",
       "19999                1          0.391973               False   \n",
       "\n",
       "                                              whois_data  domain_age_days  \n",
       "19997  {'domain_name': 'lokrum.hr', 'whois_server': '...           8232.0  \n",
       "19998  {'domain_name': 'MINOTSTATEU.EDU', 'creation_d...           9047.0  \n",
       "19999  {'domain_name': 'edmundoptics.co.uk', 'registr...           8581.0  "
      ]
     },
     "execution_count": 55,
     "metadata": {},
     "output_type": "execute_result"
    }
   ],
   "source": [
    "data.tail(3)"
   ]
  },
  {
   "cell_type": "code",
   "execution_count": 56,
   "metadata": {
    "ExecuteTime": {
     "end_time": "2024-10-24T01:12:22.494816Z",
     "start_time": "2024-10-24T01:12:22.485233Z"
    }
   },
   "outputs": [
    {
     "data": {
      "text/plain": [
       "url                    object\n",
       "source                 object\n",
       "label                  object\n",
       "url_length              int64\n",
       "starts_with_ip           bool\n",
       "url_entropy           float64\n",
       "has_punycode             bool\n",
       "digit_letter_ratio    float64\n",
       "dot_count               int64\n",
       "at_count                int64\n",
       "dash_count              int64\n",
       "tld_count               int64\n",
       "domain_has_digits        bool\n",
       "subdomain_count         int64\n",
       "nan_char_entropy      float64\n",
       "has_internal_links       bool\n",
       "whois_data             object\n",
       "domain_age_days       float64\n",
       "dtype: object"
      ]
     },
     "execution_count": 56,
     "metadata": {},
     "output_type": "execute_result"
    }
   ],
   "source": [
    "data.dtypes"
   ]
  },
  {
   "cell_type": "markdown",
   "metadata": {},
   "source": [
    "## Dropping variables"
   ]
  },
  {
   "cell_type": "markdown",
   "metadata": {},
   "source": [
    "Dropping variables that are not IV"
   ]
  },
  {
   "cell_type": "code",
   "execution_count": 57,
   "metadata": {
    "ExecuteTime": {
     "end_time": "2024-10-24T01:12:22.504058Z",
     "start_time": "2024-10-24T01:12:22.495829Z"
    }
   },
   "outputs": [],
   "source": [
    "# The url is unnecessary as all the informations about the url are in the followings variables\n",
    "# whois_data is unnecessary as its content is summarized in the other IV variables\n",
    "# domain_age_data is unnecessary has it won't help the model to determine the TV\n",
    "\n",
    "data = data.drop(['url', 'whois_data', 'domain_age_days'], axis=1) # axis=1 necessary ?\n"
   ]
  },
  {
   "cell_type": "markdown",
   "metadata": {},
   "source": [
    "Dropping datas totally definning the model"
   ]
  },
  {
   "cell_type": "code",
   "execution_count": 58,
   "metadata": {
    "ExecuteTime": {
     "end_time": "2024-10-24T01:12:22.513023Z",
     "start_time": "2024-10-24T01:12:22.506071Z"
    }
   },
   "outputs": [],
   "source": [
    "# The source colums determines whether the url is legitimate or not\n",
    "data = data.drop('source', axis=1)\n"
   ]
  },
  {
   "cell_type": "code",
   "execution_count": 59,
   "metadata": {
    "ExecuteTime": {
     "end_time": "2024-10-24T01:12:22.547905Z",
     "start_time": "2024-10-24T01:12:22.542038Z"
    }
   },
   "outputs": [
    {
     "data": {
      "text/plain": [
       "(20000, 14)"
      ]
     },
     "execution_count": 59,
     "metadata": {},
     "output_type": "execute_result"
    }
   ],
   "source": [
    "data.shape\n",
    "# loss of 4 col"
   ]
  },
  {
   "cell_type": "markdown",
   "metadata": {},
   "source": [
    "## Understanding clean dataset"
   ]
  },
  {
   "cell_type": "code",
   "execution_count": 60,
   "metadata": {
    "ExecuteTime": {
     "end_time": "2024-10-24T01:12:22.661730Z",
     "start_time": "2024-10-24T01:12:22.652989Z"
    }
   },
   "outputs": [
    {
     "data": {
      "text/plain": [
       "label                 0\n",
       "url_length            0\n",
       "starts_with_ip        0\n",
       "url_entropy           0\n",
       "has_punycode          0\n",
       "digit_letter_ratio    0\n",
       "dot_count             0\n",
       "at_count              0\n",
       "dash_count            0\n",
       "tld_count             0\n",
       "domain_has_digits     0\n",
       "subdomain_count       0\n",
       "nan_char_entropy      0\n",
       "has_internal_links    0\n",
       "dtype: int64"
      ]
     },
     "execution_count": 60,
     "metadata": {},
     "output_type": "execute_result"
    }
   ],
   "source": [
    "data.isnull().sum()"
   ]
  },
  {
   "cell_type": "code",
   "execution_count": 61,
   "metadata": {
    "ExecuteTime": {
     "end_time": "2024-10-24T01:12:22.776217Z",
     "start_time": "2024-10-24T01:12:22.770321Z"
    }
   },
   "outputs": [
    {
     "data": {
      "text/plain": [
       "label                  object\n",
       "url_length              int64\n",
       "starts_with_ip           bool\n",
       "url_entropy           float64\n",
       "has_punycode             bool\n",
       "digit_letter_ratio    float64\n",
       "dot_count               int64\n",
       "at_count                int64\n",
       "dash_count              int64\n",
       "tld_count               int64\n",
       "domain_has_digits        bool\n",
       "subdomain_count         int64\n",
       "nan_char_entropy      float64\n",
       "has_internal_links       bool\n",
       "dtype: object"
      ]
     },
     "execution_count": 61,
     "metadata": {},
     "output_type": "execute_result"
    }
   ],
   "source": [
    "data.dtypes"
   ]
  },
  {
   "cell_type": "code",
   "execution_count": 62,
   "metadata": {
    "ExecuteTime": {
     "end_time": "2024-10-24T01:12:22.968559Z",
     "start_time": "2024-10-24T01:12:22.937653Z"
    }
   },
   "outputs": [
    {
     "data": {
      "text/html": [
       "<div>\n",
       "<style scoped>\n",
       "    .dataframe tbody tr th:only-of-type {\n",
       "        vertical-align: middle;\n",
       "    }\n",
       "\n",
       "    .dataframe tbody tr th {\n",
       "        vertical-align: top;\n",
       "    }\n",
       "\n",
       "    .dataframe thead th {\n",
       "        text-align: right;\n",
       "    }\n",
       "</style>\n",
       "<table border=\"1\" class=\"dataframe\">\n",
       "  <thead>\n",
       "    <tr style=\"text-align: right;\">\n",
       "      <th></th>\n",
       "      <th>url_length</th>\n",
       "      <th>url_entropy</th>\n",
       "      <th>digit_letter_ratio</th>\n",
       "      <th>dot_count</th>\n",
       "      <th>at_count</th>\n",
       "      <th>dash_count</th>\n",
       "      <th>tld_count</th>\n",
       "      <th>subdomain_count</th>\n",
       "      <th>nan_char_entropy</th>\n",
       "    </tr>\n",
       "  </thead>\n",
       "  <tbody>\n",
       "    <tr>\n",
       "      <th>count</th>\n",
       "      <td>20000.000000</td>\n",
       "      <td>20000.000000</td>\n",
       "      <td>20000.000000</td>\n",
       "      <td>20000.000000</td>\n",
       "      <td>20000.000000</td>\n",
       "      <td>20000.000000</td>\n",
       "      <td>20000.000000</td>\n",
       "      <td>20000.000000</td>\n",
       "      <td>20000.000000</td>\n",
       "    </tr>\n",
       "    <tr>\n",
       "      <th>mean</th>\n",
       "      <td>45.932750</td>\n",
       "      <td>3.910687</td>\n",
       "      <td>0.114772</td>\n",
       "      <td>2.199600</td>\n",
       "      <td>0.011850</td>\n",
       "      <td>0.750250</td>\n",
       "      <td>0.038200</td>\n",
       "      <td>0.782000</td>\n",
       "      <td>0.465099</td>\n",
       "    </tr>\n",
       "    <tr>\n",
       "      <th>std</th>\n",
       "      <td>66.937924</td>\n",
       "      <td>0.636484</td>\n",
       "      <td>0.243596</td>\n",
       "      <td>2.223602</td>\n",
       "      <td>0.167066</td>\n",
       "      <td>1.707138</td>\n",
       "      <td>0.346333</td>\n",
       "      <td>1.078904</td>\n",
       "      <td>0.187741</td>\n",
       "    </tr>\n",
       "    <tr>\n",
       "      <th>min</th>\n",
       "      <td>5.000000</td>\n",
       "      <td>1.657743</td>\n",
       "      <td>0.000000</td>\n",
       "      <td>1.000000</td>\n",
       "      <td>0.000000</td>\n",
       "      <td>0.000000</td>\n",
       "      <td>0.000000</td>\n",
       "      <td>0.000000</td>\n",
       "      <td>0.071456</td>\n",
       "    </tr>\n",
       "    <tr>\n",
       "      <th>25%</th>\n",
       "      <td>17.000000</td>\n",
       "      <td>3.452820</td>\n",
       "      <td>0.000000</td>\n",
       "      <td>1.000000</td>\n",
       "      <td>0.000000</td>\n",
       "      <td>0.000000</td>\n",
       "      <td>0.000000</td>\n",
       "      <td>0.000000</td>\n",
       "      <td>0.306397</td>\n",
       "    </tr>\n",
       "    <tr>\n",
       "      <th>50%</th>\n",
       "      <td>29.000000</td>\n",
       "      <td>3.915870</td>\n",
       "      <td>0.000000</td>\n",
       "      <td>2.000000</td>\n",
       "      <td>0.000000</td>\n",
       "      <td>0.000000</td>\n",
       "      <td>0.000000</td>\n",
       "      <td>1.000000</td>\n",
       "      <td>0.415452</td>\n",
       "    </tr>\n",
       "    <tr>\n",
       "      <th>75%</th>\n",
       "      <td>52.000000</td>\n",
       "      <td>4.329118</td>\n",
       "      <td>0.130011</td>\n",
       "      <td>3.000000</td>\n",
       "      <td>0.000000</td>\n",
       "      <td>1.000000</td>\n",
       "      <td>0.000000</td>\n",
       "      <td>1.000000</td>\n",
       "      <td>0.618162</td>\n",
       "    </tr>\n",
       "    <tr>\n",
       "      <th>max</th>\n",
       "      <td>2631.000000</td>\n",
       "      <td>5.963848</td>\n",
       "      <td>5.500000</td>\n",
       "      <td>148.000000</td>\n",
       "      <td>16.000000</td>\n",
       "      <td>113.000000</td>\n",
       "      <td>15.000000</td>\n",
       "      <td>27.000000</td>\n",
       "      <td>1.429613</td>\n",
       "    </tr>\n",
       "  </tbody>\n",
       "</table>\n",
       "</div>"
      ],
      "text/plain": [
       "         url_length   url_entropy  digit_letter_ratio     dot_count  \\\n",
       "count  20000.000000  20000.000000        20000.000000  20000.000000   \n",
       "mean      45.932750      3.910687            0.114772      2.199600   \n",
       "std       66.937924      0.636484            0.243596      2.223602   \n",
       "min        5.000000      1.657743            0.000000      1.000000   \n",
       "25%       17.000000      3.452820            0.000000      1.000000   \n",
       "50%       29.000000      3.915870            0.000000      2.000000   \n",
       "75%       52.000000      4.329118            0.130011      3.000000   \n",
       "max     2631.000000      5.963848            5.500000    148.000000   \n",
       "\n",
       "           at_count    dash_count     tld_count  subdomain_count  \\\n",
       "count  20000.000000  20000.000000  20000.000000     20000.000000   \n",
       "mean       0.011850      0.750250      0.038200         0.782000   \n",
       "std        0.167066      1.707138      0.346333         1.078904   \n",
       "min        0.000000      0.000000      0.000000         0.000000   \n",
       "25%        0.000000      0.000000      0.000000         0.000000   \n",
       "50%        0.000000      0.000000      0.000000         1.000000   \n",
       "75%        0.000000      1.000000      0.000000         1.000000   \n",
       "max       16.000000    113.000000     15.000000        27.000000   \n",
       "\n",
       "       nan_char_entropy  \n",
       "count      20000.000000  \n",
       "mean           0.465099  \n",
       "std            0.187741  \n",
       "min            0.071456  \n",
       "25%            0.306397  \n",
       "50%            0.415452  \n",
       "75%            0.618162  \n",
       "max            1.429613  "
      ]
     },
     "execution_count": 62,
     "metadata": {},
     "output_type": "execute_result"
    }
   ],
   "source": [
    "data.describe()"
   ]
  },
  {
   "cell_type": "markdown",
   "metadata": {},
   "source": [
    "We see that the variable 'url_length' is probably neither standardized nor normalized. Below is therefore the distribution of the values."
   ]
  },
  {
   "cell_type": "code",
   "execution_count": 63,
   "metadata": {
    "ExecuteTime": {
     "end_time": "2024-10-24T01:12:23.785610Z",
     "start_time": "2024-10-24T01:12:23.006694Z"
    }
   },
   "outputs": [
    {
     "data": {
      "text/plain": [
       "[]"
      ]
     },
     "execution_count": 63,
     "metadata": {},
     "output_type": "execute_result"
    },
    {
     "data": {
      "image/png": "[encoded data removed]",
      "text/plain": [
       "<Figure size 640x480 with 1 Axes>"
      ]
     },
     "metadata": {},
     "output_type": "display_data"
    }
   ],
   "source": [
    "# See distribution of 'url length'\n",
    "\n",
    "plt.hist(data['url_length'], bins=500)\n",
    "plt.xlim(0, 500) #optional\n",
    "plt.plot()"
   ]
  },
  {
   "cell_type": "markdown",
   "metadata": {},
   "source": [
    "Indeed, the distribution of the variable 'url_lenght' does folow a Gaussian. A standardization can be performed."
   ]
  },
  {
   "cell_type": "markdown",
   "metadata": {},
   "source": [
    "## Standardization & Normalization"
   ]
  },
  {
   "cell_type": "code",
   "execution_count": 64,
   "metadata": {},
   "outputs": [
    {
     "data": {
      "text/html": [
       "<div>\n",
       "<style scoped>\n",
       "    .dataframe tbody tr th:only-of-type {\n",
       "        vertical-align: middle;\n",
       "    }\n",
       "\n",
       "    .dataframe tbody tr th {\n",
       "        vertical-align: top;\n",
       "    }\n",
       "\n",
       "    .dataframe thead th {\n",
       "        text-align: right;\n",
       "    }\n",
       "</style>\n",
       "<table border=\"1\" class=\"dataframe\">\n",
       "  <thead>\n",
       "    <tr style=\"text-align: right;\">\n",
       "      <th></th>\n",
       "      <th>url_length</th>\n",
       "      <th>url_entropy</th>\n",
       "      <th>digit_letter_ratio</th>\n",
       "      <th>dot_count</th>\n",
       "      <th>at_count</th>\n",
       "      <th>dash_count</th>\n",
       "      <th>tld_count</th>\n",
       "      <th>subdomain_count</th>\n",
       "      <th>nan_char_entropy</th>\n",
       "    </tr>\n",
       "  </thead>\n",
       "  <tbody>\n",
       "    <tr>\n",
       "      <th>count</th>\n",
       "      <td>2.000000e+04</td>\n",
       "      <td>20000.000000</td>\n",
       "      <td>20000.000000</td>\n",
       "      <td>2.000000e+04</td>\n",
       "      <td>20000.000000</td>\n",
       "      <td>2.000000e+04</td>\n",
       "      <td>20000.000000</td>\n",
       "      <td>20000.000000</td>\n",
       "      <td>20000.000000</td>\n",
       "    </tr>\n",
       "    <tr>\n",
       "      <th>mean</th>\n",
       "      <td>4.547474e-17</td>\n",
       "      <td>3.910687</td>\n",
       "      <td>0.114772</td>\n",
       "      <td>-8.526513e-17</td>\n",
       "      <td>0.011850</td>\n",
       "      <td>1.136868e-17</td>\n",
       "      <td>0.038200</td>\n",
       "      <td>0.782000</td>\n",
       "      <td>0.465099</td>\n",
       "    </tr>\n",
       "    <tr>\n",
       "      <th>std</th>\n",
       "      <td>1.000025e+00</td>\n",
       "      <td>0.636484</td>\n",
       "      <td>0.243596</td>\n",
       "      <td>1.000025e+00</td>\n",
       "      <td>0.167066</td>\n",
       "      <td>1.000025e+00</td>\n",
       "      <td>0.346333</td>\n",
       "      <td>1.078904</td>\n",
       "      <td>0.187741</td>\n",
       "    </tr>\n",
       "    <tr>\n",
       "      <th>min</th>\n",
       "      <td>-6.115184e-01</td>\n",
       "      <td>1.657743</td>\n",
       "      <td>0.000000</td>\n",
       "      <td>-5.394985e-01</td>\n",
       "      <td>0.000000</td>\n",
       "      <td>-4.394892e-01</td>\n",
       "      <td>0.000000</td>\n",
       "      <td>0.000000</td>\n",
       "      <td>0.071456</td>\n",
       "    </tr>\n",
       "    <tr>\n",
       "      <th>25%</th>\n",
       "      <td>-4.322434e-01</td>\n",
       "      <td>3.452820</td>\n",
       "      <td>0.000000</td>\n",
       "      <td>-5.394985e-01</td>\n",
       "      <td>0.000000</td>\n",
       "      <td>-4.394892e-01</td>\n",
       "      <td>0.000000</td>\n",
       "      <td>0.000000</td>\n",
       "      <td>0.306397</td>\n",
       "    </tr>\n",
       "    <tr>\n",
       "      <th>50%</th>\n",
       "      <td>-2.529683e-01</td>\n",
       "      <td>3.915870</td>\n",
       "      <td>0.000000</td>\n",
       "      <td>-8.976650e-02</td>\n",
       "      <td>0.000000</td>\n",
       "      <td>-4.394892e-01</td>\n",
       "      <td>0.000000</td>\n",
       "      <td>1.000000</td>\n",
       "      <td>0.415452</td>\n",
       "    </tr>\n",
       "    <tr>\n",
       "      <th>75%</th>\n",
       "      <td>9.064221e-02</td>\n",
       "      <td>4.329118</td>\n",
       "      <td>0.130011</td>\n",
       "      <td>3.599655e-01</td>\n",
       "      <td>0.000000</td>\n",
       "      <td>1.463011e-01</td>\n",
       "      <td>0.000000</td>\n",
       "      <td>1.000000</td>\n",
       "      <td>0.618162</td>\n",
       "    </tr>\n",
       "    <tr>\n",
       "      <th>max</th>\n",
       "      <td>3.861984e+01</td>\n",
       "      <td>5.963848</td>\n",
       "      <td>5.500000</td>\n",
       "      <td>6.557110e+01</td>\n",
       "      <td>16.000000</td>\n",
       "      <td>6.575482e+01</td>\n",
       "      <td>15.000000</td>\n",
       "      <td>27.000000</td>\n",
       "      <td>1.429613</td>\n",
       "    </tr>\n",
       "  </tbody>\n",
       "</table>\n",
       "</div>"
      ],
      "text/plain": [
       "         url_length   url_entropy  digit_letter_ratio     dot_count  \\\n",
       "count  2.000000e+04  20000.000000        20000.000000  2.000000e+04   \n",
       "mean   4.547474e-17      3.910687            0.114772 -8.526513e-17   \n",
       "std    1.000025e+00      0.636484            0.243596  1.000025e+00   \n",
       "min   -6.115184e-01      1.657743            0.000000 -5.394985e-01   \n",
       "25%   -4.322434e-01      3.452820            0.000000 -5.394985e-01   \n",
       "50%   -2.529683e-01      3.915870            0.000000 -8.976650e-02   \n",
       "75%    9.064221e-02      4.329118            0.130011  3.599655e-01   \n",
       "max    3.861984e+01      5.963848            5.500000  6.557110e+01   \n",
       "\n",
       "           at_count    dash_count     tld_count  subdomain_count  \\\n",
       "count  20000.000000  2.000000e+04  20000.000000     20000.000000   \n",
       "mean       0.011850  1.136868e-17      0.038200         0.782000   \n",
       "std        0.167066  1.000025e+00      0.346333         1.078904   \n",
       "min        0.000000 -4.394892e-01      0.000000         0.000000   \n",
       "25%        0.000000 -4.394892e-01      0.000000         0.000000   \n",
       "50%        0.000000 -4.394892e-01      0.000000         1.000000   \n",
       "75%        0.000000  1.463011e-01      0.000000         1.000000   \n",
       "max       16.000000  6.575482e+01     15.000000        27.000000   \n",
       "\n",
       "       nan_char_entropy  \n",
       "count      20000.000000  \n",
       "mean           0.465099  \n",
       "std            0.187741  \n",
       "min            0.071456  \n",
       "25%            0.306397  \n",
       "50%            0.415452  \n",
       "75%            0.618162  \n",
       "max            1.429613  "
      ]
     },
     "execution_count": 64,
     "metadata": {},
     "output_type": "execute_result"
    }
   ],
   "source": [
    "# Standardization of the url_lenght\n",
    "from sklearn.preprocessing import StandardScaler\n",
    "\n",
    "#temp = preprocessing.normalize([data['url_length']])\n",
    "data['url_length'] = StandardScaler().fit_transform(data[['url_length']])\n",
    "data['dot_count'] = StandardScaler().fit_transform(data[['dot_count']])\n",
    "data['dash_count'] = StandardScaler().fit_transform(data[['dash_count']])\n",
    "\n",
    "\n",
    "data.describe()"
   ]
  },
  {
   "cell_type": "markdown",
   "metadata": {},
   "source": [
    "## Class Balancing\n",
    "Our TV is labal. This data set is already balanced. It is a binary dataset."
   ]
  },
  {
   "cell_type": "code",
   "execution_count": 65,
   "metadata": {
    "ExecuteTime": {
     "end_time": "2024-10-24T01:12:23.797121Z",
     "start_time": "2024-10-24T01:12:23.787621Z"
    }
   },
   "outputs": [
    {
     "data": {
      "text/plain": [
       "np.int64(0)"
      ]
     },
     "execution_count": 65,
     "metadata": {},
     "output_type": "execute_result"
    }
   ],
   "source": [
    "data['label'].isnull().sum()"
   ]
  },
  {
   "cell_type": "code",
   "execution_count": 66,
   "metadata": {
    "ExecuteTime": {
     "end_time": "2024-10-24T01:12:23.972441Z",
     "start_time": "2024-10-24T01:12:23.798670Z"
    }
   },
   "outputs": [
    {
     "data": {
      "text/plain": [
       "label\n",
       "phishing      10000\n",
       "legitimate    10000\n",
       "Name: count, dtype: int64"
      ]
     },
     "execution_count": 66,
     "metadata": {},
     "output_type": "execute_result"
    },
    {
     "data": {
      "image/png": "[encoded data removed]",
      "text/plain": [
       "<Figure size 640x480 with 1 Axes>"
      ]
     },
     "metadata": {},
     "output_type": "display_data"
    }
   ],
   "source": [
    "plt.hist(data['label'], density=False, bins= 3 )\n",
    "data['label'].value_counts()\n",
    "\n",
    "# add colors ???"
   ]
  },
  {
   "cell_type": "markdown",
   "metadata": {},
   "source": [
    "## Label Encoding / Factorizing"
   ]
  },
  {
   "cell_type": "code",
   "execution_count": 67,
   "metadata": {
    "ExecuteTime": {
     "end_time": "2024-10-24T01:12:23.979734Z",
     "start_time": "2024-10-24T01:12:23.974606Z"
    }
   },
   "outputs": [],
   "source": [
    "# WHY DONT WE USE GETDUMMIES ???\n",
    "# OR OneHotEncoder from SKLEARN"
   ]
  },
  {
   "cell_type": "code",
   "execution_count": 68,
   "metadata": {
    "ExecuteTime": {
     "end_time": "2024-10-24T01:12:24.014961Z",
     "start_time": "2024-10-24T01:12:23.981373Z"
    }
   },
   "outputs": [
    {
     "data": {
      "text/html": [
       "<div>\n",
       "<style scoped>\n",
       "    .dataframe tbody tr th:only-of-type {\n",
       "        vertical-align: middle;\n",
       "    }\n",
       "\n",
       "    .dataframe tbody tr th {\n",
       "        vertical-align: top;\n",
       "    }\n",
       "\n",
       "    .dataframe thead th {\n",
       "        text-align: right;\n",
       "    }\n",
       "</style>\n",
       "<table border=\"1\" class=\"dataframe\">\n",
       "  <thead>\n",
       "    <tr style=\"text-align: right;\">\n",
       "      <th></th>\n",
       "      <th>label</th>\n",
       "      <th>url_length</th>\n",
       "      <th>starts_with_ip</th>\n",
       "      <th>url_entropy</th>\n",
       "      <th>has_punycode</th>\n",
       "      <th>digit_letter_ratio</th>\n",
       "      <th>dot_count</th>\n",
       "      <th>at_count</th>\n",
       "      <th>dash_count</th>\n",
       "      <th>tld_count</th>\n",
       "      <th>domain_has_digits</th>\n",
       "      <th>subdomain_count</th>\n",
       "      <th>nan_char_entropy</th>\n",
       "      <th>has_internal_links</th>\n",
       "    </tr>\n",
       "  </thead>\n",
       "  <tbody>\n",
       "    <tr>\n",
       "      <th>0</th>\n",
       "      <td>0</td>\n",
       "      <td>0.240038</td>\n",
       "      <td>False</td>\n",
       "      <td>4.203093</td>\n",
       "      <td>False</td>\n",
       "      <td>0.039216</td>\n",
       "      <td>0.809697</td>\n",
       "      <td>0</td>\n",
       "      <td>-0.439489</td>\n",
       "      <td>0</td>\n",
       "      <td>False</td>\n",
       "      <td>2</td>\n",
       "      <td>0.606254</td>\n",
       "      <td>False</td>\n",
       "    </tr>\n",
       "    <tr>\n",
       "      <th>1</th>\n",
       "      <td>0</td>\n",
       "      <td>0.494011</td>\n",
       "      <td>False</td>\n",
       "      <td>4.747960</td>\n",
       "      <td>False</td>\n",
       "      <td>0.634146</td>\n",
       "      <td>0.359965</td>\n",
       "      <td>0</td>\n",
       "      <td>2.489462</td>\n",
       "      <td>0</td>\n",
       "      <td>False</td>\n",
       "      <td>2</td>\n",
       "      <td>0.438186</td>\n",
       "      <td>False</td>\n",
       "    </tr>\n",
       "    <tr>\n",
       "      <th>2</th>\n",
       "      <td>0</td>\n",
       "      <td>0.240038</td>\n",
       "      <td>False</td>\n",
       "      <td>4.453623</td>\n",
       "      <td>False</td>\n",
       "      <td>0.040000</td>\n",
       "      <td>0.809697</td>\n",
       "      <td>0</td>\n",
       "      <td>0.146301</td>\n",
       "      <td>1</td>\n",
       "      <td>False</td>\n",
       "      <td>1</td>\n",
       "      <td>0.606254</td>\n",
       "      <td>True</td>\n",
       "    </tr>\n",
       "    <tr>\n",
       "      <th>3</th>\n",
       "      <td>0</td>\n",
       "      <td>-0.327666</td>\n",
       "      <td>False</td>\n",
       "      <td>3.970176</td>\n",
       "      <td>False</td>\n",
       "      <td>0.000000</td>\n",
       "      <td>-0.539498</td>\n",
       "      <td>0</td>\n",
       "      <td>-0.439489</td>\n",
       "      <td>0</td>\n",
       "      <td>False</td>\n",
       "      <td>0</td>\n",
       "      <td>0.680827</td>\n",
       "      <td>False</td>\n",
       "    </tr>\n",
       "    <tr>\n",
       "      <th>4</th>\n",
       "      <td>0</td>\n",
       "      <td>0.344615</td>\n",
       "      <td>False</td>\n",
       "      <td>4.548398</td>\n",
       "      <td>False</td>\n",
       "      <td>0.441860</td>\n",
       "      <td>-0.089766</td>\n",
       "      <td>0</td>\n",
       "      <td>-0.439489</td>\n",
       "      <td>0</td>\n",
       "      <td>True</td>\n",
       "      <td>1</td>\n",
       "      <td>0.474778</td>\n",
       "      <td>False</td>\n",
       "    </tr>\n",
       "    <tr>\n",
       "      <th>...</th>\n",
       "      <td>...</td>\n",
       "      <td>...</td>\n",
       "      <td>...</td>\n",
       "      <td>...</td>\n",
       "      <td>...</td>\n",
       "      <td>...</td>\n",
       "      <td>...</td>\n",
       "      <td>...</td>\n",
       "      <td>...</td>\n",
       "      <td>...</td>\n",
       "      <td>...</td>\n",
       "      <td>...</td>\n",
       "      <td>...</td>\n",
       "      <td>...</td>\n",
       "    </tr>\n",
       "    <tr>\n",
       "      <th>19995</th>\n",
       "      <td>1</td>\n",
       "      <td>-0.506941</td>\n",
       "      <td>False</td>\n",
       "      <td>3.251629</td>\n",
       "      <td>False</td>\n",
       "      <td>0.000000</td>\n",
       "      <td>-0.539498</td>\n",
       "      <td>0</td>\n",
       "      <td>-0.439489</td>\n",
       "      <td>0</td>\n",
       "      <td>False</td>\n",
       "      <td>0</td>\n",
       "      <td>0.298747</td>\n",
       "      <td>False</td>\n",
       "    </tr>\n",
       "    <tr>\n",
       "      <th>19996</th>\n",
       "      <td>1</td>\n",
       "      <td>-0.506941</td>\n",
       "      <td>False</td>\n",
       "      <td>3.418296</td>\n",
       "      <td>False</td>\n",
       "      <td>0.000000</td>\n",
       "      <td>-0.089766</td>\n",
       "      <td>0</td>\n",
       "      <td>-0.439489</td>\n",
       "      <td>0</td>\n",
       "      <td>False</td>\n",
       "      <td>0</td>\n",
       "      <td>0.430827</td>\n",
       "      <td>False</td>\n",
       "    </tr>\n",
       "    <tr>\n",
       "      <th>19997</th>\n",
       "      <td>1</td>\n",
       "      <td>-0.551760</td>\n",
       "      <td>False</td>\n",
       "      <td>2.947703</td>\n",
       "      <td>False</td>\n",
       "      <td>0.000000</td>\n",
       "      <td>-0.539498</td>\n",
       "      <td>0</td>\n",
       "      <td>-0.439489</td>\n",
       "      <td>0</td>\n",
       "      <td>False</td>\n",
       "      <td>0</td>\n",
       "      <td>0.352214</td>\n",
       "      <td>False</td>\n",
       "    </tr>\n",
       "    <tr>\n",
       "      <th>19998</th>\n",
       "      <td>1</td>\n",
       "      <td>-0.252968</td>\n",
       "      <td>False</td>\n",
       "      <td>3.974890</td>\n",
       "      <td>False</td>\n",
       "      <td>0.181818</td>\n",
       "      <td>-0.089766</td>\n",
       "      <td>0</td>\n",
       "      <td>0.146301</td>\n",
       "      <td>0</td>\n",
       "      <td>False</td>\n",
       "      <td>1</td>\n",
       "      <td>0.266068</td>\n",
       "      <td>False</td>\n",
       "    </tr>\n",
       "    <tr>\n",
       "      <th>19999</th>\n",
       "      <td>1</td>\n",
       "      <td>-0.357545</td>\n",
       "      <td>False</td>\n",
       "      <td>3.663533</td>\n",
       "      <td>False</td>\n",
       "      <td>0.000000</td>\n",
       "      <td>0.359965</td>\n",
       "      <td>0</td>\n",
       "      <td>-0.439489</td>\n",
       "      <td>0</td>\n",
       "      <td>False</td>\n",
       "      <td>1</td>\n",
       "      <td>0.391973</td>\n",
       "      <td>False</td>\n",
       "    </tr>\n",
       "  </tbody>\n",
       "</table>\n",
       "<p>20000 rows × 14 columns</p>\n",
       "</div>"
      ],
      "text/plain": [
       "       label  url_length  starts_with_ip  url_entropy  has_punycode  \\\n",
       "0          0    0.240038           False     4.203093         False   \n",
       "1          0    0.494011           False     4.747960         False   \n",
       "2          0    0.240038           False     4.453623         False   \n",
       "3          0   -0.327666           False     3.970176         False   \n",
       "4          0    0.344615           False     4.548398         False   \n",
       "...      ...         ...             ...          ...           ...   \n",
       "19995      1   -0.506941           False     3.251629         False   \n",
       "19996      1   -0.506941           False     3.418296         False   \n",
       "19997      1   -0.551760           False     2.947703         False   \n",
       "19998      1   -0.252968           False     3.974890         False   \n",
       "19999      1   -0.357545           False     3.663533         False   \n",
       "\n",
       "       digit_letter_ratio  dot_count  at_count  dash_count  tld_count  \\\n",
       "0                0.039216   0.809697         0   -0.439489          0   \n",
       "1                0.634146   0.359965         0    2.489462          0   \n",
       "2                0.040000   0.809697         0    0.146301          1   \n",
       "3                0.000000  -0.539498         0   -0.439489          0   \n",
       "4                0.441860  -0.089766         0   -0.439489          0   \n",
       "...                   ...        ...       ...         ...        ...   \n",
       "19995            0.000000  -0.539498         0   -0.439489          0   \n",
       "19996            0.000000  -0.089766         0   -0.439489          0   \n",
       "19997            0.000000  -0.539498         0   -0.439489          0   \n",
       "19998            0.181818  -0.089766         0    0.146301          0   \n",
       "19999            0.000000   0.359965         0   -0.439489          0   \n",
       "\n",
       "       domain_has_digits  subdomain_count  nan_char_entropy  \\\n",
       "0                  False                2          0.606254   \n",
       "1                  False                2          0.438186   \n",
       "2                  False                1          0.606254   \n",
       "3                  False                0          0.680827   \n",
       "4                   True                1          0.474778   \n",
       "...                  ...              ...               ...   \n",
       "19995              False                0          0.298747   \n",
       "19996              False                0          0.430827   \n",
       "19997              False                0          0.352214   \n",
       "19998              False                1          0.266068   \n",
       "19999              False                1          0.391973   \n",
       "\n",
       "       has_internal_links  \n",
       "0                   False  \n",
       "1                   False  \n",
       "2                    True  \n",
       "3                   False  \n",
       "4                   False  \n",
       "...                   ...  \n",
       "19995               False  \n",
       "19996               False  \n",
       "19997               False  \n",
       "19998               False  \n",
       "19999               False  \n",
       "\n",
       "[20000 rows x 14 columns]"
      ]
     },
     "execution_count": 68,
     "metadata": {},
     "output_type": "execute_result"
    }
   ],
   "source": [
    "# 0 is for legitimate url, 1 for phishing websites\n",
    "data['label'] = pd.factorize(data['label'])[0] #what is the use of [0]??\n",
    "\n",
    "data"
   ]
  },
  {
   "cell_type": "markdown",
   "metadata": {},
   "source": [
    "## Assign IV and TV"
   ]
  },
  {
   "cell_type": "code",
   "execution_count": 69,
   "metadata": {
    "ExecuteTime": {
     "end_time": "2024-10-24T01:12:24.022452Z",
     "start_time": "2024-10-24T01:12:24.016486Z"
    }
   },
   "outputs": [],
   "source": [
    "X = data.drop('label', axis = 1) #IV\n",
    "Y = data['label'] #TV"
   ]
  },
  {
   "cell_type": "markdown",
   "metadata": {},
   "source": [
    "## Data Split / Model Building"
   ]
  },
  {
   "cell_type": "code",
   "execution_count": 70,
   "metadata": {
    "ExecuteTime": {
     "end_time": "2024-10-24T01:12:24.034379Z",
     "start_time": "2024-10-24T01:12:24.024366Z"
    }
   },
   "outputs": [],
   "source": [
    "from sklearn.model_selection import train_test_split\n",
    "X_train, X_test, Y_train, Y_test = train_test_split(X, Y, test_size = 0.20, random_state = 1)"
   ]
  },
  {
   "cell_type": "code",
   "execution_count": 71,
   "metadata": {
    "ExecuteTime": {
     "end_time": "2024-10-24T01:12:24.051916Z",
     "start_time": "2024-10-24T01:12:24.035393Z"
    }
   },
   "outputs": [
    {
     "data": {
      "text/html": [
       "<div>\n",
       "<style scoped>\n",
       "    .dataframe tbody tr th:only-of-type {\n",
       "        vertical-align: middle;\n",
       "    }\n",
       "\n",
       "    .dataframe tbody tr th {\n",
       "        vertical-align: top;\n",
       "    }\n",
       "\n",
       "    .dataframe thead th {\n",
       "        text-align: right;\n",
       "    }\n",
       "</style>\n",
       "<table border=\"1\" class=\"dataframe\">\n",
       "  <thead>\n",
       "    <tr style=\"text-align: right;\">\n",
       "      <th></th>\n",
       "      <th>url_length</th>\n",
       "      <th>starts_with_ip</th>\n",
       "      <th>url_entropy</th>\n",
       "      <th>has_punycode</th>\n",
       "      <th>digit_letter_ratio</th>\n",
       "      <th>dot_count</th>\n",
       "      <th>at_count</th>\n",
       "      <th>dash_count</th>\n",
       "      <th>tld_count</th>\n",
       "      <th>domain_has_digits</th>\n",
       "      <th>subdomain_count</th>\n",
       "      <th>nan_char_entropy</th>\n",
       "      <th>has_internal_links</th>\n",
       "    </tr>\n",
       "  </thead>\n",
       "  <tbody>\n",
       "    <tr>\n",
       "      <th>11456</th>\n",
       "      <td>-0.357545</td>\n",
       "      <td>False</td>\n",
       "      <td>3.879664</td>\n",
       "      <td>False</td>\n",
       "      <td>0.0</td>\n",
       "      <td>-0.089766</td>\n",
       "      <td>0</td>\n",
       "      <td>-0.439489</td>\n",
       "      <td>0</td>\n",
       "      <td>False</td>\n",
       "      <td>1</td>\n",
       "      <td>0.314494</td>\n",
       "      <td>False</td>\n",
       "    </tr>\n",
       "    <tr>\n",
       "      <th>16528</th>\n",
       "      <td>-0.536820</td>\n",
       "      <td>False</td>\n",
       "      <td>3.121928</td>\n",
       "      <td>False</td>\n",
       "      <td>0.0</td>\n",
       "      <td>-0.539498</td>\n",
       "      <td>0</td>\n",
       "      <td>-0.439489</td>\n",
       "      <td>0</td>\n",
       "      <td>False</td>\n",
       "      <td>0</td>\n",
       "      <td>0.332193</td>\n",
       "      <td>False</td>\n",
       "    </tr>\n",
       "    <tr>\n",
       "      <th>3253</th>\n",
       "      <td>-0.252968</td>\n",
       "      <td>False</td>\n",
       "      <td>4.349192</td>\n",
       "      <td>False</td>\n",
       "      <td>0.0</td>\n",
       "      <td>-0.539498</td>\n",
       "      <td>0</td>\n",
       "      <td>0.146301</td>\n",
       "      <td>0</td>\n",
       "      <td>False</td>\n",
       "      <td>0</td>\n",
       "      <td>0.601101</td>\n",
       "      <td>False</td>\n",
       "    </tr>\n",
       "    <tr>\n",
       "      <th>18614</th>\n",
       "      <td>-0.551760</td>\n",
       "      <td>False</td>\n",
       "      <td>2.947703</td>\n",
       "      <td>False</td>\n",
       "      <td>0.0</td>\n",
       "      <td>-0.539498</td>\n",
       "      <td>0</td>\n",
       "      <td>-0.439489</td>\n",
       "      <td>0</td>\n",
       "      <td>False</td>\n",
       "      <td>0</td>\n",
       "      <td>0.352214</td>\n",
       "      <td>False</td>\n",
       "    </tr>\n",
       "    <tr>\n",
       "      <th>1544</th>\n",
       "      <td>-0.342606</td>\n",
       "      <td>False</td>\n",
       "      <td>3.414441</td>\n",
       "      <td>False</td>\n",
       "      <td>0.0</td>\n",
       "      <td>-0.539498</td>\n",
       "      <td>0</td>\n",
       "      <td>-0.439489</td>\n",
       "      <td>0</td>\n",
       "      <td>False</td>\n",
       "      <td>0</td>\n",
       "      <td>0.699750</td>\n",
       "      <td>False</td>\n",
       "    </tr>\n",
       "  </tbody>\n",
       "</table>\n",
       "</div>"
      ],
      "text/plain": [
       "       url_length  starts_with_ip  url_entropy  has_punycode  \\\n",
       "11456   -0.357545           False     3.879664         False   \n",
       "16528   -0.536820           False     3.121928         False   \n",
       "3253    -0.252968           False     4.349192         False   \n",
       "18614   -0.551760           False     2.947703         False   \n",
       "1544    -0.342606           False     3.414441         False   \n",
       "\n",
       "       digit_letter_ratio  dot_count  at_count  dash_count  tld_count  \\\n",
       "11456                 0.0  -0.089766         0   -0.439489          0   \n",
       "16528                 0.0  -0.539498         0   -0.439489          0   \n",
       "3253                  0.0  -0.539498         0    0.146301          0   \n",
       "18614                 0.0  -0.539498         0   -0.439489          0   \n",
       "1544                  0.0  -0.539498         0   -0.439489          0   \n",
       "\n",
       "       domain_has_digits  subdomain_count  nan_char_entropy  \\\n",
       "11456              False                1          0.314494   \n",
       "16528              False                0          0.332193   \n",
       "3253               False                0          0.601101   \n",
       "18614              False                0          0.352214   \n",
       "1544               False                0          0.699750   \n",
       "\n",
       "       has_internal_links  \n",
       "11456               False  \n",
       "16528               False  \n",
       "3253                False  \n",
       "18614               False  \n",
       "1544                False  "
      ]
     },
     "execution_count": 71,
     "metadata": {},
     "output_type": "execute_result"
    }
   ],
   "source": [
    "X_test.head(5)\n",
    "# or X_train[0:5]"
   ]
  },
  {
   "cell_type": "code",
   "execution_count": 72,
   "metadata": {
    "ExecuteTime": {
     "end_time": "2024-10-24T01:12:24.063642Z",
     "start_time": "2024-10-24T01:12:24.053002Z"
    }
   },
   "outputs": [
    {
     "data": {
      "text/plain": [
       "label\n",
       "1    8045\n",
       "0    7955\n",
       "Name: count, dtype: int64"
      ]
     },
     "execution_count": 72,
     "metadata": {},
     "output_type": "execute_result"
    }
   ],
   "source": [
    "#Y_test.head()\n",
    "Y_train.value_counts()"
   ]
  },
  {
   "cell_type": "code",
   "execution_count": 73,
   "metadata": {
    "ExecuteTime": {
     "end_time": "2024-10-24T01:12:24.074011Z",
     "start_time": "2024-10-24T01:12:24.066868Z"
    }
   },
   "outputs": [
    {
     "data": {
      "text/plain": [
       "(4000,)"
      ]
     },
     "execution_count": 73,
     "metadata": {},
     "output_type": "execute_result"
    }
   ],
   "source": [
    "Y_test.shape # 0.2 of the data set"
   ]
  },
  {
   "cell_type": "markdown",
   "metadata": {},
   "source": [
    "## KNN"
   ]
  },
  {
   "cell_type": "code",
   "execution_count": 74,
   "metadata": {
    "ExecuteTime": {
     "end_time": "2024-10-24T01:12:24.082483Z",
     "start_time": "2024-10-24T01:12:24.075637Z"
    }
   },
   "outputs": [],
   "source": [
    "import seaborn as sns\n",
    "from sklearn.neighbors import KNeighborsClassifier\n",
    "from sklearn.metrics import classification_report, confusion_matrix, accuracy_score, precision_score, recall_score, f1_score"
   ]
  },
  {
   "cell_type": "code",
   "execution_count": 75,
   "metadata": {
    "ExecuteTime": {
     "end_time": "2024-10-24T01:12:24.261824Z",
     "start_time": "2024-10-24T01:12:24.083497Z"
    }
   },
   "outputs": [
    {
     "name": "stdout",
     "output_type": "stream",
     "text": [
      "KNN - Accuracy: 99.650.\n",
      "\n",
      "Classification Report\n",
      "              precision    recall  f1-score   support\n",
      "\n",
      "           0       0.99      1.00      1.00      2045\n",
      "           1       1.00      0.99      1.00      1955\n",
      "\n",
      "    accuracy                           1.00      4000\n",
      "   macro avg       1.00      1.00      1.00      4000\n",
      "weighted avg       1.00      1.00      1.00      4000\n",
      "\n"
     ]
    }
   ],
   "source": [
    "# ATTANTION CECI EST UN ENORME COPIER COLLER IL SAGIRAI DE COMPRENDRE POUR JUGER CE SCRIPT\n",
    "\n",
    "knn = KNeighborsClassifier()\n",
    "knn.fit(X_train, Y_train)\n",
    "y_pred = knn.predict(X_test)\n",
    "acc = accuracy_score(Y_test, y_pred)*100\n",
    "print(\"KNN - Accuracy: {:.3f}.\".format(acc))\n",
    "print(\"\\nClassification Report\")\n",
    "print(classification_report(Y_test, y_pred))"
   ]
  },
  {
   "cell_type": "markdown",
   "metadata": {},
   "source": [
    "### ANALYSE THE RESULTS : \n",
    "PLEASE DO SO"
   ]
  },
  {
   "cell_type": "markdown",
   "metadata": {},
   "source": [
    "## Confusion Matrix"
   ]
  },
  {
   "cell_type": "code",
   "execution_count": 76,
   "metadata": {
    "ExecuteTime": {
     "end_time": "2024-10-24T01:12:24.271056Z",
     "start_time": "2024-10-24T01:12:24.262838Z"
    }
   },
   "outputs": [
    {
     "name": "stdout",
     "output_type": "stream",
     "text": [
      "[[2042    3]\n",
      " [  11 1944]]\n"
     ]
    }
   ],
   "source": [
    "cm = confusion_matrix(Y_test, y_pred)\n",
    "print(cm)"
   ]
  },
  {
   "cell_type": "code",
   "execution_count": 77,
   "metadata": {
    "ExecuteTime": {
     "end_time": "2024-10-24T01:12:24.494556Z",
     "start_time": "2024-10-24T01:12:24.272604Z"
    }
   },
   "outputs": [
    {
     "data": {
      "text/plain": [
       "Text(0.5, 1.0, 'Confusion Matrix')"
      ]
     },
     "execution_count": 77,
     "metadata": {},
     "output_type": "execute_result"
    },
    {
     "data": {
      "image/png": "[encoded data removed]",
      "text/plain": [
       "<Figure size 300x300 with 2 Axes>"
      ]
     },
     "metadata": {},
     "output_type": "display_data"
    }
   ],
   "source": [
    "plt.figure(figsize=(3,3))\n",
    "sns.heatmap(cm, annot=True, linewidths=.5, square = True, cmap = 'Blues')\n",
    "\n",
    "plt.xticks([0, 1], ['legitimate', 'phishing'])\n",
    "plt.yticks([0, 1], ['legitimate', 'phishing'])\n",
    "\n",
    "plt.xlabel('Predicted label')\n",
    "plt.ylabel('Actual label')\n",
    "\n",
    "\n",
    "\n",
    "plt.title(\"Confusion Matrix\", size = 12)"
   ]
  },
  {
   "cell_type": "markdown",
   "metadata": {
    "collapsed": false
   },
   "source": [
    "### Model building with Tensorflow"
   ]
  },
  {
   "cell_type": "code",
   "execution_count": 78,
   "metadata": {
    "ExecuteTime": {
     "end_time": "2024-10-24T01:12:24.500083Z",
     "start_time": "2024-10-24T01:12:24.495569Z"
    },
    "collapsed": false
   },
   "outputs": [],
   "source": [
    "import tensorflow as tf\n",
    "from tensorflow import keras\n",
    "from keras import Sequential\n",
    "from keras.layers import Dense,Input"
   ]
  },
  {
   "cell_type": "markdown",
   "metadata": {
    "collapsed": false
   },
   "source": [
    "Create model with 1 input layer, 2 hidden layer and 1 output layer"
   ]
  },
  {
   "cell_type": "code",
   "execution_count": 79,
   "metadata": {
    "ExecuteTime": {
     "end_time": "2024-10-24T01:12:24.548531Z",
     "start_time": "2024-10-24T01:12:24.501623Z"
    },
    "collapsed": false
   },
   "outputs": [],
   "source": [
    "model = Sequential()\n",
    "\n",
    "model.add(Input(shape=(X_train.shape[1],))) # input layer\n",
    "model.add(Dense(40,activation='relu')) # hidden layer\n",
    "model.add(Dense(20,activation='relu')) # hidden layer\n",
    "model.add(Dense(1,activation='sigmoid')) # output layer"
   ]
  },
  {
   "cell_type": "code",
   "execution_count": 80,
   "metadata": {
    "ExecuteTime": {
     "end_time": "2024-10-24T01:12:24.566297Z",
     "start_time": "2024-10-24T01:12:24.549543Z"
    },
    "collapsed": false
   },
   "outputs": [
    {
     "data": {
      "text/html": [
       "<pre style=\"white-space:pre;overflow-x:auto;line-height:normal;font-family:Menlo,'DejaVu Sans Mono',consolas,'Courier New',monospace\"><span style=\"font-weight: bold\">Model: \"sequential_1\"</span>\n",
       "</pre>\n"
      ],
      "text/plain": [
       "\u001b[1mModel: \"sequential_1\"\u001b[0m\n"
      ]
     },
     "metadata": {},
     "output_type": "display_data"
    },
    {
     "data": {
      "text/html": [
       "<pre style=\"white-space:pre;overflow-x:auto;line-height:normal;font-family:Menlo,'DejaVu Sans Mono',consolas,'Courier New',monospace\">┏━━━━━━━━━━━━━━━━━━━━━━━━━━━━━━━━━┳━━━━━━━━━━━━━━━━━━━━━━━━┳━━━━━━━━━━━━━━━┓\n",
       "┃<span style=\"font-weight: bold\"> Layer (type)                    </span>┃<span style=\"font-weight: bold\"> Output Shape           </span>┃<span style=\"font-weight: bold\">       Param # </span>┃\n",
       "┡━━━━━━━━━━━━━━━━━━━━━━━━━━━━━━━━━╇━━━━━━━━━━━━━━━━━━━━━━━━╇━━━━━━━━━━━━━━━┩\n",
       "│ dense_3 (<span style=\"color: #0087ff; text-decoration-color: #0087ff\">Dense</span>)                 │ (<span style=\"color: #00d7ff; text-decoration-color: #00d7ff\">None</span>, <span style=\"color: #00af00; text-decoration-color: #00af00\">40</span>)             │           <span style=\"color: #00af00; text-decoration-color: #00af00\">560</span> │\n",
       "├─────────────────────────────────┼────────────────────────┼───────────────┤\n",
       "│ dense_4 (<span style=\"color: #0087ff; text-decoration-color: #0087ff\">Dense</span>)                 │ (<span style=\"color: #00d7ff; text-decoration-color: #00d7ff\">None</span>, <span style=\"color: #00af00; text-decoration-color: #00af00\">20</span>)             │           <span style=\"color: #00af00; text-decoration-color: #00af00\">820</span> │\n",
       "├─────────────────────────────────┼────────────────────────┼───────────────┤\n",
       "│ dense_5 (<span style=\"color: #0087ff; text-decoration-color: #0087ff\">Dense</span>)                 │ (<span style=\"color: #00d7ff; text-decoration-color: #00d7ff\">None</span>, <span style=\"color: #00af00; text-decoration-color: #00af00\">1</span>)              │            <span style=\"color: #00af00; text-decoration-color: #00af00\">21</span> │\n",
       "└─────────────────────────────────┴────────────────────────┴───────────────┘\n",
       "</pre>\n"
      ],
      "text/plain": [
       "┏━━━━━━━━━━━━━━━━━━━━━━━━━━━━━━━━━┳━━━━━━━━━━━━━━━━━━━━━━━━┳━━━━━━━━━━━━━━━┓\n",
       "┃\u001b[1m \u001b[0m\u001b[1mLayer (type)                   \u001b[0m\u001b[1m \u001b[0m┃\u001b[1m \u001b[0m\u001b[1mOutput Shape          \u001b[0m\u001b[1m \u001b[0m┃\u001b[1m \u001b[0m\u001b[1m      Param #\u001b[0m\u001b[1m \u001b[0m┃\n",
       "┡━━━━━━━━━━━━━━━━━━━━━━━━━━━━━━━━━╇━━━━━━━━━━━━━━━━━━━━━━━━╇━━━━━━━━━━━━━━━┩\n",
       "│ dense_3 (\u001b[38;5;33mDense\u001b[0m)                 │ (\u001b[38;5;45mNone\u001b[0m, \u001b[38;5;34m40\u001b[0m)             │           \u001b[38;5;34m560\u001b[0m │\n",
       "├─────────────────────────────────┼────────────────────────┼───────────────┤\n",
       "│ dense_4 (\u001b[38;5;33mDense\u001b[0m)                 │ (\u001b[38;5;45mNone\u001b[0m, \u001b[38;5;34m20\u001b[0m)             │           \u001b[38;5;34m820\u001b[0m │\n",
       "├─────────────────────────────────┼────────────────────────┼───────────────┤\n",
       "│ dense_5 (\u001b[38;5;33mDense\u001b[0m)                 │ (\u001b[38;5;45mNone\u001b[0m, \u001b[38;5;34m1\u001b[0m)              │            \u001b[38;5;34m21\u001b[0m │\n",
       "└─────────────────────────────────┴────────────────────────┴───────────────┘\n"
      ]
     },
     "metadata": {},
     "output_type": "display_data"
    },
    {
     "data": {
      "text/html": [
       "<pre style=\"white-space:pre;overflow-x:auto;line-height:normal;font-family:Menlo,'DejaVu Sans Mono',consolas,'Courier New',monospace\"><span style=\"font-weight: bold\"> Total params: </span><span style=\"color: #00af00; text-decoration-color: #00af00\">1,401</span> (5.47 KB)\n",
       "</pre>\n"
      ],
      "text/plain": [
       "\u001b[1m Total params: \u001b[0m\u001b[38;5;34m1,401\u001b[0m (5.47 KB)\n"
      ]
     },
     "metadata": {},
     "output_type": "display_data"
    },
    {
     "data": {
      "text/html": [
       "<pre style=\"white-space:pre;overflow-x:auto;line-height:normal;font-family:Menlo,'DejaVu Sans Mono',consolas,'Courier New',monospace\"><span style=\"font-weight: bold\"> Trainable params: </span><span style=\"color: #00af00; text-decoration-color: #00af00\">1,401</span> (5.47 KB)\n",
       "</pre>\n"
      ],
      "text/plain": [
       "\u001b[1m Trainable params: \u001b[0m\u001b[38;5;34m1,401\u001b[0m (5.47 KB)\n"
      ]
     },
     "metadata": {},
     "output_type": "display_data"
    },
    {
     "data": {
      "text/html": [
       "<pre style=\"white-space:pre;overflow-x:auto;line-height:normal;font-family:Menlo,'DejaVu Sans Mono',consolas,'Courier New',monospace\"><span style=\"font-weight: bold\"> Non-trainable params: </span><span style=\"color: #00af00; text-decoration-color: #00af00\">0</span> (0.00 B)\n",
       "</pre>\n"
      ],
      "text/plain": [
       "\u001b[1m Non-trainable params: \u001b[0m\u001b[38;5;34m0\u001b[0m (0.00 B)\n"
      ]
     },
     "metadata": {},
     "output_type": "display_data"
    }
   ],
   "source": [
    "model.summary()"
   ]
  },
  {
   "cell_type": "code",
   "execution_count": 81,
   "metadata": {
    "ExecuteTime": {
     "end_time": "2024-10-24T01:12:24.576638Z",
     "start_time": "2024-10-24T01:12:24.568311Z"
    },
    "collapsed": false
   },
   "outputs": [],
   "source": [
    "model.compile(loss='binary_crossentropy',optimizer='Adam',metrics=['accuracy'])"
   ]
  },
  {
   "cell_type": "code",
   "execution_count": 82,
   "metadata": {
    "ExecuteTime": {
     "end_time": "2024-10-24T01:12:24.587036Z",
     "start_time": "2024-10-24T01:12:24.579362Z"
    },
    "collapsed": false
   },
   "outputs": [
    {
     "name": "stdout",
     "output_type": "stream",
     "text": [
      "<class 'numpy.ndarray'> <class 'numpy.ndarray'>\n"
     ]
    }
   ],
   "source": [
    "X_train_arr = X_train.to_numpy()\n",
    "Y_train_arr = Y_train.to_numpy()\n",
    "print(type(X_train_arr), type(Y_train_arr))"
   ]
  },
  {
   "cell_type": "code",
   "execution_count": 83,
   "metadata": {
    "ExecuteTime": {
     "end_time": "2024-10-24T01:12:24.594764Z",
     "start_time": "2024-10-24T01:12:24.588756Z"
    },
    "collapsed": false
   },
   "outputs": [
    {
     "name": "stdout",
     "output_type": "stream",
     "text": [
      "X_train shape: (16000, 13)\n",
      "Y_train shape: (16000,)\n"
     ]
    }
   ],
   "source": [
    "print(\"X_train shape:\", X_train_arr.shape)\n",
    "print(\"Y_train shape:\", Y_train_arr.shape)"
   ]
  },
  {
   "cell_type": "code",
   "execution_count": 84,
   "metadata": {
    "ExecuteTime": {
     "end_time": "2024-10-24T01:12:24.803758Z",
     "start_time": "2024-10-24T01:12:24.794928Z"
    },
    "collapsed": false
   },
   "outputs": [
    {
     "name": "stdout",
     "output_type": "stream",
     "text": [
      "X_test shape: (4000, 13)\n",
      "Y_test shape: (4000,)\n"
     ]
    }
   ],
   "source": [
    "X_test_arr = X_test.to_numpy()\n",
    "Y_test_arr = Y_test.to_numpy()\n",
    "print(\"X_test shape:\", X_test_arr.shape)\n",
    "print(\"Y_test shape:\", Y_test_arr.shape)\n"
   ]
  },
  {
   "cell_type": "code",
   "execution_count": 85,
   "metadata": {
    "ExecuteTime": {
     "end_time": "2024-10-24T01:12:24.897446Z",
     "start_time": "2024-10-24T01:12:24.885273Z"
    },
    "collapsed": false
   },
   "outputs": [],
   "source": [
    "# Convert to tensor\n",
    "X_train_tsr = tf.convert_to_tensor(X_train_arr, dtype=tf.float32)\n",
    "Y_train_tsr = tf.convert_to_tensor(Y_train_arr, dtype=tf.float32)\n",
    "X_test_tsr = tf.convert_to_tensor(X_test_arr, dtype=tf.float32)\n",
    "Y_test_tsr = tf.convert_to_tensor(Y_test_arr, dtype=tf.float32)"
   ]
  },
  {
   "cell_type": "markdown",
   "metadata": {
    "collapsed": false
   },
   "source": [
    "#### Model Training"
   ]
  },
  {
   "cell_type": "code",
   "execution_count": 86,
   "metadata": {
    "ExecuteTime": {
     "end_time": "2024-10-24T01:13:00.408569Z",
     "start_time": "2024-10-24T01:12:25.040428Z"
    },
    "collapsed": false
   },
   "outputs": [
    {
     "name": "stdout",
     "output_type": "stream",
     "text": [
      "Epoch 1/120\n"
     ]
    },
    {
     "name": "stdout",
     "output_type": "stream",
     "text": [
      "\u001b[1m320/320\u001b[0m \u001b[32m━━━━━━━━━━━━━━━━━━━━\u001b[0m\u001b[37m\u001b[0m \u001b[1m1s\u001b[0m 709us/step - accuracy: 0.7762 - loss: 0.4891 - val_accuracy: 0.9953 - val_loss: 0.0573\n",
      "Epoch 2/120\n",
      "\u001b[1m320/320\u001b[0m \u001b[32m━━━━━━━━━━━━━━━━━━━━\u001b[0m\u001b[37m\u001b[0m \u001b[1m0s\u001b[0m 458us/step - accuracy: 0.9965 - loss: 0.0414 - val_accuracy: 0.9981 - val_loss: 0.0131\n",
      "Epoch 3/120\n",
      "\u001b[1m320/320\u001b[0m \u001b[32m━━━━━━━━━━━━━━━━━━━━\u001b[0m\u001b[37m\u001b[0m \u001b[1m0s\u001b[0m 455us/step - accuracy: 0.9981 - loss: 0.0133 - val_accuracy: 0.9991 - val_loss: 0.0059\n",
      "Epoch 4/120\n",
      "\u001b[1m320/320\u001b[0m \u001b[32m━━━━━━━━━━━━━━━━━━━━\u001b[0m\u001b[37m\u001b[0m \u001b[1m0s\u001b[0m 452us/step - accuracy: 0.9995 - loss: 0.0054 - val_accuracy: 0.9994 - val_loss: 0.0037\n",
      "Epoch 5/120\n",
      "\u001b[1m320/320\u001b[0m \u001b[32m━━━━━━━━━━━━━━━━━━━━\u001b[0m\u001b[37m\u001b[0m \u001b[1m0s\u001b[0m 450us/step - accuracy: 0.9991 - loss: 0.0047 - val_accuracy: 0.9997 - val_loss: 0.0019\n",
      "Epoch 6/120\n",
      "\u001b[1m320/320\u001b[0m \u001b[32m━━━━━━━━━━━━━━━━━━━━\u001b[0m\u001b[37m\u001b[0m \u001b[1m0s\u001b[0m 451us/step - accuracy: 0.9998 - loss: 0.0018 - val_accuracy: 1.0000 - val_loss: 0.0015\n",
      "Epoch 7/120\n",
      "\u001b[1m320/320\u001b[0m \u001b[32m━━━━━━━━━━━━━━━━━━━━\u001b[0m\u001b[37m\u001b[0m \u001b[1m0s\u001b[0m 454us/step - accuracy: 0.9993 - loss: 0.0020 - val_accuracy: 0.9994 - val_loss: 0.0015\n",
      "Epoch 8/120\n",
      "\u001b[1m320/320\u001b[0m \u001b[32m━━━━━━━━━━━━━━━━━━━━\u001b[0m\u001b[37m\u001b[0m \u001b[1m0s\u001b[0m 464us/step - accuracy: 0.9998 - loss: 0.0016 - val_accuracy: 1.0000 - val_loss: 6.3013e-04\n",
      "Epoch 9/120\n",
      "\u001b[1m320/320\u001b[0m \u001b[32m━━━━━━━━━━━━━━━━━━━━\u001b[0m\u001b[37m\u001b[0m \u001b[1m0s\u001b[0m 483us/step - accuracy: 1.0000 - loss: 7.3973e-04 - val_accuracy: 1.0000 - val_loss: 5.8834e-04\n",
      "Epoch 10/120\n",
      "\u001b[1m320/320\u001b[0m \u001b[32m━━━━━━━━━━━━━━━━━━━━\u001b[0m\u001b[37m\u001b[0m \u001b[1m0s\u001b[0m 543us/step - accuracy: 1.0000 - loss: 5.1445e-04 - val_accuracy: 1.0000 - val_loss: 7.4270e-04\n",
      "Epoch 11/120\n",
      "\u001b[1m320/320\u001b[0m \u001b[32m━━━━━━━━━━━━━━━━━━━━\u001b[0m\u001b[37m\u001b[0m \u001b[1m0s\u001b[0m 515us/step - accuracy: 1.0000 - loss: 4.0820e-04 - val_accuracy: 1.0000 - val_loss: 3.9132e-04\n",
      "Epoch 12/120\n",
      "\u001b[1m320/320\u001b[0m \u001b[32m━━━━━━━━━━━━━━━━━━━━\u001b[0m\u001b[37m\u001b[0m \u001b[1m0s\u001b[0m 493us/step - accuracy: 1.0000 - loss: 2.6306e-04 - val_accuracy: 1.0000 - val_loss: 2.6651e-04\n",
      "Epoch 13/120\n",
      "\u001b[1m320/320\u001b[0m \u001b[32m━━━━━━━━━━━━━━━━━━━━\u001b[0m\u001b[37m\u001b[0m \u001b[1m0s\u001b[0m 498us/step - accuracy: 1.0000 - loss: 1.7695e-04 - val_accuracy: 1.0000 - val_loss: 1.7553e-04\n",
      "Epoch 14/120\n",
      "\u001b[1m320/320\u001b[0m \u001b[32m━━━━━━━━━━━━━━━━━━━━\u001b[0m\u001b[37m\u001b[0m \u001b[1m0s\u001b[0m 501us/step - accuracy: 1.0000 - loss: 1.5385e-04 - val_accuracy: 1.0000 - val_loss: 2.8412e-04\n",
      "Epoch 15/120\n",
      "\u001b[1m320/320\u001b[0m \u001b[32m━━━━━━━━━━━━━━━━━━━━\u001b[0m\u001b[37m\u001b[0m \u001b[1m0s\u001b[0m 465us/step - accuracy: 1.0000 - loss: 1.2769e-04 - val_accuracy: 1.0000 - val_loss: 1.8765e-04\n",
      "Epoch 16/120\n",
      "\u001b[1m320/320\u001b[0m \u001b[32m━━━━━━━━━━━━━━━━━━━━\u001b[0m\u001b[37m\u001b[0m \u001b[1m0s\u001b[0m 471us/step - accuracy: 1.0000 - loss: 9.1689e-05 - val_accuracy: 1.0000 - val_loss: 1.6307e-04\n",
      "Epoch 17/120\n",
      "\u001b[1m320/320\u001b[0m \u001b[32m━━━━━━━━━━━━━━━━━━━━\u001b[0m\u001b[37m\u001b[0m \u001b[1m0s\u001b[0m 502us/step - accuracy: 1.0000 - loss: 8.1968e-05 - val_accuracy: 1.0000 - val_loss: 1.1252e-04\n",
      "Epoch 18/120\n",
      "\u001b[1m320/320\u001b[0m \u001b[32m━━━━━━━━━━━━━━━━━━━━\u001b[0m\u001b[37m\u001b[0m \u001b[1m0s\u001b[0m 518us/step - accuracy: 1.0000 - loss: 6.1438e-05 - val_accuracy: 1.0000 - val_loss: 1.3738e-04\n",
      "Epoch 19/120\n",
      "\u001b[1m320/320\u001b[0m \u001b[32m━━━━━━━━━━━━━━━━━━━━\u001b[0m\u001b[37m\u001b[0m \u001b[1m0s\u001b[0m 497us/step - accuracy: 1.0000 - loss: 4.6999e-05 - val_accuracy: 1.0000 - val_loss: 7.7862e-05\n",
      "Epoch 20/120\n",
      "\u001b[1m320/320\u001b[0m \u001b[32m━━━━━━━━━━━━━━━━━━━━\u001b[0m\u001b[37m\u001b[0m \u001b[1m0s\u001b[0m 496us/step - accuracy: 1.0000 - loss: 4.5196e-05 - val_accuracy: 1.0000 - val_loss: 1.0974e-04\n",
      "Epoch 21/120\n",
      "\u001b[1m320/320\u001b[0m \u001b[32m━━━━━━━━━━━━━━━━━━━━\u001b[0m\u001b[37m\u001b[0m \u001b[1m0s\u001b[0m 510us/step - accuracy: 1.0000 - loss: 3.1030e-05 - val_accuracy: 1.0000 - val_loss: 1.5780e-04\n",
      "Epoch 22/120\n",
      "\u001b[1m320/320\u001b[0m \u001b[32m━━━━━━━━━━━━━━━━━━━━\u001b[0m\u001b[37m\u001b[0m \u001b[1m0s\u001b[0m 509us/step - accuracy: 1.0000 - loss: 2.9045e-05 - val_accuracy: 1.0000 - val_loss: 1.1053e-04\n",
      "Epoch 23/120\n",
      "\u001b[1m320/320\u001b[0m \u001b[32m━━━━━━━━━━━━━━━━━━━━\u001b[0m\u001b[37m\u001b[0m \u001b[1m0s\u001b[0m 521us/step - accuracy: 1.0000 - loss: 2.0827e-05 - val_accuracy: 1.0000 - val_loss: 1.1759e-04\n",
      "Epoch 24/120\n",
      "\u001b[1m320/320\u001b[0m \u001b[32m━━━━━━━━━━━━━━━━━━━━\u001b[0m\u001b[37m\u001b[0m \u001b[1m0s\u001b[0m 519us/step - accuracy: 1.0000 - loss: 1.8048e-05 - val_accuracy: 1.0000 - val_loss: 1.5653e-04\n",
      "Epoch 25/120\n",
      "\u001b[1m320/320\u001b[0m \u001b[32m━━━━━━━━━━━━━━━━━━━━\u001b[0m\u001b[37m\u001b[0m \u001b[1m0s\u001b[0m 512us/step - accuracy: 1.0000 - loss: 1.4574e-05 - val_accuracy: 1.0000 - val_loss: 1.4478e-04\n",
      "Epoch 26/120\n",
      "\u001b[1m320/320\u001b[0m \u001b[32m━━━━━━━━━━━━━━━━━━━━\u001b[0m\u001b[37m\u001b[0m \u001b[1m0s\u001b[0m 494us/step - accuracy: 1.0000 - loss: 1.3202e-05 - val_accuracy: 1.0000 - val_loss: 9.5132e-05\n",
      "Epoch 27/120\n",
      "\u001b[1m320/320\u001b[0m \u001b[32m━━━━━━━━━━━━━━━━━━━━\u001b[0m\u001b[37m\u001b[0m \u001b[1m0s\u001b[0m 475us/step - accuracy: 1.0000 - loss: 1.0644e-05 - val_accuracy: 1.0000 - val_loss: 8.6569e-05\n",
      "Epoch 28/120\n",
      "\u001b[1m320/320\u001b[0m \u001b[32m━━━━━━━━━━━━━━━━━━━━\u001b[0m\u001b[37m\u001b[0m \u001b[1m0s\u001b[0m 510us/step - accuracy: 1.0000 - loss: 9.1783e-06 - val_accuracy: 1.0000 - val_loss: 6.9932e-05\n",
      "Epoch 29/120\n",
      "\u001b[1m320/320\u001b[0m \u001b[32m━━━━━━━━━━━━━━━━━━━━\u001b[0m\u001b[37m\u001b[0m \u001b[1m0s\u001b[0m 492us/step - accuracy: 1.0000 - loss: 6.4770e-06 - val_accuracy: 0.9997 - val_loss: 2.8293e-04\n",
      "Epoch 30/120\n",
      "\u001b[1m320/320\u001b[0m \u001b[32m━━━━━━━━━━━━━━━━━━━━\u001b[0m\u001b[37m\u001b[0m \u001b[1m0s\u001b[0m 489us/step - accuracy: 1.0000 - loss: 6.3365e-06 - val_accuracy: 1.0000 - val_loss: 7.0179e-05\n",
      "Epoch 31/120\n",
      "\u001b[1m320/320\u001b[0m \u001b[32m━━━━━━━━━━━━━━━━━━━━\u001b[0m\u001b[37m\u001b[0m \u001b[1m0s\u001b[0m 496us/step - accuracy: 1.0000 - loss: 5.8931e-06 - val_accuracy: 1.0000 - val_loss: 8.1969e-05\n",
      "Epoch 32/120\n",
      "\u001b[1m320/320\u001b[0m \u001b[32m━━━━━━━━━━━━━━━━━━━━\u001b[0m\u001b[37m\u001b[0m \u001b[1m0s\u001b[0m 487us/step - accuracy: 1.0000 - loss: 3.7361e-06 - val_accuracy: 0.9997 - val_loss: 2.4459e-04\n",
      "Epoch 33/120\n",
      "\u001b[1m320/320\u001b[0m \u001b[32m━━━━━━━━━━━━━━━━━━━━\u001b[0m\u001b[37m\u001b[0m \u001b[1m0s\u001b[0m 474us/step - accuracy: 1.0000 - loss: 4.3569e-06 - val_accuracy: 1.0000 - val_loss: 3.5868e-05\n",
      "Epoch 34/120\n",
      "\u001b[1m320/320\u001b[0m \u001b[32m━━━━━━━━━━━━━━━━━━━━\u001b[0m\u001b[37m\u001b[0m \u001b[1m0s\u001b[0m 487us/step - accuracy: 1.0000 - loss: 2.6545e-06 - val_accuracy: 1.0000 - val_loss: 7.4946e-05\n",
      "Epoch 35/120\n",
      "\u001b[1m320/320\u001b[0m \u001b[32m━━━━━━━━━━━━━━━━━━━━\u001b[0m\u001b[37m\u001b[0m \u001b[1m0s\u001b[0m 474us/step - accuracy: 1.0000 - loss: 2.5415e-06 - val_accuracy: 1.0000 - val_loss: 4.4458e-05\n",
      "Epoch 36/120\n",
      "\u001b[1m320/320\u001b[0m \u001b[32m━━━━━━━━━━━━━━━━━━━━\u001b[0m\u001b[37m\u001b[0m \u001b[1m0s\u001b[0m 485us/step - accuracy: 1.0000 - loss: 1.7320e-06 - val_accuracy: 1.0000 - val_loss: 1.3849e-04\n",
      "Epoch 37/120\n",
      "\u001b[1m320/320\u001b[0m \u001b[32m━━━━━━━━━━━━━━━━━━━━\u001b[0m\u001b[37m\u001b[0m \u001b[1m0s\u001b[0m 499us/step - accuracy: 1.0000 - loss: 1.8239e-06 - val_accuracy: 1.0000 - val_loss: 4.0226e-05\n",
      "Epoch 38/120\n",
      "\u001b[1m320/320\u001b[0m \u001b[32m━━━━━━━━━━━━━━━━━━━━\u001b[0m\u001b[37m\u001b[0m \u001b[1m0s\u001b[0m 481us/step - accuracy: 1.0000 - loss: 1.1558e-06 - val_accuracy: 1.0000 - val_loss: 1.2269e-04\n",
      "Epoch 39/120\n",
      "\u001b[1m320/320\u001b[0m \u001b[32m━━━━━━━━━━━━━━━━━━━━\u001b[0m\u001b[37m\u001b[0m \u001b[1m0s\u001b[0m 485us/step - accuracy: 1.0000 - loss: 1.1246e-06 - val_accuracy: 1.0000 - val_loss: 3.8877e-05\n",
      "Epoch 40/120\n",
      "\u001b[1m320/320\u001b[0m \u001b[32m━━━━━━━━━━━━━━━━━━━━\u001b[0m\u001b[37m\u001b[0m \u001b[1m0s\u001b[0m 726us/step - accuracy: 1.0000 - loss: 9.1438e-07 - val_accuracy: 1.0000 - val_loss: 6.6872e-05\n",
      "Epoch 41/120\n",
      "\u001b[1m320/320\u001b[0m \u001b[32m━━━━━━━━━━━━━━━━━━━━\u001b[0m\u001b[37m\u001b[0m \u001b[1m0s\u001b[0m 486us/step - accuracy: 1.0000 - loss: 7.1491e-07 - val_accuracy: 1.0000 - val_loss: 1.0925e-04\n",
      "Epoch 42/120\n",
      "\u001b[1m320/320\u001b[0m \u001b[32m━━━━━━━━━━━━━━━━━━━━\u001b[0m\u001b[37m\u001b[0m \u001b[1m0s\u001b[0m 470us/step - accuracy: 1.0000 - loss: 7.7221e-07 - val_accuracy: 1.0000 - val_loss: 2.4979e-05\n",
      "Epoch 43/120\n",
      "\u001b[1m320/320\u001b[0m \u001b[32m━━━━━━━━━━━━━━━━━━━━\u001b[0m\u001b[37m\u001b[0m \u001b[1m0s\u001b[0m 478us/step - accuracy: 1.0000 - loss: 5.2776e-07 - val_accuracy: 1.0000 - val_loss: 2.4691e-05\n",
      "Epoch 44/120\n",
      "\u001b[1m320/320\u001b[0m \u001b[32m━━━━━━━━━━━━━━━━━━━━\u001b[0m\u001b[37m\u001b[0m \u001b[1m0s\u001b[0m 481us/step - accuracy: 1.0000 - loss: 4.6147e-07 - val_accuracy: 1.0000 - val_loss: 3.8720e-05\n",
      "Epoch 45/120\n",
      "\u001b[1m320/320\u001b[0m \u001b[32m━━━━━━━━━━━━━━━━━━━━\u001b[0m\u001b[37m\u001b[0m \u001b[1m0s\u001b[0m 476us/step - accuracy: 1.0000 - loss: 4.4368e-07 - val_accuracy: 1.0000 - val_loss: 5.1274e-05\n",
      "Epoch 46/120\n",
      "\u001b[1m320/320\u001b[0m \u001b[32m━━━━━━━━━━━━━━━━━━━━\u001b[0m\u001b[37m\u001b[0m \u001b[1m0s\u001b[0m 478us/step - accuracy: 1.0000 - loss: 3.3600e-07 - val_accuracy: 1.0000 - val_loss: 1.7652e-06\n",
      "Epoch 47/120\n",
      "\u001b[1m320/320\u001b[0m \u001b[32m━━━━━━━━━━━━━━━━━━━━\u001b[0m\u001b[37m\u001b[0m \u001b[1m0s\u001b[0m 482us/step - accuracy: 0.9999 - loss: 3.8032e-04 - val_accuracy: 1.0000 - val_loss: 2.3360e-06\n",
      "Epoch 48/120\n",
      "\u001b[1m320/320\u001b[0m \u001b[32m━━━━━━━━━━━━━━━━━━━━\u001b[0m\u001b[37m\u001b[0m \u001b[1m0s\u001b[0m 479us/step - accuracy: 1.0000 - loss: 1.0301e-04 - val_accuracy: 1.0000 - val_loss: 1.4289e-05\n",
      "Epoch 49/120\n",
      "\u001b[1m320/320\u001b[0m \u001b[32m━━━━━━━━━━━━━━━━━━━━\u001b[0m\u001b[37m\u001b[0m \u001b[1m0s\u001b[0m 468us/step - accuracy: 1.0000 - loss: 2.7943e-06 - val_accuracy: 1.0000 - val_loss: 2.4967e-05\n",
      "Epoch 50/120\n",
      "\u001b[1m320/320\u001b[0m \u001b[32m━━━━━━━━━━━━━━━━━━━━\u001b[0m\u001b[37m\u001b[0m \u001b[1m0s\u001b[0m 468us/step - accuracy: 1.0000 - loss: 1.5886e-06 - val_accuracy: 1.0000 - val_loss: 3.3495e-05\n",
      "Epoch 51/120\n",
      "\u001b[1m320/320\u001b[0m \u001b[32m━━━━━━━━━━━━━━━━━━━━\u001b[0m\u001b[37m\u001b[0m \u001b[1m0s\u001b[0m 476us/step - accuracy: 1.0000 - loss: 1.2836e-06 - val_accuracy: 1.0000 - val_loss: 3.7104e-05\n",
      "Epoch 52/120\n",
      "\u001b[1m320/320\u001b[0m \u001b[32m━━━━━━━━━━━━━━━━━━━━\u001b[0m\u001b[37m\u001b[0m \u001b[1m0s\u001b[0m 456us/step - accuracy: 1.0000 - loss: 1.4403e-06 - val_accuracy: 1.0000 - val_loss: 3.8899e-05\n",
      "Epoch 53/120\n",
      "\u001b[1m320/320\u001b[0m \u001b[32m━━━━━━━━━━━━━━━━━━━━\u001b[0m\u001b[37m\u001b[0m \u001b[1m0s\u001b[0m 465us/step - accuracy: 1.0000 - loss: 1.0546e-06 - val_accuracy: 1.0000 - val_loss: 3.7468e-05\n",
      "Epoch 54/120\n",
      "\u001b[1m320/320\u001b[0m \u001b[32m━━━━━━━━━━━━━━━━━━━━\u001b[0m\u001b[37m\u001b[0m \u001b[1m0s\u001b[0m 461us/step - accuracy: 1.0000 - loss: 9.2129e-07 - val_accuracy: 1.0000 - val_loss: 3.4686e-05\n",
      "Epoch 55/120\n",
      "\u001b[1m320/320\u001b[0m \u001b[32m━━━━━━━━━━━━━━━━━━━━\u001b[0m\u001b[37m\u001b[0m \u001b[1m0s\u001b[0m 460us/step - accuracy: 1.0000 - loss: 1.0323e-06 - val_accuracy: 1.0000 - val_loss: 3.2566e-05\n",
      "Epoch 56/120\n",
      "\u001b[1m320/320\u001b[0m \u001b[32m━━━━━━━━━━━━━━━━━━━━\u001b[0m\u001b[37m\u001b[0m \u001b[1m0s\u001b[0m 480us/step - accuracy: 1.0000 - loss: 6.2289e-07 - val_accuracy: 1.0000 - val_loss: 2.8656e-05\n",
      "Epoch 57/120\n",
      "\u001b[1m320/320\u001b[0m \u001b[32m━━━━━━━━━━━━━━━━━━━━\u001b[0m\u001b[37m\u001b[0m \u001b[1m0s\u001b[0m 582us/step - accuracy: 1.0000 - loss: 8.6012e-07 - val_accuracy: 1.0000 - val_loss: 2.5506e-05\n",
      "Epoch 58/120\n",
      "\u001b[1m320/320\u001b[0m \u001b[32m━━━━━━━━━━━━━━━━━━━━\u001b[0m\u001b[37m\u001b[0m \u001b[1m0s\u001b[0m 483us/step - accuracy: 1.0000 - loss: 8.2194e-07 - val_accuracy: 1.0000 - val_loss: 2.2829e-05\n",
      "Epoch 59/120\n",
      "\u001b[1m320/320\u001b[0m \u001b[32m━━━━━━━━━━━━━━━━━━━━\u001b[0m\u001b[37m\u001b[0m \u001b[1m0s\u001b[0m 486us/step - accuracy: 1.0000 - loss: 9.5456e-07 - val_accuracy: 1.0000 - val_loss: 2.0692e-05\n",
      "Epoch 60/120\n",
      "\u001b[1m320/320\u001b[0m \u001b[32m━━━━━━━━━━━━━━━━━━━━\u001b[0m\u001b[37m\u001b[0m \u001b[1m0s\u001b[0m 487us/step - accuracy: 1.0000 - loss: 6.1958e-07 - val_accuracy: 1.0000 - val_loss: 1.7744e-05\n",
      "Epoch 61/120\n",
      "\u001b[1m320/320\u001b[0m \u001b[32m━━━━━━━━━━━━━━━━━━━━\u001b[0m\u001b[37m\u001b[0m \u001b[1m0s\u001b[0m 484us/step - accuracy: 1.0000 - loss: 5.0466e-07 - val_accuracy: 1.0000 - val_loss: 1.6215e-05\n",
      "Epoch 62/120\n",
      "\u001b[1m320/320\u001b[0m \u001b[32m━━━━━━━━━━━━━━━━━━━━\u001b[0m\u001b[37m\u001b[0m \u001b[1m0s\u001b[0m 471us/step - accuracy: 1.0000 - loss: 5.4625e-07 - val_accuracy: 1.0000 - val_loss: 1.3453e-05\n",
      "Epoch 63/120\n",
      "\u001b[1m320/320\u001b[0m \u001b[32m━━━━━━━━━━━━━━━━━━━━\u001b[0m\u001b[37m\u001b[0m \u001b[1m0s\u001b[0m 477us/step - accuracy: 1.0000 - loss: 6.6250e-07 - val_accuracy: 1.0000 - val_loss: 1.2877e-05\n",
      "Epoch 64/120\n",
      "\u001b[1m320/320\u001b[0m \u001b[32m━━━━━━━━━━━━━━━━━━━━\u001b[0m\u001b[37m\u001b[0m \u001b[1m0s\u001b[0m 485us/step - accuracy: 1.0000 - loss: 4.2139e-07 - val_accuracy: 1.0000 - val_loss: 8.4397e-06\n",
      "Epoch 65/120\n",
      "\u001b[1m320/320\u001b[0m \u001b[32m━━━━━━━━━━━━━━━━━━━━\u001b[0m\u001b[37m\u001b[0m \u001b[1m0s\u001b[0m 451us/step - accuracy: 1.0000 - loss: 4.8073e-07 - val_accuracy: 1.0000 - val_loss: 9.7628e-06\n",
      "Epoch 66/120\n",
      "\u001b[1m320/320\u001b[0m \u001b[32m━━━━━━━━━━━━━━━━━━━━\u001b[0m\u001b[37m\u001b[0m \u001b[1m0s\u001b[0m 451us/step - accuracy: 1.0000 - loss: 6.9600e-07 - val_accuracy: 1.0000 - val_loss: 7.7340e-06\n",
      "Epoch 67/120\n",
      "\u001b[1m320/320\u001b[0m \u001b[32m━━━━━━━━━━━━━━━━━━━━\u001b[0m\u001b[37m\u001b[0m \u001b[1m0s\u001b[0m 450us/step - accuracy: 1.0000 - loss: 3.6549e-07 - val_accuracy: 1.0000 - val_loss: 6.3371e-06\n",
      "Epoch 68/120\n",
      "\u001b[1m320/320\u001b[0m \u001b[32m━━━━━━━━━━━━━━━━━━━━\u001b[0m\u001b[37m\u001b[0m \u001b[1m0s\u001b[0m 482us/step - accuracy: 1.0000 - loss: 3.0477e-07 - val_accuracy: 1.0000 - val_loss: 8.1801e-06\n",
      "Epoch 69/120\n",
      "\u001b[1m320/320\u001b[0m \u001b[32m━━━━━━━━━━━━━━━━━━━━\u001b[0m\u001b[37m\u001b[0m \u001b[1m0s\u001b[0m 474us/step - accuracy: 1.0000 - loss: 4.0741e-07 - val_accuracy: 1.0000 - val_loss: 7.8884e-06\n",
      "Epoch 70/120\n",
      "\u001b[1m320/320\u001b[0m \u001b[32m━━━━━━━━━━━━━━━━━━━━\u001b[0m\u001b[37m\u001b[0m \u001b[1m0s\u001b[0m 445us/step - accuracy: 1.0000 - loss: 5.4678e-07 - val_accuracy: 1.0000 - val_loss: 5.8574e-06\n",
      "Epoch 71/120\n",
      "\u001b[1m320/320\u001b[0m \u001b[32m━━━━━━━━━━━━━━━━━━━━\u001b[0m\u001b[37m\u001b[0m \u001b[1m0s\u001b[0m 446us/step - accuracy: 1.0000 - loss: 3.2983e-07 - val_accuracy: 1.0000 - val_loss: 6.9104e-06\n",
      "Epoch 72/120\n",
      "\u001b[1m320/320\u001b[0m \u001b[32m━━━━━━━━━━━━━━━━━━━━\u001b[0m\u001b[37m\u001b[0m \u001b[1m0s\u001b[0m 449us/step - accuracy: 1.0000 - loss: 2.5080e-07 - val_accuracy: 1.0000 - val_loss: 5.9394e-06\n",
      "Epoch 73/120\n",
      "\u001b[1m320/320\u001b[0m \u001b[32m━━━━━━━━━━━━━━━━━━━━\u001b[0m\u001b[37m\u001b[0m \u001b[1m0s\u001b[0m 451us/step - accuracy: 1.0000 - loss: 4.5008e-07 - val_accuracy: 1.0000 - val_loss: 3.2390e-06\n",
      "Epoch 74/120\n",
      "\u001b[1m320/320\u001b[0m \u001b[32m━━━━━━━━━━━━━━━━━━━━\u001b[0m\u001b[37m\u001b[0m \u001b[1m0s\u001b[0m 444us/step - accuracy: 1.0000 - loss: 1.5542e-07 - val_accuracy: 1.0000 - val_loss: 2.9942e-06\n",
      "Epoch 75/120\n",
      "\u001b[1m320/320\u001b[0m \u001b[32m━━━━━━━━━━━━━━━━━━━━\u001b[0m\u001b[37m\u001b[0m \u001b[1m0s\u001b[0m 448us/step - accuracy: 1.0000 - loss: 2.3839e-07 - val_accuracy: 1.0000 - val_loss: 2.1119e-06\n",
      "Epoch 76/120\n",
      "\u001b[1m320/320\u001b[0m \u001b[32m━━━━━━━━━━━━━━━━━━━━\u001b[0m\u001b[37m\u001b[0m \u001b[1m0s\u001b[0m 573us/step - accuracy: 1.0000 - loss: 2.1164e-07 - val_accuracy: 1.0000 - val_loss: 5.0751e-06\n",
      "Epoch 77/120\n",
      "\u001b[1m320/320\u001b[0m \u001b[32m━━━━━━━━━━━━━━━━━━━━\u001b[0m\u001b[37m\u001b[0m \u001b[1m0s\u001b[0m 453us/step - accuracy: 1.0000 - loss: 1.5321e-07 - val_accuracy: 1.0000 - val_loss: 1.6037e-06\n",
      "Epoch 78/120\n",
      "\u001b[1m320/320\u001b[0m \u001b[32m━━━━━━━━━━━━━━━━━━━━\u001b[0m\u001b[37m\u001b[0m \u001b[1m0s\u001b[0m 445us/step - accuracy: 1.0000 - loss: 1.8441e-07 - val_accuracy: 1.0000 - val_loss: 4.5043e-06\n",
      "Epoch 79/120\n",
      "\u001b[1m320/320\u001b[0m \u001b[32m━━━━━━━━━━━━━━━━━━━━\u001b[0m\u001b[37m\u001b[0m \u001b[1m0s\u001b[0m 447us/step - accuracy: 1.0000 - loss: 1.8915e-07 - val_accuracy: 1.0000 - val_loss: 1.5945e-06\n",
      "Epoch 80/120\n",
      "\u001b[1m320/320\u001b[0m \u001b[32m━━━━━━━━━━━━━━━━━━━━\u001b[0m\u001b[37m\u001b[0m \u001b[1m0s\u001b[0m 447us/step - accuracy: 1.0000 - loss: 1.1252e-07 - val_accuracy: 1.0000 - val_loss: 2.8462e-06\n",
      "Epoch 81/120\n",
      "\u001b[1m320/320\u001b[0m \u001b[32m━━━━━━━━━━━━━━━━━━━━\u001b[0m\u001b[37m\u001b[0m \u001b[1m0s\u001b[0m 445us/step - accuracy: 1.0000 - loss: 1.3611e-07 - val_accuracy: 1.0000 - val_loss: 1.0454e-06\n",
      "Epoch 82/120\n",
      "\u001b[1m320/320\u001b[0m \u001b[32m━━━━━━━━━━━━━━━━━━━━\u001b[0m\u001b[37m\u001b[0m \u001b[1m0s\u001b[0m 447us/step - accuracy: 1.0000 - loss: 1.0631e-07 - val_accuracy: 1.0000 - val_loss: 1.6094e-07\n",
      "Epoch 83/120\n",
      "\u001b[1m320/320\u001b[0m \u001b[32m━━━━━━━━━━━━━━━━━━━━\u001b[0m\u001b[37m\u001b[0m \u001b[1m0s\u001b[0m 541us/step - accuracy: 1.0000 - loss: 1.3570e-07 - val_accuracy: 1.0000 - val_loss: 5.0773e-06\n",
      "Epoch 84/120\n",
      "\u001b[1m320/320\u001b[0m \u001b[32m━━━━━━━━━━━━━━━━━━━━\u001b[0m\u001b[37m\u001b[0m \u001b[1m0s\u001b[0m 459us/step - accuracy: 1.0000 - loss: 2.5809e-07 - val_accuracy: 1.0000 - val_loss: 1.4350e-06\n",
      "Epoch 85/120\n",
      "\u001b[1m320/320\u001b[0m \u001b[32m━━━━━━━━━━━━━━━━━━━━\u001b[0m\u001b[37m\u001b[0m \u001b[1m0s\u001b[0m 449us/step - accuracy: 1.0000 - loss: 7.5657e-08 - val_accuracy: 1.0000 - val_loss: 4.0773e-07\n",
      "Epoch 86/120\n",
      "\u001b[1m320/320\u001b[0m \u001b[32m━━━━━━━━━━━━━━━━━━━━\u001b[0m\u001b[37m\u001b[0m \u001b[1m0s\u001b[0m 449us/step - accuracy: 1.0000 - loss: 9.2753e-08 - val_accuracy: 1.0000 - val_loss: 2.5015e-06\n",
      "Epoch 87/120\n",
      "\u001b[1m320/320\u001b[0m \u001b[32m━━━━━━━━━━━━━━━━━━━━\u001b[0m\u001b[37m\u001b[0m \u001b[1m0s\u001b[0m 451us/step - accuracy: 1.0000 - loss: 6.2717e-08 - val_accuracy: 1.0000 - val_loss: 6.9951e-08\n",
      "Epoch 88/120\n",
      "\u001b[1m320/320\u001b[0m \u001b[32m━━━━━━━━━━━━━━━━━━━━\u001b[0m\u001b[37m\u001b[0m \u001b[1m0s\u001b[0m 449us/step - accuracy: 1.0000 - loss: 7.0246e-08 - val_accuracy: 1.0000 - val_loss: 4.4556e-07\n",
      "Epoch 89/120\n",
      "\u001b[1m320/320\u001b[0m \u001b[32m━━━━━━━━━━━━━━━━━━━━\u001b[0m\u001b[37m\u001b[0m \u001b[1m0s\u001b[0m 449us/step - accuracy: 1.0000 - loss: 3.7611e-08 - val_accuracy: 1.0000 - val_loss: 7.5672e-07\n",
      "Epoch 90/120\n",
      "\u001b[1m320/320\u001b[0m \u001b[32m━━━━━━━━━━━━━━━━━━━━\u001b[0m\u001b[37m\u001b[0m \u001b[1m0s\u001b[0m 445us/step - accuracy: 1.0000 - loss: 4.9039e-08 - val_accuracy: 1.0000 - val_loss: 2.3028e-06\n",
      "Epoch 91/120\n",
      "\u001b[1m320/320\u001b[0m \u001b[32m━━━━━━━━━━━━━━━━━━━━\u001b[0m\u001b[37m\u001b[0m \u001b[1m0s\u001b[0m 447us/step - accuracy: 1.0000 - loss: 2.4566e-08 - val_accuracy: 1.0000 - val_loss: 3.3544e-07\n",
      "Epoch 92/120\n",
      "\u001b[1m320/320\u001b[0m \u001b[32m━━━━━━━━━━━━━━━━━━━━\u001b[0m\u001b[37m\u001b[0m \u001b[1m0s\u001b[0m 451us/step - accuracy: 1.0000 - loss: 3.3961e-08 - val_accuracy: 1.0000 - val_loss: 1.0682e-06\n",
      "Epoch 93/120\n",
      "\u001b[1m320/320\u001b[0m \u001b[32m━━━━━━━━━━━━━━━━━━━━\u001b[0m\u001b[37m\u001b[0m \u001b[1m0s\u001b[0m 448us/step - accuracy: 1.0000 - loss: 4.8029e-08 - val_accuracy: 1.0000 - val_loss: 2.4011e-07\n",
      "Epoch 94/120\n",
      "\u001b[1m320/320\u001b[0m \u001b[32m━━━━━━━━━━━━━━━━━━━━\u001b[0m\u001b[37m\u001b[0m \u001b[1m0s\u001b[0m 448us/step - accuracy: 1.0000 - loss: 2.0098e-08 - val_accuracy: 1.0000 - val_loss: 1.0854e-06\n",
      "Epoch 95/120\n",
      "\u001b[1m320/320\u001b[0m \u001b[32m━━━━━━━━━━━━━━━━━━━━\u001b[0m\u001b[37m\u001b[0m \u001b[1m0s\u001b[0m 446us/step - accuracy: 1.0000 - loss: 4.1194e-08 - val_accuracy: 1.0000 - val_loss: 2.3623e-07\n",
      "Epoch 96/120\n",
      "\u001b[1m320/320\u001b[0m \u001b[32m━━━━━━━━━━━━━━━━━━━━\u001b[0m\u001b[37m\u001b[0m \u001b[1m0s\u001b[0m 450us/step - accuracy: 1.0000 - loss: 1.6346e-08 - val_accuracy: 1.0000 - val_loss: 3.8807e-05\n",
      "Epoch 97/120\n",
      "\u001b[1m320/320\u001b[0m \u001b[32m━━━━━━━━━━━━━━━━━━━━\u001b[0m\u001b[37m\u001b[0m \u001b[1m0s\u001b[0m 445us/step - accuracy: 1.0000 - loss: 5.7404e-08 - val_accuracy: 1.0000 - val_loss: 1.5866e-07\n",
      "Epoch 98/120\n",
      "\u001b[1m320/320\u001b[0m \u001b[32m━━━━━━━━━━━━━━━━━━━━\u001b[0m\u001b[37m\u001b[0m \u001b[1m0s\u001b[0m 448us/step - accuracy: 1.0000 - loss: 9.4515e-09 - val_accuracy: 1.0000 - val_loss: 1.0242e-07\n",
      "Epoch 99/120\n",
      "\u001b[1m320/320\u001b[0m \u001b[32m━━━━━━━━━━━━━━━━━━━━\u001b[0m\u001b[37m\u001b[0m \u001b[1m0s\u001b[0m 448us/step - accuracy: 1.0000 - loss: 1.2340e-08 - val_accuracy: 1.0000 - val_loss: 9.8270e-07\n",
      "Epoch 100/120\n",
      "\u001b[1m320/320\u001b[0m \u001b[32m━━━━━━━━━━━━━━━━━━━━\u001b[0m\u001b[37m\u001b[0m \u001b[1m0s\u001b[0m 501us/step - accuracy: 1.0000 - loss: 7.9362e-08 - val_accuracy: 1.0000 - val_loss: 3.4513e-08\n",
      "Epoch 101/120\n",
      "\u001b[1m320/320\u001b[0m \u001b[32m━━━━━━━━━━━━━━━━━━━━\u001b[0m\u001b[37m\u001b[0m \u001b[1m0s\u001b[0m 448us/step - accuracy: 1.0000 - loss: 6.6237e-09 - val_accuracy: 1.0000 - val_loss: 1.0931e-08\n",
      "Epoch 102/120\n",
      "\u001b[1m320/320\u001b[0m \u001b[32m━━━━━━━━━━━━━━━━━━━━\u001b[0m\u001b[37m\u001b[0m \u001b[1m0s\u001b[0m 446us/step - accuracy: 1.0000 - loss: 6.3324e-09 - val_accuracy: 1.0000 - val_loss: 7.4032e-08\n",
      "Epoch 103/120\n",
      "\u001b[1m320/320\u001b[0m \u001b[32m━━━━━━━━━━━━━━━━━━━━\u001b[0m\u001b[37m\u001b[0m \u001b[1m0s\u001b[0m 445us/step - accuracy: 1.0000 - loss: 6.2133e-09 - val_accuracy: 1.0000 - val_loss: 3.3806e-08\n",
      "Epoch 104/120\n",
      "\u001b[1m320/320\u001b[0m \u001b[32m━━━━━━━━━━━━━━━━━━━━\u001b[0m\u001b[37m\u001b[0m \u001b[1m0s\u001b[0m 447us/step - accuracy: 1.0000 - loss: 5.8419e-09 - val_accuracy: 1.0000 - val_loss: 2.4381e-07\n",
      "Epoch 105/120\n",
      "\u001b[1m320/320\u001b[0m \u001b[32m━━━━━━━━━━━━━━━━━━━━\u001b[0m\u001b[37m\u001b[0m \u001b[1m0s\u001b[0m 439us/step - accuracy: 1.0000 - loss: 1.2351e-08 - val_accuracy: 1.0000 - val_loss: 1.4475e-07\n",
      "Epoch 106/120\n",
      "\u001b[1m320/320\u001b[0m \u001b[32m━━━━━━━━━━━━━━━━━━━━\u001b[0m\u001b[37m\u001b[0m \u001b[1m0s\u001b[0m 445us/step - accuracy: 1.0000 - loss: 4.1358e-09 - val_accuracy: 1.0000 - val_loss: 2.1768e-08\n",
      "Epoch 107/120\n",
      "\u001b[1m320/320\u001b[0m \u001b[32m━━━━━━━━━━━━━━━━━━━━\u001b[0m\u001b[37m\u001b[0m \u001b[1m0s\u001b[0m 447us/step - accuracy: 1.0000 - loss: 3.9603e-09 - val_accuracy: 1.0000 - val_loss: 1.2685e-07\n",
      "Epoch 108/120\n",
      "\u001b[1m320/320\u001b[0m \u001b[32m━━━━━━━━━━━━━━━━━━━━\u001b[0m\u001b[37m\u001b[0m \u001b[1m0s\u001b[0m 443us/step - accuracy: 1.0000 - loss: 4.7623e-09 - val_accuracy: 1.0000 - val_loss: 1.6889e-07\n",
      "Epoch 109/120\n",
      "\u001b[1m320/320\u001b[0m \u001b[32m━━━━━━━━━━━━━━━━━━━━\u001b[0m\u001b[37m\u001b[0m \u001b[1m0s\u001b[0m 444us/step - accuracy: 1.0000 - loss: 3.5224e-09 - val_accuracy: 1.0000 - val_loss: 1.9074e-07\n",
      "Epoch 110/120\n",
      "\u001b[1m320/320\u001b[0m \u001b[32m━━━━━━━━━━━━━━━━━━━━\u001b[0m\u001b[37m\u001b[0m \u001b[1m0s\u001b[0m 446us/step - accuracy: 1.0000 - loss: 8.5581e-09 - val_accuracy: 1.0000 - val_loss: 4.6120e-07\n",
      "Epoch 111/120\n",
      "\u001b[1m320/320\u001b[0m \u001b[32m━━━━━━━━━━━━━━━━━━━━\u001b[0m\u001b[37m\u001b[0m \u001b[1m0s\u001b[0m 445us/step - accuracy: 1.0000 - loss: 2.3419e-09 - val_accuracy: 1.0000 - val_loss: 4.6208e-07\n",
      "Epoch 112/120\n",
      "\u001b[1m320/320\u001b[0m \u001b[32m━━━━━━━━━━━━━━━━━━━━\u001b[0m\u001b[37m\u001b[0m \u001b[1m0s\u001b[0m 444us/step - accuracy: 1.0000 - loss: 1.4009e-09 - val_accuracy: 1.0000 - val_loss: 3.1563e-08\n",
      "Epoch 113/120\n",
      "\u001b[1m320/320\u001b[0m \u001b[32m━━━━━━━━━━━━━━━━━━━━\u001b[0m\u001b[37m\u001b[0m \u001b[1m0s\u001b[0m 446us/step - accuracy: 1.0000 - loss: 2.7654e-09 - val_accuracy: 1.0000 - val_loss: 5.3818e-07\n",
      "Epoch 114/120\n",
      "\u001b[1m320/320\u001b[0m \u001b[32m━━━━━━━━━━━━━━━━━━━━\u001b[0m\u001b[37m\u001b[0m \u001b[1m0s\u001b[0m 449us/step - accuracy: 1.0000 - loss: 2.1301e-09 - val_accuracy: 1.0000 - val_loss: 4.4568e-07\n",
      "Epoch 115/120\n",
      "\u001b[1m320/320\u001b[0m \u001b[32m━━━━━━━━━━━━━━━━━━━━\u001b[0m\u001b[37m\u001b[0m \u001b[1m0s\u001b[0m 505us/step - accuracy: 1.0000 - loss: 3.5765e-09 - val_accuracy: 1.0000 - val_loss: 4.9486e-08\n",
      "Epoch 116/120\n",
      "\u001b[1m320/320\u001b[0m \u001b[32m━━━━━━━━━━━━━━━━━━━━\u001b[0m\u001b[37m\u001b[0m \u001b[1m0s\u001b[0m 453us/step - accuracy: 1.0000 - loss: 1.5784e-09 - val_accuracy: 1.0000 - val_loss: 2.8952e-07\n",
      "Epoch 117/120\n",
      "\u001b[1m320/320\u001b[0m \u001b[32m━━━━━━━━━━━━━━━━━━━━\u001b[0m\u001b[37m\u001b[0m \u001b[1m0s\u001b[0m 454us/step - accuracy: 1.0000 - loss: 1.3923e-09 - val_accuracy: 1.0000 - val_loss: 6.9229e-09\n",
      "Epoch 118/120\n",
      "\u001b[1m320/320\u001b[0m \u001b[32m━━━━━━━━━━━━━━━━━━━━\u001b[0m\u001b[37m\u001b[0m \u001b[1m0s\u001b[0m 488us/step - accuracy: 1.0000 - loss: 1.4214e-06 - val_accuracy: 1.0000 - val_loss: 2.8963e-08\n",
      "Epoch 119/120\n",
      "\u001b[1m320/320\u001b[0m \u001b[32m━━━━━━━━━━━━━━━━━━━━\u001b[0m\u001b[37m\u001b[0m \u001b[1m0s\u001b[0m 443us/step - accuracy: 1.0000 - loss: 6.6494e-09 - val_accuracy: 1.0000 - val_loss: 8.8358e-08\n",
      "Epoch 120/120\n",
      "\u001b[1m320/320\u001b[0m \u001b[32m━━━━━━━━━━━━━━━━━━━━\u001b[0m\u001b[37m\u001b[0m \u001b[1m0s\u001b[0m 443us/step - accuracy: 1.0000 - loss: 1.5891e-09 - val_accuracy: 1.0000 - val_loss: 1.4981e-07\n"
     ]
    }
   ],
   "source": [
    "#history = model.fit(X_train_tsr,Y_train_tsr,epochs=120,validation_split=0.2,batch_size=40) => 21.6sec => 0 + 0\n",
    "\n",
    "#history = model.fit(X_train_tsr,Y_train_tsr,epochs=120,validation_split=0.99,batch_size=40) => 17.5sec => 21 + 25\n",
    "#history = model.fit(X_train_tsr,Y_train_tsr,epochs=120,validation_split=0.01,batch_size=40) => 21.2sec => 0 + 0\n",
    "#history = model.fit(X_train_tsr,Y_train_tsr,epochs=120,validation_split=0.999,batch_size=40) => 17.9sec => 0 + 1.1e+3\n",
    "history = model.fit(X_train_tsr,Y_train_tsr,epochs=120,validation_split=0.2,batch_size=40)\n"
   ]
  },
  {
   "cell_type": "code",
   "execution_count": 87,
   "metadata": {
    "ExecuteTime": {
     "end_time": "2024-10-24T01:13:00.768208Z",
     "start_time": "2024-10-24T01:13:00.409577Z"
    },
    "collapsed": false
   },
   "outputs": [
    {
     "name": "stdout",
     "output_type": "stream",
     "text": [
      "\u001b[1m32/32\u001b[0m \u001b[32m━━━━━━━━━━━━━━━━━━━━\u001b[0m\u001b[37m\u001b[0m \u001b[1m0s\u001b[0m 602us/step - accuracy: 1.0000 - loss: 1.7059e-09\n",
      "test loss, test acc: [1.532069582310669e-09, 1.0]\n",
      "Generate predictions for 3 samples\n",
      "\u001b[1m1/1\u001b[0m \u001b[32m━━━━━━━━━━━━━━━━━━━━\u001b[0m\u001b[37m\u001b[0m \u001b[1m0s\u001b[0m 23ms/step\n",
      "predictions shape: (3, 1)\n",
      "[[1.000000e+00]\n",
      " [1.000000e+00]\n",
      " [4.087049e-12]]\n"
     ]
    }
   ],
   "source": [
    "results = model.evaluate(X_test_tsr, Y_test_tsr, batch_size=128)\n",
    "print(\"test loss, test acc:\", results)\n",
    "\n",
    "print(\"Generate predictions for 3 samples\")\n",
    "predictions = model.predict(X_test_tsr[:3])\n",
    "print(\"predictions shape:\", predictions.shape)\n",
    "print(predictions)"
   ]
  },
  {
   "cell_type": "code",
   "execution_count": 88,
   "metadata": {
    "ExecuteTime": {
     "end_time": "2024-10-24T01:13:00.779674Z",
     "start_time": "2024-10-24T01:13:00.769217Z"
    },
    "collapsed": false
   },
   "outputs": [
    {
     "name": "stdout",
     "output_type": "stream",
     "text": [
      "Predictions :\n",
      "Phishing\n",
      "Phishing\n",
      "Legitimate\n",
      "Real values :\n",
      "Phishing\n",
      "Phishing\n",
      "Legitimate\n"
     ]
    }
   ],
   "source": [
    "print(\"Predictions :\")\n",
    "for prediction in predictions:\n",
    "    if prediction > 0.5:\n",
    "        print(\"Phishing\")\n",
    "    else:\n",
    "        print(\"Legitimate\")\n",
    "        \n",
    "print(\"Real values :\")\n",
    "for value in Y_test_tsr[:3]:\n",
    "    if value == 1:\n",
    "        print(\"Phishing\")\n",
    "    else:\n",
    "        print(\"Legitimate\")"
   ]
  },
  {
   "cell_type": "code",
   "execution_count": 89,
   "metadata": {
    "ExecuteTime": {
     "end_time": "2024-10-24T01:24:57.708432Z",
     "start_time": "2024-10-24T01:24:57.520166Z"
    },
    "collapsed": false
   },
   "outputs": [
    {
     "name": "stdout",
     "output_type": "stream",
     "text": [
      "\u001b[1m125/125\u001b[0m \u001b[32m━━━━━━━━━━━━━━━━━━━━\u001b[0m\u001b[37m\u001b[0m \u001b[1m0s\u001b[0m 250us/step\n"
     ]
    }
   ],
   "source": [
    "y_pred = model.predict(X_test_tsr)\n",
    "#Converting predictions to 1D array\n",
    "y_pred = np.array([1 if x > 0.5 else 0 for x in y_pred])"
   ]
  },
  {
   "cell_type": "code",
   "execution_count": 90,
   "metadata": {
    "ExecuteTime": {
     "end_time": "2024-10-24T01:25:43.984781Z",
     "start_time": "2024-10-24T01:25:43.978212Z"
    },
    "collapsed": false
   },
   "outputs": [
    {
     "name": "stdout",
     "output_type": "stream",
     "text": [
      "[[2045    0]\n",
      " [   0 1955]]\n"
     ]
    }
   ],
   "source": [
    "cm2 = confusion_matrix(Y_test, y_pred)\n",
    "print(cm2)"
   ]
  },
  {
   "cell_type": "code",
   "execution_count": 91,
   "metadata": {
    "ExecuteTime": {
     "end_time": "2024-10-24T01:26:54.627441Z",
     "start_time": "2024-10-24T01:26:54.398160Z"
    },
    "collapsed": false
   },
   "outputs": [
    {
     "data": {
      "text/plain": [
       "Text(0.5, 1.0, 'Confusion Matrix')"
      ]
     },
     "execution_count": 91,
     "metadata": {},
     "output_type": "execute_result"
    },
    {
     "data": {
      "image/png": "[encoded data removed]",
      "text/plain": [
       "<Figure size 300x300 with 2 Axes>"
      ]
     },
     "metadata": {},
     "output_type": "display_data"
    }
   ],
   "source": [
    "plt.figure(figsize=(3,3))\n",
    "sns.heatmap(cm2, annot=True, linewidths=.5, square = True, cmap = 'Blues')\n",
    "\n",
    "plt.xticks([0, 1], ['legitimate', 'phishing'])\n",
    "plt.yticks([0, 1], ['legitimate', 'phishing'])\n",
    "\n",
    "plt.xlabel('Predicted label')\n",
    "plt.ylabel('Actual label')\n",
    "\n",
    "\n",
    "\n",
    "plt.title(\"Confusion Matrix\", size = 12)"
   ]
  }
 ],
 "metadata": {
  "kernelspec": {
   "display_name": "Python 3",
   "language": "python",
   "name": "python3"
  },
  "language_info": {
   "codemirror_mode": {
    "name": "ipython",
    "version": 3
   },
   "file_extension": ".py",
   "mimetype": "text/x-python",
   "name": "python",
   "nbconvert_exporter": "python",
   "pygments_lexer": "ipython3",
   "version": "3.12.5"
  }
 },
 "nbformat": 4,
 "nbformat_minor": 2
}
